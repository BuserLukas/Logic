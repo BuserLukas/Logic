{
 "cells": [
  {
   "cell_type": "code",
   "execution_count": 1,
   "metadata": {},
   "outputs": [
    {
     "data": {
      "application/javascript": [
       "IPython.notebook.set_autosave_interval(0)"
      ]
     },
     "metadata": {},
     "output_type": "display_data"
    },
    {
     "name": "stdout",
     "output_type": "stream",
     "text": [
      "Autosave disabled\n"
     ]
    }
   ],
   "source": [
    "%autosave 0"
   ]
  },
  {
   "cell_type": "markdown",
   "metadata": {},
   "source": [
    "# The Davis-Putnam Algorithm"
   ]
  },
  {
   "cell_type": "markdown",
   "metadata": {},
   "source": [
    "This notebook implements the algorithm of Davis and Putnam.  Further details about this algorithm are provided in the lecture notes."
   ]
  },
  {
   "cell_type": "markdown",
   "metadata": {},
   "source": [
    "The function $\\texttt{complement}(l)$ computes the complement of a literal $l$.\n",
    "If $p$ is a propositional variable, we have the following: \n",
    "<ol>\n",
    "    <li>$\\texttt{complement}(p) = \\neg p$,\n",
    "    </li>\n",
    "    <li>$\\texttt{complement}(\\neg p) = p$.\n",
    "    </li>\n",
    "</ol>"
   ]
  },
  {
   "cell_type": "code",
   "execution_count": 2,
   "metadata": {},
   "outputs": [],
   "source": [
    "def complement(l):\n",
    "    \"Compute the complement of the literal L.\"\n",
    "    if isinstance(l, str):\n",
    "        return ('¬', l)\n",
    "    else:\n",
    "        return l[1]"
   ]
  },
  {
   "cell_type": "markdown",
   "metadata": {},
   "source": [
    "The function $\\texttt{extractVariable}(l)$ extracts the variable from the literal $l$.\n",
    "If $p$ is a propositional variable, we have the following: \n",
    "<ol>\n",
    "    <li>$\\texttt{extractVariable}(p) = p$,\n",
    "    </li>\n",
    "    <li>$\\texttt{extractVariable}(\\neg p) = p$.\n",
    "    </li>\n",
    "</ol>"
   ]
  },
  {
   "cell_type": "code",
   "execution_count": 3,
   "metadata": {},
   "outputs": [],
   "source": [
    "def extractVariable(l):\n",
    "    \"Extract the propositional variable from the literal L.\"\n",
    "    if isinstance(l, str):\n",
    "        return l\n",
    "    else:\n",
    "        return l[1]"
   ]
  },
  {
   "cell_type": "markdown",
   "metadata": {},
   "source": [
    "The function $\\texttt{arb}(S)$ returns an arbitrary element from the set $S$."
   ]
  },
  {
   "cell_type": "code",
   "execution_count": 4,
   "metadata": {},
   "outputs": [],
   "source": [
    "def arb(S):\n",
    "    \"Return some member from the set S.\"\n",
    "    for x in S:\n",
    "        return x"
   ]
  },
  {
   "cell_type": "markdown",
   "metadata": {},
   "source": [
    "We select an arbitrary variable from an arbitrary clause from the set <tt>Clauses</tt> that is not a member of the set of variables in the set <tt>Forbidden</tt>."
   ]
  },
  {
   "cell_type": "code",
   "execution_count": 5,
   "metadata": {},
   "outputs": [],
   "source": [
    "def selectVariable(Clauses, Forbidden):\n",
    "    Variables = { extractVariable(L) for C in Clauses for L in C } - Forbidden\n",
    "    return arb(Variables)"
   ]
  },
  {
   "cell_type": "markdown",
   "metadata": {},
   "source": [
    "Given a set of clauses $\\texttt{Cs}$ and a literal $l$, the procedure $\\texttt{reduce}(C, l)$ performs all unit cuts and all unit subsumptions on clauses of $C$ that are possible using the unit clause $\\{l\\}$.  The resulting set of clauses is returned.  Mathematically, the function $\\texttt{reduce}$ satifies the following specification:\n",
    "$$\\texttt{reduce}(\\texttt{Cs},l)  = \n",
    " \\Bigl\\{\\, C \\backslash \\bigl\\{\\overline{\\,l\\,}\\bigr\\} \\;|\\; C \\in \\texttt{Cs} \\wedge \\overline{\\,l\\,} \\in C \\,\\Bigr\\} \n",
    "       \\,\\cup\\, \\Bigl\\{\\, C \\in \\texttt{Cs} \\mid \\overline{\\,l\\,} \\not\\in C \\wedge l \\not\\in C \\Bigr\\} \\cup \\bigl\\{\\{l\\}\\bigr\\}.\n",
    "$$\n"
   ]
  },
  {
   "cell_type": "code",
   "execution_count": 6,
   "metadata": {},
   "outputs": [],
   "source": [
    "def reduce(Clauses, l):\n",
    "    lBar = complement(l)\n",
    "    return   { C - { lBar } for C in Clauses if lBar in C }          \\\n",
    "           | { C for C in Clauses if lBar not in C and l not in C }  \\\n",
    "           | { frozenset({l}) }"
   ]
  },
  {
   "cell_type": "markdown",
   "metadata": {},
   "source": [
    "$\\texttt{Clauses}$ is a set of clauses.  The call $\\texttt{saturate}(\\texttt{Clauses})$ computes the set of those clauses that can be derived from $S$ via unit cuts or unit subsumptions."
   ]
  },
  {
   "cell_type": "code",
   "execution_count": 7,
   "metadata": {},
   "outputs": [],
   "source": [
    "def saturate(Clauses):\n",
    "    S     = Clauses.copy()\n",
    "    Units = { C for C in S if len(C) == 1 }\n",
    "    Used  = set()                           # remember which unit clauses have already been used\n",
    "    while len(Units) > 0:\n",
    "        unit  = Units.pop()\n",
    "        Used |= { unit }\n",
    "        l     = arb(unit)\n",
    "        S     = reduce(S, l)\n",
    "        Units = { C for C in S if len(C) == 1 } - Used        \n",
    "    return S"
   ]
  },
  {
   "cell_type": "markdown",
   "metadata": {},
   "source": [
    "The function $\\texttt{solve}(\\texttt{Clauses}, \\texttt{Literals})$ takes a set of clauses and a set of Literals as input.  The function tries to compute a variable assignment that makes all of the clauses true.  If this is successful, a set of unit clauses is returned.  This set of unit clauses does not contain  any complementary literals and therefore corresponds to a variable assignment satisfying all clauses.  If clauses is unsatisfiable, the set containing the  empty clause is returned.\n",
    "\n",
    "The argument $\\texttt{Literals}$ is a set containing all those literals that have already been used to reduce the clauses.  Initially, this set is empty."
   ]
  },
  {
   "cell_type": "code",
   "execution_count": null,
   "metadata": {},
   "outputs": [],
   "source": [
    "def solve(Clauses, Variables):\n",
    "    S      = saturate(Clauses);\n",
    "    empty  = frozenset()\n",
    "    Falsum = {empty}\n",
    "    if empty in S:\n",
    "        return Falsum\n",
    "    if all(len(C) == 1 for C in S):\n",
    "        return S\n",
    "    p      = selectVariable(S, Variables)\n",
    "    negP   = complement(p)\n",
    "    Result = solve(S | { frozenset({p}) }, Variables | { p })\n",
    "    if Result != Falsum:\n",
    "        return Result\n",
    "    return solve(S | { frozenset({negP}) }, Variables| { p })"
   ]
  },
  {
   "cell_type": "markdown",
   "metadata": {},
   "source": [
    "The function $\\texttt{toString}(S)$ takes a set $S$ as input.  The set $S$ is a set of frozensets and the function converts $S$ into a string that looks like a set of sets. "
   ]
  },
  {
   "cell_type": "code",
   "execution_count": null,
   "metadata": {},
   "outputs": [],
   "source": [
    "def toString(S):\n",
    "    \"Convert the set S of frozen sets to a string where frozen sets are written as sets.\"\n",
    "    if S == set():\n",
    "        return '{}'\n",
    "    result = '{ '\n",
    "    for f in S:\n",
    "        result += str(set(f)) + ', '\n",
    "    result = result[:-2]\n",
    "    result += ' }'\n",
    "    return result\n",
    "    "
   ]
  },
  {
   "cell_type": "code",
   "execution_count": null,
   "metadata": {},
   "outputs": [],
   "source": [
    "c1 = frozenset({ 'r', 'p', 's' })\n",
    "c2 = frozenset({ 'r', 's' })\n",
    "c3 = frozenset({ 'p', 'q', 's' })\n",
    "c4 = frozenset({ ('¬', 'p'), ('¬', 'q') })\n",
    "c5 = frozenset({ ('¬', 'p'), 's', ('¬', 'r') })\n",
    "c6 = frozenset({ 'p', ('¬', 'q'), 'r'})\n",
    "c7 = frozenset({ ('¬', 'r'), ('¬', 's'), 'q' })\n",
    "c8 = frozenset({ ('¬', 'p'), ('¬', 's')})\n",
    "c9 = frozenset({ 'p', ('¬', 'r'), ('¬', 'q') })\n",
    "c0 = frozenset({ ('¬', 'p'), 'r', 'q', ('¬', 's') })\n",
    "S  = { c0, c1, c2, c3, c4, c5, c6, c7, c8, c9 }\n",
    "toString(solve(S, set()))"
   ]
  },
  {
   "cell_type": "code",
   "execution_count": null,
   "metadata": {},
   "outputs": [],
   "source": []
  }
 ],
 "metadata": {
  "kernelspec": {
   "display_name": "Python 3",
   "language": "python",
   "name": "python3"
  },
  "language_info": {
   "codemirror_mode": {
    "name": "ipython",
    "version": 3
   },
   "file_extension": ".py",
   "mimetype": "text/x-python",
   "name": "python",
   "nbconvert_exporter": "python",
   "pygments_lexer": "ipython3",
   "version": "3.7.1"
  }
 },
 "nbformat": 4,
 "nbformat_minor": 2
}
