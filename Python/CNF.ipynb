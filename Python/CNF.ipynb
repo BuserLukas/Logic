{
 "cells": [
  {
   "cell_type": "markdown",
   "metadata": {},
   "source": [
    "# How to Compute the Conjunctive Normal Form"
   ]
  },
  {
   "cell_type": "code",
   "execution_count": null,
   "metadata": {},
   "outputs": [],
   "source": [
    "import propLogParser as plp"
   ]
  },
  {
   "cell_type": "code",
   "execution_count": null,
   "metadata": {},
   "outputs": [],
   "source": [
    "def eliminateBiconditional(f):\n",
    "    \"Eliminate the logical operator '↔' from the formula f.\"\n",
    "    if isinstance(f, str): \n",
    "        return f\n",
    "    if f[0] == '↔':\n",
    "        g, h = f[1:]\n",
    "        ge   = eliminateBiconditional(g)\n",
    "        he   = eliminateBiconditional(h)\n",
    "        return ('∧', ('→', ge, he), ('→', he, ge))\n",
    "    if f[0] == '¬':\n",
    "        g  = f[1]\n",
    "        ge = eliminateBiconditional(g)\n",
    "        return ('¬', g)\n",
    "    else:\n",
    "        op, g, h = f\n",
    "        ge       = eliminateBiconditional(g)\n",
    "        he       = eliminateBiconditional(h)\n",
    "        return (op, ge, he)"
   ]
  },
  {
   "cell_type": "code",
   "execution_count": null,
   "metadata": {},
   "outputs": [],
   "source": [
    "def eliminateConditional(f):\n",
    "    \"Eliminate the logical operator '→' from f.\"\n",
    "    if isinstance(f, str): \n",
    "        return f\n",
    "    if f[0] == '→':\n",
    "        g, h = f[1:]\n",
    "        ge   = eliminateConditional(g)\n",
    "        he   = eliminateConditional(h)\n",
    "        return ('∨', ('¬', ge), he)\n",
    "    if f[0] == '¬':\n",
    "        g  = f[1]\n",
    "        ge = eliminateConditional(g)\n",
    "        return ('¬', g)\n",
    "    else:\n",
    "        op, g, h = f\n",
    "        ge       = eliminateConditional(g)\n",
    "        he       = eliminateConditional(h)\n",
    "        return (op, ge, he)"
   ]
  },
  {
   "cell_type": "code",
   "execution_count": null,
   "metadata": {},
   "outputs": [],
   "source": [
    "def nnf(f):\n",
    "    \"Compute the negation normal form of f.\"\n",
    "    if isinstance(f, str): \n",
    "        return f\n",
    "    if f[0] == '¬':\n",
    "        g = f[1]\n",
    "        return neg(g)\n",
    "    if f[0] == '∧':\n",
    "        g, h = f[1:]\n",
    "        return ('∧', nnf(g), nnf(h))\n",
    "    if f[0] == '∨':\n",
    "        g, h = f[1:]\n",
    "        return ('∨', nnf(g), nnf(h))\n",
    "\n",
    "def neg(f):\n",
    "    \"Compute the negation normal form of ¬f.\"\n",
    "    if isinstance(f, str): \n",
    "        return ('¬', f)\n",
    "    if f[0] == '¬':\n",
    "        g = f[1]\n",
    "        return nnf(g)\n",
    "    if f[0] == '∧':\n",
    "        g, h = f[1:]\n",
    "        return ('∨', nnf(g), nnf(h))\n",
    "    if f[0] == '∨':\n",
    "        g, h = f[1:]\n",
    "        return ('∧', nnf(g), nnf(h))"
   ]
  },
  {
   "cell_type": "code",
   "execution_count": null,
   "metadata": {},
   "outputs": [],
   "source": [
    "def cnf(f):\n",
    "    if isinstance(f, str): \n",
    "        return { frozenset({f}) }\n",
    "    if f[0] == '¬':\n",
    "        return { frozenset({f}) }\n",
    "    if f[0] == '∧':\n",
    "        g, h = f[1:]\n",
    "        return cnf(g) | cnf(h)\n",
    "    if f[0] == '∨':\n",
    "        g, h = f[1:]\n",
    "        return { k1 | k2 for k1 in cnf(g) for k2 in cnf(h) }"
   ]
  },
  {
   "cell_type": "code",
   "execution_count": null,
   "metadata": {},
   "outputs": [],
   "source": [
    "def isTrivial(Clause):\n",
    "    return any(('¬', p) in Clause for p in Clause)\n",
    "\n",
    "def simplify(Clauses):\n",
    "    return { C for C in Clauses if not isTrivial(C) }"
   ]
  },
  {
   "cell_type": "code",
   "execution_count": null,
   "metadata": {},
   "outputs": [],
   "source": [
    "def normalize (f):\n",
    "    n1 = eliminateBiconditional(f)\n",
    "    n2 = eliminateConditional(n1)\n",
    "    n3 = nnf(n2)\n",
    "    n4 = cnf(n3)\n",
    "    return simplify(n4)"
   ]
  },
  {
   "cell_type": "code",
   "execution_count": null,
   "metadata": {},
   "outputs": [],
   "source": [
    "def test(s):\n",
    "    f = plp.LogicParser(s).parse()\n",
    "    print(f'The knf of {s} is:')\n",
    "    print(prettify(normalize(f)))"
   ]
  },
  {
   "cell_type": "code",
   "execution_count": null,
   "metadata": {},
   "outputs": [],
   "source": [
    "def prettify(M):\n",
    "    \"\"\"Turn the set of frozen sets M into a string that looks like a set of sets.\n",
    "       M is assumed to be the power set of some set.\n",
    "    \"\"\"\n",
    "    if M == set():\n",
    "        return '{}'\n",
    "    result = \"{\"\n",
    "    for A in M:\n",
    "        if A == set(): \n",
    "            result += \"{}, \"\n",
    "        result += str(set(A)) + \", \" # A is converted from a frozen set to a set\n",
    "    result = result[:-2] # remove the trailing substring \", \"\n",
    "    result += \"}\"\n",
    "    return result"
   ]
  },
  {
   "cell_type": "code",
   "execution_count": null,
   "metadata": {},
   "outputs": [],
   "source": [
    "test('¬(a ∧ b) ↔ ¬a ∨ ¬b')"
   ]
  },
  {
   "cell_type": "code",
   "execution_count": null,
   "metadata": {},
   "outputs": [],
   "source": [
    "test('(a → b) ↔ (¬a ∧ ¬b)')"
   ]
  },
  {
   "cell_type": "code",
   "execution_count": null,
   "metadata": {},
   "outputs": [],
   "source": [
    "test('(p ∧ q → r) ∨ ¬r → ¬p')"
   ]
  }
 ],
 "metadata": {
  "kernelspec": {
   "display_name": "Python 3",
   "language": "python",
   "name": "python3"
  },
  "language_info": {
   "codemirror_mode": {
    "name": "ipython",
    "version": 3
   },
   "file_extension": ".py",
   "mimetype": "text/x-python",
   "name": "python",
   "nbconvert_exporter": "python",
   "pygments_lexer": "ipython3",
   "version": "3.6.5"
  }
 },
 "nbformat": 4,
 "nbformat_minor": 2
}
