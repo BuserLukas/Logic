{
 "cells": [
  {
   "cell_type": "code",
   "execution_count": null,
   "metadata": {
    "collapsed": true
   },
   "outputs": [],
   "source": [
    "%autosave 60"
   ]
  },
  {
   "cell_type": "markdown",
   "metadata": {},
   "source": [
    "# Ein Rangier-Problem"
   ]
  },
  {
   "cell_type": "markdown",
   "metadata": {},
   "source": [
    "<img src=\"rangierProblem.png\">"
   ]
  },
  {
   "cell_type": "markdown",
   "metadata": {},
   "source": [
    "Die obige Abbildung zeigt ein *Rangier-Problem*: Auf dem Gleis-Abschnitt <strong>A</strong> befinden sich drei Waggons, die wir mit den Ziffern 1, 2, 3 bezeichnen.  Auf dem Gleisabschnitt <strong>B</strong> befindet sich eine Lokomotive, die wir mit der Ziffer 0 bezeichnen.   Ziel ist es, die Waggons in der Reihenfolge 3, 1, 2 auf dem Gleis-Abschnitt <strong>C</strong> abzustellen.  Die Lokomotive soll am Schluss wieder auf den Gleis-Abschnitt <strong>B</strong> zurückfahren.  Die Lokomotive kann die Waggons in beliebiger Reihenfolge an und abkoppeln.  Beim Rangieren ist es erlaubt, dass die Lokomotive gleichzeitig Waggons vorne und hinten anhängt.  Eine Konstellation der Form <tt>[1,2,0,3]</tt>, bei der die Lokomotive zwei Waggons zieht und einen Waggon schiebt, (oder umgekehrt, je nach dem, in welche Richtung sie fährt) ist also möglich."
   ]
  },
  {
   "cell_type": "markdown",
   "metadata": {},
   "source": [
    "## Berechnung eines Pfades  "
   ]
  },
  {
   "cell_type": "markdown",
   "metadata": {},
   "source": [
    "Die folgenden Funktionen dienen der Berechnung eines Pfades und brauchen nicht verändert werden."
   ]
  },
  {
   "cell_type": "code",
   "execution_count": null,
   "metadata": {
    "collapsed": true
   },
   "outputs": [],
   "source": [
    "def pathProduct(P, R):\n",
    "    \"Attach all possible pairs from R at the end of the paths from P.\"\n",
    "    return { L + (b,) for L in P for (a, b) in R \n",
    "                      if L[-1] == a and not b in L \n",
    "           }"
   ]
  },
  {
   "cell_type": "code",
   "execution_count": null,
   "metadata": {
    "collapsed": true
   },
   "outputs": [],
   "source": [
    "def arb(S):\n",
    "    \"Return an arbitrary element from the set S but do not remove it.\"\n",
    "    for x in S:\n",
    "        return x"
   ]
  },
  {
   "cell_type": "markdown",
   "metadata": {},
   "source": [
    "Ich habe die Funktion $\\texttt{findpath}(\\texttt{start},\\texttt{goal}, R)$ etwas optimiert.  Der Grund war, dass die alte Version dieser Funktion in der Regel zu jedem erreichbaren Knoten $x$ **alle** Pfade, die von <tt>start</tt> zum Knoten $x$ führen, berechnet hat.  Es ist effizienter, wenn die Menge <tt>Paths</tt> zu jedem erreichbaren Punkt nur genau einen Pfad enthält."
   ]
  },
  {
   "cell_type": "code",
   "execution_count": null,
   "metadata": {
    "collapsed": true
   },
   "outputs": [],
   "source": [
    "def findPath(start, goal, R):\n",
    "    \"\"\"\n",
    "    start and goal are nodes in a graph, while R is a set of pairs of nodes.\n",
    "    R is interpreted as a relation.  The function findPath tries to find\n",
    "    a path from start to goal.\n",
    "    \"\"\"\n",
    "    Paths    = { (start,) }\n",
    "    States   = { start }   # reachable states\n",
    "    Explored = {}          # explored states\n",
    "    while States != Explored:\n",
    "        Explored  = States.copy()  # Avoid hideous aliasing bug!\n",
    "        Paths     = { L for L in pathProduct(Paths, R) if L[-1] not in States }\n",
    "        NewStates = { K[-1] for K in Paths }\n",
    "        Paths     = { arb({ K for K in Paths if K[-1] == s }) for s in NewStates }\n",
    "        States   |= NewStates\n",
    "        if goal in States:\n",
    "            return arb({ L for L in Paths if L[-1] == goal })"
   ]
  },
  {
   "cell_type": "markdown",
   "metadata": {},
   "source": [
    "## Funktionen zum Ausdrucken der Lösung"
   ]
  },
  {
   "cell_type": "markdown",
   "metadata": {},
   "source": [
    "Die folgenden beiden Funktionen dienen nur dazu, die Lösung etwas lesbarer auszudrucken."
   ]
  },
  {
   "cell_type": "code",
   "execution_count": null,
   "metadata": {
    "collapsed": true
   },
   "outputs": [],
   "source": [
    "def printState(A, B, C):\n",
    "    \"print a given state\"\n",
    "    print('A: ', list(A), '; B: ', list(B), '; C: ', list(C), sep='')"
   ]
  },
  {
   "cell_type": "code",
   "execution_count": null,
   "metadata": {
    "collapsed": true
   },
   "outputs": [],
   "source": [
    "def printPath(Path):\n",
    "    \"print the given Path\"\n",
    "    print(\"Solution:\\n\")\n",
    "    for (A, B, C) in Path:\n",
    "        printState(A, B, C)"
   ]
  },
  {
   "cell_type": "markdown",
   "metadata": {},
   "source": [
    "## Hilfsfunktionen"
   ]
  },
  {
   "cell_type": "markdown",
   "metadata": {},
   "source": [
    "**Aufgabe 1**: Definieren Sie eine Funktion $\\texttt{allTuples}(S)$, so dass für eine Menge $S$ der Aufruf $\\texttt{allTuples}(S)$\n",
    "die Menge aller der Tupel berechnet, die jedes Element von $S$ genau einmal enthalten.  Beispielsweise soll der Aufruf\n",
    "$$ \\texttt{allTuples}(\\{1,2,3\\}) $$\n",
    "die folgende Menge als Ergebnis zurück liefern:\n",
    "$$ \\bigl\\{(1, 2, 3), (1, 3, 2), (2, 1, 3), (2, 3, 1), (3, 1, 2), (3, 2, 1)\\bigr\\} $$\n",
    "**Hinweis**: Versuchen Sie, diese Funktion rekursiv zu definieren."
   ]
  },
  {
   "cell_type": "code",
   "execution_count": null,
   "metadata": {
    "collapsed": true
   },
   "outputs": [],
   "source": [
    "def allTuples(S):\n",
    "    \"\"\"\n",
    "    Given a set S this function returns the set of all tuples that contain each element\n",
    "    of S exactly once.\n",
    "    \"\"\"\n",
    "    \"your code here\""
   ]
  },
  {
   "cell_type": "code",
   "execution_count": null,
   "metadata": {
    "collapsed": true
   },
   "outputs": [],
   "source": [
    "allTuples({1,2,3})"
   ]
  },
  {
   "cell_type": "markdown",
   "metadata": {},
   "source": [
    "Die Funktion $\\texttt{power}(M)$ berechnet für eine Menge $M$ die Potenz-Menge $2^M$."
   ]
  },
  {
   "cell_type": "code",
   "execution_count": null,
   "metadata": {
    "collapsed": true
   },
   "outputs": [],
   "source": [
    "def power(M):\n",
    "    \"This function computes the power set of the set M.\"\n",
    "    if M == set():\n",
    "        return { frozenset() }\n",
    "    else:\n",
    "        C  = set(M)  # C is a copy of M as we don't want to change the set M\n",
    "        x  = C.pop() # pop removes the element x from the set C\n",
    "        P1 = power(C)\n",
    "        P2 = { A | {x} for A in P1 }\n",
    "        return P1 | P2"
   ]
  },
  {
   "cell_type": "markdown",
   "metadata": {},
   "source": [
    "Die Funktion $\\texttt{inverse}(R)$ berechnet das Inverse der Relation $R$."
   ]
  },
  {
   "cell_type": "code",
   "execution_count": null,
   "metadata": {
    "collapsed": true
   },
   "outputs": [],
   "source": [
    "def inverse(R):\n",
    "    \"return the inverse of the relation R\"\n",
    "    return { (y, x) for (x, y) in R }"
   ]
  },
  {
   "cell_type": "markdown",
   "metadata": {},
   "source": [
    "Die Funktion $\\texttt{myReverse}(L)$ dreht die Reihenfolge der Elemente in dem Tupel $L$ um."
   ]
  },
  {
   "cell_type": "code",
   "execution_count": null,
   "metadata": {
    "collapsed": true
   },
   "outputs": [],
   "source": [
    "def myReverse(L):\n",
    "    \"return the reverse of the tuple L\"\n",
    "    return tuple(L[i] for i in range(len(L)-1, 0-1, -1))"
   ]
  },
  {
   "cell_type": "code",
   "execution_count": null,
   "metadata": {
    "collapsed": true
   },
   "outputs": [],
   "source": [
    "myReverse((1,2,3))"
   ]
  },
  {
   "cell_type": "markdown",
   "metadata": {},
   "source": [
    "## Problemspezifischer Code"
   ]
  },
  {
   "cell_type": "markdown",
   "metadata": {},
   "source": [
    "Wir stellen die Waggons durch die Ziffern 1, 2 und 3 dar, die Lokomotive wird durch 0 dargestellt.  Zustände werden durch Tupel dargestellt.  Beispielsweise wird der Start-Zustand durch das Tupel\n",
    "$$ \\bigl\\langle\\langle 1,2,3 \\rangle, \\langle 0 \\rangle, \\langle\\rangle\\bigr\\rangle $$\n",
    "dargestellt, denn auf dem Gleis <b>A</b> stehen die Waggons 1, 2, 3, die Lokomotive steht auf dem Gleis <b>B</b> und das Gleis <b>C</b> ist leer."
   ]
  },
  {
   "cell_type": "code",
   "execution_count": null,
   "metadata": {
    "collapsed": true
   },
   "outputs": [],
   "source": [
    "All = { 0, 1, 2, 3 }"
   ]
  },
  {
   "cell_type": "code",
   "execution_count": null,
   "metadata": {
    "collapsed": true
   },
   "outputs": [],
   "source": [
    "PowerAll = power(All)"
   ]
  },
  {
   "cell_type": "markdown",
   "metadata": {},
   "source": [
    "<b>Aufgabe 2</b>: Definieren Sie die Menge $\\texttt{Partitions}$ so, dass diese Menge alle Tripel der Form\n",
    "$$ \\langle A, B, C \\rangle $$\n",
    "enthält, für welche die Menge $\\{ A, B, C \\}$ eine *Partition* der Menge $\\{0,1,2,3\\}$ ist.\n",
    "<ol> \n",
    "<li><b>Hinweis</b>: Die Menge $\\{ A, B, C \\}$ ist genau dann eine Partition einer Menge $S$, wenn gilt:\n",
    "    $$A \\cup B \\cup C = S \\quad\\mbox{und}\\quad \n",
    "      A \\cap B = \\{\\}, \\quad A \\cap C = \\{\\} \\quad \\mbox{und} \\quad B \\cap C = \\{\\}.\n",
    "    $$  \n",
    "    </li>\n",
    "<li><b>Hinweis</b>:  Die Menge $$\\{0,1,2,3\\} \\quad \\mbox{hat 81 Partitionen der Form}\\quad \\{ A, B, C \\}.$$\n",
    "    </li>\n",
    "<ol>"
   ]
  },
  {
   "cell_type": "code",
   "execution_count": null,
   "metadata": {
    "collapsed": true
   },
   "outputs": [],
   "source": [
    "Partitions = { \"your code here\" \n",
    "             }"
   ]
  },
  {
   "cell_type": "code",
   "execution_count": null,
   "metadata": {
    "collapsed": true
   },
   "outputs": [],
   "source": [
    "len(Partitions)"
   ]
  },
  {
   "cell_type": "markdown",
   "metadata": {},
   "source": [
    "**Aufgabe 3**: Wir stellen Zustände durch Tupel der Form\n",
    "$$ \\langle LA, LB, LC \\rangle $$\n",
    "dar.  Dabei ist $LA$ das Tupel der Waggons auf dem Gleis A, $LB$ ist das Tupel der\n",
    "Waggons auf dem Gleis $B$ und $LC$ ist das Tupel der Waggons auf dem Gleis C.\n",
    "Berechnen Sie in Zeile 90 die Menge aller Zustände."
   ]
  },
  {
   "cell_type": "code",
   "execution_count": null,
   "metadata": {
    "collapsed": true
   },
   "outputs": [],
   "source": [
    "States = { \"your code here\" \n",
    "         }"
   ]
  },
  {
   "cell_type": "markdown",
   "metadata": {},
   "source": [
    "**Hinweis**:  Es gibt 360 verschiedene Zustände."
   ]
  },
  {
   "cell_type": "code",
   "execution_count": null,
   "metadata": {
    "collapsed": true
   },
   "outputs": [],
   "source": [
    "len(States)"
   ]
  },
  {
   "cell_type": "markdown",
   "metadata": {},
   "source": [
    "<b>Aufgabe 4</b>: Berechnen Sie die Menge aller Transitionen, in denen die Lokomotive vom Gleis <b>A</b> nach Osten zum Gleis <b>C</b> fährt. <p>\n",
    "<b>Hinweis</b>: Die Funktion $\\texttt{myReverse}$ dreht ein Tupel um."
   ]
  },
  {
   "cell_type": "code",
   "execution_count": null,
   "metadata": {
    "collapsed": true
   },
   "outputs": [],
   "source": [
    "RacEast = { \"your code here\" \n",
    "          }              "
   ]
  },
  {
   "cell_type": "markdown",
   "metadata": {},
   "source": [
    "**Hinweis**: Es gibt 210 verschiedene Transitionen."
   ]
  },
  {
   "cell_type": "code",
   "execution_count": null,
   "metadata": {
    "collapsed": true
   },
   "outputs": [],
   "source": [
    "len(RacEast)"
   ]
  },
  {
   "cell_type": "markdown",
   "metadata": {},
   "source": [
    "<b>Aufgabe 5</b>: Berechnen Sie in Zeile 118 die Menge aller Transitionen, in denen die Lokomotive vom\n",
    "Gleis <b>A</b> nach Westen zum Gleis <b>C</b> fährt."
   ]
  },
  {
   "cell_type": "code",
   "execution_count": null,
   "metadata": {
    "collapsed": true
   },
   "outputs": [],
   "source": [
    "RacWest = { \"your code here\"\n",
    "          }"
   ]
  },
  {
   "cell_type": "markdown",
   "metadata": {},
   "source": [
    "Auch diese Menge enthält 210 Elemente."
   ]
  },
  {
   "cell_type": "code",
   "execution_count": null,
   "metadata": {
    "collapsed": true
   },
   "outputs": [],
   "source": [
    "len(RacWest)"
   ]
  },
  {
   "cell_type": "code",
   "execution_count": null,
   "metadata": {
    "collapsed": true
   },
   "outputs": [],
   "source": [
    "Rac = RacEast | RacWest"
   ]
  },
  {
   "cell_type": "code",
   "execution_count": null,
   "metadata": {
    "collapsed": true
   },
   "outputs": [],
   "source": [
    "Rca = inverse(Rac)"
   ]
  },
  {
   "cell_type": "markdown",
   "metadata": {},
   "source": [
    "<b>Aufgabe 6</b>:\n",
    "Berechnen Sie die Menge aller Transitionen, in denen die Lokomotive vom Gleis <b>B</b> zum Gleis <b>C</b> fährt."
   ]
  },
  {
   "cell_type": "code",
   "execution_count": null,
   "metadata": {
    "collapsed": true
   },
   "outputs": [],
   "source": [
    "Rbc = { \"your code here\"\n",
    "      }         "
   ]
  },
  {
   "cell_type": "markdown",
   "metadata": {},
   "source": [
    "Die Menge <tt>Rbc</tt> enthält 210 Elemente. "
   ]
  },
  {
   "cell_type": "code",
   "execution_count": null,
   "metadata": {
    "collapsed": true
   },
   "outputs": [],
   "source": [
    "len(Rbc)"
   ]
  },
  {
   "cell_type": "code",
   "execution_count": null,
   "metadata": {
    "collapsed": true
   },
   "outputs": [],
   "source": [
    "Rcb = inverse(Rbc)"
   ]
  },
  {
   "cell_type": "code",
   "execution_count": null,
   "metadata": {
    "collapsed": true
   },
   "outputs": [],
   "source": [
    "R = Rac | Rca | Rbc | Rcb"
   ]
  },
  {
   "cell_type": "markdown",
   "metadata": {},
   "source": [
    "Die Relation $R$ enthält 1140 verschiedene Elemente."
   ]
  },
  {
   "cell_type": "code",
   "execution_count": null,
   "metadata": {
    "collapsed": true
   },
   "outputs": [],
   "source": [
    "len(R)"
   ]
  },
  {
   "cell_type": "code",
   "execution_count": null,
   "metadata": {
    "collapsed": true
   },
   "outputs": [],
   "source": [
    "import time"
   ]
  },
  {
   "cell_type": "code",
   "execution_count": null,
   "metadata": {
    "collapsed": true
   },
   "outputs": [],
   "source": [
    "timeStart = time.time()\n",
    "start = ((1,2,3), (0,), ())\n",
    "goal  = ((), (0,), (3,1,2))\n",
    "Path  = findPath(start, goal, R)\n",
    "timeFinish = time.time()\n",
    "print(f'Computation took {(timeFinish-timeStart)*1000} milliseconds.')"
   ]
  },
  {
   "cell_type": "code",
   "execution_count": null,
   "metadata": {
    "collapsed": true
   },
   "outputs": [],
   "source": [
    "printPath(Path)"
   ]
  }
 ],
 "metadata": {
  "kernelspec": {
   "display_name": "Python 3",
   "language": "python",
   "name": "python3"
  },
  "language_info": {
   "codemirror_mode": {
    "name": "ipython",
    "version": 3
   },
   "file_extension": ".py",
   "mimetype": "text/x-python",
   "name": "python",
   "nbconvert_exporter": "python",
   "pygments_lexer": "ipython3",
   "version": "3.6.3"
  }
 },
 "nbformat": 4,
 "nbformat_minor": 2
}
