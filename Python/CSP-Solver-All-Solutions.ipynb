{
 "cells": [
  {
   "cell_type": "code",
   "execution_count": null,
   "metadata": {},
   "outputs": [],
   "source": [
    "from IPython.core.display import HTML\n",
    "with open('style.css', 'r') as file:\n",
    "    css = file.read()\n",
    "HTML(css)"
   ]
  },
  {
   "cell_type": "markdown",
   "metadata": {},
   "source": [
    "# A simple Backtracking Constraint Solver"
   ]
  },
  {
   "cell_type": "markdown",
   "metadata": {},
   "source": [
    "The module `extractVariables` implements the function `extractVars`.  This function takes one argument $f$ which is supposed to be a Python expression.  The function returns a set of all variables occuring in $f$. "
   ]
  },
  {
   "cell_type": "code",
   "execution_count": null,
   "metadata": {},
   "outputs": [],
   "source": [
    "import extractVariables as ev"
   ]
  },
  {
   "cell_type": "code",
   "execution_count": null,
   "metadata": {},
   "outputs": [],
   "source": [
    "ev.extractVars(\"A == 𝜋 * r ** 2\")"
   ]
  },
  {
   "cell_type": "markdown",
   "metadata": {},
   "source": [
    "The input to the function `solve` is a *constraint satisfaction problem* `CSP`.  \n",
    "The function `solve` tries to compute a solution of this problem via *backtracking*.\n",
    "Its main purpose is to transform the given *CSP* into an *annotated CSP* where all the formulas \n",
    "are *annotated* with their variables, i.e. the third component of the *CSP* is now no longer a set of formulas but rather a set of pairs of the form `(f, V)` where `f` is a formula and `V`is the set of variables occurring in this formula.  It then calls `backtrack_search` to solve the *annotated CSP*."
   ]
  },
  {
   "cell_type": "code",
   "execution_count": null,
   "metadata": {},
   "outputs": [],
   "source": [
    "def solve(CSP):\n",
    "    'Compute a solution for the given constraint satisfaction problem.'\n",
    "    Variables, Values, Constraints = CSP\n",
    "    CSP = (Variables,\n",
    "           Values,\n",
    "           [(f, ev.extractVars(f) & set(Variables)) for f in Constraints]\n",
    "          )\n",
    "    AllSolutions = []\n",
    "    try:\n",
    "        backtrack_search({}, CSP, AllSolutions)\n",
    "    except Backtrack:\n",
    "        return AllSolutions"
   ]
  },
  {
   "cell_type": "markdown",
   "metadata": {},
   "source": [
    "Given a consistent *partial variable assignment* `Assignment` and a constraint satisfaction problem `CSP`,\n",
    "the function`backtrack_search` tries to extend the given assignment recursively and thereby produce a solution of the given CSP.\n",
    "All solutions that are found are added to the list `AllSolutions`."
   ]
  },
  {
   "cell_type": "code",
   "execution_count": null,
   "metadata": {},
   "outputs": [],
   "source": [
    "def backtrack_search(Assignment, CSP, AllSolutions):\n",
    "    '''\n",
    "    Given a partial variable assignment, this function tries to complete this \n",
    "    assignment towards a solution of the CSP.\n",
    "    '''\n",
    "    Variables, Values, Constraints = CSP\n",
    "    if len(Assignment) == len(Variables):\n",
    "        AllSolutions.append(Assignment)\n",
    "        raise Backtrack()\n",
    "    var = [x for x in Variables if x not in Assignment][0]\n",
    "    for value in Values:\n",
    "        try:\n",
    "            if isConsistent(var, value, Assignment, Constraints):\n",
    "                NewAssign      = Assignment.copy()\n",
    "                NewAssign[var] = value\n",
    "                backtrack_search(NewAssign, CSP, AllSolutions)\n",
    "        except Backtrack:\n",
    "            continue\n",
    "    # all values have been tried \n",
    "    raise Backtrack()\n",
    "    \n",
    "class Backtrack(Exception):\n",
    "    pass"
   ]
  },
  {
   "cell_type": "markdown",
   "metadata": {},
   "source": [
    "The function `isConsistent` takes four arguments:\n",
    "- `var` is a variable.\n",
    "- `value` is a value that is to be assigned to the variable `var`.\n",
    "- `Assignment` is a partial variable assignment that does not assign a value for `var`\n",
    "  and that is consistent with all constraints in the set `Constraints`.\n",
    "- `Constraints` is a set of logical formulas.\n",
    "\n",
    "The function checks whether the assignment \n",
    "$$ \\texttt{Assignment} \\cup \\{\\texttt{var} \\mapsto \\texttt{value}\\}$$\n",
    "violates any of the formulas in `Constraints`."
   ]
  },
  {
   "cell_type": "code",
   "execution_count": null,
   "metadata": {},
   "outputs": [],
   "source": [
    "def isConsistent(var, value, Assignment, Constraints):\n",
    "    NewAssign      = Assignment.copy()\n",
    "    NewAssign[var] = value\n",
    "    return all(eval(f, NewAssign) for (f, Vs) in Constraints\n",
    "                                  if var in Vs and Vs <= NewAssign.keys()\n",
    "              )"
   ]
  },
  {
   "cell_type": "code",
   "execution_count": null,
   "metadata": {},
   "outputs": [],
   "source": []
  }
 ],
 "metadata": {
  "kernelspec": {
   "display_name": "Python 3 (ipykernel)",
   "language": "python",
   "name": "python3"
  },
  "language_info": {
   "codemirror_mode": {
    "name": "ipython",
    "version": 3
   },
   "file_extension": ".py",
   "mimetype": "text/x-python",
   "name": "python",
   "nbconvert_exporter": "python",
   "pygments_lexer": "ipython3",
   "version": "3.9.7"
  }
 },
 "nbformat": 4,
 "nbformat_minor": 4
}
