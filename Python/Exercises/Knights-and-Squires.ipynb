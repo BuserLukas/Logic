{
 "cells": [
  {
   "cell_type": "code",
   "execution_count": null,
   "metadata": {},
   "outputs": [],
   "source": [
    "from IPython.core.display import HTML\n",
    "with open('../style.css', 'r') as file:\n",
    "    css = file.read()\n",
    "HTML(css)"
   ]
  },
  {
   "cell_type": "markdown",
   "metadata": {},
   "source": [
    "# <a href=\"https://www.spiegel.de/karriere/drei-ritter-drei-knappen-und-ein-boot-raetsel-der-woche-a-1295596.html\">Knights and Squires</a>"
   ]
  },
  {
   "cell_type": "markdown",
   "metadata": {},
   "source": [
    "The red knight, the green knight, and the blue knight travel with one squire each through the land. But the three squires fear for their lives. As long as their own knight is present, there is no danger, for their master protects them.  If their own knight is not with them, however, one of the other knights might try to kill them. The squires wouldn't harm each other.  For their own safety, each of the three squires follows their own knight at every turn. But when the group of six comes to a river, there is a problem:  There is a small boat on the shore, but it can only carry two people. The boat cannot change sides alone, it must always be rowed by at least one person.  How do the three knights and three squires make it safely to the other side?  \n",
    "\n",
    "<b>Note</b>: A squire may not sit in the boat with a knight of a different color, nor be on one side of the river with a knight of a different color, while his knight is on the other side or is in the boat on the river."
   ]
  },
  {
   "cell_type": "markdown",
   "metadata": {},
   "source": [
    "## Auxilliary Procedures for Computing a Path in a Graph"
   ]
  },
  {
   "cell_type": "markdown",
   "metadata": {},
   "source": [
    "The function <tt>dot_graph</tt> below is used to create a visual representation of a graph.  The graph is assumed to be represented as a set of pairs."
   ]
  },
  {
   "cell_type": "code",
   "execution_count": null,
   "metadata": {},
   "outputs": [],
   "source": [
    "import graphviz as gv\n",
    "\n",
    "def dot_graph(R):\n",
    "    \"\"\"This function takes binary relation R as inputs and shows this relation as\n",
    "       a graph using the module graphviz.\n",
    "    \"\"\"\n",
    "    dot = gv.Digraph()\n",
    "    Nodes = { p[0] for p in R } | { p[1] for p in R }\n",
    "    for n in Nodes:\n",
    "        dot.node(str(set(n)))\n",
    "    for (x, y) in R:\n",
    "        dot.edge(str(set(x)), str(set(y)))\n",
    "    return dot"
   ]
  },
  {
   "cell_type": "markdown",
   "metadata": {},
   "source": [
    "The function $\\texttt{power}(M)$ defined below computes the power set of the set $M$, i.e. we have:\n",
    "$$ \\texttt{power}(M) = 2^M = \\bigl\\{A \\mid A \\subseteq M \\} $$"
   ]
  },
  {
   "cell_type": "code",
   "execution_count": null,
   "metadata": {},
   "outputs": [],
   "source": [
    "def power(M):\n",
    "    \"This function computes the power set of the set M.\"\n",
    "    if M == set():\n",
    "        return { frozenset() }\n",
    "    else:\n",
    "        C  = set(M)  # C is a copy of M as we don't want to change the set M\n",
    "        x  = C.pop() # pop removes the element x from the set C\n",
    "        P1 = power(C)\n",
    "        P2 = { A | {x} for A in P1 }\n",
    "        return P1 | P2"
   ]
  },
  {
   "cell_type": "markdown",
   "metadata": {},
   "source": [
    "The function <tt>pathProduct</tt> below takes a set of pathes <tt>P</tt> and a binary relation <tt>R</tt> as its arguments.  If there is a path $L \\in P$ that has the form $L = (x_1, \\cdots, x_n)$ and there is a pair $(x_n, x_{n+1}) \\in R$, then the path $(x_1, \\cdots, x_n, x_{n+1})$ is an element of the set of pathes computed by this function."
   ]
  },
  {
   "cell_type": "code",
   "execution_count": null,
   "metadata": {},
   "outputs": [],
   "source": [
    "def pathProduct(P, R):\n",
    "    return { T1 + (T2[1],) for T1 in P \n",
    "                           for T2 in R \n",
    "                           if T1[-1] == T2[0] and not T2[1] in T1 \n",
    "           }"
   ]
  },
  {
   "cell_type": "markdown",
   "metadata": {},
   "source": [
    "The function <tt>findPath</tt> takes three arguments:\n",
    "<ol>\n",
    "    <li><tt>start</tt> is a node in a graph.</li>\n",
    "    <li><tt>goal</tt> is a node in a graph.</li>\n",
    "    <li><tt>R</tt> is a graph represented as a set of pairs of nodes.</li>\n",
    "</ol>\n",
    "The function tries to find a path that leads from <tt>start</tt> to <tt>goal</tt>.  If no path is found, the function returns <tt>None</tt>.  At the $i$th iteration, <tt>P</tt> is the set of all paths beginning in <tt>start</tt> that have a length of $i$."
   ]
  },
  {
   "cell_type": "code",
   "execution_count": null,
   "metadata": {},
   "outputs": [],
   "source": [
    "def findPath(start, goal, R):\n",
    "    \"\"\"\n",
    "    start and goal are nodes in a graph, while R is a set of pairs of nodes.\n",
    "    R is interpreted as a relation.  The function findPath tries to find\n",
    "    a path from start to goal.\n",
    "    \"\"\"\n",
    "    P = { (start,) }   # P will be the set of all paths beginning at start\n",
    "    while len(P) > 0:                         \n",
    "        P     = pathProduct(P, R)\n",
    "        Found = { T for T in P if T[-1] == goal }\n",
    "        if Found != set():\n",
    "            return Found.pop()"
   ]
  },
  {
   "cell_type": "markdown",
   "metadata": {},
   "source": [
    "## Problem Specific Code"
   ]
  },
  {
   "cell_type": "markdown",
   "metadata": {},
   "source": [
    "In order to solve the problem we represent every person as a pair of the form $\\langle s, c \\rangle$ where $s$ stands for the status of the person and is either `Knight` or `Squire`, while $c$ stands for the colors of arms of the knights and is either `red`, `blue`, or `green`.  "
   ]
  },
  {
   "cell_type": "code",
   "execution_count": null,
   "metadata": {},
   "outputs": [],
   "source": [
    "Colors = { 'red', 'blue', 'green' }\n",
    "Status = { 'Knight', 'Squire' }"
   ]
  },
  {
   "cell_type": "code",
   "execution_count": null,
   "metadata": {},
   "outputs": [],
   "source": [
    "All = frozenset({ (s, c) for s in Status for c in Colors } | { 'boat' })"
   ]
  },
  {
   "cell_type": "markdown",
   "metadata": {},
   "source": [
    "Given a set $S$ that is a subset of the set `All`, the function $\\texttt{problem}(S)$ returns true if there is a problem on a shore that is described by the set $S$.\n",
    "This is the case if there is a squire of some color $c$ in $S$, his master is not in $S$, but some knight with a different color is in $S$."
   ]
  },
  {
   "cell_type": "code",
   "execution_count": null,
   "metadata": {},
   "outputs": [],
   "source": [
    "def problem(S):\n",
    "    \"your code here\""
   ]
  },
  {
   "cell_type": "markdown",
   "metadata": {},
   "source": [
    "<tt>States</tt> is the set of all states that do not have a problem.  There should be 44 states."
   ]
  },
  {
   "cell_type": "code",
   "execution_count": null,
   "metadata": {
    "scrolled": false
   },
   "outputs": [],
   "source": [
    "States = 'your code here'\n",
    "len(States)"
   ]
  },
  {
   "cell_type": "markdown",
   "metadata": {},
   "source": [
    "<tt>R1</tt> decribes the transitions where the boat crosses the river from left to right.  There should be 60 transitions."
   ]
  },
  {
   "cell_type": "code",
   "execution_count": null,
   "metadata": {},
   "outputs": [],
   "source": [
    "R1 = 'your code here'\n",
    "len(R1)"
   ]
  },
  {
   "cell_type": "markdown",
   "metadata": {},
   "source": [
    "<tt>R2</tt> is the inverse of <tt>R1</tt>."
   ]
  },
  {
   "cell_type": "code",
   "execution_count": null,
   "metadata": {},
   "outputs": [],
   "source": [
    "R2 = { (S2, S1) for (S1, S2) in R1 }"
   ]
  },
  {
   "cell_type": "code",
   "execution_count": null,
   "metadata": {},
   "outputs": [],
   "source": [
    "R = R1 | R2"
   ]
  },
  {
   "cell_type": "code",
   "execution_count": null,
   "metadata": {},
   "outputs": [],
   "source": [
    "dot = dot_graph(R)\n",
    "dot"
   ]
  },
  {
   "cell_type": "code",
   "execution_count": null,
   "metadata": {},
   "outputs": [],
   "source": [
    "dot.render('knights-and-squires')"
   ]
  },
  {
   "cell_type": "markdown",
   "metadata": {},
   "source": [
    "At the beginning everything is on the left shore and nothing is on the right shore.   The goal is to have everybody on the right shore.  In that case, the left shore will be empty. The list Path that is computed has a length of 12."
   ]
  },
  {
   "cell_type": "code",
   "execution_count": null,
   "metadata": {},
   "outputs": [],
   "source": [
    "start = All\n",
    "goal  = frozenset()\n",
    "Path  = findPath(start, goal, R)\n",
    "len(Path)"
   ]
  },
  {
   "cell_type": "markdown",
   "metadata": {},
   "source": [
    "## Auxiliary Code for Pretty Printing"
   ]
  },
  {
   "cell_type": "markdown",
   "metadata": {},
   "source": [
    "The following code is used for printing the path that has been found.  We won't discuss the details of these functions."
   ]
  },
  {
   "cell_type": "code",
   "execution_count": null,
   "metadata": {},
   "outputs": [],
   "source": [
    "def mkPair(S, All):\n",
    "    \"Given the left shore, compute both the left shore and the right shore.\"\n",
    "    return (S, All - S);\n",
    "\n",
    "def my_str(S):\n",
    "    \"Print frozen sets as sets.\"\n",
    "    S = S - { 'boat' }\n",
    "    if len(S) == 0:\n",
    "        return \"{}\"\n",
    "    else:\n",
    "        return str(set({ str(x[0]) + y[0] for (x, y) in S - {\"boat\"} }))\n",
    "    \n",
    "def printPath(Path, All):\n",
    "    \"print the path one transition at a time\"\n",
    "    for i in range(len(Path)):\n",
    "        (S1, S2) = mkPair(Path[i], All)\n",
    "        if (len(S1) == 0 or len(S2) == 0):\n",
    "            print(my_str(S1), 33 * \" \", my_str(S2))\n",
    "        else:\n",
    "            print(my_str(S1), 35 * \" \", my_str(S2))\n",
    "        if i + 1 == len(Path): \n",
    "            break\n",
    "        (T1, T2) = mkPair(Path[i+1], All)        \n",
    "        if \"boat\" in S1:\n",
    "            B = S1 - T1  # the boat crossing from left to right\n",
    "            print(\"                         >>>> \", my_str(B), \" >>>> \")\n",
    "        else:\n",
    "            B = S2 - T2  # the boat crossing from right to left\n",
    "            print(\"                         <<<< \", my_str(B), \" <<<< \")"
   ]
  },
  {
   "cell_type": "markdown",
   "metadata": {},
   "source": [
    "When printing the path we use abbreviations like `Sb` for the squire of the blue knight or `Kb` for the blue knight. "
   ]
  },
  {
   "cell_type": "code",
   "execution_count": null,
   "metadata": {},
   "outputs": [],
   "source": [
    "printPath(Path, All)"
   ]
  },
  {
   "cell_type": "code",
   "execution_count": null,
   "metadata": {},
   "outputs": [],
   "source": []
  }
 ],
 "metadata": {
  "hide_input": false,
  "kernelspec": {
   "display_name": "Python 3 (ipykernel)",
   "language": "python",
   "name": "python3"
  },
  "language_info": {
   "codemirror_mode": {
    "name": "ipython",
    "version": 3
   },
   "file_extension": ".py",
   "mimetype": "text/x-python",
   "name": "python",
   "nbconvert_exporter": "python",
   "pygments_lexer": "ipython3",
   "version": "3.9.7"
  },
  "toc": {
   "base_numbering": 1,
   "nav_menu": {},
   "number_sections": true,
   "sideBar": true,
   "skip_h1_title": false,
   "title_cell": "Table of Contents",
   "title_sidebar": "Contents",
   "toc_cell": false,
   "toc_position": {},
   "toc_section_display": true,
   "toc_window_display": false
  },
  "varInspector": {
   "cols": {
    "lenName": 16,
    "lenType": 16,
    "lenVar": 40
   },
   "kernels_config": {
    "python": {
     "delete_cmd_postfix": "",
     "delete_cmd_prefix": "del ",
     "library": "var_list.py",
     "varRefreshCmd": "print(var_dic_list())"
    },
    "r": {
     "delete_cmd_postfix": ") ",
     "delete_cmd_prefix": "rm(",
     "library": "var_list.r",
     "varRefreshCmd": "cat(var_dic_list()) "
    }
   },
   "types_to_exclude": [
    "module",
    "function",
    "builtin_function_or_method",
    "instance",
    "_Feature"
   ],
   "window_display": false
  }
 },
 "nbformat": 4,
 "nbformat_minor": 2
}
