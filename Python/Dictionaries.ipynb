{
 "cells": [
  {
   "cell_type": "code",
   "execution_count": 1,
   "metadata": {},
   "outputs": [
    {
     "data": {
      "application/javascript": [
       "IPython.notebook.set_autosave_interval(0)"
      ]
     },
     "metadata": {},
     "output_type": "display_data"
    },
    {
     "name": "stdout",
     "output_type": "stream",
     "text": [
      "Autosave disabled\n"
     ]
    },
    {
     "data": {
      "text/html": [
       "<style>.container { width:100% !important; }</style>"
      ],
      "text/plain": [
       "<IPython.core.display.HTML object>"
      ]
     },
     "metadata": {},
     "output_type": "display_data"
    }
   ],
   "source": [
    "%autosave 0\n",
    "from IPython.core.display import display, HTML\n",
    "display(HTML(\"<style>.container { width:100% !important; }</style>\"))"
   ]
  },
  {
   "cell_type": "markdown",
   "metadata": {},
   "source": [
    "# Dictionaries"
   ]
  },
  {
   "cell_type": "markdown",
   "metadata": {},
   "source": [
    "A <em style=\"color:blue;\">binary relation</em> $R$ is a subset of the cartesian product of two sets $A$ and $B$, i.e. if $R$ is a binary relation we have:\n",
    "$$ R \\subseteq A \\times B $$\n",
    "A binary relation $R \\subseteq A \\times B$ is a <em style=\"color:blue;\">functional relation</em> if and only if we have:\n",
    "$$ \\forall x \\in A: \\forall y_1, y_2 \\in B: \\bigl(\n",
    "     \\langle x, y_1\\rangle \\in R \\wedge \\langle x, y_2\\rangle \\in R\n",
    "     \\rightarrow y_1 = y_2\n",
    "   \\bigr)\n",
    "$$\n",
    "If $R$ is a functional relation, then $R \\subseteq A \\times B$ can be interpreted as a function\n",
    "$$ f_R:A \\rightarrow B $$\n",
    "that is defined as follows:\n",
    "$$ f_R(x) := y \\quad\\mbox{iff}\\quad \\langle x, y\\rangle \\in R. $$"
   ]
  },
  {
   "cell_type": "markdown",
   "metadata": {},
   "source": [
    "In *Python* a functional relation $R \\subseteq A \\times B$ can be represented as a **dictionary**, provided $R$ is finite.  The empty dictionary is defined as follows:"
   ]
  },
  {
   "cell_type": "code",
   "execution_count": 2,
   "metadata": {},
   "outputs": [],
   "source": [
    "emptyDict = {}"
   ]
  },
  {
   "cell_type": "markdown",
   "metadata": {},
   "source": [
    "In order to define a functional relation $R$ of the form\n",
    "$$ \\bigl\\{ \\langle x_1, y_1\\rangle, \\cdots, \\langle x_n, y_n\\rangle \\bigr\\} $$ \n",
    "we have to write the following Python code\n",
    "<code>\n",
    "    { x1:y1, ..., xn:yn }\n",
    "</code>\n",
    "An example will clarify this.  The dictionary <tt>Number2English</tt> maps the first seven numbers to their English names."
   ]
  },
  {
   "cell_type": "code",
   "execution_count": 3,
   "metadata": {},
   "outputs": [
    {
     "data": {
      "text/plain": [
       "{1: 'one',\n",
       " 2: 'two',\n",
       " 3: 'three',\n",
       " 4: 'four',\n",
       " 5: 'five',\n",
       " 6: 'six',\n",
       " 7: 'seven',\n",
       " 8: 'eight',\n",
       " 9: 'nine'}"
      ]
     },
     "execution_count": 3,
     "metadata": {},
     "output_type": "execute_result"
    }
   ],
   "source": [
    "Number2English = { 1:'one', 2:'two', 3:'three', 4:'four', 5:'five', \n",
    "                   6:'six', 7:'seven', 8:'eight', 9:'nine'\n",
    "                 }\n",
    "Number2English"
   ]
  },
  {
   "cell_type": "markdown",
   "metadata": {},
   "source": [
    "Here, the numbers $1, \\cdots, 9$ are called the <em style=\"color:blue;\">keys</em> of the dictionary."
   ]
  },
  {
   "cell_type": "markdown",
   "metadata": {},
   "source": [
    "We can use the dictionary <tt>Number2English</tt> as if it were a function: If we write\n",
    "$\\texttt{Number2English[}k\\texttt{]}$, then this expression will return the name of the number $k$ provided $k \\in \\{1,\\cdots,9\\}$."
   ]
  },
  {
   "cell_type": "code",
   "execution_count": 4,
   "metadata": {},
   "outputs": [
    {
     "data": {
      "text/plain": [
       "'two'"
      ]
     },
     "execution_count": 4,
     "metadata": {},
     "output_type": "execute_result"
    }
   ],
   "source": [
    "Number2English[2]"
   ]
  },
  {
   "cell_type": "markdown",
   "metadata": {},
   "source": [
    "The expression <tt>Number2English[10]</tt> would return an error message, as $10$ is not a key of the dictionary <tt>Number2English</tt>.  We can check whether an object is a key of a dictionary by using the operator <tt>in</tt> as shown below:"
   ]
  },
  {
   "cell_type": "code",
   "execution_count": 5,
   "metadata": {},
   "outputs": [
    {
     "data": {
      "text/plain": [
       "False"
      ]
     },
     "execution_count": 5,
     "metadata": {},
     "output_type": "execute_result"
    }
   ],
   "source": [
    "10 in Number2English"
   ]
  },
  {
   "cell_type": "code",
   "execution_count": 6,
   "metadata": {},
   "outputs": [
    {
     "data": {
      "text/plain": [
       "True"
      ]
     },
     "execution_count": 6,
     "metadata": {},
     "output_type": "execute_result"
    }
   ],
   "source": [
    "7 in Number2English"
   ]
  },
  {
   "cell_type": "markdown",
   "metadata": {},
   "source": [
    "We can easily extend our dictionary as shown below:"
   ]
  },
  {
   "cell_type": "code",
   "execution_count": 7,
   "metadata": {},
   "outputs": [],
   "source": [
    "Number2English[10] = 'ten'"
   ]
  },
  {
   "cell_type": "code",
   "execution_count": 8,
   "metadata": {},
   "outputs": [
    {
     "data": {
      "text/plain": [
       "{1: 'one',\n",
       " 2: 'two',\n",
       " 3: 'three',\n",
       " 4: 'four',\n",
       " 5: 'five',\n",
       " 6: 'six',\n",
       " 7: 'seven',\n",
       " 8: 'eight',\n",
       " 9: 'nine',\n",
       " 10: 'ten'}"
      ]
     },
     "execution_count": 8,
     "metadata": {},
     "output_type": "execute_result"
    }
   ],
   "source": [
    "Number2English"
   ]
  },
  {
   "cell_type": "markdown",
   "metadata": {},
   "source": [
    "In order to have more fun, let us define a second dictionary."
   ]
  },
  {
   "cell_type": "code",
   "execution_count": 9,
   "metadata": {},
   "outputs": [],
   "source": [
    "Number2Hebrew = { 1:\"echad\", 2:\"shtaim\", 3:\"shalosh\", 4:\"arba\", 5:\"hamesh\", \n",
    "                  6:\"shesh\", 7:\"sheva\", 8:\"shmone\", 9: \"tesha\", 10: \"eser\"\n",
    "                }"
   ]
  },
  {
   "cell_type": "markdown",
   "metadata": {},
   "source": [
    "**Disclaimer:** I don't know any Hebrew, I have taken these names from the following <a href=\"https://www.youtube.com/watch?v=FBd9QdpqUz0\">youtube video</a>."
   ]
  },
  {
   "cell_type": "markdown",
   "metadata": {},
   "source": [
    "Dictionaries can be built via comprehension expressions.  Let us demonstrate this be computing the inverse of the dictionary <tt> Number2English</tt>:"
   ]
  },
  {
   "cell_type": "code",
   "execution_count": 10,
   "metadata": {},
   "outputs": [
    {
     "data": {
      "text/plain": [
       "{'one': 1,\n",
       " 'two': 2,\n",
       " 'three': 3,\n",
       " 'four': 4,\n",
       " 'five': 5,\n",
       " 'six': 6,\n",
       " 'seven': 7,\n",
       " 'eight': 8,\n",
       " 'nine': 9,\n",
       " 'ten': 10}"
      ]
     },
     "execution_count": 10,
     "metadata": {},
     "output_type": "execute_result"
    }
   ],
   "source": [
    "English2Number = { Number2English[name]:name for name in Number2English }\n",
    "English2Number"
   ]
  },
  {
   "cell_type": "markdown",
   "metadata": {},
   "source": [
    "The example above shows that we can iterate over the keys of a dictionary.  Lets use this to build a dictionary that translates the English names of numbers into their Hebrew equivalents:"
   ]
  },
  {
   "cell_type": "code",
   "execution_count": 11,
   "metadata": {},
   "outputs": [
    {
     "data": {
      "text/plain": [
       "{'one': 'echad',\n",
       " 'two': 'shtaim',\n",
       " 'three': 'shalosh',\n",
       " 'four': 'arba',\n",
       " 'five': 'hamesh',\n",
       " 'six': 'shesh',\n",
       " 'seven': 'sheva',\n",
       " 'eight': 'shmone',\n",
       " 'nine': 'tesha',\n",
       " 'ten': 'eser'}"
      ]
     },
     "execution_count": 11,
     "metadata": {},
     "output_type": "execute_result"
    }
   ],
   "source": [
    "English2Hebrew = { name:Number2Hebrew[English2Number[name]] for name in English2Number }\n",
    "English2Hebrew"
   ]
  },
  {
   "cell_type": "markdown",
   "metadata": {},
   "source": [
    "In order to get the number of entries in a dictionary, we can use the function <tt>len</tt>."
   ]
  },
  {
   "cell_type": "code",
   "execution_count": 12,
   "metadata": {},
   "outputs": [
    {
     "data": {
      "text/plain": [
       "10"
      ]
     },
     "execution_count": 12,
     "metadata": {},
     "output_type": "execute_result"
    }
   ],
   "source": [
    "len(English2Hebrew)"
   ]
  },
  {
   "cell_type": "markdown",
   "metadata": {},
   "source": [
    "If we want to delete an entry from a dictionary, we can use the keyword <tt>del</tt> as follows:"
   ]
  },
  {
   "cell_type": "code",
   "execution_count": 13,
   "metadata": {},
   "outputs": [
    {
     "data": {
      "text/plain": [
       "{2: 'two',\n",
       " 3: 'three',\n",
       " 4: 'four',\n",
       " 5: 'five',\n",
       " 6: 'six',\n",
       " 7: 'seven',\n",
       " 8: 'eight',\n",
       " 9: 'nine',\n",
       " 10: 'ten'}"
      ]
     },
     "execution_count": 13,
     "metadata": {},
     "output_type": "execute_result"
    }
   ],
   "source": [
    "del Number2English[1]\n",
    "Number2English"
   ]
  },
  {
   "cell_type": "markdown",
   "metadata": {},
   "source": [
    "It is important to know that only immutable objects can serve as keys in a dictionary.  Therefore, number, strings, tuples, or frozensets can be used as keys, but lists or sets can not be used as keys."
   ]
  },
  {
   "cell_type": "markdown",
   "metadata": {},
   "source": [
    "Given a dictionary $d$, the method $d.\\texttt{items}()$ can be used to iterate over all key-value pairs stored in the dictionary $d$."
   ]
  },
  {
   "cell_type": "code",
   "execution_count": 14,
   "metadata": {},
   "outputs": [
    {
     "data": {
      "text/plain": [
       "{('eight', 'shmone'),\n",
       " ('five', 'hamesh'),\n",
       " ('four', 'arba'),\n",
       " ('nine', 'tesha'),\n",
       " ('one', 'echad'),\n",
       " ('seven', 'sheva'),\n",
       " ('six', 'shesh'),\n",
       " ('ten', 'eser'),\n",
       " ('three', 'shalosh'),\n",
       " ('two', 'shtaim')}"
      ]
     },
     "execution_count": 14,
     "metadata": {},
     "output_type": "execute_result"
    }
   ],
   "source": [
    "{ pair for pair in English2Hebrew.items() }"
   ]
  },
  {
   "cell_type": "code",
   "execution_count": null,
   "metadata": {},
   "outputs": [],
   "source": []
  }
 ],
 "metadata": {
  "kernelspec": {
   "display_name": "Python 3",
   "language": "python",
   "name": "python3"
  },
  "language_info": {
   "codemirror_mode": {
    "name": "ipython",
    "version": 3
   },
   "file_extension": ".py",
   "mimetype": "text/x-python",
   "name": "python",
   "nbconvert_exporter": "python",
   "pygments_lexer": "ipython3",
   "version": "3.6.5"
  }
 },
 "nbformat": 4,
 "nbformat_minor": 2
}
