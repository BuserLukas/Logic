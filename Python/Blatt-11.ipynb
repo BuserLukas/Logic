{
 "cells": [
  {
   "cell_type": "code",
   "execution_count": 1,
   "metadata": {},
   "outputs": [
    {
     "data": {
      "application/javascript": [
       "IPython.notebook.set_autosave_interval(0)"
      ]
     },
     "metadata": {},
     "output_type": "display_data"
    },
    {
     "name": "stdout",
     "output_type": "stream",
     "text": [
      "Autosave disabled\n"
     ]
    }
   ],
   "source": [
    "%autosave 0"
   ]
  },
  {
   "cell_type": "markdown",
   "metadata": {},
   "source": [
    "# Die Onkologie-Station"
   ]
  },
  {
   "cell_type": "markdown",
   "metadata": {},
   "source": [
    "Auf einer Onkologie-Station liegen fünf Patienten in nebeneinander liegenden Zimmern.\n",
    "Bis auf einen  der Patienten hat jeder genau eine Zigaretten-Marke geraucht.\n",
    "Der Patient, der nicht Zigarette geraucht hat, hat Pfeife geraucht.\n",
    "Jeder Patient fährt genau ein Auto und ist\n",
    "an genau einer Krebs-Art erkrankt.  Zusätzlich haben Sie die folgenden Informationen:\n",
    "<ol>\n",
    "<li> Im Zimmer neben Michael wird Camel geraucht. </li>\n",
    "<li> Der Trabant-Fahrer raucht Ernte 23 und liegt im Zimmer neben dem \n",
    "      Zungen-Krebs Patienten. </li>\n",
    "<li> Rolf liegt im letzten Zimmer und hat Kehlkopf-Krebs. </li>\n",
    "<li> Der West-Raucher liegt im ersten Zimmer. </li>\n",
    "<li> Der Mazda-Fahrer hat Zungen-Krebs und liegt neben dem Trabant-Fahrer. </li>\n",
    "<li> Der Nissan-Fahrer liegt neben dem Zungen-Krebs Patient. </li>\n",
    "<li> Rudolf wünscht sich Sterbe-Hilfe und liegt zwischen dem Camel-Raucher und dem Trabant-Fahrer. </li>\n",
    "<li> Der Seat Fahrer hat morgen seinen letzten Geburtstag. </li>\n",
    "<li> Der Luckies Raucher liegt neben dem Patienten mit Lungen-Krebs. </li>\n",
    "<li> Der Camel Raucher liegt neben dem Patienten mit Darm-Krebs. </li>\n",
    "<li> Der Nissan Fahrer liegt neben dem Mazda-Fahrer. </li>\n",
    "<li> Der Mercedes-Fahrer raucht Pfeife und liegt neben dem Camel Raucher. </li>\n",
    "<li> Jens liegt neben dem Luckies Raucher. </li>\n",
    "<li> Der Hodenkrebs-Patient hat gestern seine Eier durchs Klo gespült. </li>\n",
    "</ol>\n",
    "Entwickeln Sie ein <em>Python</em>-Programm, das die folgenden Fragen beantwortet:\n",
    "<ol> \n",
    "<li> Was raucht der Darmkrebs-Patient? </li>\n",
    "<li> Was fährt Kurt für ein Auto? </li>\n",
    "</ol>"
   ]
  },
  {
   "cell_type": "markdown",
   "metadata": {},
   "source": [
    "## Importing the Necessary Modules"
   ]
  },
  {
   "cell_type": "markdown",
   "metadata": {},
   "source": [
    "Our goal is to solve this puzzle by first coding it as a solvability problem of propositional logic and then to solve the resulting set of clauses using the algorithm of Davis and Putnam."
   ]
  },
  {
   "cell_type": "code",
   "execution_count": 2,
   "metadata": {
    "collapsed": true
   },
   "outputs": [],
   "source": [
    "import davisPutnam as dp"
   ]
  },
  {
   "cell_type": "markdown",
   "metadata": {},
   "source": [
    "In order to be able to transform formulas from propositional logic into sets of clauses we import the module <tt>cnf</tt> which implements the function <tt>normalize</tt> that takes a formula and transforms it into a set of clauses."
   ]
  },
  {
   "cell_type": "code",
   "execution_count": 3,
   "metadata": {
    "collapsed": true
   },
   "outputs": [],
   "source": [
    "import cnf"
   ]
  },
  {
   "cell_type": "markdown",
   "metadata": {},
   "source": [
    "In order to write formulas conveniently, we use the parser for propositional logic."
   ]
  },
  {
   "cell_type": "code",
   "execution_count": 4,
   "metadata": {
    "collapsed": true
   },
   "outputs": [],
   "source": [
    "import propLogParser as plp"
   ]
  },
  {
   "cell_type": "markdown",
   "metadata": {},
   "source": [
    "Using the parser and the module <tt>cnf</tt> we can impement a function $\\texttt{parseCNF}(s)$ that takes a string $s$ representing a formula and transforms $s$ into an equivalent set of clauses."
   ]
  },
  {
   "cell_type": "code",
   "execution_count": 5,
   "metadata": {
    "collapsed": true
   },
   "outputs": [],
   "source": [
    "def parseCNF(s):\n",
    "    nestedTuple = plp.LogicParser(s).parse()\n",
    "    Clauses     = cnf.normalize(nestedTuple)\n",
    "    return Clauses"
   ]
  },
  {
   "cell_type": "markdown",
   "metadata": {},
   "source": [
    "## Auxiliary Functions"
   ]
  },
  {
   "cell_type": "code",
   "execution_count": 6,
   "metadata": {
    "collapsed": true
   },
   "outputs": [],
   "source": [
    "def atMostOne(V):\n",
    "    return { frozenset({('¬',p), ('¬', q)}) for p in V\n",
    "                                            for q in V \n",
    "                                            if  p != q \n",
    "           }"
   ]
  },
  {
   "cell_type": "markdown",
   "metadata": {},
   "source": [
    "Given a name $f$ and an index $i \\in\\{1,2,3,4,5\\}$, the function $\\texttt{var}(i)$ creates the string \n",
    "$f\\langle i \\rangle$, e.g. the call <tt>var(\"Japanese\", 2)</tt> returns the following string:\n",
    "\n",
    "<tt>Japanese$\\langle$2$\\rangle$</tt>."
   ]
  },
  {
   "cell_type": "code",
   "execution_count": 7,
   "metadata": {
    "collapsed": true
   },
   "outputs": [],
   "source": [
    "def var(f, i):\n",
    "    return f + \"<\" + str(i) + \">\" "
   ]
  },
  {
   "cell_type": "code",
   "execution_count": 8,
   "metadata": {},
   "outputs": [
    {
     "data": {
      "text/plain": [
       "'Japanese<2>'"
      ]
     },
     "execution_count": 8,
     "metadata": {},
     "output_type": "execute_result"
    }
   ],
   "source": [
    "var(\"Japanese\", 2)"
   ]
  },
  {
   "cell_type": "markdown",
   "metadata": {},
   "source": [
    "The call $\\texttt{flatten}(\\texttt{LoS})$ takes list of sets $\\texttt{LoS}$ and adds all the sets in this list into one big set. "
   ]
  },
  {
   "cell_type": "code",
   "execution_count": 9,
   "metadata": {
    "collapsed": true
   },
   "outputs": [],
   "source": [
    "def flatten(ListOfSets):\n",
    "    return {x for S in ListOfSets for x in S}"
   ]
  },
  {
   "cell_type": "code",
   "execution_count": 10,
   "metadata": {},
   "outputs": [
    {
     "data": {
      "text/plain": [
       "{1, 2, 3, 4, 5}"
      ]
     },
     "execution_count": 10,
     "metadata": {},
     "output_type": "execute_result"
    }
   ],
   "source": [
    "flatten([{1,2,3}, {3,4,5}])"
   ]
  },
  {
   "cell_type": "markdown",
   "metadata": {},
   "source": [
    "A call of the form $\\texttt{x}$ will return a clause that specifies that the person with property $x$ has to live in one of the houses from $1$ to $5$."
   ]
  },
  {
   "cell_type": "code",
   "execution_count": 11,
   "metadata": {
    "collapsed": true
   },
   "outputs": [],
   "source": [
    "def somewhere(x):\n",
    "    return frozenset({ var(x, i) for i in range(1, 5+1) })"
   ]
  },
  {
   "cell_type": "code",
   "execution_count": 12,
   "metadata": {},
   "outputs": [
    {
     "data": {
      "text/plain": [
       "frozenset({'a<1>', 'a<2>', 'a<3>', 'a<4>', 'a<5>'})"
      ]
     },
     "execution_count": 12,
     "metadata": {},
     "output_type": "execute_result"
    }
   ],
   "source": [
    "somewhere(\"a\")"
   ]
  },
  {
   "cell_type": "markdown",
   "metadata": {},
   "source": [
    "Given an exclusive set of properties $S$ and a house number $i$, the function $\\texttt{atMostOne}(S, i)$ returns a set of clauses that specifies that the person living in house number $i$ has at most one of the properties from the set $S$.  For example, if \n",
    "$S = \\{\\texttt{\"Japanese\"}, \\texttt{\"Englishman\"}, \\texttt{\"Spaniard\"}, \\texttt{\"Norwegian\"}, \\texttt{\"Ukranian\"}\\}$, \n",
    "then $\\texttt{atMostOne}(S, 3)$ specifies that the inhabitant of house number 3 has at most one of the nationalities from the set $S$."
   ]
  },
  {
   "cell_type": "code",
   "execution_count": 13,
   "metadata": {
    "collapsed": true
   },
   "outputs": [],
   "source": [
    "def atMostOneAt(S, i):\n",
    "    return atMostOne({ var(x, i) for x in S })"
   ]
  },
  {
   "cell_type": "code",
   "execution_count": 14,
   "metadata": {},
   "outputs": [
    {
     "data": {
      "text/plain": [
       "{frozenset({('¬', 'B<1>'), ('¬', 'C<1>')}),\n",
       " frozenset({('¬', 'A<1>'), ('¬', 'C<1>')}),\n",
       " frozenset({('¬', 'A<1>'), ('¬', 'B<1>')})}"
      ]
     },
     "execution_count": 14,
     "metadata": {},
     "output_type": "execute_result"
    }
   ],
   "source": [
    "atMostOneAt({\"A\", \"B\", \"C\"}, 1)"
   ]
  },
  {
   "cell_type": "markdown",
   "metadata": {},
   "source": [
    "Implement a function $\\texttt{onePerHouse}(S)$ which could be called as follows:\n",
    "$$\\texttt{onePerHouse}(\\{\\texttt{\"Japanese\"},\n",
    "       \\texttt{\"Englishman\"}, \n",
    "       \\texttt{\"Spaniard\"}, \\texttt{\"Norwegian\"}, \n",
    "       \\texttt{\"Ukranian\"}\\})\n",
    "$$\n",
    "This function would create a set of clauses that expresses that there has to be a house where the Japanese lives, a house where the Englishman lives, a house where the Spaniard lives, a house where the Norwegian lives, and a house\n",
    "where the Ukranian lives.  Furthermore, the set of clauses would create clauses that express that these five persons live in **different** houses.\n",
    "\n",
    "When implementing this function, you should use the functions <tt>somewhere</tt> and <tt>atMostOne</tt>."
   ]
  },
  {
   "cell_type": "code",
   "execution_count": 15,
   "metadata": {
    "collapsed": true
   },
   "outputs": [],
   "source": [
    "def onePerRoom(S):\n",
    "    return { somewhere(x) for x in S } | flatten([ atMostOneAt(S, i) for i in range(1, 5+1) ])"
   ]
  },
  {
   "cell_type": "code",
   "execution_count": 16,
   "metadata": {},
   "outputs": [
    {
     "data": {
      "text/plain": [
       "{frozenset({('¬', 'C<2>'), ('¬', 'E<2>')}),\n",
       " frozenset({('¬', 'B<4>'), ('¬', 'C<4>')}),\n",
       " frozenset({('¬', 'A<5>'), ('¬', 'E<5>')}),\n",
       " frozenset({('¬', 'A<1>'), ('¬', 'B<1>')}),\n",
       " frozenset({('¬', 'C<5>'), ('¬', 'E<5>')}),\n",
       " frozenset({('¬', 'A<3>'), ('¬', 'D<3>')}),\n",
       " frozenset({('¬', 'A<4>'), ('¬', 'E<4>')}),\n",
       " frozenset({('¬', 'A<4>'), ('¬', 'C<4>')}),\n",
       " frozenset({('¬', 'B<1>'), ('¬', 'D<1>')}),\n",
       " frozenset({('¬', 'A<2>'), ('¬', 'D<2>')}),\n",
       " frozenset({('¬', 'B<2>'), ('¬', 'E<2>')}),\n",
       " frozenset({('¬', 'D<1>'), ('¬', 'E<1>')}),\n",
       " frozenset({('¬', 'A<5>'), ('¬', 'B<5>')}),\n",
       " frozenset({('¬', 'A<3>'), ('¬', 'B<3>')}),\n",
       " frozenset({'B<1>', 'B<2>', 'B<3>', 'B<4>', 'B<5>'}),\n",
       " frozenset({('¬', 'D<5>'), ('¬', 'E<5>')}),\n",
       " frozenset({'D<1>', 'D<2>', 'D<3>', 'D<4>', 'D<5>'}),\n",
       " frozenset({('¬', 'B<5>'), ('¬', 'E<5>')}),\n",
       " frozenset({('¬', 'B<3>'), ('¬', 'C<3>')}),\n",
       " frozenset({('¬', 'B<1>'), ('¬', 'E<1>')}),\n",
       " frozenset({('¬', 'C<1>'), ('¬', 'D<1>')}),\n",
       " frozenset({('¬', 'B<5>'), ('¬', 'C<5>')}),\n",
       " frozenset({'C<1>', 'C<2>', 'C<3>', 'C<4>', 'C<5>'}),\n",
       " frozenset({('¬', 'D<3>'), ('¬', 'E<3>')}),\n",
       " frozenset({('¬', 'A<2>'), ('¬', 'C<2>')}),\n",
       " frozenset({('¬', 'A<1>'), ('¬', 'D<1>')}),\n",
       " frozenset({('¬', 'C<4>'), ('¬', 'D<4>')}),\n",
       " frozenset({('¬', 'A<4>'), ('¬', 'D<4>')}),\n",
       " frozenset({('¬', 'B<1>'), ('¬', 'C<1>')}),\n",
       " frozenset({('¬', 'B<3>'), ('¬', 'D<3>')}),\n",
       " frozenset({('¬', 'C<1>'), ('¬', 'E<1>')}),\n",
       " frozenset({('¬', 'A<5>'), ('¬', 'D<5>')}),\n",
       " frozenset({('¬', 'A<5>'), ('¬', 'C<5>')}),\n",
       " frozenset({('¬', 'C<5>'), ('¬', 'D<5>')}),\n",
       " frozenset({('¬', 'A<1>'), ('¬', 'E<1>')}),\n",
       " frozenset({('¬', 'D<4>'), ('¬', 'E<4>')}),\n",
       " frozenset({('¬', 'C<3>'), ('¬', 'E<3>')}),\n",
       " frozenset({('¬', 'B<2>'), ('¬', 'C<2>')}),\n",
       " frozenset({('¬', 'B<4>'), ('¬', 'E<4>')}),\n",
       " frozenset({('¬', 'A<2>'), ('¬', 'B<2>')}),\n",
       " frozenset({('¬', 'D<2>'), ('¬', 'E<2>')}),\n",
       " frozenset({('¬', 'C<2>'), ('¬', 'D<2>')}),\n",
       " frozenset({('¬', 'A<3>'), ('¬', 'E<3>')}),\n",
       " frozenset({('¬', 'C<4>'), ('¬', 'E<4>')}),\n",
       " frozenset({('¬', 'B<5>'), ('¬', 'D<5>')}),\n",
       " frozenset({'E<1>', 'E<2>', 'E<3>', 'E<4>', 'E<5>'}),\n",
       " frozenset({('¬', 'A<1>'), ('¬', 'C<1>')}),\n",
       " frozenset({('¬', 'A<2>'), ('¬', 'E<2>')}),\n",
       " frozenset({('¬', 'B<2>'), ('¬', 'D<2>')}),\n",
       " frozenset({'A<1>', 'A<2>', 'A<3>', 'A<4>', 'A<5>'}),\n",
       " frozenset({('¬', 'A<4>'), ('¬', 'B<4>')}),\n",
       " frozenset({('¬', 'A<3>'), ('¬', 'C<3>')}),\n",
       " frozenset({('¬', 'B<3>'), ('¬', 'E<3>')}),\n",
       " frozenset({('¬', 'B<4>'), ('¬', 'D<4>')}),\n",
       " frozenset({('¬', 'C<3>'), ('¬', 'D<3>')})}"
      ]
     },
     "execution_count": 16,
     "metadata": {},
     "output_type": "execute_result"
    }
   ],
   "source": [
    "onePerRoom({\"A\", \"B\", \"C\", \"D\", \"E\"})"
   ]
  },
  {
   "cell_type": "markdown",
   "metadata": {},
   "source": [
    "Given to properties $a$ and $b$ the function $\\texttt{sameHouse}(a, b)$ computes a set of clauses that specifies that if the inhabitant of house number $i$ has the property $a$, then he also has the property $b$ and vice versa.  For example, $\\texttt{sameHouse}(\\texttt{\"Japanese\"}, \\texttt{\"Dog\"})$ specifies that the Japanese guy keeps a dog."
   ]
  },
  {
   "cell_type": "code",
   "execution_count": 17,
   "metadata": {
    "collapsed": true
   },
   "outputs": [],
   "source": [
    "def sameRoom(a, b):\n",
    "    return flatten([ parseCNF(f\"{var(a, i)} ↔ {var(b, i)}\") for i in range(1, 5+1) ])"
   ]
  },
  {
   "cell_type": "code",
   "execution_count": 18,
   "metadata": {},
   "outputs": [
    {
     "data": {
      "text/plain": [
       "{frozenset({'Camel<5>', ('¬', 'Luckies<5>')}),\n",
       " frozenset({'Camel<4>', ('¬', 'Luckies<4>')}),\n",
       " frozenset({'Camel<1>', ('¬', 'Luckies<1>')}),\n",
       " frozenset({('¬', 'Luckies<2>'), 'Camel<2>'}),\n",
       " frozenset({'Camel<3>', ('¬', 'Luckies<3>')}),\n",
       " frozenset({'Luckies<3>', ('¬', 'Camel<3>')}),\n",
       " frozenset({'Luckies<4>', ('¬', 'Camel<4>')}),\n",
       " frozenset({'Luckies<1>', ('¬', 'Camel<1>')}),\n",
       " frozenset({('¬', 'Camel<5>'), 'Luckies<5>'}),\n",
       " frozenset({('¬', 'Camel<2>'), 'Luckies<2>'})}"
      ]
     },
     "execution_count": 18,
     "metadata": {},
     "output_type": "execute_result"
    }
   ],
   "source": [
    "sameRoom(\"Luckies\", \"Camel\")"
   ]
  },
  {
   "cell_type": "markdown",
   "metadata": {},
   "source": [
    "Given to properties $a$ and $b$ the function $\\texttt{nextTo}(a, b)$ computes a set of clauses that specifies that the inhabitants with properties $a$ and $b$ are direct neighbours.  For example, $\\texttt{nextTo}(\\texttt{'Japanese'}, \\texttt{'Dog'})$ specifies that the Japanese guy lives next to the guy who keeps a dog."
   ]
  },
  {
   "cell_type": "code",
   "execution_count": 19,
   "metadata": {
    "collapsed": true
   },
   "outputs": [],
   "source": [
    "def differentRoom(a, b):\n",
    "    return { frozenset({ ('¬', var(a, i)), ('¬', var(b, i)) }) for i in range(1, 5+1) }"
   ]
  },
  {
   "cell_type": "code",
   "execution_count": 20,
   "metadata": {},
   "outputs": [
    {
     "data": {
      "text/plain": [
       "{frozenset({('¬', 'A<4>'), ('¬', 'B<4>')}),\n",
       " frozenset({('¬', 'A<1>'), ('¬', 'B<1>')}),\n",
       " frozenset({('¬', 'A<5>'), ('¬', 'B<5>')}),\n",
       " frozenset({('¬', 'A<2>'), ('¬', 'B<2>')}),\n",
       " frozenset({('¬', 'A<3>'), ('¬', 'B<3>')})}"
      ]
     },
     "execution_count": 20,
     "metadata": {},
     "output_type": "execute_result"
    }
   ],
   "source": [
    "differentRoom('A', 'B')"
   ]
  },
  {
   "cell_type": "code",
   "execution_count": 21,
   "metadata": {
    "collapsed": true
   },
   "outputs": [],
   "source": [
    "def nextTo(a, b):\n",
    "    Result = parseCNF(f\"{var(a,1)} → {var(b,2)}\")\n",
    "    for i in [2, 3, 4]:\n",
    "        Result |= parseCNF(f\"{var(a,i)} → {var(b,i-1)} ∨ {var(b,i+1)}\")\n",
    "    Result |= parseCNF(f\"{var(a,5)} → {var(b,4)}\")\n",
    "    return Result"
   ]
  },
  {
   "cell_type": "code",
   "execution_count": 22,
   "metadata": {},
   "outputs": [
    {
     "data": {
      "text/plain": [
       "{frozenset({'B<1>', ('¬', 'A<2>'), 'B<3>'}),\n",
       " frozenset({('¬', 'A<5>'), 'B<4>'}),\n",
       " frozenset({'B<5>', ('¬', 'A<4>'), 'B<3>'}),\n",
       " frozenset({'B<2>', ('¬', 'A<3>'), 'B<4>'}),\n",
       " frozenset({'B<2>', ('¬', 'A<1>')})}"
      ]
     },
     "execution_count": 22,
     "metadata": {},
     "output_type": "execute_result"
    }
   ],
   "source": [
    "nextTo('A', 'B')"
   ]
  },
  {
   "cell_type": "code",
   "execution_count": 23,
   "metadata": {
    "collapsed": true
   },
   "outputs": [],
   "source": [
    "def allClauses():\n",
    "    Brands   = { \"Camel\", \"Ernte\", \"West\", \"Luckies\", \"Pfeife\" }\n",
    "    Cars     = { \"Trabant\", \"Mazda\", \"Nissan\", \"Seat\", \"Mercedes\" }\n",
    "    Cancers  = { \"Zunge\", \"Kehlkopf\", \"Lunge\", \"Darm\", \"Hoden\" }\n",
    "    Names    = { \"Michael\", \"Rolf\", \"Rudolf\", \"Jens\", \"Kurt\" }\n",
    "    Clauses  = onePerRoom(Brands)\n",
    "    Clauses |= onePerRoom(Cars)\n",
    "    Clauses |= onePerRoom(Cancers)\n",
    "    Clauses |= onePerRoom(Names)\n",
    "    # Im Zimmer neben Michael wird Camel geraucht. \n",
    "    Clauses |= nextTo(\"Michael\", \"Camel\")\n",
    "    # Der Trabant-Fahrer raucht Ernte 23 und liegt im Zimmer neben dem \n",
    "    # Zungen-Krebs Patienten. \n",
    "    Clauses |= sameRoom(\"Trabant\", \"Ernte\")\n",
    "    Clauses |= nextTo(\"Trabant\", \"Zunge\")\n",
    "    # Rolf liegt im letzten Zimmer und hat Kehlkopf-Krebs. \n",
    "    Clauses |= { frozenset({ \"Rolf<5>\" }) }\n",
    "    Clauses |= sameRoom(\"Rolf\", \"Kehlkopf\")\n",
    "    # Der West-Raucher liegt im ersten Zimmer. \n",
    "    Clauses |= { frozenset({ \"West<1>\" }) }\n",
    "    # Der Mazda-Fahrer hat Zungen-Krebs und liegt neben dem Trabant-Fahrer. \n",
    "    Clauses |= sameRoom(\"Mazda\", \"Zunge\")\n",
    "    Clauses |= nextTo(\"Mazda\", \"Trabant\")\n",
    "    # Der Nissan-Fahrer liegt neben dem Zungen-Krebs Patient. \n",
    "    Clauses |= nextTo(\"Nissan\", \"Zunge\")\n",
    "    # Rudolf wünscht sich Sterbe-Hilfe und liegt zwischen dem Camel-Raucher und dem Trabant-Fahrer. \n",
    "    Clauses |= nextTo(\"Rudolf\", \"Camel\")\n",
    "    Clauses |= nextTo(\"Rudolf\", \"Trabant\")\n",
    "    Clauses |= differentRoom(\"Camel\", \"Trabant\")\n",
    "    # Der Luckies Raucher liegt neben dem Patienten mit Lungen-Krebs. \n",
    "    Clauses |= nextTo(\"Luckies\", \"Lunge\")\n",
    "    # Der Camel Raucher liegt neben dem Patienten mit Darm-Krebs. \n",
    "    Clauses |= nextTo(\"Camel\", \"Darm\")\n",
    "    # Der Nissan Fahrer liegt neben dem Mazda-Fahrer. \n",
    "    Clauses |= nextTo(\"Nissan\", \"Mazda\")\n",
    "    # Der Mercedes-Fahrer raucht Pfeife und liegt neben dem Camel Raucher. \n",
    "    Clauses |= sameRoom(\"Mercedes\", \"Pfeife\")\n",
    "    Clauses |= nextTo(\"Mercedes\", \"Camel\")\n",
    "    # Jens liegt neben dem Luckies Raucher. \n",
    "    Clauses |= nextTo(\"Jens\", \"Luckies\")\n",
    "    return Clauses"
   ]
  },
  {
   "cell_type": "code",
   "execution_count": 24,
   "metadata": {},
   "outputs": [
    {
     "data": {
      "text/plain": [
       "{frozenset({'Zunge<3>', 'Zunge<1>', ('¬', 'Nissan<2>')}),\n",
       " frozenset({('¬', 'Hoden<5>'), ('¬', 'Zunge<5>')}),\n",
       " frozenset({('¬', 'Hoden<5>'), ('¬', 'Lunge<5>')}),\n",
       " frozenset({('¬', 'Seat<1>'), ('¬', 'Trabant<1>')}),\n",
       " frozenset({('¬', 'Michael<3>'), 'Camel<4>', 'Camel<2>'}),\n",
       " frozenset({'Ernte<4>', ('¬', 'Trabant<4>')}),\n",
       " frozenset({('¬', 'Nissan<5>'), 'Mazda<4>'}),\n",
       " frozenset({'Mercedes<1>', ('¬', 'Pfeife<1>')}),\n",
       " frozenset({('¬', 'Mazda<4>'), ('¬', 'Nissan<4>')}),\n",
       " frozenset({('¬', 'Camel<1>'), ('¬', 'Luckies<1>')}),\n",
       " frozenset({('¬', 'Camel<4>'), ('¬', 'Pfeife<4>')}),\n",
       " frozenset({'Kehlkopf<4>', ('¬', 'Rolf<4>')}),\n",
       " frozenset({('¬', 'Hoden<3>'), ('¬', 'Kehlkopf<3>')}),\n",
       " frozenset({('¬', 'Lunge<5>'), ('¬', 'Zunge<5>')}),\n",
       " frozenset({('¬', 'Luckies<1>'), ('¬', 'Pfeife<1>')}),\n",
       " frozenset({('¬', 'Ernte<5>'), 'Trabant<5>'}),\n",
       " frozenset({('¬', 'Kehlkopf<5>'), ('¬', 'Zunge<5>')}),\n",
       " frozenset({('¬', 'Camel<3>'), ('¬', 'Luckies<3>')}),\n",
       " frozenset({('¬', 'Nissan<5>'), 'Zunge<4>'}),\n",
       " frozenset({'Camel<4>', ('¬', 'Mercedes<5>')}),\n",
       " frozenset({'Camel<3>', 'Camel<5>', ('¬', 'Michael<4>')}),\n",
       " frozenset({('¬', 'Rolf<2>'), 'Kehlkopf<2>'}),\n",
       " frozenset({'Darm<2>', ('¬', 'Camel<1>')}),\n",
       " frozenset({'West<1>', 'West<2>', 'West<3>', 'West<4>', 'West<5>'}),\n",
       " frozenset({('¬', 'Mazda<4>'), 'Trabant<5>', 'Trabant<3>'}),\n",
       " frozenset({('¬', 'Jens<4>'), ('¬', 'Rudolf<4>')}),\n",
       " frozenset({('¬', 'Nissan<1>'), ('¬', 'Trabant<1>')}),\n",
       " frozenset({('¬', 'Nissan<5>'), ('¬', 'Seat<5>')}),\n",
       " frozenset({'Mercedes<1>',\n",
       "            'Mercedes<2>',\n",
       "            'Mercedes<3>',\n",
       "            'Mercedes<4>',\n",
       "            'Mercedes<5>'}),\n",
       " frozenset({'Rolf<3>', ('¬', 'Kehlkopf<3>')}),\n",
       " frozenset({('¬', 'Kehlkopf<2>'), ('¬', 'Lunge<2>')}),\n",
       " frozenset({('¬', 'Mazda<2>'), 'Trabant<1>', 'Trabant<3>'}),\n",
       " frozenset({('¬', 'Mercedes<5>'), ('¬', 'Nissan<5>')}),\n",
       " frozenset({('¬', 'Hoden<4>'), ('¬', 'Zunge<4>')}),\n",
       " frozenset({('¬', 'Mazda<2>'), ('¬', 'Mercedes<2>')}),\n",
       " frozenset({('¬', 'Nissan<1>'), 'Mazda<2>'}),\n",
       " frozenset({'Luckies<2>', ('¬', 'Jens<1>')}),\n",
       " frozenset({('¬', 'Mercedes<1>'), ('¬', 'Trabant<1>')}),\n",
       " frozenset({('¬', 'Mazda<5>'), 'Trabant<4>'}),\n",
       " frozenset({'Zunge<3>', ('¬', 'Trabant<2>'), 'Zunge<1>'}),\n",
       " frozenset({'Zunge<2>', ('¬', 'Nissan<3>'), 'Zunge<4>'}),\n",
       " frozenset({('¬', 'Mazda<5>'), ('¬', 'Nissan<5>')}),\n",
       " frozenset({'Pfeife<5>', ('¬', 'Mercedes<5>')}),\n",
       " frozenset({('¬', 'Nissan<3>'), 'Mazda<2>', 'Mazda<4>'}),\n",
       " frozenset({('¬', 'Darm<2>'), ('¬', 'Lunge<2>')}),\n",
       " frozenset({'Camel<3>', 'Camel<5>', ('¬', 'Mercedes<4>')}),\n",
       " frozenset({('¬', 'Jens<4>'), ('¬', 'Rolf<4>')}),\n",
       " frozenset({('¬', 'Darm<5>'), ('¬', 'Lunge<5>')}),\n",
       " frozenset({('¬', 'Jens<4>'), ('¬', 'Kurt<4>')}),\n",
       " frozenset({('¬', 'Nissan<1>'), 'Zunge<2>'}),\n",
       " frozenset({('¬', 'Michael<2>'), ('¬', 'Rolf<2>')}),\n",
       " frozenset({('¬', 'Darm<1>'), ('¬', 'Kehlkopf<1>')}),\n",
       " frozenset({('¬', 'Camel<5>'), ('¬', 'Ernte<5>')}),\n",
       " frozenset({('¬', 'Kehlkopf<3>'), ('¬', 'Lunge<3>')}),\n",
       " frozenset({('¬', 'Mercedes<5>'), ('¬', 'Seat<5>')}),\n",
       " frozenset({('¬', 'Darm<5>'), ('¬', 'Hoden<5>')}),\n",
       " frozenset({('¬', 'Jens<2>'), ('¬', 'Rudolf<2>')}),\n",
       " frozenset({('¬', 'Jens<1>'), ('¬', 'Rolf<1>')}),\n",
       " frozenset({('¬', 'Kurt<4>'), ('¬', 'Rudolf<4>')}),\n",
       " frozenset({('¬', 'Rolf<4>'), ('¬', 'Rudolf<4>')}),\n",
       " frozenset({'Zunge<3>', 'Zunge<5>', ('¬', 'Trabant<4>')}),\n",
       " frozenset({'Lunge<4>', ('¬', 'Luckies<5>')}),\n",
       " frozenset({'Mazda<1>', 'Mazda<2>', 'Mazda<3>', 'Mazda<4>', 'Mazda<5>'}),\n",
       " frozenset({('¬', 'Ernte<2>'), 'Trabant<2>'}),\n",
       " frozenset({('¬', 'Camel<5>'), ('¬', 'Luckies<5>')}),\n",
       " frozenset({('¬', 'Camel<5>'), ('¬', 'Pfeife<5>')}),\n",
       " frozenset({('¬', 'Mercedes<4>'), ('¬', 'Seat<4>')}),\n",
       " frozenset({('¬', 'Ernte<2>'), ('¬', 'Luckies<2>')}),\n",
       " frozenset({('¬', 'Ernte<3>'), ('¬', 'Luckies<3>')}),\n",
       " frozenset({('¬', 'Trabant<3>'), 'Zunge<2>', 'Zunge<4>'}),\n",
       " frozenset({('¬', 'Ernte<5>'), ('¬', 'Luckies<5>')}),\n",
       " frozenset({('¬', 'Ernte<5>'), ('¬', 'Pfeife<5>')}),\n",
       " frozenset({'Luckies<1>',\n",
       "            'Luckies<2>',\n",
       "            'Luckies<3>',\n",
       "            'Luckies<4>',\n",
       "            'Luckies<5>'}),\n",
       " frozenset({'Ernte<2>', ('¬', 'Trabant<2>')}),\n",
       " frozenset({('¬', 'Michael<5>'), ('¬', 'Rolf<5>')}),\n",
       " frozenset({('¬', 'Kurt<1>'), ('¬', 'Rolf<1>')}),\n",
       " frozenset({('¬', 'Kurt<1>'), ('¬', 'Michael<1>')}),\n",
       " frozenset({('¬', 'Darm<3>'), ('¬', 'Kehlkopf<3>')}),\n",
       " frozenset({('¬', 'Kehlkopf<1>'), ('¬', 'Zunge<1>')}),\n",
       " frozenset({('¬', 'Kurt<5>'), ('¬', 'Rolf<5>')}),\n",
       " frozenset({'Rolf<5>'}),\n",
       " frozenset({'Camel<3>', ('¬', 'Rudolf<4>'), 'Camel<5>'}),\n",
       " frozenset({('¬', 'Pfeife<3>'), ('¬', 'West<3>')}),\n",
       " frozenset({('¬', 'Mazda<1>'), ('¬', 'Trabant<1>')}),\n",
       " frozenset({('¬', 'Kurt<5>'), ('¬', 'Michael<5>')}),\n",
       " frozenset({('¬', 'Ernte<1>'), ('¬', 'Pfeife<1>')}),\n",
       " frozenset({('¬', 'Camel<1>'), ('¬', 'West<1>')}),\n",
       " frozenset({('¬', 'Hoden<1>'), ('¬', 'Lunge<1>')}),\n",
       " frozenset({('¬', 'Camel<2>'), ('¬', 'Luckies<2>')}),\n",
       " frozenset({('¬', 'Kurt<3>'), ('¬', 'Rudolf<3>')}),\n",
       " frozenset({('¬', 'Camel<2>'), ('¬', 'West<2>')}),\n",
       " frozenset({('¬', 'Camel<3>'), ('¬', 'Pfeife<3>')}),\n",
       " frozenset({('¬', 'Ernte<5>'), ('¬', 'West<5>')}),\n",
       " frozenset({('¬', 'Jens<5>'), ('¬', 'Michael<5>')}),\n",
       " frozenset({('¬', 'Nissan<4>'), ('¬', 'Trabant<4>')}),\n",
       " frozenset({('¬', 'Mercedes<2>'), ('¬', 'Nissan<2>')}),\n",
       " frozenset({'Mazda<1>', ('¬', 'Zunge<1>')}),\n",
       " frozenset({('¬', 'Michael<5>'), ('¬', 'Rudolf<5>')}),\n",
       " frozenset({'Camel<4>', ('¬', 'Rudolf<5>')}),\n",
       " frozenset({'Rudolf<1>', 'Rudolf<2>', 'Rudolf<3>', 'Rudolf<4>', 'Rudolf<5>'}),\n",
       " frozenset({('¬', 'Darm<1>'), ('¬', 'Zunge<1>')}),\n",
       " frozenset({('¬', 'Luckies<5>'), ('¬', 'West<5>')}),\n",
       " frozenset({('¬', 'Pfeife<5>'), ('¬', 'West<5>')}),\n",
       " frozenset({('¬', 'Seat<5>'), ('¬', 'Trabant<5>')}),\n",
       " frozenset({('¬', 'Luckies<2>'), ('¬', 'West<2>')}),\n",
       " frozenset({('¬', 'Darm<2>'), ('¬', 'Zunge<2>')}),\n",
       " frozenset({('¬', 'Ernte<2>'), ('¬', 'Pfeife<2>')}),\n",
       " frozenset({'Camel<3>', 'Camel<1>', ('¬', 'Rudolf<2>')}),\n",
       " frozenset({('¬', 'Michael<3>'), ('¬', 'Rolf<3>')}),\n",
       " frozenset({('¬', 'Rolf<5>'), 'Kehlkopf<5>'}),\n",
       " frozenset({('¬', 'Darm<5>'), ('¬', 'Zunge<5>')}),\n",
       " frozenset({('¬', 'Ernte<3>'), ('¬', 'West<3>')}),\n",
       " frozenset({'Darm<4>', ('¬', 'Camel<3>'), 'Darm<2>'}),\n",
       " frozenset({('¬', 'Mazda<4>'), ('¬', 'Seat<4>')}),\n",
       " frozenset({'Ernte<1>', 'Ernte<2>', 'Ernte<3>', 'Ernte<4>', 'Ernte<5>'}),\n",
       " frozenset({('¬', 'Hoden<4>'), ('¬', 'Kehlkopf<4>')}),\n",
       " frozenset({('¬', 'Hoden<4>'), ('¬', 'Lunge<4>')}),\n",
       " frozenset({('¬', 'Mazda<5>'), ('¬', 'Seat<5>')}),\n",
       " frozenset({('¬', 'Jens<1>'), ('¬', 'Kurt<1>')}),\n",
       " frozenset({('¬', 'Jens<1>'), ('¬', 'Michael<1>')}),\n",
       " frozenset({('¬', 'Camel<3>'), ('¬', 'West<3>')}),\n",
       " frozenset({('¬', 'Jens<2>'), ('¬', 'Rolf<2>')}),\n",
       " frozenset({('¬', 'Jens<3>'), ('¬', 'Michael<3>')}),\n",
       " frozenset({('¬', 'Kehlkopf<5>'), 'Rolf<5>'}),\n",
       " frozenset({('¬', 'Mazda<1>'), ('¬', 'Nissan<1>')}),\n",
       " frozenset({('¬', 'Mercedes<2>'), ('¬', 'Trabant<2>')}),\n",
       " frozenset({('¬', 'Camel<3>'), ('¬', 'Ernte<3>')}),\n",
       " frozenset({('¬', 'Luckies<4>'), ('¬', 'Pfeife<4>')}),\n",
       " frozenset({('¬', 'Jens<3>'), ('¬', 'Rolf<3>')}),\n",
       " frozenset({'Darm<4>', ('¬', 'Camel<5>')}),\n",
       " frozenset({('¬', 'Rolf<2>'), ('¬', 'Rudolf<2>')}),\n",
       " frozenset({('¬', 'Camel<1>'), ('¬', 'Pfeife<1>')}),\n",
       " frozenset({('¬', 'Mercedes<5>'), ('¬', 'Trabant<5>')}),\n",
       " frozenset({('¬', 'Kehlkopf<5>'), ('¬', 'Lunge<5>')}),\n",
       " frozenset({('¬', 'Michael<1>'), 'Camel<2>'}),\n",
       " frozenset({('¬', 'Mercedes<3>'), ('¬', 'Trabant<3>')}),\n",
       " frozenset({('¬', 'Luckies<5>'), ('¬', 'Pfeife<5>')}),\n",
       " frozenset({('¬', 'Michael<1>'), ('¬', 'Rolf<1>')}),\n",
       " frozenset({('¬', 'Kurt<4>'), ('¬', 'Rolf<4>')}),\n",
       " frozenset({('¬', 'Kehlkopf<4>'), ('¬', 'Lunge<4>')}),\n",
       " frozenset({('¬', 'Michael<5>'), 'Camel<4>'}),\n",
       " frozenset({'Mercedes<2>', ('¬', 'Pfeife<2>')}),\n",
       " frozenset({'Luckies<3>', 'Luckies<5>', ('¬', 'Jens<4>')}),\n",
       " frozenset({'Pfeife<4>', ('¬', 'Mercedes<4>')}),\n",
       " frozenset({'Mercedes<5>', ('¬', 'Pfeife<5>')}),\n",
       " frozenset({'Seat<1>', 'Seat<2>', 'Seat<3>', 'Seat<4>', 'Seat<5>'}),\n",
       " frozenset({('¬', 'Mercedes<2>'), ('¬', 'Seat<2>')}),\n",
       " frozenset({('¬', 'Darm<3>'), ('¬', 'Hoden<3>')}),\n",
       " frozenset({'Lunge<5>', ('¬', 'Luckies<4>'), 'Lunge<3>'}),\n",
       " frozenset({('¬', 'Seat<4>'), ('¬', 'Trabant<4>')}),\n",
       " frozenset({('¬', 'Darm<2>'), ('¬', 'Hoden<2>')}),\n",
       " frozenset({('¬', 'Trabant<5>'), 'Ernte<5>'}),\n",
       " frozenset({('¬', 'Kurt<2>'), ('¬', 'Rolf<2>')}),\n",
       " frozenset({('¬', 'Jens<4>'), ('¬', 'Michael<4>')}),\n",
       " frozenset({('¬', 'Pfeife<1>'), ('¬', 'West<1>')}),\n",
       " frozenset({('¬', 'Rudolf<2>'), 'Trabant<1>', 'Trabant<3>'}),\n",
       " frozenset({'Mazda<1>', 'Mazda<3>', ('¬', 'Nissan<2>')}),\n",
       " frozenset({('¬', 'Mercedes<4>'), ('¬', 'Trabant<4>')}),\n",
       " frozenset({('¬', 'Kurt<2>'), ('¬', 'Michael<2>')}),\n",
       " frozenset({('¬', 'Trabant<1>'), 'Zunge<2>'}),\n",
       " frozenset({('¬', 'Nissan<2>'), ('¬', 'Trabant<2>')}),\n",
       " frozenset({'Darm<1>', 'Darm<2>', 'Darm<3>', 'Darm<4>', 'Darm<5>'}),\n",
       " frozenset({('¬', 'Camel<3>'), ('¬', 'Trabant<3>')}),\n",
       " frozenset({('¬', 'Mazda<3>'), ('¬', 'Trabant<3>')}),\n",
       " frozenset({('¬', 'Jens<2>'), ('¬', 'Kurt<2>')}),\n",
       " frozenset({'Trabant<4>', ('¬', 'Ernte<4>')}),\n",
       " frozenset({('¬', 'Mercedes<1>'), ('¬', 'Seat<1>')}),\n",
       " frozenset({('¬', 'Mercedes<4>'), ('¬', 'Nissan<4>')}),\n",
       " frozenset({('¬', 'Ernte<3>'), ('¬', 'Pfeife<3>')}),\n",
       " frozenset({('¬', 'Zunge<4>'), 'Mazda<4>'}),\n",
       " frozenset({'West<1>'}),\n",
       " frozenset({('¬', 'Jens<5>'), ('¬', 'Kurt<5>')}),\n",
       " frozenset({'Rolf<1>', ('¬', 'Kehlkopf<1>')}),\n",
       " frozenset({('¬', 'Kehlkopf<3>'), ('¬', 'Zunge<3>')}),\n",
       " frozenset({('¬', 'Jens<3>'), ('¬', 'Rudolf<3>')}),\n",
       " frozenset({('¬', 'Camel<2>'), ('¬', 'Trabant<2>')}),\n",
       " frozenset({('¬', 'Kurt<5>'), ('¬', 'Rudolf<5>')}),\n",
       " frozenset({('¬', 'Jens<3>'), 'Luckies<4>', 'Luckies<2>'}),\n",
       " frozenset({'Michael<1>',\n",
       "            'Michael<2>',\n",
       "            'Michael<3>',\n",
       "            'Michael<4>',\n",
       "            'Michael<5>'}),\n",
       " frozenset({('¬', 'Luckies<3>'), ('¬', 'West<3>')}),\n",
       " frozenset({('¬', 'Mazda<1>'), ('¬', 'Mercedes<1>')}),\n",
       " frozenset({'Hoden<1>', 'Hoden<2>', 'Hoden<3>', 'Hoden<4>', 'Hoden<5>'}),\n",
       " frozenset({('¬', 'Jens<2>'), ('¬', 'Michael<2>')}),\n",
       " frozenset({('¬', 'Camel<4>'), ('¬', 'Luckies<4>')}),\n",
       " frozenset({'Kehlkopf<1>',\n",
       "            'Kehlkopf<2>',\n",
       "            'Kehlkopf<3>',\n",
       "            'Kehlkopf<4>',\n",
       "            'Kehlkopf<5>'}),\n",
       " frozenset({'Lunge<1>', 'Lunge<2>', 'Lunge<3>', 'Lunge<4>', 'Lunge<5>'}),\n",
       " frozenset({'Zunge<3>', ('¬', 'Mazda<3>')}),\n",
       " frozenset({('¬', 'Ernte<1>'), ('¬', 'West<1>')}),\n",
       " frozenset({('¬', 'Mazda<2>'), ('¬', 'Nissan<2>')}),\n",
       " frozenset({('¬', 'Mazda<5>'), ('¬', 'Trabant<5>')}),\n",
       " frozenset({('¬', 'Lunge<3>'), ('¬', 'Zunge<3>')}),\n",
       " frozenset({'Zunge<1>', ('¬', 'Mazda<1>')}),\n",
       " frozenset({('¬', 'Mazda<4>'), ('¬', 'Mercedes<4>')}),\n",
       " frozenset({'Rolf<4>', ('¬', 'Kehlkopf<4>')}),\n",
       " frozenset({('¬', 'Camel<4>'), ('¬', 'West<4>')}),\n",
       " frozenset({('¬', 'Darm<4>'), ('¬', 'Kehlkopf<4>')}),\n",
       " frozenset({('¬', 'Nissan<1>'), ('¬', 'Seat<1>')}),\n",
       " frozenset({('¬', 'Lunge<2>'), ('¬', 'Zunge<2>')}),\n",
       " frozenset({('¬', 'Camel<1>'), ('¬', 'Ernte<1>')}),\n",
       " frozenset({('¬', 'Camel<4>'), ('¬', 'Ernte<4>')}),\n",
       " frozenset({('¬', 'Darm<4>'), ('¬', 'Lunge<4>')}),\n",
       " frozenset({('¬', 'Lunge<4>'), ('¬', 'Zunge<4>')}),\n",
       " frozenset({('¬', 'Jens<1>'), ('¬', 'Rudolf<1>')}),\n",
       " frozenset({('¬', 'Kehlkopf<4>'), ('¬', 'Zunge<4>')}),\n",
       " frozenset({('¬', 'Rudolf<1>'), 'Trabant<2>'}),\n",
       " frozenset({'Trabant<4>', ('¬', 'Rudolf<5>')}),\n",
       " frozenset({'Darm<3>', ('¬', 'Camel<4>'), 'Darm<5>'}),\n",
       " frozenset({('¬', 'Pfeife<4>'), 'Mercedes<4>'}),\n",
       " frozenset({('¬', 'Zunge<3>'), 'Mazda<3>'}),\n",
       " frozenset({'Pfeife<1>', ('¬', 'Mercedes<1>')}),\n",
       " frozenset({('¬', 'Luckies<1>'), ('¬', 'West<1>')}),\n",
       " frozenset({'Zunge<3>', ('¬', 'Nissan<4>'), 'Zunge<5>'}),\n",
       " frozenset({('¬', 'Mazda<1>'), ('¬', 'Seat<1>')}),\n",
       " frozenset({'Zunge<1>', 'Zunge<2>', 'Zunge<3>', 'Zunge<4>', 'Zunge<5>'}),\n",
       " frozenset({('¬', 'Kurt<2>'), ('¬', 'Rudolf<2>')}),\n",
       " frozenset({('¬', 'Zunge<5>'), 'Mazda<5>'}),\n",
       " frozenset({('¬', 'Luckies<2>'), 'Lunge<3>', 'Lunge<1>'}),\n",
       " frozenset({('¬', 'Kehlkopf<1>'), ('¬', 'Lunge<1>')}),\n",
       " frozenset({('¬', 'Darm<4>'), ('¬', 'Hoden<4>')}),\n",
       " frozenset({('¬', 'Rolf<1>'), ('¬', 'Rudolf<1>')}),\n",
       " frozenset({('¬', 'Michael<1>'), ('¬', 'Rudolf<1>')}),\n",
       " frozenset({('¬', 'Kurt<1>'), ('¬', 'Rudolf<1>')}),\n",
       " frozenset({('¬', 'Mazda<3>'), ('¬', 'Mercedes<3>')}),\n",
       " frozenset({('¬', 'Rolf<5>'), ('¬', 'Rudolf<5>')}),\n",
       " frozenset({('¬', 'Hoden<2>'), ('¬', 'Zunge<2>')}),\n",
       " frozenset({('¬', 'Mazda<2>'), ('¬', 'Trabant<2>')}),\n",
       " frozenset({('¬', 'Camel<2>'), ('¬', 'Pfeife<2>')}),\n",
       " frozenset({('¬', 'Darm<3>'), ('¬', 'Zunge<3>')}),\n",
       " frozenset({('¬', 'Jens<5>'), ('¬', 'Rolf<5>')}),\n",
       " frozenset({('¬', 'Camel<5>'), ('¬', 'Trabant<5>')}),\n",
       " frozenset({('¬', 'Mercedes<1>'), ('¬', 'Nissan<1>')}),\n",
       " frozenset({('¬', 'Hoden<1>'), ('¬', 'Kehlkopf<1>')}),\n",
       " frozenset({('¬', 'Nissan<4>'), 'Mazda<3>', 'Mazda<5>'}),\n",
       " frozenset({('¬', 'Hoden<3>'), ('¬', 'Lunge<3>')}),\n",
       " frozenset({('¬', 'Camel<1>'), ('¬', 'Trabant<1>')}),\n",
       " frozenset({'Trabant<1>',\n",
       "            'Trabant<2>',\n",
       "            'Trabant<3>',\n",
       "            'Trabant<4>',\n",
       "            'Trabant<5>'}),\n",
       " frozenset({('¬', 'Darm<5>'), ('¬', 'Kehlkopf<5>')}),\n",
       " frozenset({('¬', 'Hoden<2>'), ('¬', 'Lunge<2>')}),\n",
       " frozenset({'Jens<1>', 'Jens<2>', 'Jens<3>', 'Jens<4>', 'Jens<5>'}),\n",
       " frozenset({('¬', 'Michael<2>'), ('¬', 'Rudolf<2>')}),\n",
       " frozenset({'Trabant<4>', 'Trabant<2>', ('¬', 'Mazda<3>')}),\n",
       " frozenset({'Kehlkopf<3>', ('¬', 'Rolf<3>')}),\n",
       " frozenset({'Camel<2>', ('¬', 'Mercedes<1>')}),\n",
       " frozenset({'Luckies<4>', ('¬', 'Jens<5>')}),\n",
       " frozenset({('¬', 'Mazda<2>'), 'Zunge<2>'}),\n",
       " frozenset({('¬', 'Trabant<5>'), 'Zunge<4>'}),\n",
       " frozenset({('¬', 'Camel<2>'), 'Darm<1>', 'Darm<3>'}),\n",
       " frozenset({('¬', 'Luckies<2>'), ('¬', 'Pfeife<2>')}),\n",
       " frozenset({'Kehlkopf<1>', ('¬', 'Rolf<1>')}),\n",
       " frozenset({('¬', 'Ernte<2>'), ('¬', 'West<2>')}),\n",
       " frozenset({('¬', 'Lunge<1>'), ('¬', 'Zunge<1>')}),\n",
       " frozenset({('¬', 'Rolf<3>'), ('¬', 'Rudolf<3>')}),\n",
       " frozenset({'Trabant<2>', ('¬', 'Mazda<1>')}),\n",
       " frozenset({'Pfeife<1>', 'Pfeife<2>', 'Pfeife<3>', 'Pfeife<4>', 'Pfeife<5>'}),\n",
       " frozenset({('¬', 'Mazda<5>'), ('¬', 'Mercedes<5>')}),\n",
       " frozenset({('¬', 'Hoden<5>'), ('¬', 'Kehlkopf<5>')}),\n",
       " frozenset({'Trabant<1>', ('¬', 'Ernte<1>')}),\n",
       " frozenset({('¬', 'Luckies<4>'), ('¬', 'West<4>')}),\n",
       " frozenset({'Ernte<1>', ('¬', 'Trabant<1>')}),\n",
       " frozenset({'Rolf<2>', ('¬', 'Kehlkopf<2>')}),\n",
       " frozenset({('¬', 'Mazda<3>'), ('¬', 'Nissan<3>')}),\n",
       " frozenset({('¬', 'Michael<3>'), ('¬', 'Rudolf<3>')}),\n",
       " frozenset({'Trabant<4>', 'Trabant<2>', ('¬', 'Rudolf<3>')}),\n",
       " frozenset({('¬', 'Pfeife<4>'), ('¬', 'West<4>')}),\n",
       " frozenset({('¬', 'Jens<5>'), ('¬', 'Rudolf<5>')}),\n",
       " frozenset({('¬', 'Darm<4>'), ('¬', 'Zunge<4>')}),\n",
       " frozenset({('¬', 'Camel<4>'), ('¬', 'Trabant<4>')}),\n",
       " frozenset({'Kurt<1>', 'Kurt<2>', 'Kurt<3>', 'Kurt<4>', 'Kurt<5>'}),\n",
       " frozenset({('¬', 'Michael<4>'), ('¬', 'Rudolf<4>')}),\n",
       " frozenset({('¬', 'Darm<1>'), ('¬', 'Hoden<1>')}),\n",
       " frozenset({('¬', 'Mazda<4>'), 'Zunge<4>'}),\n",
       " frozenset({('¬', 'Camel<2>'), ('¬', 'Ernte<2>')}),\n",
       " frozenset({'Camel<2>', 'Camel<4>', ('¬', 'Rudolf<3>')}),\n",
       " frozenset({('¬', 'Pfeife<3>'), 'Mercedes<3>'}),\n",
       " frozenset({'Luckies<3>', 'Luckies<1>', ('¬', 'Jens<2>')}),\n",
       " frozenset({('¬', 'Ernte<4>'), ('¬', 'West<4>')}),\n",
       " frozenset({('¬', 'Kurt<3>'), ('¬', 'Michael<3>')}),\n",
       " frozenset({('¬', 'Mazda<3>'), ('¬', 'Seat<3>')}),\n",
       " frozenset({'Camel<3>', ('¬', 'Michael<2>'), 'Camel<1>'}),\n",
       " frozenset({('¬', 'Ernte<1>'), ('¬', 'Luckies<1>')}),\n",
       " frozenset({('¬', 'Ernte<4>'), ('¬', 'Pfeife<4>')}),\n",
       " frozenset({('¬', 'Trabant<3>'), 'Ernte<3>'}),\n",
       " frozenset({'Pfeife<2>', ('¬', 'Mercedes<2>')}),\n",
       " frozenset({('¬', 'Seat<2>'), ('¬', 'Trabant<2>')}),\n",
       " frozenset({('¬', 'Camel<5>'), ('¬', 'West<5>')}),\n",
       " frozenset({('¬', 'Nissan<3>'), ('¬', 'Seat<3>')}),\n",
       " frozenset({('¬', 'Darm<1>'), ('¬', 'Lunge<1>')}),\n",
       " frozenset({('¬', 'Ernte<4>'), ('¬', 'Luckies<4>')}),\n",
       " frozenset({'Pfeife<3>', ('¬', 'Mercedes<3>')}),\n",
       " frozenset({'Camel<2>', ('¬', 'Mercedes<3>'), 'Camel<4>'}),\n",
       " frozenset({'Nissan<1>', 'Nissan<2>', 'Nissan<3>', 'Nissan<4>', 'Nissan<5>'}),\n",
       " frozenset({('¬', 'Nissan<3>'), ('¬', 'Trabant<3>')}),\n",
       " frozenset({('¬', 'Mercedes<3>'), ('¬', 'Nissan<3>')}),\n",
       " frozenset({('¬', 'Rudolf<1>'), 'Camel<2>'}),\n",
       " frozenset({('¬', 'Rudolf<4>'), 'Trabant<5>', 'Trabant<3>'}),\n",
       " frozenset({('¬', 'Mazda<4>'), ('¬', 'Trabant<4>')}),\n",
       " frozenset({'Lunge<4>', ('¬', 'Luckies<3>'), 'Lunge<2>'}),\n",
       " frozenset({'Camel<1>', 'Camel<2>', 'Camel<3>', 'Camel<4>', 'Camel<5>'}),\n",
       " frozenset({('¬', 'Zunge<2>'), 'Mazda<2>'}),\n",
       " frozenset({('¬', 'Jens<3>'), ('¬', 'Kurt<3>')}),\n",
       " frozenset({('¬', 'Luckies<3>'), ('¬', 'Pfeife<3>')}),\n",
       " frozenset({('¬', 'Nissan<5>'), ('¬', 'Trabant<5>')}),\n",
       " frozenset({('¬', 'Hoden<2>'), ('¬', 'Kehlkopf<2>')}),\n",
       " frozenset({('¬', 'Darm<3>'), ('¬', 'Lunge<3>')}),\n",
       " frozenset({('¬', 'Hoden<1>'), ('¬', 'Zunge<1>')}),\n",
       " frozenset({('¬', 'Kurt<3>'), ('¬', 'Rolf<3>')}),\n",
       " frozenset({('¬', 'Mazda<5>'), 'Zunge<5>'}),\n",
       " frozenset({('¬', 'Nissan<2>'), ('¬', 'Seat<2>')}),\n",
       " frozenset({('¬', 'Seat<3>'), ('¬', 'Trabant<3>')}),\n",
       " frozenset({('¬', 'Mercedes<3>'), ('¬', 'Seat<3>')}),\n",
       " frozenset({('¬', 'Nissan<4>'), ('¬', 'Seat<4>')}),\n",
       " frozenset({('¬', 'Hoden<3>'), ('¬', 'Zunge<3>')}),\n",
       " frozenset({'Rolf<1>', 'Rolf<2>', 'Rolf<3>', 'Rolf<4>', 'Rolf<5>'}),\n",
       " frozenset({('¬', 'Michael<4>'), ('¬', 'Rolf<4>')}),\n",
       " frozenset({('¬', 'Kurt<4>'), ('¬', 'Michael<4>')}),\n",
       " frozenset({('¬', 'Ernte<3>'), 'Trabant<3>'}),\n",
       " frozenset({('¬', 'Mazda<2>'), ('¬', 'Seat<2>')}),\n",
       " frozenset({('¬', 'Darm<2>'), ('¬', 'Kehlkopf<2>')}),\n",
       " frozenset({'Camel<3>', 'Camel<1>', ('¬', 'Mercedes<2>')}),\n",
       " frozenset({('¬', 'Kehlkopf<2>'), ('¬', 'Zunge<2>')}),\n",
       " frozenset({('¬', 'Pfeife<2>'), ('¬', 'West<2>')}),\n",
       " frozenset({'Lunge<2>', ('¬', 'Luckies<1>')})}"
      ]
     },
     "execution_count": 24,
     "metadata": {},
     "output_type": "execute_result"
    }
   ],
   "source": [
    "Clauses = allClauses()\n",
    "Clauses"
   ]
  },
  {
   "cell_type": "code",
   "execution_count": 25,
   "metadata": {},
   "outputs": [
    {
     "data": {
      "text/plain": [
       "322"
      ]
     },
     "execution_count": 25,
     "metadata": {},
     "output_type": "execute_result"
    }
   ],
   "source": [
    "len(Clauses)"
   ]
  },
  {
   "cell_type": "code",
   "execution_count": 26,
   "metadata": {
    "collapsed": true
   },
   "outputs": [],
   "source": [
    "def solve():\n",
    "    Clauses = allClauses()\n",
    "    return dp.solve(Clauses, set())"
   ]
  },
  {
   "cell_type": "code",
   "execution_count": 27,
   "metadata": {
    "collapsed": true
   },
   "outputs": [],
   "source": [
    "import time"
   ]
  },
  {
   "cell_type": "markdown",
   "metadata": {},
   "source": [
    "Solving the problem takes about 7 seconds on my computer."
   ]
  },
  {
   "cell_type": "code",
   "execution_count": 28,
   "metadata": {},
   "outputs": [
    {
     "name": "stdout",
     "output_type": "stream",
     "text": [
      "Time needed: 0.4 seconds.\n"
     ]
    },
    {
     "data": {
      "text/plain": [
       "{frozenset({('¬', 'Rudolf<3>')}),\n",
       " frozenset({('¬', 'Kehlkopf<3>')}),\n",
       " frozenset({'Nissan<3>'}),\n",
       " frozenset({('¬', 'Ernte<2>')}),\n",
       " frozenset({('¬', 'Darm<4>')}),\n",
       " frozenset({'Rudolf<4>'}),\n",
       " frozenset({'Seat<1>'}),\n",
       " frozenset({('¬', 'Zunge<2>')}),\n",
       " frozenset({('¬', 'Hoden<4>')}),\n",
       " frozenset({('¬', 'Hoden<5>')}),\n",
       " frozenset({('¬', 'Rudolf<1>')}),\n",
       " frozenset({'West<1>'}),\n",
       " frozenset({('¬', 'Rolf<3>')}),\n",
       " frozenset({('¬', 'Kurt<3>')}),\n",
       " frozenset({'Lunge<3>'}),\n",
       " frozenset({('¬', 'Jens<1>')}),\n",
       " frozenset({('¬', 'Jens<4>')}),\n",
       " frozenset({('¬', 'Darm<5>')}),\n",
       " frozenset({'Camel<3>'}),\n",
       " frozenset({'Jens<3>'}),\n",
       " frozenset({('¬', 'Rolf<4>')}),\n",
       " frozenset({('¬', 'Kurt<4>')}),\n",
       " frozenset({('¬', 'Seat<5>')}),\n",
       " frozenset({('¬', 'Trabant<4>')}),\n",
       " frozenset({'Darm<2>'}),\n",
       " frozenset({('¬', 'Rudolf<2>')}),\n",
       " frozenset({('¬', 'Nissan<4>')}),\n",
       " frozenset({('¬', 'Camel<1>')}),\n",
       " frozenset({'Mazda<4>'}),\n",
       " frozenset({('¬', 'Zunge<5>')}),\n",
       " frozenset({('¬', 'Luckies<1>')}),\n",
       " frozenset({('¬', 'Mazda<1>')}),\n",
       " frozenset({('¬', 'Michael<3>')}),\n",
       " frozenset({('¬', 'Hoden<2>')}),\n",
       " frozenset({('¬', 'Jens<2>')}),\n",
       " frozenset({('¬', 'Seat<3>')}),\n",
       " frozenset({('¬', 'Ernte<3>')}),\n",
       " frozenset({('¬', 'West<2>')}),\n",
       " frozenset({('¬', 'Rudolf<5>')}),\n",
       " frozenset({'Pfeife<2>'}),\n",
       " frozenset({('¬', 'Zunge<3>')}),\n",
       " frozenset({('¬', 'Ernte<1>')}),\n",
       " frozenset({('¬', 'West<4>')}),\n",
       " frozenset({('¬', 'Seat<4>')}),\n",
       " frozenset({('¬', 'Mazda<2>')}),\n",
       " frozenset({('¬', 'Pfeife<1>')}),\n",
       " frozenset({('¬', 'Nissan<2>')}),\n",
       " frozenset({('¬', 'Nissan<1>')}),\n",
       " frozenset({'Luckies<4>'}),\n",
       " frozenset({('¬', 'Mazda<5>')}),\n",
       " frozenset({('¬', 'Kurt<2>')}),\n",
       " frozenset({('¬', 'Michael<4>')}),\n",
       " frozenset({('¬', 'Zunge<1>')}),\n",
       " frozenset({('¬', 'Mercedes<3>')}),\n",
       " frozenset({('¬', 'Trabant<3>')}),\n",
       " frozenset({'Rolf<5>'}),\n",
       " frozenset({('¬', 'Kehlkopf<1>')}),\n",
       " frozenset({'Zunge<4>'}),\n",
       " frozenset({('¬', 'Mercedes<1>')}),\n",
       " frozenset({('¬', 'Camel<2>')}),\n",
       " frozenset({('¬', 'Michael<5>')}),\n",
       " frozenset({('¬', 'Pfeife<4>')}),\n",
       " frozenset({('¬', 'Rolf<2>')}),\n",
       " frozenset({('¬', 'Jens<5>')}),\n",
       " frozenset({'Trabant<5>'}),\n",
       " frozenset({('¬', 'Kurt<5>')}),\n",
       " frozenset({('¬', 'Kehlkopf<2>')}),\n",
       " frozenset({'Hoden<1>'}),\n",
       " frozenset({('¬', 'Mercedes<5>')}),\n",
       " frozenset({'Kehlkopf<5>'}),\n",
       " frozenset({('¬', 'Luckies<2>')}),\n",
       " frozenset({('¬', 'West<3>')}),\n",
       " frozenset({('¬', 'Darm<1>')}),\n",
       " frozenset({('¬', 'West<5>')}),\n",
       " frozenset({('¬', 'Pfeife<5>')}),\n",
       " frozenset({('¬', 'Luckies<5>')}),\n",
       " frozenset({'Kurt<1>'}),\n",
       " frozenset({('¬', 'Darm<3>')}),\n",
       " frozenset({('¬', 'Luckies<3>')}),\n",
       " frozenset({('¬', 'Lunge<1>')}),\n",
       " frozenset({('¬', 'Ernte<4>')}),\n",
       " frozenset({('¬', 'Trabant<2>')}),\n",
       " frozenset({('¬', 'Lunge<5>')}),\n",
       " frozenset({('¬', 'Hoden<3>')}),\n",
       " frozenset({'Mercedes<2>'}),\n",
       " frozenset({('¬', 'Rolf<1>')}),\n",
       " frozenset({('¬', 'Michael<1>')}),\n",
       " frozenset({('¬', 'Nissan<5>')}),\n",
       " frozenset({('¬', 'Pfeife<3>')}),\n",
       " frozenset({('¬', 'Mercedes<4>')}),\n",
       " frozenset({('¬', 'Lunge<2>')}),\n",
       " frozenset({('¬', 'Mazda<3>')}),\n",
       " frozenset({'Ernte<5>'}),\n",
       " frozenset({('¬', 'Seat<2>')}),\n",
       " frozenset({'Michael<2>'}),\n",
       " frozenset({('¬', 'Lunge<4>')}),\n",
       " frozenset({('¬', 'Kehlkopf<4>')}),\n",
       " frozenset({('¬', 'Camel<4>')}),\n",
       " frozenset({('¬', 'Trabant<1>')}),\n",
       " frozenset({('¬', 'Camel<5>')})}"
      ]
     },
     "execution_count": 28,
     "metadata": {},
     "output_type": "execute_result"
    }
   ],
   "source": [
    "start    = time.time()\n",
    "Solution = solve()\n",
    "stop     = time.time()\n",
    "print(f'Time needed: {round((stop-start)*10)/10} seconds.')\n",
    "Solution"
   ]
  },
  {
   "cell_type": "markdown",
   "metadata": {},
   "source": [
    "## Functions to PrettyPrint the Solution"
   ]
  },
  {
   "cell_type": "code",
   "execution_count": 29,
   "metadata": {
    "collapsed": true
   },
   "outputs": [],
   "source": [
    "def arb(S):\n",
    "    for x in S:\n",
    "        return x"
   ]
  },
  {
   "cell_type": "code",
   "execution_count": 30,
   "metadata": {
    "collapsed": true
   },
   "outputs": [],
   "source": [
    "def pad(s, l):\n",
    "    n = l - len(s)\n",
    "    return s + \" \" * n"
   ]
  },
  {
   "cell_type": "code",
   "execution_count": 31,
   "metadata": {
    "collapsed": true
   },
   "outputs": [],
   "source": [
    "def join(L, sep):\n",
    "    result = ''\n",
    "    for s in L:\n",
    "        result += s + sep\n",
    "    if len(L) > 0:\n",
    "        result = result[:-len(sep)]\n",
    "    return result"
   ]
  },
  {
   "cell_type": "code",
   "execution_count": 32,
   "metadata": {
    "collapsed": true
   },
   "outputs": [],
   "source": [
    "def printSolution(UnitClauses):\n",
    "    Brands     = { \"Camel\", \"Ernte\", \"West\", \"Luckies\", \"Pfeife\"    }\n",
    "    Cars       = { \"Trabant\", \"Mazda\", \"Nissan\", \"Seat\", \"Mercedes\" }\n",
    "    Cancers    = { \"Zunge\", \"Kehlkopf\", \"Lunge\", \"Darm\", \"Hoden\" }\n",
    "    Names      = { \"Michael\", \"Rolf\", \"Rudolf\", \"Jens\", \"Kurt\" }\n",
    "    Assignment = {}\n",
    "    CarsDict   = {}\n",
    "    BrandsDict = {}\n",
    "    for Unit in UnitClauses:\n",
    "        Literal = arb(Unit)\n",
    "        if isinstance(Literal, str):\n",
    "            number = int(Literal[-2])\n",
    "            name   = Literal[:-3]\n",
    "            Assignment[name] = number\n",
    "            if name in Brands:\n",
    "                BrandsDict[number] = name\n",
    "            if name in Cars:\n",
    "                CarsDict[number] = name\n",
    "    print()\n",
    "\n",
    "    print(f\"Der Darmkrebs-Patient raucht {BrandsDict[Assignment['Darm']]}.\");\n",
    "    print(f\"Kurt fährt einen {CarsDict[Assignment['Kurt']]}.\");\n",
    "    print()\n",
    "    longest = max({ len(x) for x in Assignment })\n",
    "    line    = \"-\" * (4 * (longest + 3) + 6);\n",
    "    for house in range(1, 5+1):\n",
    "        print(line)\n",
    "        l = [];\n",
    "        for Class in [Brands, Cars, Cancers, Names]:\n",
    "            for x in Class:\n",
    "                l += [ pad(f\"{y}\", longest) for y in Assignment \n",
    "                                            if y == x and Assignment[y] == house\n",
    "                     ]\n",
    "        print(f\"| {house}: | \" + join(l, \" | \") + \" |\")\n",
    "    print(line)\n",
    "    print()"
   ]
  },
  {
   "cell_type": "code",
   "execution_count": 33,
   "metadata": {},
   "outputs": [
    {
     "name": "stdout",
     "output_type": "stream",
     "text": [
      "\n",
      "Der Darmkrebs-Patient raucht Pfeife.\n",
      "Kurt fährt einen Seat.\n",
      "\n",
      "--------------------------------------------------\n",
      "| 1: | West     | Seat     | Hoden    | Kurt     |\n",
      "--------------------------------------------------\n",
      "| 2: | Pfeife   | Mercedes | Darm     | Michael  |\n",
      "--------------------------------------------------\n",
      "| 3: | Camel    | Nissan   | Lunge    | Jens     |\n",
      "--------------------------------------------------\n",
      "| 4: | Luckies  | Mazda    | Zunge    | Rudolf   |\n",
      "--------------------------------------------------\n",
      "| 5: | Ernte    | Trabant  | Kehlkopf | Rolf     |\n",
      "--------------------------------------------------\n",
      "\n"
     ]
    }
   ],
   "source": [
    "printSolution(Solution)"
   ]
  },
  {
   "cell_type": "markdown",
   "metadata": {},
   "source": [
    "## Checking the Uniqueness of the Solution"
   ]
  },
  {
   "cell_type": "markdown",
   "metadata": {},
   "source": [
    "Given a set of unit clauses $U$, the function $\\texttt{checkUniqueness}(U)$ returns a clause that is the negation of the set $U$."
   ]
  },
  {
   "cell_type": "code",
   "execution_count": 34,
   "metadata": {
    "collapsed": true
   },
   "outputs": [],
   "source": [
    "def negateSolution(UnitClauses):\n",
    "    return { dp.complement(arb(unit)) for unit in UnitClauses }"
   ]
  },
  {
   "cell_type": "code",
   "execution_count": 35,
   "metadata": {},
   "outputs": [
    {
     "data": {
      "text/plain": [
       "{('¬', 'a'), 'b'}"
      ]
     },
     "execution_count": 35,
     "metadata": {},
     "output_type": "execute_result"
    }
   ],
   "source": [
    "negateSolution({ frozenset({'a'}), frozenset({('¬', 'b')}) }) "
   ]
  },
  {
   "cell_type": "markdown",
   "metadata": {},
   "source": [
    "The function $\\texttt{checkUniqueness}(\\texttt{Solution}, \\texttt{Clauses})$  takes a set of $\\texttt{Clauses}$ and a $\\texttt{Solution}$ for these clauses and checks, whether this is the only solution."
   ]
  },
  {
   "cell_type": "code",
   "execution_count": 36,
   "metadata": {
    "collapsed": true
   },
   "outputs": [],
   "source": [
    "def checkUniqueness(Solution, Clauses):\n",
    "    negation = negateSolution(Solution)\n",
    "    Clauses.add(frozenset(negation))\n",
    "    alternative = dp.solve(Clauses, set())\n",
    "    if alternative == { frozenset() }:\n",
    "        print(\"Well done: The solution is unique!\")\n",
    "    else:\n",
    "        print(\"ERROR: The solution is not unique!\")"
   ]
  },
  {
   "cell_type": "code",
   "execution_count": 37,
   "metadata": {},
   "outputs": [
    {
     "name": "stdout",
     "output_type": "stream",
     "text": [
      "Well done: The solution is unique!\n"
     ]
    }
   ],
   "source": [
    "checkUniqueness(Solution, Clauses)"
   ]
  }
 ],
 "metadata": {
  "kernelspec": {
   "display_name": "Python 3",
   "language": "python",
   "name": "python3"
  },
  "language_info": {
   "codemirror_mode": {
    "name": "ipython",
    "version": 3
   },
   "file_extension": ".py",
   "mimetype": "text/x-python",
   "name": "python",
   "nbconvert_exporter": "python",
   "pygments_lexer": "ipython3",
   "version": "3.6.3"
  }
 },
 "nbformat": 4,
 "nbformat_minor": 2
}
