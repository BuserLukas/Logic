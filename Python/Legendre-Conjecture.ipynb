{
 "cells": [
  {
   "cell_type": "code",
   "execution_count": null,
   "metadata": {
    "collapsed": true
   },
   "outputs": [],
   "source": [
    "%autosave 0"
   ]
  },
  {
   "cell_type": "markdown",
   "metadata": {},
   "source": [
    "# Legendre's Conjecture"
   ]
  },
  {
   "cell_type": "markdown",
   "metadata": {},
   "source": [
    "More than 200 years ago the French mathematician \n",
    "<a href=\"http://de.wikipedia.org/wiki/Adrien-Marie_Legendre\">Adrien-Marie Legendre</a> \n",
    "(1752 - 1833) conjectured that there is always a *prime number* between two successive squares bigger than one, i.e. if we denote the set of all *prime numbers* as $\\mathbb{P}$, then we have:\n",
    "$$ \\forall n \\in \\mathbb{N}: \\bigl(n \\geq 1 \\rightarrow \\exists p \\in \\mathbb{P}: n^2 < p < (n+1)^2 \\bigr) $$\n",
    "The question whether this claim is true is still open.  The function \n",
    "$\\texttt{legendre}(n)$ that is defined below takes a natural number $n$ as input and checks whether there is a prime number $p$ such that\n",
    "$$ n^2 < p < (n+1)^2 $$\n",
    "holds.  The function returns <tt>True</tt> if there is a prime number $p$ between $n^2$ and $(n+1)^2$.  Otherwise, <tt>False</tt> is returned."
   ]
  },
  {
   "cell_type": "code",
   "execution_count": 1,
   "metadata": {
    "collapsed": true
   },
   "outputs": [],
   "source": [
    "def legendre(n):\n",
    "    k = n * n + 1;\n",
    "    while k < (n + 1) ** 2:\n",
    "        if is_prime(k):\n",
    "            print(f'{n}**2 < {k} < {n+1}**2')\n",
    "            return True\n",
    "        k += 1\n",
    "    return False"
   ]
  },
  {
   "cell_type": "markdown",
   "metadata": {},
   "source": [
    "In order to test this function, we still need to implement the function <tt>is_prime</tt>.  This is done below using the observation that a number $k$ is prime if and only if the set of its divisors only contain the numbers $1$ and $k$:"
   ]
  },
  {
   "cell_type": "code",
   "execution_count": 2,
   "metadata": {
    "collapsed": true
   },
   "outputs": [],
   "source": [
    "def is_prime(k):\n",
    "    return divisors(k) == {1, k}"
   ]
  },
  {
   "cell_type": "markdown",
   "metadata": {},
   "source": [
    "The set of divisors of a natural number $k$ can be computed as follows:"
   ]
  },
  {
   "cell_type": "code",
   "execution_count": null,
   "metadata": {
    "collapsed": true
   },
   "outputs": [],
   "source": [
    "def divisors(k):\n",
    "    return { t for t in range(1, k+1) if k % t == 0 }"
   ]
  },
  {
   "cell_type": "markdown",
   "metadata": {},
   "source": [
    "Let us test the functions <tt>divisors</tt> and <tt>is_prime</tt>:"
   ]
  },
  {
   "cell_type": "code",
   "execution_count": null,
   "metadata": {
    "collapsed": true
   },
   "outputs": [],
   "source": [
    "for i in range(1, 10):\n",
    "    print(divisors(i))"
   ]
  },
  {
   "cell_type": "code",
   "execution_count": null,
   "metadata": {
    "collapsed": true
   },
   "outputs": [],
   "source": [
    "{ p for p in range(100) if is_prime(p) }"
   ]
  },
  {
   "cell_type": "markdown",
   "metadata": {},
   "source": [
    "We are ready to test the function <tt>legendre</tt>:"
   ]
  },
  {
   "cell_type": "code",
   "execution_count": null,
   "metadata": {
    "collapsed": true
   },
   "outputs": [],
   "source": [
    "legendre(2)"
   ]
  },
  {
   "cell_type": "code",
   "execution_count": null,
   "metadata": {
    "collapsed": true
   },
   "outputs": [],
   "source": [
    "legendre(3)"
   ]
  },
  {
   "cell_type": "code",
   "execution_count": null,
   "metadata": {
    "collapsed": true
   },
   "outputs": [],
   "source": [
    "legendre(4)"
   ]
  },
  {
   "cell_type": "markdown",
   "metadata": {},
   "source": [
    "This is getting tedious, lets automate the testing.  The function <tt>find_counter_example</tt> below tries to find a counter example for Legendre's conjecture, i.e. it tries to find a natural number $n$ such that there is no prime number $p$ between $n^2$ and $(n+1)^2$.  Once a counter example $n$ is found, the function stops and prints the natural number $n$ such that there is no prime between $n^2$ and $(n+1)^2$.  Otherwise, the function keeps going until the sun rises in the west. "
   ]
  },
  {
   "cell_type": "code",
   "execution_count": null,
   "metadata": {
    "collapsed": true
   },
   "outputs": [],
   "source": [
    "def find_counter_example(n):\n",
    "    while True:\n",
    "       if legendre(n):\n",
    "           n = n + 1\n",
    "       else:\n",
    "           print(f'Eureka! No prime between {n}**2 and {n+1}**2!')\n",
    "           return"
   ]
  },
  {
   "cell_type": "markdown",
   "metadata": {},
   "source": [
    "In our quest to get rich and famous, we start the function and wait for a counter example..."
   ]
  },
  {
   "cell_type": "code",
   "execution_count": null,
   "metadata": {
    "collapsed": true
   },
   "outputs": [],
   "source": [
    "find_counter_example(1)"
   ]
  },
  {
   "cell_type": "markdown",
   "metadata": {},
   "source": [
    "The function call <tt>find_counter_example()</tt> will stop if and only if Legendre's conjecture is false.  Therefore, if we had a function that could take our definition of the function <tt>find_counter_example</tt> as input and that could then decide, whether the function call <tt>find_counter_example()</tt> would eventually terminate, then this function would be able to decide whether Legendre's conjecture is correct."
   ]
  }
 ],
 "metadata": {
  "kernelspec": {
   "display_name": "Python 3",
   "language": "python",
   "name": "python3"
  },
  "language_info": {
   "codemirror_mode": {
    "name": "ipython",
    "version": 3
   },
   "file_extension": ".py",
   "mimetype": "text/x-python",
   "name": "python",
   "nbconvert_exporter": "python",
   "pygments_lexer": "ipython3",
   "version": "3.6.6"
  }
 },
 "nbformat": 4,
 "nbformat_minor": 2
}
