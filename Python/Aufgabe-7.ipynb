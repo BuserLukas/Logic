{
 "cells": [
  {
   "cell_type": "code",
   "execution_count": 1,
   "metadata": {},
   "outputs": [
    {
     "data": {
      "application/javascript": [
       "IPython.notebook.set_autosave_interval(60000)"
      ]
     },
     "metadata": {},
     "output_type": "display_data"
    },
    {
     "name": "stdout",
     "output_type": "stream",
     "text": [
      "Autosaving every 60 seconds\n"
     ]
    },
    {
     "data": {
      "text/html": [
       "<style>.container { width:100% !important; }</style>"
      ],
      "text/plain": [
       "<IPython.core.display.HTML object>"
      ]
     },
     "metadata": {},
     "output_type": "display_data"
    }
   ],
   "source": [
    "%autosave 60\n",
    "from IPython.core.display import display, HTML\n",
    "display(HTML(\"<style>.container { width:100% !important; }</style>\"))"
   ]
  },
  {
   "cell_type": "markdown",
   "metadata": {},
   "source": [
    "The module <tt>prover</tt> implements the function $\\texttt{prove}(\\texttt{Axioms}, \\texttt{claim})$ that takes a set of formulas $\\texttt{Axioms}$ and tries to prove that these formulas imply the formula $\\texttt{claim}$.  The resulting proof is printed to the screen."
   ]
  },
  {
   "cell_type": "code",
   "execution_count": 2,
   "metadata": {},
   "outputs": [],
   "source": [
    "import prover"
   ]
  },
  {
   "cell_type": "markdown",
   "metadata": {},
   "source": [
    "The Russell set $R$ is defined as the set of all elements that do not contain themselves:\n",
    "$$ x \\in R \\leftrightarrow \\neg x \\in R $$\n",
    "However, this formula is inconsistent."
   ]
  },
  {
   "cell_type": "code",
   "execution_count": 3,
   "metadata": {},
   "outputs": [],
   "source": [
    "Axioms = { '∀x:(In(x, R) ↔ ¬In(x, x))' }\n",
    "claim  = '⊥'"
   ]
  },
  {
   "cell_type": "code",
   "execution_count": 4,
   "metadata": {},
   "outputs": [
    {
     "name": "stdout",
     "output_type": "stream",
     "text": [
      "{('¬', ('In', 'x', 'x')), ('¬', ('In', 'x', ('R',)))}\n",
      "{('In', 'x', 'x'), ('In', 'x', ('R',))}\n",
      "cnt = 1, number of clauses: 9\n",
      "cnt = 2, number of clauses: 26\n",
      "Axiom:       {('¬', ('In', 'x', 'x')), ('¬', ('In', 'x', ('R',)))}\n",
      "Factorization: {('¬', ('In', 'x', 'x')), ('¬', ('In', 'x', ('R',)))} \n",
      "⊢            {('¬', ('In', ('R',), ('R',)))}\n",
      "Axiom:       {('In', 'x', 'x'), ('In', 'x', ('R',))}\n",
      "Factorization: {('In', 'x', 'x'), ('In', 'x', ('R',))} \n",
      "⊢            {('In', ('R',), ('R',))}\n",
      "Resolution:  {('¬', ('In', ('R',), ('R',)))},\n",
      "             {('In', ('R',), ('R',))}  \n",
      "⊢            set()\n",
      "CPU times: user 8.75 ms, sys: 2.51 ms, total: 11.3 ms\n",
      "Wall time: 10.3 ms\n"
     ]
    }
   ],
   "source": [
    "%%time\n",
    "prover.prove(Axioms, claim)"
   ]
  },
  {
   "cell_type": "code",
   "execution_count": null,
   "metadata": {},
   "outputs": [],
   "source": []
  }
 ],
 "metadata": {
  "kernelspec": {
   "display_name": "Python 3",
   "language": "python",
   "name": "python3"
  },
  "language_info": {
   "codemirror_mode": {
    "name": "ipython",
    "version": 3
   },
   "file_extension": ".py",
   "mimetype": "text/x-python",
   "name": "python",
   "nbconvert_exporter": "python",
   "pygments_lexer": "ipython3",
   "version": "3.6.3"
  }
 },
 "nbformat": 4,
 "nbformat_minor": 2
}
