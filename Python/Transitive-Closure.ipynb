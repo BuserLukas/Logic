{
 "cells": [
  {
   "cell_type": "code",
   "execution_count": null,
   "metadata": {},
   "outputs": [],
   "source": [
    "%autosave 0\n",
    "from IPython.core.display import HTML\n",
    "HTML('''<style>\n",
    "        .container { width:100% !important; }\n",
    "        </style>\n",
    "     ''')"
   ]
  },
  {
   "cell_type": "markdown",
   "metadata": {},
   "source": [
    "The relational product of two relations $R_1$ and $R_2$ is defined as follows:\n",
    "$$ R_1 \\circ R_2 := \n",
    "\\Bigl\\{ \\langle x, z \\rangle \n",
    "\\mid \\exists y: \\bigl(\\langle x, y\\rangle \\in R_1 \\wedge \\langle y, z \\rangle \\in R_2\\bigr)\n",
    "\\Bigr\\}\n",
    "$$"
   ]
  },
  {
   "cell_type": "code",
   "execution_count": null,
   "metadata": {},
   "outputs": [],
   "source": [
    "def product(R1, R2):\n",
    "    \"Compute the relational product of R1 and R2.\"\n",
    "    return { (x, z) for (x, y1) in R1 for (y2, z) in R2 if y1 == y2 }"
   ]
  },
  {
   "cell_type": "code",
   "execution_count": null,
   "metadata": {},
   "outputs": [],
   "source": [
    "R1 = { (1, 2), (1, 4) }\n",
    "R2 = { (2, 3), (2, 5) }\n",
    "product(R1, R2)"
   ]
  },
  {
   "cell_type": "markdown",
   "metadata": {},
   "source": [
    "The transitive closure of a binary relation $R \\subseteq M \\times M$ can be computed by the following fixpoint iteration:\n",
    "$$ R^+ = R \\cup R^+ \\circ R $$ "
   ]
  },
  {
   "cell_type": "code",
   "execution_count": null,
   "metadata": {},
   "outputs": [],
   "source": [
    "def transClosure(R):\n",
    "    \"Compute the transitive closure of the binary relation R.\"\n",
    "    T = R\n",
    "    while True:\n",
    "        oldT = T\n",
    "        T    = product(T,R) | R\n",
    "        if T == oldT:\n",
    "            return T"
   ]
  },
  {
   "cell_type": "markdown",
   "metadata": {},
   "source": [
    "To test the function <tt>transClosure</tt> we define a relation $R$ as follows:"
   ]
  },
  {
   "cell_type": "code",
   "execution_count": null,
   "metadata": {},
   "outputs": [],
   "source": [
    "R = { (1,2), (2,3), (1,3), (2,4), (4,5) }"
   ]
  },
  {
   "cell_type": "markdown",
   "metadata": {},
   "source": [
    "Lets compute the transitive closure of $R$:"
   ]
  },
  {
   "cell_type": "code",
   "execution_count": null,
   "metadata": {},
   "outputs": [],
   "source": [
    "T = transClosure(R)\n",
    "T"
   ]
  },
  {
   "cell_type": "raw",
   "metadata": {},
   "source": [
    "In order to display the relations `R` and `T` graphically, we use `graphviz`."
   ]
  },
  {
   "cell_type": "code",
   "execution_count": null,
   "metadata": {},
   "outputs": [],
   "source": [
    "import graphviz as gv\n",
    "\n",
    "def dot_graph(R):\n",
    "    '''This function takes binary relation R as inputs and shows this relation as\n",
    "       a graph using the module graphviz.\n",
    "    '''\n",
    "    dot = gv.Digraph()\n",
    "    Nodes = { p[0] for p in R } | { p[1] for p in R }\n",
    "    for n in Nodes:\n",
    "        dot.node(str(n))\n",
    "    for (x, y) in R:\n",
    "        dot.edge(str(x), str(y))\n",
    "    return dot"
   ]
  },
  {
   "cell_type": "markdown",
   "metadata": {},
   "source": [
    "Let us show both $R$ and its transitive closure \n",
    "$$ T = \\bigcup\\limits_{i=1}^\\infty R^i$$ \n",
    "as graphs:"
   ]
  },
  {
   "cell_type": "code",
   "execution_count": null,
   "metadata": {},
   "outputs": [],
   "source": [
    "dot_graph(R)"
   ]
  },
  {
   "cell_type": "code",
   "execution_count": null,
   "metadata": {
    "scrolled": true
   },
   "outputs": [],
   "source": [
    "dot_graph(T)"
   ]
  },
  {
   "cell_type": "code",
   "execution_count": null,
   "metadata": {},
   "outputs": [],
   "source": []
  }
 ],
 "metadata": {
  "kernelspec": {
   "display_name": "Python 3",
   "language": "python",
   "name": "python3"
  },
  "language_info": {
   "codemirror_mode": {
    "name": "ipython",
    "version": 3
   },
   "file_extension": ".py",
   "mimetype": "text/x-python",
   "name": "python",
   "nbconvert_exporter": "python",
   "pygments_lexer": "ipython3",
   "version": "3.7.3"
  },
  "toc": {
   "base_numbering": 1,
   "nav_menu": {},
   "number_sections": true,
   "sideBar": true,
   "skip_h1_title": false,
   "title_cell": "Table of Contents",
   "title_sidebar": "Contents",
   "toc_cell": false,
   "toc_position": {},
   "toc_section_display": true,
   "toc_window_display": false
  }
 },
 "nbformat": 4,
 "nbformat_minor": 2
}
