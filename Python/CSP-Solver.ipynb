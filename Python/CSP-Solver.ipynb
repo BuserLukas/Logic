{
 "cells": [
  {
   "cell_type": "code",
   "execution_count": 1,
   "metadata": {},
   "outputs": [
    {
     "data": {
      "application/javascript": [
       "IPython.notebook.set_autosave_interval(60000)"
      ]
     },
     "metadata": {},
     "output_type": "display_data"
    },
    {
     "name": "stdout",
     "output_type": "stream",
     "text": [
      "Autosaving every 60 seconds\n"
     ]
    }
   ],
   "source": [
    "%autosave 60"
   ]
  },
  {
   "cell_type": "markdown",
   "metadata": {},
   "source": [
    "# A Backtracking CSP-Solver"
   ]
  },
  {
   "cell_type": "code",
   "execution_count": 2,
   "metadata": {
    "collapsed": true
   },
   "outputs": [],
   "source": [
    "import extractVariables as ev"
   ]
  },
  {
   "cell_type": "code",
   "execution_count": 3,
   "metadata": {
    "collapsed": true
   },
   "outputs": [],
   "source": [
    "def arb(M):\n",
    "    for x in M:\n",
    "        return x"
   ]
  },
  {
   "cell_type": "code",
   "execution_count": 4,
   "metadata": {
    "collapsed": true
   },
   "outputs": [],
   "source": [
    "class Backtrack(Exception):\n",
    "    pass"
   ]
  },
  {
   "cell_type": "code",
   "execution_count": 5,
   "metadata": {
    "collapsed": true
   },
   "outputs": [],
   "source": [
    "def solve(CSP):\n",
    "    \"Compute a solution for the given constraint satisfaction problem.\"\n",
    "    Variables, Values, Constraints = CSP\n",
    "    CSP = (Variables, Values, [(f, ev.extractVars(f)) for f in Constraints])\n",
    "    try:\n",
    "        return backtrack_search({}, CSP)\n",
    "    except Backtrack:\n",
    "        return"
   ]
  },
  {
   "cell_type": "code",
   "execution_count": 6,
   "metadata": {
    "collapsed": true
   },
   "outputs": [],
   "source": [
    "def backtrack_search(Assignment, CSP):\n",
    "    \"\"\"\n",
    "    Given a partial variable assignment, this function tries to complete this assignment\n",
    "    towards a solution of the CSP.\n",
    "    \"\"\"\n",
    "    (Variables, Values, Constraints) = CSP\n",
    "    if len(Assignment) == len(Variables):\n",
    "        return Assignment\n",
    "    var = arb(Variables - Assignment.keys())\n",
    "    for val in Values:\n",
    "        try:\n",
    "            if is_consistent(var, val, Assignment, Constraints):\n",
    "                NewAssign      = Assignment.copy()\n",
    "                NewAssign[var] = val\n",
    "                return backtrack_search(NewAssign, CSP)\n",
    "        except Backtrack:\n",
    "            pass\n",
    "    raise Backtrack()"
   ]
  },
  {
   "cell_type": "code",
   "execution_count": 7,
   "metadata": {},
   "outputs": [],
   "source": [
    "def is_consistent(var, value, Assignment, Constraints):\n",
    "    NewAssign      = Assignment.copy()\n",
    "    NewAssign[var] = value\n",
    "    return all(eval(f, NewAssign) for (f, Vs) in Constraints\n",
    "                                  if var in Vs and Vs <= NewAssign.keys()\n",
    "              )"
   ]
  },
  {
   "cell_type": "code",
   "execution_count": 8,
   "metadata": {},
   "outputs": [],
   "source": [
    "def createCSP():\n",
    "    \"Returns a CSP coding the 8 queens problem.\"\n",
    "    S            = range(1, 8+1)          # used as indices\n",
    "    Variables    = { f'Q{i}' for i in S }\n",
    "    Values       = { 1, 2, 3, 4, 5, 6, 7, 8 }\n",
    "    SameRow      = { f'Q{i} != Q{j}' for i in S for j in S if i < j }\n",
    "    SameDiagonal = { f'abs(Q{i}-Q{j})!={j-i}' for i in S for j in S if i < j }\n",
    "    return [Variables, Values, SameRow | SameDiagonal]"
   ]
  },
  {
   "cell_type": "code",
   "execution_count": 9,
   "metadata": {},
   "outputs": [],
   "source": [
    "queensProblem = createCSP()"
   ]
  },
  {
   "cell_type": "code",
   "execution_count": 10,
   "metadata": {},
   "outputs": [
    {
     "data": {
      "text/plain": [
       "[{'Q1', 'Q2', 'Q3', 'Q4', 'Q5', 'Q6', 'Q7', 'Q8'},\n",
       " {1, 2, 3, 4, 5, 6, 7, 8},\n",
       " {'Q1 != Q2',\n",
       "  'Q1 != Q3',\n",
       "  'Q1 != Q4',\n",
       "  'Q1 != Q5',\n",
       "  'Q1 != Q6',\n",
       "  'Q1 != Q7',\n",
       "  'Q1 != Q8',\n",
       "  'Q2 != Q3',\n",
       "  'Q2 != Q4',\n",
       "  'Q2 != Q5',\n",
       "  'Q2 != Q6',\n",
       "  'Q2 != Q7',\n",
       "  'Q2 != Q8',\n",
       "  'Q3 != Q4',\n",
       "  'Q3 != Q5',\n",
       "  'Q3 != Q6',\n",
       "  'Q3 != Q7',\n",
       "  'Q3 != Q8',\n",
       "  'Q4 != Q5',\n",
       "  'Q4 != Q6',\n",
       "  'Q4 != Q7',\n",
       "  'Q4 != Q8',\n",
       "  'Q5 != Q6',\n",
       "  'Q5 != Q7',\n",
       "  'Q5 != Q8',\n",
       "  'Q6 != Q7',\n",
       "  'Q6 != Q8',\n",
       "  'Q7 != Q8',\n",
       "  'abs(Q1-Q2)!=1',\n",
       "  'abs(Q1-Q3)!=2',\n",
       "  'abs(Q1-Q4)!=3',\n",
       "  'abs(Q1-Q5)!=4',\n",
       "  'abs(Q1-Q6)!=5',\n",
       "  'abs(Q1-Q7)!=6',\n",
       "  'abs(Q1-Q8)!=7',\n",
       "  'abs(Q2-Q3)!=1',\n",
       "  'abs(Q2-Q4)!=2',\n",
       "  'abs(Q2-Q5)!=3',\n",
       "  'abs(Q2-Q6)!=4',\n",
       "  'abs(Q2-Q7)!=5',\n",
       "  'abs(Q2-Q8)!=6',\n",
       "  'abs(Q3-Q4)!=1',\n",
       "  'abs(Q3-Q5)!=2',\n",
       "  'abs(Q3-Q6)!=3',\n",
       "  'abs(Q3-Q7)!=4',\n",
       "  'abs(Q3-Q8)!=5',\n",
       "  'abs(Q4-Q5)!=1',\n",
       "  'abs(Q4-Q6)!=2',\n",
       "  'abs(Q4-Q7)!=3',\n",
       "  'abs(Q4-Q8)!=4',\n",
       "  'abs(Q5-Q6)!=1',\n",
       "  'abs(Q5-Q7)!=2',\n",
       "  'abs(Q5-Q8)!=3',\n",
       "  'abs(Q6-Q7)!=1',\n",
       "  'abs(Q6-Q8)!=2',\n",
       "  'abs(Q7-Q8)!=1'}]"
      ]
     },
     "execution_count": 10,
     "metadata": {},
     "output_type": "execute_result"
    }
   ],
   "source": [
    "queensProblem"
   ]
  },
  {
   "cell_type": "code",
   "execution_count": 11,
   "metadata": {},
   "outputs": [],
   "source": [
    "Solution = solve(queensProblem)"
   ]
  },
  {
   "cell_type": "code",
   "execution_count": 12,
   "metadata": {},
   "outputs": [
    {
     "name": "stdout",
     "output_type": "stream",
     "text": [
      "{'Q4': 1, 'Q1': 2, 'Q6': 3, 'Q8': 4, 'Q2': 5, 'Q5': 6, 'Q7': 7, 'Q3': 8}\n"
     ]
    }
   ],
   "source": [
    "print(Solution)"
   ]
  },
  {
   "cell_type": "code",
   "execution_count": 13,
   "metadata": {},
   "outputs": [],
   "source": [
    "def printSolution(Assignment):\n",
    "    if Assignment == None:\n",
    "        print('no solution found')\n",
    "        return\n",
    "    n      = len(Assignment)\n",
    "    Queens = [0] * (n+1)\n",
    "    for row in range(1, n+1):\n",
    "        Queens[row] = Assignment[f'Q{row}']\n",
    "    print((4 * n + 1) * \"-\")\n",
    "    for row in range(1, n+1):\n",
    "        line = \"|\"\n",
    "        for col in range(1, n+1):\n",
    "            if Queens[row] == col:\n",
    "                line += \" Q |\"\n",
    "            else:\n",
    "                line += \"   |\"\n",
    "        print(line)\n",
    "        print((4*n+1) * \"-\")"
   ]
  },
  {
   "cell_type": "code",
   "execution_count": 14,
   "metadata": {},
   "outputs": [
    {
     "name": "stdout",
     "output_type": "stream",
     "text": [
      "---------------------------------\n",
      "|   | Q |   |   |   |   |   |   |\n",
      "---------------------------------\n",
      "|   |   |   |   | Q |   |   |   |\n",
      "---------------------------------\n",
      "|   |   |   |   |   |   |   | Q |\n",
      "---------------------------------\n",
      "| Q |   |   |   |   |   |   |   |\n",
      "---------------------------------\n",
      "|   |   |   |   |   | Q |   |   |\n",
      "---------------------------------\n",
      "|   |   | Q |   |   |   |   |   |\n",
      "---------------------------------\n",
      "|   |   |   |   |   |   | Q |   |\n",
      "---------------------------------\n",
      "|   |   |   | Q |   |   |   |   |\n",
      "---------------------------------\n"
     ]
    }
   ],
   "source": [
    "printSolution(Solution)"
   ]
  },
  {
   "cell_type": "code",
   "execution_count": null,
   "metadata": {
    "collapsed": true
   },
   "outputs": [],
   "source": []
  }
 ],
 "metadata": {
  "kernelspec": {
   "display_name": "Python 3",
   "language": "python",
   "name": "python3"
  },
  "language_info": {
   "codemirror_mode": {
    "name": "ipython",
    "version": 3
   },
   "file_extension": ".py",
   "mimetype": "text/x-python",
   "name": "python",
   "nbconvert_exporter": "python",
   "pygments_lexer": "ipython3",
   "version": "3.6.3"
  }
 },
 "nbformat": 4,
 "nbformat_minor": 2
}
