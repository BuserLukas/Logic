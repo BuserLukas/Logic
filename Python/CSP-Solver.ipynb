{
 "cells": [
  {
   "cell_type": "code",
   "execution_count": 1,
   "metadata": {},
   "outputs": [
    {
     "data": {
      "application/javascript": [
       "IPython.notebook.set_autosave_interval(60000)"
      ]
     },
     "metadata": {},
     "output_type": "display_data"
    },
    {
     "name": "stdout",
     "output_type": "stream",
     "text": [
      "Autosaving every 60 seconds\n"
     ]
    },
    {
     "data": {
      "text/html": [
       "<style>.container { width:100% !important; }</style>"
      ],
      "text/plain": [
       "<IPython.core.display.HTML object>"
      ]
     },
     "metadata": {},
     "output_type": "display_data"
    }
   ],
   "source": [
    "%autosave 60\n",
    "from IPython.core.display import display, HTML\n",
    "display(HTML(\"<style>.container { width:100% !important; }</style>\"))"
   ]
  },
  {
   "cell_type": "markdown",
   "metadata": {},
   "source": [
    "# A Backtracking CSP-Solver"
   ]
  },
  {
   "cell_type": "markdown",
   "metadata": {},
   "source": [
    "The module <tt>extractVariables</tt> implements the function $\\texttt{extractVars}(e)$ that takes a *Python* expression $e$ as its argument and that returns the set if all variables occurring in $e$."
   ]
  },
  {
   "cell_type": "code",
   "execution_count": 2,
   "metadata": {},
   "outputs": [],
   "source": [
    "import extractVariables as ev"
   ]
  },
  {
   "cell_type": "code",
   "execution_count": 3,
   "metadata": {},
   "outputs": [
    {
     "data": {
      "text/plain": [
       "{'x', 'y', 'z'}"
      ]
     },
     "execution_count": 3,
     "metadata": {},
     "output_type": "execute_result"
    }
   ],
   "source": [
    "ev.extractVars('1.0 * x + y*z**2')"
   ]
  },
  {
   "cell_type": "code",
   "execution_count": 4,
   "metadata": {},
   "outputs": [],
   "source": [
    "def arb(M):\n",
    "    \"Return some element from the set M.\"\n",
    "    for x in M:\n",
    "        return x"
   ]
  },
  {
   "cell_type": "markdown",
   "metadata": {},
   "source": [
    "Backtracking is simulated by raising the <tt>Backtrack</tt> exception.  We define this new class of exception so that we can distinguish <tt>Backtrack</tt> exceptions from ordinary exceptions."
   ]
  },
  {
   "cell_type": "code",
   "execution_count": 5,
   "metadata": {},
   "outputs": [],
   "source": [
    "class Backtrack(Exception):\n",
    "    pass"
   ]
  },
  {
   "cell_type": "markdown",
   "metadata": {},
   "source": [
    "The function $\\texttt{solve}(\\texttt{CSP})$ tries to compute a solution for the *constraint satisfaction problem* $\\texttt{CSP}$.  A *constraint satisfaction problem* is defined as a triple of the form\n",
    "$$ \\langle\\texttt{Variables}, \\texttt{Values}, \\texttt{Constraints}\\rangle $$\n",
    "where\n",
    "<ol>\n",
    "    <li>$\\texttt{Variables}$ is a list of the variables occurring in the CSP,</li>\n",
    "    <li>$\\texttt{Values}$ is the set of values that can be substitued for the variables, and</li>\n",
    "    <li>$\\texttt{Constraints}$ is the set of formulas that need to be satisfied.</li>\n",
    "</ol>"
   ]
  },
  {
   "cell_type": "code",
   "execution_count": 6,
   "metadata": {},
   "outputs": [],
   "source": [
    "def solve(CSP):\n",
    "    \"Compute a solution for the given constraint satisfaction problem.\"\n",
    "    Variables, Values, Constraints = CSP\n",
    "    CSP = (Variables, Values, [(f, ev.extractVars(f) & set(Variables)) for f in Constraints])\n",
    "    try:\n",
    "        return backtrack_search({}, CSP)\n",
    "    except Backtrack:\n",
    "        return  # no solution found"
   ]
  },
  {
   "cell_type": "code",
   "execution_count": 7,
   "metadata": {},
   "outputs": [],
   "source": [
    "def backtrack_search(Assignment, CSP):\n",
    "    \"\"\"\n",
    "    Given a partial variable assignment, this function tries to complete this assignment\n",
    "    towards a solution of the CSP.\n",
    "    \"\"\"\n",
    "    (Variables, Values, Constraints) = CSP\n",
    "    if len(Assignment) == len(Variables):\n",
    "        return Assignment\n",
    "    var = [x for x in Variables if x not in Assignment][0]\n",
    "    for value in Values:\n",
    "        try:\n",
    "            if isConsistent(var, value, Assignment, Constraints):\n",
    "                NewAssign      = Assignment.copy()\n",
    "                NewAssign[var] = value\n",
    "                return backtrack_search(NewAssign, CSP)\n",
    "        except Backtrack:\n",
    "            continue\n",
    "    # all values have been tried without success, no solution has been found\n",
    "    raise Backtrack()"
   ]
  },
  {
   "cell_type": "markdown",
   "metadata": {},
   "source": [
    "The function $\\texttt{isConsistent}(\\texttt{var}, \\texttt{value}, \\texttt{Assignment}, \\texttt{CSP})$ takes for arguments:\n",
    "<ol>\n",
    "    <li>$\\texttt{var}$ is a variable that does not occur in $\\texttt{Assignment}$,</li>\n",
    "    <li>$\\texttt{value}$ is a value that can be substituted for this variable,</li>\n",
    "    <li>$\\texttt{Assignment}$ is a partial variable assignment, and </li>\n",
    "    <li>$\\texttt{CSP}$ is a constraint satisfaction problem.</li>\n",
    "</ol>\n",
    "This function returns <tt>True</tt> iff the partial variable assignment \n",
    "$$\\texttt{Assignment} \\cup \\{\\langle\\texttt{var} \\mapsto\\texttt{value}\\rangle\\}$$\n",
    "is consistent with all the constraints occurring in $\\texttt{CSP}$."
   ]
  },
  {
   "cell_type": "code",
   "execution_count": 8,
   "metadata": {},
   "outputs": [],
   "source": [
    "def isConsistent(var, value, Assignment, Constraints):\n",
    "    NewAssign      = Assignment.copy()\n",
    "    NewAssign[var] = value\n",
    "    return all(eval(f, NewAssign) for (f, Vs) in Constraints\n",
    "                                  if var in Vs and Vs <= NewAssign.keys()\n",
    "              )"
   ]
  },
  {
   "cell_type": "markdown",
   "metadata": {},
   "source": [
    "The function $\\texttt{queensCSP}$ returns a CSP that codes the 8-Queens-Problem."
   ]
  },
  {
   "cell_type": "markdown",
   "metadata": {},
   "source": [
    "## The 8-Queens-Problem"
   ]
  },
  {
   "cell_type": "markdown",
   "metadata": {},
   "source": [
    "The function $\\texttt{queensCSP}$ returns a CSP that codes the 8-Queens-Problem.  For $i\\in\\{1,\\cdots,8\\}$, the variable $\\texttt{Q}i$ specifies the column of the queen that is placed in row $i$."
   ]
  },
  {
   "cell_type": "code",
   "execution_count": 9,
   "metadata": {},
   "outputs": [],
   "source": [
    "def queensCSP():\n",
    "    \"Returns a CSP coding the 8 queens problem.\"\n",
    "    S            = range(1, 8+1)          # used as indices\n",
    "    Variables    = [ f'Q{i}' for i in S ]\n",
    "    Values       = { 1, 2, 3, 4, 5, 6, 7, 8 }\n",
    "    SameRow      = { f'Q{i} != Q{j}' for i in S for j in S if i < j }\n",
    "    SameDiagonal = { f'abs(Q{i}-Q{j})!={j-i}' for i in S for j in S if i < j }\n",
    "    return (Variables, Values, SameRow | SameDiagonal)"
   ]
  },
  {
   "cell_type": "code",
   "execution_count": 10,
   "metadata": {},
   "outputs": [],
   "source": [
    "queensProblem = queensCSP()"
   ]
  },
  {
   "cell_type": "code",
   "execution_count": 11,
   "metadata": {},
   "outputs": [
    {
     "data": {
      "text/plain": [
       "(['Q1', 'Q2', 'Q3', 'Q4', 'Q5', 'Q6', 'Q7', 'Q8'],\n",
       " {1, 2, 3, 4, 5, 6, 7, 8},\n",
       " {'Q1 != Q2',\n",
       "  'Q1 != Q3',\n",
       "  'Q1 != Q4',\n",
       "  'Q1 != Q5',\n",
       "  'Q1 != Q6',\n",
       "  'Q1 != Q7',\n",
       "  'Q1 != Q8',\n",
       "  'Q2 != Q3',\n",
       "  'Q2 != Q4',\n",
       "  'Q2 != Q5',\n",
       "  'Q2 != Q6',\n",
       "  'Q2 != Q7',\n",
       "  'Q2 != Q8',\n",
       "  'Q3 != Q4',\n",
       "  'Q3 != Q5',\n",
       "  'Q3 != Q6',\n",
       "  'Q3 != Q7',\n",
       "  'Q3 != Q8',\n",
       "  'Q4 != Q5',\n",
       "  'Q4 != Q6',\n",
       "  'Q4 != Q7',\n",
       "  'Q4 != Q8',\n",
       "  'Q5 != Q6',\n",
       "  'Q5 != Q7',\n",
       "  'Q5 != Q8',\n",
       "  'Q6 != Q7',\n",
       "  'Q6 != Q8',\n",
       "  'Q7 != Q8',\n",
       "  'abs(Q1-Q2)!=1',\n",
       "  'abs(Q1-Q3)!=2',\n",
       "  'abs(Q1-Q4)!=3',\n",
       "  'abs(Q1-Q5)!=4',\n",
       "  'abs(Q1-Q6)!=5',\n",
       "  'abs(Q1-Q7)!=6',\n",
       "  'abs(Q1-Q8)!=7',\n",
       "  'abs(Q2-Q3)!=1',\n",
       "  'abs(Q2-Q4)!=2',\n",
       "  'abs(Q2-Q5)!=3',\n",
       "  'abs(Q2-Q6)!=4',\n",
       "  'abs(Q2-Q7)!=5',\n",
       "  'abs(Q2-Q8)!=6',\n",
       "  'abs(Q3-Q4)!=1',\n",
       "  'abs(Q3-Q5)!=2',\n",
       "  'abs(Q3-Q6)!=3',\n",
       "  'abs(Q3-Q7)!=4',\n",
       "  'abs(Q3-Q8)!=5',\n",
       "  'abs(Q4-Q5)!=1',\n",
       "  'abs(Q4-Q6)!=2',\n",
       "  'abs(Q4-Q7)!=3',\n",
       "  'abs(Q4-Q8)!=4',\n",
       "  'abs(Q5-Q6)!=1',\n",
       "  'abs(Q5-Q7)!=2',\n",
       "  'abs(Q5-Q8)!=3',\n",
       "  'abs(Q6-Q7)!=1',\n",
       "  'abs(Q6-Q8)!=2',\n",
       "  'abs(Q7-Q8)!=1'})"
      ]
     },
     "execution_count": 11,
     "metadata": {},
     "output_type": "execute_result"
    }
   ],
   "source": [
    "queensProblem"
   ]
  },
  {
   "cell_type": "code",
   "execution_count": 12,
   "metadata": {},
   "outputs": [],
   "source": [
    "import time"
   ]
  },
  {
   "cell_type": "code",
   "execution_count": 13,
   "metadata": {},
   "outputs": [
    {
     "name": "stdout",
     "output_type": "stream",
     "text": [
      "Time needed: 48 milliseconds.\n"
     ]
    }
   ],
   "source": [
    "start    = time.time()\n",
    "Solution = solve(queensProblem)\n",
    "stop     = time.time()\n",
    "print(f'Time needed: {round((stop-start) * 1000)} milliseconds.')"
   ]
  },
  {
   "cell_type": "code",
   "execution_count": 14,
   "metadata": {},
   "outputs": [
    {
     "name": "stdout",
     "output_type": "stream",
     "text": [
      "{'Q1': 1, 'Q2': 5, 'Q3': 8, 'Q4': 6, 'Q5': 3, 'Q6': 7, 'Q7': 2, 'Q8': 4}\n"
     ]
    }
   ],
   "source": [
    "print(Solution)"
   ]
  },
  {
   "cell_type": "code",
   "execution_count": 15,
   "metadata": {},
   "outputs": [],
   "source": [
    "def printSolution(Assignment):\n",
    "    if Assignment == None:\n",
    "        print('no solution found')\n",
    "        return\n",
    "    n      = len(Assignment)\n",
    "    Queens = [0] * (n+1)\n",
    "    for row in range(1, n+1):\n",
    "        Queens[row] = Assignment[f'Q{row}']\n",
    "    print((4 * n + 1) * \"-\")\n",
    "    for row in range(1, n+1):\n",
    "        line = \"|\"\n",
    "        for col in range(1, n+1):\n",
    "            if Queens[row] == col:\n",
    "                line += \" Q |\"\n",
    "            else:\n",
    "                line += \"   |\"\n",
    "        print(line)\n",
    "        print((4*n+1) * \"-\")"
   ]
  },
  {
   "cell_type": "code",
   "execution_count": 16,
   "metadata": {},
   "outputs": [
    {
     "name": "stdout",
     "output_type": "stream",
     "text": [
      "---------------------------------\n",
      "| Q |   |   |   |   |   |   |   |\n",
      "---------------------------------\n",
      "|   |   |   |   | Q |   |   |   |\n",
      "---------------------------------\n",
      "|   |   |   |   |   |   |   | Q |\n",
      "---------------------------------\n",
      "|   |   |   |   |   | Q |   |   |\n",
      "---------------------------------\n",
      "|   |   | Q |   |   |   |   |   |\n",
      "---------------------------------\n",
      "|   |   |   |   |   |   | Q |   |\n",
      "---------------------------------\n",
      "|   | Q |   |   |   |   |   |   |\n",
      "---------------------------------\n",
      "|   |   |   | Q |   |   |   |   |\n",
      "---------------------------------\n"
     ]
    }
   ],
   "source": [
    "printSolution(Solution)"
   ]
  },
  {
   "cell_type": "code",
   "execution_count": null,
   "metadata": {},
   "outputs": [],
   "source": []
  }
 ],
 "metadata": {
  "kernelspec": {
   "display_name": "Python 3",
   "language": "python",
   "name": "python3"
  },
  "language_info": {
   "codemirror_mode": {
    "name": "ipython",
    "version": 3
   },
   "file_extension": ".py",
   "mimetype": "text/x-python",
   "name": "python",
   "nbconvert_exporter": "python",
   "pygments_lexer": "ipython3",
   "version": "3.7.0"
  }
 },
 "nbformat": 4,
 "nbformat_minor": 2
}
