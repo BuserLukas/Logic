{
 "cells": [
  {
   "cell_type": "code",
   "execution_count": 1,
   "metadata": {},
   "outputs": [
    {
     "data": {
      "application/javascript": [
       "IPython.notebook.set_autosave_interval(60000)"
      ]
     },
     "metadata": {},
     "output_type": "display_data"
    },
    {
     "name": "stdout",
     "output_type": "stream",
     "text": [
      "Autosaving every 60 seconds\n"
     ]
    }
   ],
   "source": [
    "%autosave 60"
   ]
  },
  {
   "cell_type": "markdown",
   "metadata": {},
   "source": [
    "# The $3 \\times 3$ Sliding Puzzle"
   ]
  },
  {
   "cell_type": "markdown",
   "metadata": {},
   "source": [
    "<img src=\"8-puzzle.png\">"
   ]
  },
  {
   "cell_type": "markdown",
   "metadata": {},
   "source": [
    "The picture above shows an instance of the $3 \\times 3$ \n",
    "<a href=\"https://en.wikipedia.org/wiki/Sliding_puzzle\">sliding puzzle</a>:\n",
    "There is a board of size $3 \\times 3$ with 8 tiles on it. These tiles are numbered with digits from the set $\\{1,\\cdots, 8\\}$.  As the the $3 \\times 3$ board has an area of $9$ but there are only $8$ tiles, there is an empty square on the board.  Tiles adjacent to the empty square can be moved into the square, thereby emptying the space that was previously occupied by theses tiles.  The goal of the $3 \\times 3$ puzzle is to transform the state shown on the left of the picture above into the state shown on the right.\n",
    "\n",
    "In order to get an idea of the sliding puzzle, you can play it online at <a href=\"http://mypuzzle.org/sliding\">http://mypuzzle.org/sliding</a>."
   ]
  },
  {
   "cell_type": "markdown",
   "metadata": {},
   "source": [
    "## Computing a Path "
   ]
  },
  {
   "cell_type": "markdown",
   "metadata": {},
   "source": [
    "The functions given below are identical to the functions that we have used to solve the shunting-yard problem from the previous exercise."
   ]
  },
  {
   "cell_type": "code",
   "execution_count": 2,
   "metadata": {},
   "outputs": [],
   "source": [
    "def pathProduct(P, R):\n",
    "    \"Attach all possible pairs from R at the end of the paths from P.\"\n",
    "    return { L + (b,) for L in P for (a, b) in R \n",
    "                      if L[-1] == a and not b in L \n",
    "           }"
   ]
  },
  {
   "cell_type": "code",
   "execution_count": 3,
   "metadata": {},
   "outputs": [],
   "source": [
    "def arb(S):\n",
    "    \"Return an arbitrary element from the set S but do not remove it.\"\n",
    "    for x in S:\n",
    "        return x"
   ]
  },
  {
   "cell_type": "markdown",
   "metadata": {},
   "source": [
    "The sliding puzzle has $9! = 362\\,880$ different states and the transition relation $R$ has a size of $846\\,720$ pairs.  Keeping the relation $R$ in memory is going to be slow.  Instead, we will implement a function $\\texttt{nextStates}(S)$ that takes a state $S$ as input and computes the set of all states that can be reached from $S$.  For any given state $S$ the set $\\texttt{nextStates}(S)$ has at most four elements.  Accordingly I had to change the definition of the function <tt>findPath</tt>.  This function is now called as $\\texttt{findpath}(\\texttt{start},\\texttt{goal}, \\texttt{nextStates})$ where <tt>start</tt> and <tt>goal</tt> are states and $\\texttt{nextStates}$ is a function.   It implements the *breadth first search* algorithm."
   ]
  },
  {
   "cell_type": "code",
   "execution_count": 4,
   "metadata": {},
   "outputs": [],
   "source": [
    "def findPath(start, goal, nextStates):\n",
    "    count    = 0\n",
    "    Paths    = { (start,) }\n",
    "    States   = { start }   # states known to be reachable\n",
    "    Explored = {}          # states that have already been explored\n",
    "    while States != Explored:\n",
    "        Explored = States.copy()     # avoid aliasing bug\n",
    "        Paths    = { P + (s,) for P in Paths\n",
    "                              for s in nextStates(P[-1])\n",
    "                              if  s not in States\n",
    "                   }\n",
    "        States  |= { P[-1] for P in Paths }\n",
    "        count   += 1\n",
    "        print(\"%3s: Number of states = %6s\" % (count, len(States)))\n",
    "        if goal in States: \n",
    "            return arb({ P for P in Paths if P[-1] == goal })"
   ]
  },
  {
   "cell_type": "markdown",
   "metadata": {},
   "source": [
    "## Problem Specific Code"
   ]
  },
  {
   "cell_type": "markdown",
   "metadata": {},
   "source": [
    "We will represent states as tuples of tuples.  For example, the start state that is shown in the picture at the beginnning of this notebook is represented as follows:"
   ]
  },
  {
   "cell_type": "code",
   "execution_count": 5,
   "metadata": {},
   "outputs": [],
   "source": [
    "start = ((8, 0, 6),\n",
    "         (5, 4, 7),\n",
    "         (2, 3, 1)\n",
    "        )"
   ]
  },
  {
   "cell_type": "markdown",
   "metadata": {},
   "source": [
    "Note that the empty tile is represented by the digit $0$.  "
   ]
  },
  {
   "cell_type": "markdown",
   "metadata": {},
   "source": [
    "Similarly, the goal state is defined as:"
   ]
  },
  {
   "cell_type": "code",
   "execution_count": 6,
   "metadata": {},
   "outputs": [],
   "source": [
    "goal = ((0, 1, 2),\n",
    "        (3, 4, 5),\n",
    "        (6, 7, 8)\n",
    "       )"
   ]
  },
  {
   "cell_type": "markdown",
   "metadata": {},
   "source": [
    "The function $\\texttt{findZero}(S)$ takes a state $S$ and returns a pair $(r, c)$ that specifies the row and the column of the blank in the state $S$."
   ]
  },
  {
   "cell_type": "code",
   "execution_count": 7,
   "metadata": {},
   "outputs": [],
   "source": [
    "def findZero(S):\n",
    "    M = {0, 1, 2}\n",
    "    P = {(r, c) for r in M\n",
    "                for c in M \n",
    "                if S[r][c] == 0\n",
    "        }\n",
    "    return arb(P)"
   ]
  },
  {
   "cell_type": "code",
   "execution_count": 8,
   "metadata": {},
   "outputs": [
    {
     "data": {
      "text/plain": [
       "(0, 1)"
      ]
     },
     "execution_count": 8,
     "metadata": {},
     "output_type": "execute_result"
    }
   ],
   "source": [
    "findZero(start)"
   ]
  },
  {
   "cell_type": "code",
   "execution_count": 9,
   "metadata": {},
   "outputs": [
    {
     "data": {
      "text/plain": [
       "(0, 0)"
      ]
     },
     "execution_count": 9,
     "metadata": {},
     "output_type": "execute_result"
    }
   ],
   "source": [
    "findZero(goal)"
   ]
  },
  {
   "cell_type": "markdown",
   "metadata": {},
   "source": [
    "We represent states as tuples in order to be able to insert them into sets.  However, as ss tuples are immutable, we need to be able to convert them to lists in order to change them.\n",
    "The function $\\texttt{listOfLists}(S)$ takes a state $S$ and transforms it into a list of lists."
   ]
  },
  {
   "cell_type": "code",
   "execution_count": 10,
   "metadata": {},
   "outputs": [],
   "source": [
    "def listOfLists(S):\n",
    "    \"Transform a tuple of tuples into a list of lists.\"\n",
    "    return [ [x for x in row] for row in S ]"
   ]
  },
  {
   "cell_type": "code",
   "execution_count": 11,
   "metadata": {},
   "outputs": [
    {
     "data": {
      "text/plain": [
       "[[8, 0, 6], [5, 4, 7], [2, 3, 1]]"
      ]
     },
     "execution_count": 11,
     "metadata": {},
     "output_type": "execute_result"
    }
   ],
   "source": [
    "listOfLists(start)"
   ]
  },
  {
   "cell_type": "markdown",
   "metadata": {},
   "source": [
    "As lists can not be inserted into sets, we also need a function that takes a list of list and transforms it into a tuple of tuple."
   ]
  },
  {
   "cell_type": "code",
   "execution_count": 12,
   "metadata": {},
   "outputs": [],
   "source": [
    "def tupleOfTuples(S):\n",
    "    \"Transform a list of lists into a tuple of tuples.\"\n",
    "    return tuple(tuple(x for x in row) for row in S)"
   ]
  },
  {
   "cell_type": "code",
   "execution_count": 13,
   "metadata": {},
   "outputs": [
    {
     "data": {
      "text/plain": [
       "((8, 0, 6), (5, 4, 7), (2, 3, 1))"
      ]
     },
     "execution_count": 13,
     "metadata": {},
     "output_type": "execute_result"
    }
   ],
   "source": [
    "tupleOfTuples([[8, 0, 6], [5, 4, 7], [2, 3, 1]])"
   ]
  },
  {
   "cell_type": "markdown",
   "metadata": {},
   "source": [
    "**Exercise 1**: Implement a function $\\texttt{moveUp}(S, r, c)$ that computes the state that results from moving the tile below the blank space **up** in state $S$.  The variables $r$ and $c$ specify the location of the *row* and *column* of the blank tile.  Therefore we have $S[r][c] = 0$.\n",
    "\n",
    "In your implementation you may assume that there is indeed a tile below the blank space, i.e. we have $r < 2$.  "
   ]
  },
  {
   "cell_type": "code",
   "execution_count": 14,
   "metadata": {},
   "outputs": [],
   "source": [
    "def moveUp(S, r, c):\n",
    "    \"Move the tile below the blank up.\"\n",
    "    T = listOfLists(S)\n",
    "    T[r][c], T[r+1][c] = T[r+1][c], 0\n",
    "    return tupleOfTuples(T)"
   ]
  },
  {
   "cell_type": "code",
   "execution_count": 15,
   "metadata": {},
   "outputs": [
    {
     "data": {
      "text/plain": [
       "((5, 0, 6), (0, 4, 7), (2, 3, 1))"
      ]
     },
     "execution_count": 15,
     "metadata": {},
     "output_type": "execute_result"
    }
   ],
   "source": [
    "moveUp(start, 0, 0)"
   ]
  },
  {
   "cell_type": "markdown",
   "metadata": {},
   "source": [
    "**Exercise 2**: Implement a function $\\texttt{moveDown}(S, r, c)$ that computes the state that results from moving the tile below the blank space **down** in state $S$.  The variables $r$ and $c$ specify the location of the *row* and *column* of the blank tile.  Therefore we have $S[r][c] = 0$.\n",
    "\n",
    "In your implementation you may assume that there is indeed a tile above the blank space, i.e. we have $r > 0$.  "
   ]
  },
  {
   "cell_type": "code",
   "execution_count": 16,
   "metadata": {},
   "outputs": [],
   "source": [
    "def moveDown(S, r, c):\n",
    "    \"Move the tile above the blank down.\"\n",
    "    T = listOfLists(S)\n",
    "    T[r][c], T[r-1][c] = (T[r-1][c], 0)\n",
    "    return tupleOfTuples(T)"
   ]
  },
  {
   "cell_type": "markdown",
   "metadata": {},
   "source": [
    "**Exercise 3:**\n",
    "Similarly to the previous exercise, implement functions $\\texttt{moveRight}(S, r, c)$."
   ]
  },
  {
   "cell_type": "code",
   "execution_count": 17,
   "metadata": {},
   "outputs": [],
   "source": [
    "def moveRight(S, r, c):\n",
    "    \"Move the tile left of the blank to the right.\"\n",
    "    T = listOfLists(S)\n",
    "    T[r][c], T[r][c-1] = (T[r][c-1], 0)\n",
    "    return tupleOfTuples(T)"
   ]
  },
  {
   "cell_type": "code",
   "execution_count": 18,
   "metadata": {},
   "outputs": [],
   "source": [
    "def moveLeft(S, r, c):\n",
    "    \" Move the tile right of the blank to the left.\"\n",
    "    T = listOfLists(S)\n",
    "    T[r][c], T[r][c+1] = (T[r][c+1], 0)\n",
    "    return tupleOfTuples(T)"
   ]
  },
  {
   "cell_type": "markdown",
   "metadata": {},
   "source": [
    "**Exercise 4:**. Implement a function $\\texttt{nextStates}(S)$ that takes a state $S$ representet as a tuple of tuple and that computes the set of states that are reachable from $S$ in one step.  Remember that the function $\\texttt{findZero}(S)$ has already been defined."
   ]
  },
  {
   "cell_type": "code",
   "execution_count": 19,
   "metadata": {},
   "outputs": [],
   "source": [
    "def nextStates(S):\n",
    "    row, col = findZero(S)\n",
    "    result = set()\n",
    "    if col > 0:\n",
    "        result.add(moveRight(S, row, col))\n",
    "    if col < 2:\n",
    "        result.add(moveLeft(S, row, col))\n",
    "    if row > 0:\n",
    "        result.add(moveDown(S, row, col))\n",
    "    if row < 2:\n",
    "        result.add(moveUp(S, row, col))\n",
    "    return result"
   ]
  },
  {
   "cell_type": "code",
   "execution_count": 20,
   "metadata": {},
   "outputs": [],
   "source": [
    "import time"
   ]
  },
  {
   "cell_type": "markdown",
   "metadata": {},
   "source": [
    "The following computation takes about 10 seconds on my desktop computer, which has an 3,4 GHz Quad-Core Intel Core i5 (7500) Prozessor.  The final number of states touched is $181\\,440$.  "
   ]
  },
  {
   "cell_type": "code",
   "execution_count": 21,
   "metadata": {},
   "outputs": [
    {
     "name": "stdout",
     "output_type": "stream",
     "text": [
      "  1: Number of states =      4\n",
      "  2: Number of states =      9\n",
      "  3: Number of states =     19\n",
      "  4: Number of states =     33\n",
      "  5: Number of states =     61\n",
      "  6: Number of states =    103\n",
      "  7: Number of states =    183\n",
      "  8: Number of states =    291\n",
      "  9: Number of states =    493\n",
      " 10: Number of states =    771\n",
      " 11: Number of states =   1295\n",
      " 12: Number of states =   2021\n",
      " 13: Number of states =   3369\n",
      " 14: Number of states =   5173\n",
      " 15: Number of states =   8456\n",
      " 16: Number of states =  12649\n",
      " 17: Number of states =  19971\n",
      " 18: Number of states =  28567\n",
      " 19: Number of states =  42497\n",
      " 20: Number of states =  57210\n",
      " 21: Number of states =  78931\n",
      " 22: Number of states =  98758\n",
      " 23: Number of states = 123890\n",
      " 24: Number of states = 142087\n",
      " 25: Number of states = 161065\n",
      " 26: Number of states = 170994\n",
      " 27: Number of states = 178353\n",
      " 28: Number of states = 180434\n",
      " 29: Number of states = 181312\n",
      " 30: Number of states = 181438\n",
      " 31: Number of states = 181440\n",
      "The computation took 9.4 seconds.\n"
     ]
    }
   ],
   "source": [
    "timeStart  = time.time()\n",
    "Path       = findPath(start, goal, nextStates)\n",
    "timeFinish = time.time()\n",
    "print(f'The computation took {round((timeFinish-timeStart)*10)/10} seconds.')"
   ]
  },
  {
   "cell_type": "markdown",
   "metadata": {},
   "source": [
    "The tuple Path that is a solution to the sliding problem has a length of **32**.  If your path is shorter, then you have to inspect it carefully to identify the problem."
   ]
  },
  {
   "cell_type": "code",
   "execution_count": 22,
   "metadata": {},
   "outputs": [
    {
     "data": {
      "text/plain": [
       "32"
      ]
     },
     "execution_count": 22,
     "metadata": {},
     "output_type": "execute_result"
    }
   ],
   "source": [
    "len(Path)"
   ]
  },
  {
   "cell_type": "markdown",
   "metadata": {},
   "source": [
    "## Code for Pretty Printing"
   ]
  },
  {
   "cell_type": "code",
   "execution_count": 23,
   "metadata": {},
   "outputs": [],
   "source": [
    "def stateToStringList(S):\n",
    "    \"Take a state and transform it into a list of strings.\"\n",
    "    result = []\n",
    "    indent = \" \" * 4;\n",
    "    result = [ indent + \"+*+*+*+\" ]\n",
    "    for row in (0, 1, 2):\n",
    "        line = indent + \"|\"\n",
    "        for col in (0, 1, 2):\n",
    "            cell = S[row][col]\n",
    "            if cell > 0:\n",
    "                line += str(cell)\n",
    "            else:\n",
    "                line += \" \"\n",
    "            line += \"|\"\n",
    "        result += [ line, indent + \"+*+*+*+\" ]\n",
    "    result += [ \"\" ]\n",
    "    return result;"
   ]
  },
  {
   "cell_type": "code",
   "execution_count": 24,
   "metadata": {},
   "outputs": [],
   "source": [
    "def printPath(Path):\n",
    "    \"Take a list of states and print it in a readable fashion.\"\n",
    "    for S in Path:\n",
    "        for line in stateToStringList(S):\n",
    "            print(line)"
   ]
  },
  {
   "cell_type": "code",
   "execution_count": 25,
   "metadata": {},
   "outputs": [
    {
     "name": "stdout",
     "output_type": "stream",
     "text": [
      "    +*+*+*+\n",
      "    |8| |6|\n",
      "    +*+*+*+\n",
      "    |5|4|7|\n",
      "    +*+*+*+\n",
      "    |2|3|1|\n",
      "    +*+*+*+\n",
      "\n",
      "    +*+*+*+\n",
      "    | |8|6|\n",
      "    +*+*+*+\n",
      "    |5|4|7|\n",
      "    +*+*+*+\n",
      "    |2|3|1|\n",
      "    +*+*+*+\n",
      "\n",
      "    +*+*+*+\n",
      "    |5|8|6|\n",
      "    +*+*+*+\n",
      "    | |4|7|\n",
      "    +*+*+*+\n",
      "    |2|3|1|\n",
      "    +*+*+*+\n",
      "\n",
      "    +*+*+*+\n",
      "    |5|8|6|\n",
      "    +*+*+*+\n",
      "    |4| |7|\n",
      "    +*+*+*+\n",
      "    |2|3|1|\n",
      "    +*+*+*+\n",
      "\n",
      "    +*+*+*+\n",
      "    |5|8|6|\n",
      "    +*+*+*+\n",
      "    |4|3|7|\n",
      "    +*+*+*+\n",
      "    |2| |1|\n",
      "    +*+*+*+\n",
      "\n",
      "    +*+*+*+\n",
      "    |5|8|6|\n",
      "    +*+*+*+\n",
      "    |4|3|7|\n",
      "    +*+*+*+\n",
      "    | |2|1|\n",
      "    +*+*+*+\n",
      "\n",
      "    +*+*+*+\n",
      "    |5|8|6|\n",
      "    +*+*+*+\n",
      "    | |3|7|\n",
      "    +*+*+*+\n",
      "    |4|2|1|\n",
      "    +*+*+*+\n",
      "\n",
      "    +*+*+*+\n",
      "    |5|8|6|\n",
      "    +*+*+*+\n",
      "    |3| |7|\n",
      "    +*+*+*+\n",
      "    |4|2|1|\n",
      "    +*+*+*+\n",
      "\n",
      "    +*+*+*+\n",
      "    |5| |6|\n",
      "    +*+*+*+\n",
      "    |3|8|7|\n",
      "    +*+*+*+\n",
      "    |4|2|1|\n",
      "    +*+*+*+\n",
      "\n",
      "    +*+*+*+\n",
      "    |5|6| |\n",
      "    +*+*+*+\n",
      "    |3|8|7|\n",
      "    +*+*+*+\n",
      "    |4|2|1|\n",
      "    +*+*+*+\n",
      "\n",
      "    +*+*+*+\n",
      "    |5|6|7|\n",
      "    +*+*+*+\n",
      "    |3|8| |\n",
      "    +*+*+*+\n",
      "    |4|2|1|\n",
      "    +*+*+*+\n",
      "\n",
      "    +*+*+*+\n",
      "    |5|6|7|\n",
      "    +*+*+*+\n",
      "    |3|8|1|\n",
      "    +*+*+*+\n",
      "    |4|2| |\n",
      "    +*+*+*+\n",
      "\n",
      "    +*+*+*+\n",
      "    |5|6|7|\n",
      "    +*+*+*+\n",
      "    |3|8|1|\n",
      "    +*+*+*+\n",
      "    |4| |2|\n",
      "    +*+*+*+\n",
      "\n",
      "    +*+*+*+\n",
      "    |5|6|7|\n",
      "    +*+*+*+\n",
      "    |3| |1|\n",
      "    +*+*+*+\n",
      "    |4|8|2|\n",
      "    +*+*+*+\n",
      "\n",
      "    +*+*+*+\n",
      "    |5| |7|\n",
      "    +*+*+*+\n",
      "    |3|6|1|\n",
      "    +*+*+*+\n",
      "    |4|8|2|\n",
      "    +*+*+*+\n",
      "\n",
      "    +*+*+*+\n",
      "    |5|7| |\n",
      "    +*+*+*+\n",
      "    |3|6|1|\n",
      "    +*+*+*+\n",
      "    |4|8|2|\n",
      "    +*+*+*+\n",
      "\n",
      "    +*+*+*+\n",
      "    |5|7|1|\n",
      "    +*+*+*+\n",
      "    |3|6| |\n",
      "    +*+*+*+\n",
      "    |4|8|2|\n",
      "    +*+*+*+\n",
      "\n",
      "    +*+*+*+\n",
      "    |5|7|1|\n",
      "    +*+*+*+\n",
      "    |3|6|2|\n",
      "    +*+*+*+\n",
      "    |4|8| |\n",
      "    +*+*+*+\n",
      "\n",
      "    +*+*+*+\n",
      "    |5|7|1|\n",
      "    +*+*+*+\n",
      "    |3|6|2|\n",
      "    +*+*+*+\n",
      "    |4| |8|\n",
      "    +*+*+*+\n",
      "\n",
      "    +*+*+*+\n",
      "    |5|7|1|\n",
      "    +*+*+*+\n",
      "    |3| |2|\n",
      "    +*+*+*+\n",
      "    |4|6|8|\n",
      "    +*+*+*+\n",
      "\n",
      "    +*+*+*+\n",
      "    |5| |1|\n",
      "    +*+*+*+\n",
      "    |3|7|2|\n",
      "    +*+*+*+\n",
      "    |4|6|8|\n",
      "    +*+*+*+\n",
      "\n",
      "    +*+*+*+\n",
      "    | |5|1|\n",
      "    +*+*+*+\n",
      "    |3|7|2|\n",
      "    +*+*+*+\n",
      "    |4|6|8|\n",
      "    +*+*+*+\n",
      "\n",
      "    +*+*+*+\n",
      "    |3|5|1|\n",
      "    +*+*+*+\n",
      "    | |7|2|\n",
      "    +*+*+*+\n",
      "    |4|6|8|\n",
      "    +*+*+*+\n",
      "\n",
      "    +*+*+*+\n",
      "    |3|5|1|\n",
      "    +*+*+*+\n",
      "    |4|7|2|\n",
      "    +*+*+*+\n",
      "    | |6|8|\n",
      "    +*+*+*+\n",
      "\n",
      "    +*+*+*+\n",
      "    |3|5|1|\n",
      "    +*+*+*+\n",
      "    |4|7|2|\n",
      "    +*+*+*+\n",
      "    |6| |8|\n",
      "    +*+*+*+\n",
      "\n",
      "    +*+*+*+\n",
      "    |3|5|1|\n",
      "    +*+*+*+\n",
      "    |4| |2|\n",
      "    +*+*+*+\n",
      "    |6|7|8|\n",
      "    +*+*+*+\n",
      "\n",
      "    +*+*+*+\n",
      "    |3| |1|\n",
      "    +*+*+*+\n",
      "    |4|5|2|\n",
      "    +*+*+*+\n",
      "    |6|7|8|\n",
      "    +*+*+*+\n",
      "\n",
      "    +*+*+*+\n",
      "    |3|1| |\n",
      "    +*+*+*+\n",
      "    |4|5|2|\n",
      "    +*+*+*+\n",
      "    |6|7|8|\n",
      "    +*+*+*+\n",
      "\n",
      "    +*+*+*+\n",
      "    |3|1|2|\n",
      "    +*+*+*+\n",
      "    |4|5| |\n",
      "    +*+*+*+\n",
      "    |6|7|8|\n",
      "    +*+*+*+\n",
      "\n",
      "    +*+*+*+\n",
      "    |3|1|2|\n",
      "    +*+*+*+\n",
      "    |4| |5|\n",
      "    +*+*+*+\n",
      "    |6|7|8|\n",
      "    +*+*+*+\n",
      "\n",
      "    +*+*+*+\n",
      "    |3|1|2|\n",
      "    +*+*+*+\n",
      "    | |4|5|\n",
      "    +*+*+*+\n",
      "    |6|7|8|\n",
      "    +*+*+*+\n",
      "\n",
      "    +*+*+*+\n",
      "    | |1|2|\n",
      "    +*+*+*+\n",
      "    |3|4|5|\n",
      "    +*+*+*+\n",
      "    |6|7|8|\n",
      "    +*+*+*+\n",
      "\n"
     ]
    }
   ],
   "source": [
    "printPath(Path)"
   ]
  },
  {
   "cell_type": "code",
   "execution_count": null,
   "metadata": {},
   "outputs": [],
   "source": []
  }
 ],
 "metadata": {
  "kernelspec": {
   "display_name": "Python 3",
   "language": "python",
   "name": "python3"
  },
  "language_info": {
   "codemirror_mode": {
    "name": "ipython",
    "version": 3
   },
   "file_extension": ".py",
   "mimetype": "text/x-python",
   "name": "python",
   "nbconvert_exporter": "python",
   "pygments_lexer": "ipython3",
   "version": "3.6.5"
  }
 },
 "nbformat": 4,
 "nbformat_minor": 2
}
