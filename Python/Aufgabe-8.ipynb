{
 "cells": [
  {
   "cell_type": "code",
   "execution_count": 1,
   "metadata": {},
   "outputs": [],
   "source": [
    "%autosave 60\n",
    "from IPython.core.display import display, HTML\n",
    "display(HTML(\"<style>.container { width:100% !important; }</style>\"))"
   ]
  },
  {
   "cell_type": "markdown",
   "metadata": {},
   "source": [
    "The module <tt>prover</tt> implements the function $\\texttt{prove}(\\texttt{Axioms}, \\texttt{claim})$ that takes a set of formulas $\\texttt{Axioms}$ and tries to prove that these formulas imply the formula $\\texttt{claim}$.  The resulting proof is printed to the screen."
   ]
  },
  {
   "cell_type": "code",
   "execution_count": 2,
   "metadata": {},
   "outputs": [],
   "source": [
    "import prover"
   ]
  },
  {
   "cell_type": "markdown",
   "metadata": {},
   "source": [
    "Es gelten die folgenden Axiome:\n",
    "<ol>\n",
    "    <li>Jeder Barbier rasiert alle Personen, die sich nicht selbst rasieren.</li>\n",
    "    <li>Kein Barbier rasiert jemanden, der sich selbst rasiert.</li>\n",
    "</ol>\n",
    "Wir zeigen, dass daraus folgt, dass alle Barbiere blond sind.  Dazu formalisieren wir die beiden Axiome und die Behauptung\n",
    "durch die folgenden Formeln:\n",
    "<ol>\n",
    "    <li>$f_1 := \\forall x: \\Bigl(\\texttt{barber}(x) \\rightarrow \\forall y:\\bigl(\\texttt{shaves}(y,y) \\rightarrow \\neg \\texttt{shaves}(y,y)\\bigr)\\Bigr)$</li>\n",
    "    <li>$f_2 := \\neg \\exists x: \\Bigl(\\texttt{barber}(x) \\wedge \\exists y:\\bigl(\\texttt{shaves}(y,y) \\wedge \\texttt{shaves}(x,y)\\bigr)\\Bigr)$</li>\n",
    "    <li>$f_3 := \\forall x: \\Bigl(\\texttt{barber}(x) \\rightarrow \\texttt{blond}(x)\\Bigr)$</li>\n",
    "</ol>\n",
    "Wir müssen zeigen, dass aus den Formeln $f_1$ und $f_2$ die Formel $f_3$ folgt."
   ]
  },
  {
   "cell_type": "code",
   "execution_count": 3,
   "metadata": {},
   "outputs": [],
   "source": [
    "f1 = '∀x:(Barber(x) → ∀y:(¬Shaves(y,y) → Shaves(x,y)))'\n",
    "f2 = '¬∃x:(Barber(x) ∧ ∃y:(Shaves(y,y) ∧ Shaves(x,y)))'\n",
    "f3 = '∀x:(Barber(x) → Blond(x))'"
   ]
  },
  {
   "cell_type": "code",
   "execution_count": 4,
   "metadata": {},
   "outputs": [],
   "source": [
    "Axioms = { f1, f2 }\n",
    "claim  = f3"
   ]
  },
  {
   "cell_type": "code",
   "execution_count": 5,
   "metadata": {},
   "outputs": [
    {
     "name": "stdout",
     "output_type": "stream",
     "text": [
      "{('Barber', ('sk1',))}\n",
      "{('¬', ('Blond', ('sk1',)))}\n",
      "{('Shaves', 'x', 'y'), ('¬', ('Barber', 'x')), ('Shaves', 'y', 'y')}\n",
      "{('¬', ('Shaves', 'x', 'y')), ('¬', ('Barber', 'x')), ('¬', ('Shaves', 'y', 'y'))}\n",
      "cnt = 1, number of clauses: 13\n",
      "cnt = 2, number of clauses: 79\n",
      "cnt = 3, number of clauses: 640\n",
      "Axiom:       {('Shaves', 'x', 'y'), ('¬', ('Barber', 'x')), ('Shaves', 'y', 'y')}\n",
      "Axiom:       {('Barber', ('sk1',))}\n",
      "Resolution:  {('Shaves', 'x', 'y'), ('¬', ('Barber', 'x')), ('Shaves', 'y', 'y')},\n",
      "             {('Barber', ('sk1',))}  \n",
      "⊢            {('Shaves', ('sk1',), 'y'), ('Shaves', 'y', 'y')}\n",
      "Factorization: {('Shaves', ('sk1',), 'y'), ('Shaves', 'y', 'y')} \n",
      "⊢            {('Shaves', ('sk1',), ('sk1',))}\n",
      "Axiom:       {('¬', ('Shaves', 'x', 'y')), ('¬', ('Barber', 'x')), ('¬', ('Shaves', 'y', 'y'))}\n",
      "Factorization: {('¬', ('Shaves', 'x', 'y')), ('¬', ('Barber', 'x')), ('¬', ('Shaves', 'y', 'y'))} \n",
      "⊢            {('¬', ('Barber', 'x')), ('¬', ('Shaves', 'x', 'x'))}\n",
      "Resolution:  {('¬', ('Barber', 'x')), ('¬', ('Shaves', 'x', 'x'))},\n",
      "             {('Barber', ('sk1',))}  \n",
      "⊢            {('¬', ('Shaves', ('sk1',), ('sk1',)))}\n",
      "Resolution:  {('Shaves', ('sk1',), ('sk1',))},\n",
      "             {('¬', ('Shaves', ('sk1',), ('sk1',)))}  \n",
      "⊢            set()\n",
      "CPU times: user 379 ms, sys: 8.62 ms, total: 388 ms\n",
      "Wall time: 384 ms\n"
     ]
    }
   ],
   "source": [
    "%%time\n",
    "prover.prove(Axioms, claim)"
   ]
  },
  {
   "cell_type": "code",
   "execution_count": null,
   "metadata": {},
   "outputs": [],
   "source": []
  }
 ],
 "metadata": {
  "kernelspec": {
   "display_name": "Python 3",
   "language": "python",
   "name": "python3"
  },
  "language_info": {
   "codemirror_mode": {
    "name": "ipython",
    "version": 3
   },
   "file_extension": ".py",
   "mimetype": "text/x-python",
   "name": "python",
   "nbconvert_exporter": "python",
   "pygments_lexer": "ipython3",
   "version": "3.6.3"
  }
 },
 "nbformat": 4,
 "nbformat_minor": 2
}
