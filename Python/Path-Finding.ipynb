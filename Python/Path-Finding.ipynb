{
 "cells": [
  {
   "cell_type": "code",
   "execution_count": null,
   "metadata": {},
   "outputs": [],
   "source": [
    "%autosave 0\n",
    "from IPython.core.display import HTML\n",
    "HTML('''<style>\n",
    "        .container { width:100% !important; }\n",
    "        </style>\n",
    "     ''')"
   ]
  },
  {
   "cell_type": "markdown",
   "metadata": {
    "nbpresent": {
     "id": "7dd680ad-4964-41ee-9d01-278ca2587247"
    }
   },
   "source": [
    "# Case Study: Finding a Path"
   ]
  },
  {
   "cell_type": "markdown",
   "metadata": {},
   "source": [
    "We start by defining a relation $R$:"
   ]
  },
  {
   "cell_type": "code",
   "execution_count": null,
   "metadata": {
    "nbpresent": {
     "id": "e48fc795-90b0-4bf4-940a-ebe073ae3d99"
    }
   },
   "outputs": [],
   "source": [
    "R = { (1,2), (2,3), (1,3), (2,4), (4,5), (3,6) }"
   ]
  },
  {
   "cell_type": "markdown",
   "metadata": {},
   "source": [
    "In order to visualize this relation as a graph, we use some **graphviz** magic.  Don't worry about the details of displaying the graph, as you are not required to understand these details."
   ]
  },
  {
   "cell_type": "code",
   "execution_count": null,
   "metadata": {
    "nbpresent": {
     "id": "1522e5e7-99e0-4452-83d4-833ba15dbf5a"
    }
   },
   "outputs": [],
   "source": [
    "import graphviz as gv\n",
    "\n",
    "def dot_graph(R):\n",
    "    '''This function takes a binary relation R as inputs and shows this relation as\n",
    "       a graph using the module graphviz.\n",
    "    '''\n",
    "    dot = gv.Digraph()\n",
    "    Nodes = { p[0] for p in R } | { p[1] for p in R }\n",
    "    for n in Nodes:\n",
    "        dot.node(str(n))\n",
    "    for (x, y) in R:\n",
    "        dot.edge(str(x), str(y))\n",
    "    return dot"
   ]
  },
  {
   "cell_type": "markdown",
   "metadata": {},
   "source": [
    "Using the function defined above, we can now visualize the relation $R$ as a graph:"
   ]
  },
  {
   "cell_type": "code",
   "execution_count": null,
   "metadata": {
    "nbpresent": {
     "id": "7169d3fa-c340-4480-a89d-7653b1cc75a5"
    }
   },
   "outputs": [],
   "source": [
    "dot = dot_graph(R)\n",
    "dot"
   ]
  },
  {
   "cell_type": "markdown",
   "metadata": {},
   "source": [
    "We can even output this graph as in *PDF*.  This will create a PDF file with the name \"<tt>graph.pdf</tt>\"."
   ]
  },
  {
   "cell_type": "code",
   "execution_count": null,
   "metadata": {
    "nbpresent": {
     "id": "9133a7a7-0f26-4ed0-b411-5d556a82b0c5"
    }
   },
   "outputs": [],
   "source": [
    "dot.render('graph.pdf', view=True)  "
   ]
  },
  {
   "cell_type": "markdown",
   "metadata": {},
   "source": [
    "The relational product of two relations $R_1$ and $R_2$ is defined as follows:\n",
    "$$ R_1 \\circ R_2 := \n",
    "\\Bigl\\{ \\langle x, z \\rangle \n",
    "\\mid \\exists y: \\bigl(\\langle x, y\\rangle \\in R_1 \\wedge \\langle y, z \\rangle \\in R_2\\bigr)\n",
    "\\Bigr\\}\n",
    "$$"
   ]
  },
  {
   "cell_type": "code",
   "execution_count": null,
   "metadata": {
    "nbpresent": {
     "id": "f6e01e11-e4a7-4863-a091-5c54d4273b0b"
    }
   },
   "outputs": [],
   "source": [
    "def product(R1, R2):\n",
    "    \"Compute the relational product of R1 and R2.\"\n",
    "    return { (x, z) for (x, y1) in R1 \n",
    "                    for (y2, z) in R2 \n",
    "                    if y1 == y2 \n",
    "           }"
   ]
  },
  {
   "cell_type": "markdown",
   "metadata": {},
   "source": [
    "Lets try this function using the relation $R$ defined above."
   ]
  },
  {
   "cell_type": "code",
   "execution_count": null,
   "metadata": {
    "nbpresent": {
     "id": "114f3a8c-1c69-4308-b794-4ca79c1227cd"
    }
   },
   "outputs": [],
   "source": [
    "R2 = product(R, R)\n",
    "R2"
   ]
  },
  {
   "cell_type": "markdown",
   "metadata": {},
   "source": [
    "We can visualize the relation <tt>R2</tt>.  However, let us first show the original relation $R$ again as a reference."
   ]
  },
  {
   "cell_type": "code",
   "execution_count": null,
   "metadata": {},
   "outputs": [],
   "source": [
    "dot_graph(R)"
   ]
  },
  {
   "cell_type": "code",
   "execution_count": null,
   "metadata": {},
   "outputs": [],
   "source": [
    "dot_graph(R2)"
   ]
  },
  {
   "cell_type": "markdown",
   "metadata": {},
   "source": [
    "It is also interesting to visualize the relation $R \\cup R \\circ R$:"
   ]
  },
  {
   "cell_type": "code",
   "execution_count": null,
   "metadata": {},
   "outputs": [],
   "source": [
    "dot_graph(R | R2)"
   ]
  },
  {
   "cell_type": "markdown",
   "metadata": {},
   "source": [
    "The transitive closure of a binary relation $R \\subseteq M \\times M$ can be computed by the following fixpoint iteration:\n",
    "$$ R_{n+1} = R \\cup R \\circ R_n $$ "
   ]
  },
  {
   "cell_type": "code",
   "execution_count": null,
   "metadata": {
    "nbpresent": {
     "id": "2287f4cf-9f36-4d5e-9e04-3b7488968031"
    }
   },
   "outputs": [],
   "source": [
    "def transClosure(R):\n",
    "    T = R\n",
    "    while True:\n",
    "        oldT = T\n",
    "        T    = R | product(R,T)\n",
    "        if T == oldT:\n",
    "            return T"
   ]
  },
  {
   "cell_type": "markdown",
   "metadata": {},
   "source": [
    "Lets compute the transitive closure of the relation $R$ defined at the beginning of the notebook."
   ]
  },
  {
   "cell_type": "code",
   "execution_count": null,
   "metadata": {
    "nbpresent": {
     "id": "56dadad7-033d-4e94-a45f-f370e47e5af6"
    }
   },
   "outputs": [],
   "source": [
    "T = transClosure(R)"
   ]
  },
  {
   "cell_type": "markdown",
   "metadata": {},
   "source": [
    "Let us view this relation as a graph:"
   ]
  },
  {
   "cell_type": "code",
   "execution_count": null,
   "metadata": {
    "nbpresent": {
     "id": "ebd85406-9e06-45c5-80f0-21aeec62cb9f"
    }
   },
   "outputs": [],
   "source": [
    "dot_graph(T)"
   ]
  },
  {
   "cell_type": "markdown",
   "metadata": {},
   "source": [
    "The following function joins to paths into a single path."
   ]
  },
  {
   "cell_type": "code",
   "execution_count": null,
   "metadata": {
    "nbpresent": {
     "id": "97b2f099-04d3-4bc4-bca7-6899f5457a5c"
    }
   },
   "outputs": [],
   "source": [
    "def join(L1, L2):\n",
    "    return L1 + L2[1:]"
   ]
  },
  {
   "cell_type": "markdown",
   "metadata": {},
   "source": [
    "Let us see how it works."
   ]
  },
  {
   "cell_type": "code",
   "execution_count": null,
   "metadata": {
    "nbpresent": {
     "id": "4c5840fe-7e89-4f28-af6a-d1d97cbf3102"
    }
   },
   "outputs": [],
   "source": [
    "join( (1, 2, 3), (3, 4, 5))"
   ]
  },
  {
   "cell_type": "markdown",
   "metadata": {},
   "source": [
    "The function <tt>pathProduct</tt> defined below is a generalization of the function <tt>product</tt>.  Instead of combining pairs, it combines tuples of arbitrary length."
   ]
  },
  {
   "cell_type": "code",
   "execution_count": null,
   "metadata": {
    "nbpresent": {
     "id": "310121a1-842c-4592-93ce-fd6ef5c8efc3"
    }
   },
   "outputs": [],
   "source": [
    "def pathProduct(P, R):\n",
    "    return { join(T1, T2) for T1 in P \n",
    "                          for T2 in R \n",
    "                          if T1[-1] == T2[0] \n",
    "           }"
   ]
  },
  {
   "cell_type": "markdown",
   "metadata": {},
   "source": [
    "Lets see what how this function performs on our relation $R$."
   ]
  },
  {
   "cell_type": "code",
   "execution_count": null,
   "metadata": {
    "nbpresent": {
     "id": "3b42c553-7fd7-4eef-b262-cd2d71d20494"
    }
   },
   "outputs": [],
   "source": [
    "pathProduct(R, R)"
   ]
  },
  {
   "cell_type": "code",
   "execution_count": null,
   "metadata": {},
   "outputs": [],
   "source": [
    "pathProduct(R, pathProduct(R, R))"
   ]
  },
  {
   "cell_type": "markdown",
   "metadata": {},
   "source": [
    "As a generalization of the function <tt>product</tt> we define the function <tt>pathClosure</tt>.  Instead of using relations, this function takes sets of tuples where the tuples are representing paths in a graph."
   ]
  },
  {
   "cell_type": "code",
   "execution_count": null,
   "metadata": {
    "nbpresent": {
     "id": "3c13b00e-ab4e-4bd5-a39c-cc0590f6e27e"
    }
   },
   "outputs": [],
   "source": [
    "def pathClosure(R):\n",
    "    P = R\n",
    "    while True:\n",
    "        oldP = P\n",
    "        P    = R | pathProduct(P, R)\n",
    "        if P == oldP:\n",
    "            return P"
   ]
  },
  {
   "cell_type": "markdown",
   "metadata": {},
   "source": [
    "Let us see this in action:"
   ]
  },
  {
   "cell_type": "code",
   "execution_count": null,
   "metadata": {
    "nbpresent": {
     "id": "4d1b9d98-38e1-4ba4-89ff-47ff79070957"
    }
   },
   "outputs": [],
   "source": [
    "P = pathClosure(R)\n",
    "P"
   ]
  },
  {
   "cell_type": "markdown",
   "metadata": {},
   "source": [
    "Let us change the graph $R$ so that it becomes cyclic:"
   ]
  },
  {
   "cell_type": "code",
   "execution_count": null,
   "metadata": {},
   "outputs": [],
   "source": [
    "R.add((6, 1))"
   ]
  },
  {
   "cell_type": "code",
   "execution_count": null,
   "metadata": {},
   "outputs": [],
   "source": [
    "R"
   ]
  },
  {
   "cell_type": "code",
   "execution_count": null,
   "metadata": {},
   "outputs": [],
   "source": [
    "dot_graph(R)"
   ]
  },
  {
   "cell_type": "markdown",
   "metadata": {},
   "source": [
    "First, we compute all paths of length $2$:"
   ]
  },
  {
   "cell_type": "code",
   "execution_count": null,
   "metadata": {},
   "outputs": [],
   "source": [
    "R2 = pathProduct(R, R)\n",
    "R2"
   ]
  },
  {
   "cell_type": "markdown",
   "metadata": {},
   "source": [
    "Everything seems to be just fine so far.  Let's compute the paths of length 4:"
   ]
  },
  {
   "cell_type": "code",
   "execution_count": null,
   "metadata": {},
   "outputs": [],
   "source": [
    "R4 = pathProduct(R2, R2)\n",
    "R4"
   ]
  },
  {
   "cell_type": "markdown",
   "metadata": {},
   "source": [
    "The last path, i.e. the path <tt>(6, 1, 3, 6, 1)</tt> is cyclic!  If we would keep cyclic paths in our function <tt>pathClosure</tt>, then this function does not terminate, as it will find paths that become longer and longer.\n",
    "The following function checks whether a path $P$ is cyclic.  To check whether a path is cyclic, we just have to check if a node occurs more than once.  The easiest way to check this is to turn $P$ into a set.  If the number of elements of this set is less than the length of $P$, then $P$ must be cyclic."
   ]
  },
  {
   "cell_type": "code",
   "execution_count": null,
   "metadata": {},
   "outputs": [],
   "source": [
    "def cyclic(P):\n",
    "    return len(set(P)) < len(P)"
   ]
  },
  {
   "cell_type": "markdown",
   "metadata": {},
   "source": [
    "Now we are ready to redefine the function <tt>pathClosure</tt> so that it also works for a cyclic relation.  The only thing we need to change is the definition of the function <tt>pathProduct</tt> so that it does not return cyclic paths."
   ]
  },
  {
   "cell_type": "code",
   "execution_count": null,
   "metadata": {},
   "outputs": [],
   "source": [
    "def pathProduct(P, R):\n",
    "    return { join(T1, T2) for T1 in P \n",
    "                          for T2 in R \n",
    "                          if T1[-1] == T2[0] and not cyclic(join(T1, T2)) \n",
    "           }"
   ]
  },
  {
   "cell_type": "markdown",
   "metadata": {},
   "source": [
    "Let us try to compute all paths in our cyclic relation $R$.  First, lets view $R$ again:"
   ]
  },
  {
   "cell_type": "code",
   "execution_count": null,
   "metadata": {},
   "outputs": [],
   "source": [
    "dot_graph(R)"
   ]
  },
  {
   "cell_type": "code",
   "execution_count": null,
   "metadata": {},
   "outputs": [],
   "source": [
    "pathClosure(R)"
   ]
  },
  {
   "cell_type": "markdown",
   "metadata": {},
   "source": [
    "It works:  None of the paths returned is cyclic and all non-cyclic paths are listed."
   ]
  }
 ],
 "metadata": {
  "hide_input": false,
  "kernelspec": {
   "display_name": "Python 3",
   "language": "python",
   "name": "python3"
  },
  "language_info": {
   "codemirror_mode": {
    "name": "ipython",
    "version": 3
   },
   "file_extension": ".py",
   "mimetype": "text/x-python",
   "name": "python",
   "nbconvert_exporter": "python",
   "pygments_lexer": "ipython3",
   "version": "3.6.7"
  },
  "toc": {
   "base_numbering": 1,
   "nav_menu": {},
   "number_sections": true,
   "sideBar": true,
   "skip_h1_title": false,
   "title_cell": "Table of Contents",
   "title_sidebar": "Contents",
   "toc_cell": false,
   "toc_position": {},
   "toc_section_display": true,
   "toc_window_display": false
  },
  "varInspector": {
   "cols": {
    "lenName": 16,
    "lenType": 16,
    "lenVar": 40
   },
   "kernels_config": {
    "python": {
     "delete_cmd_postfix": "",
     "delete_cmd_prefix": "del ",
     "library": "var_list.py",
     "varRefreshCmd": "print(var_dic_list())"
    },
    "r": {
     "delete_cmd_postfix": ") ",
     "delete_cmd_prefix": "rm(",
     "library": "var_list.r",
     "varRefreshCmd": "cat(var_dic_list()) "
    }
   },
   "types_to_exclude": [
    "module",
    "function",
    "builtin_function_or_method",
    "instance",
    "_Feature"
   ],
   "window_display": false
  }
 },
 "nbformat": 4,
 "nbformat_minor": 2
}
