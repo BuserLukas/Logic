{
 "cells": [
  {
   "cell_type": "code",
   "execution_count": null,
   "metadata": {},
   "outputs": [],
   "source": [
    "%autosave 0\n",
    "from IPython.core.display import display, HTML\n",
    "display(HTML(\"<style>.container { width:100% !important; }</style>\"))"
   ]
  },
  {
   "cell_type": "markdown",
   "metadata": {},
   "source": [
    "# Die Onkologie-Station"
   ]
  },
  {
   "cell_type": "markdown",
   "metadata": {},
   "source": [
    "Auf einer Onkologie-Station liegen fünf Patienten in nebeneinander liegenden Zimmern.\n",
    "Bis auf einen  der Patienten hat jeder genau eine Zigaretten-Marke geraucht.\n",
    "Der Patient, der nicht Zigarette geraucht hat, hat Pfeife geraucht.\n",
    "Jeder Patient fährt genau ein Auto und ist\n",
    "an genau einer Krebs-Art erkrankt.  Zusätzlich haben Sie die folgenden Informationen:\n",
    "<ol>\n",
    "<li> Im Zimmer neben Michael wird Camel geraucht. </li>\n",
    "<li> Der Trabant-Fahrer raucht Ernte 23 und liegt im Zimmer neben dem \n",
    "      Zungen-Krebs Patienten. </li>\n",
    "<li> Rolf liegt im letzten Zimmer und hat Kehlkopf-Krebs. </li>\n",
    "<li> Der West-Raucher liegt im ersten Zimmer. </li>\n",
    "<li> Der Mazda-Fahrer hat Zungen-Krebs und liegt neben dem Trabant-Fahrer. </li>\n",
    "<li> Der Nissan-Fahrer liegt neben dem Zungen-Krebs Patient. </li>\n",
    "<li> Rudolf wünscht sich Sterbe-Hilfe und liegt zwischen dem Camel-Raucher und dem Trabant-Fahrer. </li>\n",
    "<li> Der Seat Fahrer hat morgen seinen letzten Geburtstag. </li>\n",
    "<li> Der Luckies Raucher liegt neben dem Patienten mit Lungen-Krebs. </li>\n",
    "<li> Der Camel Raucher liegt neben dem Patienten mit Darm-Krebs. </li>\n",
    "<li> Der Nissan Fahrer liegt neben dem Mazda-Fahrer. </li>\n",
    "<li> Der Mercedes-Fahrer raucht Pfeife und liegt neben dem Camel Raucher. </li>\n",
    "<li> Jens liegt neben dem Luckies Raucher. </li>\n",
    "<li> Der Hodenkrebs-Patient hat gestern seine Eier durchs Klo gespült. </li>\n",
    "</ol>\n",
    "Entwickeln Sie ein <em>Python</em>-Programm, das die folgenden Fragen beantwortet:\n",
    "<ol> \n",
    "<li> Was raucht der Darmkrebs-Patient? </li>\n",
    "<li> Was fährt Kurt für ein Auto? </li>\n",
    "</ol>"
   ]
  },
  {
   "cell_type": "markdown",
   "metadata": {},
   "source": [
    "## Importing the Necessary Modules"
   ]
  },
  {
   "cell_type": "markdown",
   "metadata": {},
   "source": [
    "Our goal is to solve this puzzle by first coding it as a solvability problem of propositional logic and then to solve the resulting set of clauses using the algorithm of Davis and Putnam."
   ]
  },
  {
   "cell_type": "code",
   "execution_count": null,
   "metadata": {},
   "outputs": [],
   "source": [
    "import davisPutnam as dp"
   ]
  },
  {
   "cell_type": "markdown",
   "metadata": {},
   "source": [
    "In order to be able to transform formulas from propositional logic into sets of clauses we import the module <tt>cnf</tt> which implements the function <tt>normalize</tt> that takes a formula and transforms it into a set of clauses."
   ]
  },
  {
   "cell_type": "code",
   "execution_count": null,
   "metadata": {},
   "outputs": [],
   "source": [
    "import cnf"
   ]
  },
  {
   "cell_type": "markdown",
   "metadata": {},
   "source": [
    "In order to write formulas conveniently, we use the parser for propositional logic."
   ]
  },
  {
   "cell_type": "code",
   "execution_count": null,
   "metadata": {},
   "outputs": [],
   "source": [
    "import propLogParser as plp"
   ]
  },
  {
   "cell_type": "markdown",
   "metadata": {},
   "source": [
    "Using the parser and the module <tt>cnf</tt> we can impement a function $\\texttt{parseCNF}(s)$ that takes a string $s$ representing a formula and transforms $s$ into an equivalent set of clauses."
   ]
  },
  {
   "cell_type": "code",
   "execution_count": null,
   "metadata": {},
   "outputs": [],
   "source": [
    "def parseCNF(s):\n",
    "    nestedTuple = plp.LogicParser(s).parse()\n",
    "    Clauses     = cnf.normalize(nestedTuple)\n",
    "    return Clauses"
   ]
  },
  {
   "cell_type": "markdown",
   "metadata": {},
   "source": [
    "## Auxiliary Functions"
   ]
  },
  {
   "cell_type": "code",
   "execution_count": null,
   "metadata": {},
   "outputs": [],
   "source": [
    "def atMostOne(V):\n",
    "    return { frozenset({('¬',p), ('¬', q)}) for p in V\n",
    "                                            for q in V \n",
    "                                            if  p != q \n",
    "           }"
   ]
  },
  {
   "cell_type": "markdown",
   "metadata": {},
   "source": [
    "Given a name $f$ and an index $i \\in\\{1,2,3,4,5\\}$, the function $\\texttt{var}(i)$ creates the string \n",
    "$f\\langle i \\rangle$, e.g. the call <tt>var(\"Japanese\", 2)</tt> returns the following string:\n",
    "\n",
    "<tt>Japanese$\\langle$2$\\rangle$</tt>."
   ]
  },
  {
   "cell_type": "code",
   "execution_count": null,
   "metadata": {},
   "outputs": [],
   "source": [
    "def var(f, i):\n",
    "    return f + \"<\" + str(i) + \">\" "
   ]
  },
  {
   "cell_type": "code",
   "execution_count": null,
   "metadata": {},
   "outputs": [],
   "source": [
    "var(\"Japanese\", 2)"
   ]
  },
  {
   "cell_type": "markdown",
   "metadata": {},
   "source": [
    "The call $\\texttt{flatten}(\\texttt{LoS})$ takes list of sets $\\texttt{LoS}$ and adds all the sets in this list into one big set. "
   ]
  },
  {
   "cell_type": "markdown",
   "metadata": {},
   "source": [
    "A call of the form $\\texttt{x}$ will return a clause that specifies that the person with property $x$ has to live in one of the houses from $1$ to $5$."
   ]
  },
  {
   "cell_type": "code",
   "execution_count": null,
   "metadata": {},
   "outputs": [],
   "source": [
    "Clauses = allClauses()\n",
    "Clauses"
   ]
  },
  {
   "cell_type": "code",
   "execution_count": null,
   "metadata": {},
   "outputs": [],
   "source": [
    "len(Clauses)"
   ]
  },
  {
   "cell_type": "code",
   "execution_count": null,
   "metadata": {},
   "outputs": [],
   "source": [
    "def solve():\n",
    "    Clauses = allClauses()\n",
    "    return dp.solve(Clauses, set())"
   ]
  },
  {
   "cell_type": "code",
   "execution_count": null,
   "metadata": {},
   "outputs": [],
   "source": [
    "import time"
   ]
  },
  {
   "cell_type": "markdown",
   "metadata": {},
   "source": [
    "Solving the problem takes about 7 seconds on my computer."
   ]
  },
  {
   "cell_type": "code",
   "execution_count": null,
   "metadata": {},
   "outputs": [],
   "source": [
    "start    = time.time()\n",
    "Solution = solve()\n",
    "stop     = time.time()\n",
    "print(f'Time needed: {round((stop-start)*10)/10} seconds.')\n",
    "Solution"
   ]
  },
  {
   "cell_type": "markdown",
   "metadata": {},
   "source": [
    "## Functions to PrettyPrint the Solution"
   ]
  },
  {
   "cell_type": "code",
   "execution_count": null,
   "metadata": {},
   "outputs": [],
   "source": [
    "def arb(S):\n",
    "    for x in S:\n",
    "        return x"
   ]
  },
  {
   "cell_type": "code",
   "execution_count": null,
   "metadata": {},
   "outputs": [],
   "source": [
    "def pad(s, l):\n",
    "    n = l - len(s)\n",
    "    return s + \" \" * n"
   ]
  },
  {
   "cell_type": "code",
   "execution_count": null,
   "metadata": {},
   "outputs": [],
   "source": [
    "def join(L, sep):\n",
    "    result = ''\n",
    "    for s in L:\n",
    "        result += s + sep\n",
    "    if len(L) > 0:\n",
    "        result = result[:-len(sep)]\n",
    "    return result"
   ]
  },
  {
   "cell_type": "code",
   "execution_count": null,
   "metadata": {},
   "outputs": [],
   "source": [
    "def printSolution(UnitClauses):\n",
    "    Brands     = { \"Camel\", \"Ernte\", \"West\", \"Luckies\", \"Pfeife\"    }\n",
    "    Cars       = { \"Trabant\", \"Mazda\", \"Nissan\", \"Seat\", \"Mercedes\" }\n",
    "    Cancers    = { \"Zunge\", \"Kehlkopf\", \"Lunge\", \"Darm\", \"Hoden\" }\n",
    "    Names      = { \"Michael\", \"Rolf\", \"Rudolf\", \"Jens\", \"Kurt\" }\n",
    "    Assignment = {}\n",
    "    CarsDict   = {}\n",
    "    BrandsDict = {}\n",
    "    for Unit in UnitClauses:\n",
    "        Literal = arb(Unit)\n",
    "        if isinstance(Literal, str):\n",
    "            number = int(Literal[-2])\n",
    "            name   = Literal[:-3]\n",
    "            Assignment[name] = number\n",
    "            if name in Brands:\n",
    "                BrandsDict[number] = name\n",
    "            if name in Cars:\n",
    "                CarsDict[number] = name\n",
    "    print()\n",
    "\n",
    "    print(f\"Der Darmkrebs-Patient raucht {BrandsDict[Assignment['Darm']]}.\");\n",
    "    print(f\"Kurt fährt einen {CarsDict[Assignment['Kurt']]}.\");\n",
    "    print()\n",
    "    longest = max({ len(x) for x in Assignment })\n",
    "    line    = \"-\" * (4 * (longest + 3) + 6);\n",
    "    for house in range(1, 5+1):\n",
    "        print(line)\n",
    "        l = [];\n",
    "        for Class in [Brands, Cars, Cancers, Names]:\n",
    "            for x in Class:\n",
    "                l += [ pad(f\"{y}\", longest) for y in Assignment \n",
    "                                            if y == x and Assignment[y] == house\n",
    "                     ]\n",
    "        print(f\"| {house}: | \" + join(l, \" | \") + \" |\")\n",
    "    print(line)\n",
    "    print()"
   ]
  },
  {
   "cell_type": "code",
   "execution_count": null,
   "metadata": {},
   "outputs": [],
   "source": [
    "printSolution(Solution)"
   ]
  },
  {
   "cell_type": "markdown",
   "metadata": {},
   "source": [
    "## Checking the Uniqueness of the Solution"
   ]
  },
  {
   "cell_type": "markdown",
   "metadata": {},
   "source": [
    "Given a set of unit clauses $U$, the function $\\texttt{checkUniqueness}(U)$ returns a clause that is the negation of the set $U$."
   ]
  },
  {
   "cell_type": "code",
   "execution_count": null,
   "metadata": {},
   "outputs": [],
   "source": [
    "def negateSolution(UnitClauses):\n",
    "    return { dp.complement(arb(unit)) for unit in UnitClauses }"
   ]
  },
  {
   "cell_type": "code",
   "execution_count": null,
   "metadata": {},
   "outputs": [],
   "source": [
    "negateSolution({ frozenset({'a'}), frozenset({('¬', 'b')}) }) "
   ]
  },
  {
   "cell_type": "markdown",
   "metadata": {},
   "source": [
    "The function $\\texttt{checkUniqueness}(\\texttt{Solution}, \\texttt{Clauses})$  takes a set of $\\texttt{Clauses}$ and a $\\texttt{Solution}$ for these clauses and checks, whether this is the only solution."
   ]
  },
  {
   "cell_type": "code",
   "execution_count": null,
   "metadata": {},
   "outputs": [],
   "source": [
    "def checkUniqueness(Solution, Clauses):\n",
    "    negation = negateSolution(Solution)\n",
    "    Clauses.add(frozenset(negation))\n",
    "    alternative = dp.solve(Clauses, set())\n",
    "    if alternative == { frozenset() }:\n",
    "        print(\"Well done: The solution is unique!\")\n",
    "    else:\n",
    "        print(\"ERROR: The solution is not unique!\")"
   ]
  },
  {
   "cell_type": "code",
   "execution_count": null,
   "metadata": {},
   "outputs": [],
   "source": [
    "checkUniqueness(Solution, Clauses)"
   ]
  }
 ],
 "metadata": {
  "kernelspec": {
   "display_name": "Python 3",
   "language": "python",
   "name": "python3"
  },
  "language_info": {
   "codemirror_mode": {
    "name": "ipython",
    "version": 3
   },
   "file_extension": ".py",
   "mimetype": "text/x-python",
   "name": "python",
   "nbconvert_exporter": "python",
   "pygments_lexer": "ipython3",
   "version": "3.7.3"
  },
  "toc": {
   "base_numbering": 1,
   "nav_menu": {},
   "number_sections": true,
   "sideBar": true,
   "skip_h1_title": false,
   "title_cell": "Table of Contents",
   "title_sidebar": "Contents",
   "toc_cell": false,
   "toc_position": {},
   "toc_section_display": true,
   "toc_window_display": false
  }
 },
 "nbformat": 4,
 "nbformat_minor": 2
}
