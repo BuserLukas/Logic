{
 "cells": [
  {
   "cell_type": "code",
   "execution_count": null,
   "metadata": {},
   "outputs": [],
   "source": [
    "%autosave 0"
   ]
  },
  {
   "cell_type": "markdown",
   "metadata": {},
   "source": [
    "# Solving the Wolf-Goat-Cabbage Problem"
   ]
  },
  {
   "cell_type": "markdown",
   "metadata": {},
   "source": [
    "An agricultural economist has to sell a *wolf*, a *goat*, and a *cabbage* on a market place.  In order to\n",
    "reach the market place, she has to cross a river.  The boat that she can use is so small that it can\n",
    "only accommodate either the goat, the wolf, or the cabbage in addition to the agricultural economist.\n",
    "Now if the agricultural economist leaves the wolf alone with the goat, the wolf will eat the goat.\n",
    "If, instead, the agricultural economist leaves the goat with the cabbage, the goat will eat the cabbage.\n",
    "Is it possible for the agricultural economist to develop a schedule that allows her to cross the river\n",
    "without either the goat or the cabbage being eaten?"
   ]
  },
  {
   "cell_type": "markdown",
   "metadata": {},
   "source": [
    "## Auxilliary Procedures for Computing a Path in a Graph"
   ]
  },
  {
   "cell_type": "markdown",
   "metadata": {},
   "source": [
    "The function <tt>dot_graph</tt> below is used to create a visual representation of a graph.  The graph is assumed to be represented as a set of pairs."
   ]
  },
  {
   "cell_type": "code",
   "execution_count": 1,
   "metadata": {},
   "outputs": [],
   "source": [
    "import graphviz as gv\n",
    "\n",
    "def dot_graph(R):\n",
    "    \"\"\"This function takes binary relation R as inputs and shows this relation as\n",
    "       a graph using the module graphviz.\n",
    "    \"\"\"\n",
    "    dot = gv.Digraph()\n",
    "    Nodes = { p[0] for p in R }.union({ p[1] for p in R })\n",
    "    for n in Nodes:\n",
    "        dot.node(str(set(n)))\n",
    "    for (x, y) in R:\n",
    "        dot.edge(str(set(x)), str(set(y)))\n",
    "    return dot"
   ]
  },
  {
   "cell_type": "markdown",
   "metadata": {},
   "source": [
    "The function $\\texttt{power}(M)$ defined below computes the power set of the set $M$, i.e. we have:\n",
    "$$ \\texttt{power}(M) = 2^M = \\bigl\\{A \\mid A \\subseteq M \\} $$"
   ]
  },
  {
   "cell_type": "code",
   "execution_count": 4,
   "metadata": {},
   "outputs": [],
   "source": [
    "def power(M):\n",
    "    \"This function computes the power set of the set M.\"\n",
    "    if M == set():\n",
    "        return { frozenset() }\n",
    "    else:\n",
    "        C  = set(M)  # C is a copy of M as we don't want to change the set M\n",
    "        x  = C.pop() # pop removes the element x from the set C\n",
    "        P1 = power(C)\n",
    "        P2 = { A.union({x}) for A in P1 }\n",
    "        return P1.union(P2)"
   ]
  },
  {
   "cell_type": "markdown",
   "metadata": {},
   "source": [
    "The function <tt>pathProduct</tt> below takes a set of pathes <tt>P<tt> and a binary relation <tt>R</tt> as its arguments.  If there is a path $L \\in P$ that has the form $L = (x_1, \\cdots, x_n)$ and there is a pair $(x_n, x_{n+1}) \\in R$, then the path $(x_1, \\cdots, x_n, x_{n+1})$ is an element of the set of pathes computed by this function."
   ]
  },
  {
   "cell_type": "code",
   "execution_count": 5,
   "metadata": {},
   "outputs": [],
   "source": [
    "def pathProduct(P, R):\n",
    "    return { T1 + (T2[1],) for T1 in P for T2 in R \n",
    "                           if T1[-1] == T2[0] and not T2[-1] in T1 \n",
    "           }"
   ]
  },
  {
   "cell_type": "markdown",
   "metadata": {},
   "source": [
    "The function <tt>findPath</tt> takes three arguments:\n",
    "<ol>\n",
    "    <li><tt>start</tt> is a node in a graph.</li>\n",
    "    <li><tt>goal</tt> is a node in a graph.</li>\n",
    "    <li><tt>R</tt> is a graph represented as a set of pairs of nodes.</li>\n",
    "</ol>\n",
    "The function tries to find a path that leads from <tt>start</tt> to <tt>goal</tt>.  If no path is found, the function returns <tt>None</tt>."
   ]
  },
  {
   "cell_type": "code",
   "execution_count": 7,
   "metadata": {},
   "outputs": [],
   "source": [
    "def findPath(start, goal, R):\n",
    "    \"\"\"\n",
    "    start and goal are nodes in a graph, while R is a set of pairs of nodes.\n",
    "    R is interpreted as a relation.  The function findPath tries to find\n",
    "    a path from start to goal.\n",
    "    \"\"\"\n",
    "    P = { (start,)}                      # pathes beginning at start\n",
    "    while len(P) > 0:                         \n",
    "        P     = pathProduct(P, R)\n",
    "        Found = { T for T in P if T[-1] == goal }\n",
    "        if Found != set():\n",
    "            return Found.pop()"
   ]
  },
  {
   "cell_type": "markdown",
   "metadata": {},
   "source": [
    "## Problem Specific Code"
   ]
  },
  {
   "cell_type": "markdown",
   "metadata": {},
   "source": [
    "There is a problem if the wolf is alone with the goat or if the goat is alone with the cabbage."
   ]
  },
  {
   "cell_type": "code",
   "execution_count": 10,
   "metadata": {},
   "outputs": [],
   "source": [
    "def problem(S):\n",
    "    \"\"\"\n",
    "    S is a set of objects that are at one shore of the river.\n",
    "    This function returns <tt>True</tt> if there is a problem.\n",
    "    \"\"\"\n",
    "    return ('farmer' not in S) and             \\\n",
    "           (('goat' in S and 'cabbage' in S) or   # goat eats cabbage\n",
    "            ('wolf' in S and 'goat'    in S)   )  # wolf eats goat"
   ]
  },
  {
   "cell_type": "markdown",
   "metadata": {},
   "source": [
    "At the start, everything is on the left shore."
   ]
  },
  {
   "cell_type": "code",
   "execution_count": 11,
   "metadata": {},
   "outputs": [],
   "source": [
    "All = frozenset({'farmer', 'wolf', 'goat', 'cabbage'})"
   ]
  },
  {
   "cell_type": "markdown",
   "metadata": {},
   "source": [
    "<tt>States</tt> is the set of all states that do not have a problem."
   ]
  },
  {
   "cell_type": "code",
   "execution_count": 12,
   "metadata": {},
   "outputs": [
    {
     "data": {
      "text/plain": [
       "{frozenset(),\n",
       " frozenset({'farmer', 'goat'}),\n",
       " frozenset({'wolf'}),\n",
       " frozenset({'farmer', 'goat', 'wolf'}),\n",
       " frozenset({'cabbage'}),\n",
       " frozenset({'cabbage', 'wolf'}),\n",
       " frozenset({'cabbage', 'farmer', 'goat'}),\n",
       " frozenset({'cabbage', 'farmer', 'wolf'}),\n",
       " frozenset({'goat'}),\n",
       " frozenset({'cabbage', 'farmer', 'goat', 'wolf'})}"
      ]
     },
     "execution_count": 12,
     "metadata": {},
     "output_type": "execute_result"
    }
   ],
   "source": [
    "States = { S for S in power(All) if not problem(S) and not problem(All - S) }\n",
    "States"
   ]
  },
  {
   "cell_type": "markdown",
   "metadata": {},
   "source": [
    "<tt>R1</tt> decribes the transitions where the boat crosses the river from left to right."
   ]
  },
  {
   "cell_type": "code",
   "execution_count": 13,
   "metadata": {},
   "outputs": [
    {
     "data": {
      "text/plain": [
       "{(frozenset({'farmer', 'goat'}), frozenset()),\n",
       " (frozenset({'farmer', 'goat', 'wolf'}), frozenset({'wolf'})),\n",
       " (frozenset({'cabbage', 'farmer', 'wolf'}), frozenset({'cabbage'})),\n",
       " (frozenset({'cabbage', 'farmer', 'wolf'}), frozenset({'cabbage', 'wolf'})),\n",
       " (frozenset({'farmer', 'goat'}), frozenset({'goat'})),\n",
       " (frozenset({'cabbage', 'farmer', 'goat'}), frozenset({'goat'})),\n",
       " (frozenset({'farmer', 'goat', 'wolf'}), frozenset({'goat'})),\n",
       " (frozenset({'cabbage', 'farmer', 'goat'}), frozenset({'cabbage'})),\n",
       " (frozenset({'cabbage', 'farmer', 'wolf'}), frozenset({'wolf'})),\n",
       " (frozenset({'cabbage', 'farmer', 'goat', 'wolf'}),\n",
       "  frozenset({'cabbage', 'wolf'}))}"
      ]
     },
     "execution_count": 13,
     "metadata": {},
     "output_type": "execute_result"
    }
   ],
   "source": [
    "R1 = { (S, S - B) for S in States for B in power(S)\n",
    "                  if S - B in States and 'farmer' in B and len(B) <= 2\n",
    "     }\n",
    "R1"
   ]
  },
  {
   "cell_type": "markdown",
   "metadata": {},
   "source": [
    "<tt>R2</tt> is the inverse of <tt>R1</tt>."
   ]
  },
  {
   "cell_type": "code",
   "execution_count": 14,
   "metadata": {},
   "outputs": [],
   "source": [
    "R2 = { (S2, S1) for (S1, S2) in R1 }"
   ]
  },
  {
   "cell_type": "code",
   "execution_count": 15,
   "metadata": {},
   "outputs": [],
   "source": [
    "R = R1.union(R2)"
   ]
  },
  {
   "cell_type": "code",
   "execution_count": 16,
   "metadata": {},
   "outputs": [
    {
     "data": {
      "image/svg+xml": [
       "<?xml version=\"1.0\" encoding=\"UTF-8\" standalone=\"no\"?>\n",
       "<!DOCTYPE svg PUBLIC \"-//W3C//DTD SVG 1.1//EN\"\n",
       " \"http://www.w3.org/Graphics/SVG/1.1/DTD/svg11.dtd\">\n",
       "<!-- Generated by graphviz version 2.40.1 (20161225.0304)\n",
       " -->\n",
       "<!-- Title: %3 Pages: 1 -->\n",
       "<svg width=\"480pt\" height=\"476pt\"\n",
       " viewBox=\"0.00 0.00 480.48 476.00\" xmlns=\"http://www.w3.org/2000/svg\" xmlns:xlink=\"http://www.w3.org/1999/xlink\">\n",
       "<g id=\"graph0\" class=\"graph\" transform=\"scale(1 1) rotate(0) translate(4 472)\">\n",
       "<title>%3</title>\n",
       "<polygon fill=\"#ffffff\" stroke=\"transparent\" points=\"-4,4 -4,-472 476.4798,-472 476.4798,4 -4,4\"/>\n",
       "<!-- {&#39;farmer&#39;, &#39;goat&#39;} -->\n",
       "<g id=\"node1\" class=\"node\">\n",
       "<title>{&#39;farmer&#39;, &#39;goat&#39;}</title>\n",
       "<ellipse fill=\"none\" stroke=\"#000000\" cx=\"124.8916\" cy=\"-450\" rx=\"70.3881\" ry=\"18\"/>\n",
       "<text text-anchor=\"middle\" x=\"124.8916\" y=\"-446.3\" font-family=\"Times,serif\" font-size=\"14.00\" fill=\"#000000\">{&#39;farmer&#39;, &#39;goat&#39;}</text>\n",
       "</g>\n",
       "<!-- set() -->\n",
       "<g id=\"node7\" class=\"node\">\n",
       "<title>set()</title>\n",
       "<ellipse fill=\"none\" stroke=\"#000000\" cx=\"83.8916\" cy=\"-378\" rx=\"27\" ry=\"18\"/>\n",
       "<text text-anchor=\"middle\" x=\"83.8916\" y=\"-374.3\" font-family=\"Times,serif\" font-size=\"14.00\" fill=\"#000000\">set()</text>\n",
       "</g>\n",
       "<!-- {&#39;farmer&#39;, &#39;goat&#39;}&#45;&gt;set() -->\n",
       "<g id=\"edge2\" class=\"edge\">\n",
       "<title>{&#39;farmer&#39;, &#39;goat&#39;}&#45;&gt;set()</title>\n",
       "<path fill=\"none\" stroke=\"#000000\" d=\"M108.841,-432.2022C103.335,-423.981 97.4614,-414.041 92.6709,-404.9301\"/>\n",
       "<polygon fill=\"#000000\" stroke=\"#000000\" points=\"95.7314,-403.2246 88.1317,-395.8425 89.4692,-406.3526 95.7314,-403.2246\"/>\n",
       "</g>\n",
       "<!-- {&#39;goat&#39;} -->\n",
       "<g id=\"node10\" class=\"node\">\n",
       "<title>{&#39;goat&#39;}</title>\n",
       "<ellipse fill=\"none\" stroke=\"#000000\" cx=\"166.8916\" cy=\"-378\" rx=\"38.1938\" ry=\"18\"/>\n",
       "<text text-anchor=\"middle\" x=\"166.8916\" y=\"-374.3\" font-family=\"Times,serif\" font-size=\"14.00\" fill=\"#000000\">{&#39;goat&#39;}</text>\n",
       "</g>\n",
       "<!-- {&#39;farmer&#39;, &#39;goat&#39;}&#45;&gt;{&#39;goat&#39;} -->\n",
       "<g id=\"edge17\" class=\"edge\">\n",
       "<title>{&#39;farmer&#39;, &#39;goat&#39;}&#45;&gt;{&#39;goat&#39;}</title>\n",
       "<path fill=\"none\" stroke=\"#000000\" d=\"M129.5376,-431.8314C133.7098,-423.2444 139.5968,-412.8466 145.5363,-403.4878\"/>\n",
       "<polygon fill=\"#000000\" stroke=\"#000000\" points=\"148.6005,-405.1992 151.1926,-394.9263 142.76,-401.3405 148.6005,-405.1992\"/>\n",
       "</g>\n",
       "<!-- {&#39;wolf&#39;} -->\n",
       "<g id=\"node2\" class=\"node\">\n",
       "<title>{&#39;wolf&#39;}</title>\n",
       "<ellipse fill=\"none\" stroke=\"#000000\" cx=\"187.8916\" cy=\"-90\" rx=\"39.7935\" ry=\"18\"/>\n",
       "<text text-anchor=\"middle\" x=\"187.8916\" y=\"-86.3\" font-family=\"Times,serif\" font-size=\"14.00\" fill=\"#000000\">{&#39;wolf&#39;}</text>\n",
       "</g>\n",
       "<!-- {&#39;wolf&#39;, &#39;farmer&#39;, &#39;goat&#39;} -->\n",
       "<g id=\"node4\" class=\"node\">\n",
       "<title>{&#39;wolf&#39;, &#39;farmer&#39;, &#39;goat&#39;}</title>\n",
       "<ellipse fill=\"none\" stroke=\"#000000\" cx=\"94.8916\" cy=\"-18\" rx=\"94.7833\" ry=\"18\"/>\n",
       "<text text-anchor=\"middle\" x=\"94.8916\" y=\"-14.3\" font-family=\"Times,serif\" font-size=\"14.00\" fill=\"#000000\">{&#39;wolf&#39;, &#39;farmer&#39;, &#39;goat&#39;}</text>\n",
       "</g>\n",
       "<!-- {&#39;wolf&#39;}&#45;&gt;{&#39;wolf&#39;, &#39;farmer&#39;, &#39;goat&#39;} -->\n",
       "<g id=\"edge3\" class=\"edge\">\n",
       "<title>{&#39;wolf&#39;}&#45;&gt;{&#39;wolf&#39;, &#39;farmer&#39;, &#39;goat&#39;}</title>\n",
       "<path fill=\"none\" stroke=\"#000000\" d=\"M163.523,-75.4297C150.0902,-65.9698 133.5677,-53.4059 120.0317,-42.442\"/>\n",
       "<polygon fill=\"#000000\" stroke=\"#000000\" points=\"121.9883,-39.5192 112.0438,-35.8642 117.5385,-44.9229 121.9883,-39.5192\"/>\n",
       "</g>\n",
       "<!-- {&#39;wolf&#39;, &#39;cabbage&#39;, &#39;farmer&#39;} -->\n",
       "<g id=\"node8\" class=\"node\">\n",
       "<title>{&#39;wolf&#39;, &#39;cabbage&#39;, &#39;farmer&#39;}</title>\n",
       "<ellipse fill=\"none\" stroke=\"#000000\" cx=\"240.8916\" cy=\"-162\" rx=\"109.381\" ry=\"18\"/>\n",
       "<text text-anchor=\"middle\" x=\"240.8916\" y=\"-158.3\" font-family=\"Times,serif\" font-size=\"14.00\" fill=\"#000000\">{&#39;wolf&#39;, &#39;cabbage&#39;, &#39;farmer&#39;}</text>\n",
       "</g>\n",
       "<!-- {&#39;wolf&#39;}&#45;&gt;{&#39;wolf&#39;, &#39;cabbage&#39;, &#39;farmer&#39;} -->\n",
       "<g id=\"edge5\" class=\"edge\">\n",
       "<title>{&#39;wolf&#39;}&#45;&gt;{&#39;wolf&#39;, &#39;cabbage&#39;, &#39;farmer&#39;}</title>\n",
       "<path fill=\"none\" stroke=\"#000000\" d=\"M205.7649,-106.4393C212.9986,-114.9758 221.0913,-125.6195 227.7831,-135.3\"/>\n",
       "<polygon fill=\"#000000\" stroke=\"#000000\" points=\"225.011,-137.4517 233.4698,-143.8314 230.8357,-133.5692 225.011,-137.4517\"/>\n",
       "</g>\n",
       "<!-- {&#39;cabbage&#39;, &#39;wolf&#39;} -->\n",
       "<g id=\"node3\" class=\"node\">\n",
       "<title>{&#39;cabbage&#39;, &#39;wolf&#39;}</title>\n",
       "<ellipse fill=\"none\" stroke=\"#000000\" cx=\"330.8916\" cy=\"-90\" rx=\"77.1866\" ry=\"18\"/>\n",
       "<text text-anchor=\"middle\" x=\"330.8916\" y=\"-86.3\" font-family=\"Times,serif\" font-size=\"14.00\" fill=\"#000000\">{&#39;cabbage&#39;, &#39;wolf&#39;}</text>\n",
       "</g>\n",
       "<!-- {&#39;cabbage&#39;, &#39;wolf&#39;}&#45;&gt;{&#39;wolf&#39;, &#39;cabbage&#39;, &#39;farmer&#39;} -->\n",
       "<g id=\"edge1\" class=\"edge\">\n",
       "<title>{&#39;cabbage&#39;, &#39;wolf&#39;}&#45;&gt;{&#39;wolf&#39;, &#39;cabbage&#39;, &#39;farmer&#39;}</title>\n",
       "<path fill=\"none\" stroke=\"#000000\" d=\"M314.5933,-107.7689C303.9134,-117.0599 289.7009,-128.552 276.5593,-138.5623\"/>\n",
       "<polygon fill=\"#000000\" stroke=\"#000000\" points=\"274.4519,-135.7678 268.5563,-144.5708 278.6547,-141.3657 274.4519,-135.7678\"/>\n",
       "</g>\n",
       "<!-- {&#39;wolf&#39;, &#39;farmer&#39;, &#39;cabbage&#39;, &#39;goat&#39;} -->\n",
       "<g id=\"node9\" class=\"node\">\n",
       "<title>{&#39;wolf&#39;, &#39;farmer&#39;, &#39;cabbage&#39;, &#39;goat&#39;}</title>\n",
       "<ellipse fill=\"none\" stroke=\"#000000\" cx=\"339.8916\" cy=\"-18\" rx=\"132.6765\" ry=\"18\"/>\n",
       "<text text-anchor=\"middle\" x=\"339.8916\" y=\"-14.3\" font-family=\"Times,serif\" font-size=\"14.00\" fill=\"#000000\">{&#39;wolf&#39;, &#39;farmer&#39;, &#39;cabbage&#39;, &#39;goat&#39;}</text>\n",
       "</g>\n",
       "<!-- {&#39;cabbage&#39;, &#39;wolf&#39;}&#45;&gt;{&#39;wolf&#39;, &#39;farmer&#39;, &#39;cabbage&#39;, &#39;goat&#39;} -->\n",
       "<g id=\"edge8\" class=\"edge\">\n",
       "<title>{&#39;cabbage&#39;, &#39;wolf&#39;}&#45;&gt;{&#39;wolf&#39;, &#39;farmer&#39;, &#39;cabbage&#39;, &#39;goat&#39;}</title>\n",
       "<path fill=\"none\" stroke=\"#000000\" d=\"M327.2103,-71.8314C327.4224,-64.131 328.3461,-54.9743 329.7244,-46.4166\"/>\n",
       "<polygon fill=\"#000000\" stroke=\"#000000\" points=\"333.197,-46.8892 331.6139,-36.4133 326.3186,-45.5899 333.197,-46.8892\"/>\n",
       "</g>\n",
       "<!-- {&#39;wolf&#39;, &#39;farmer&#39;, &#39;goat&#39;}&#45;&gt;{&#39;wolf&#39;} -->\n",
       "<g id=\"edge9\" class=\"edge\">\n",
       "<title>{&#39;wolf&#39;, &#39;farmer&#39;, &#39;goat&#39;}&#45;&gt;{&#39;wolf&#39;}</title>\n",
       "<path fill=\"none\" stroke=\"#000000\" d=\"M123.1865,-35.3603C136.3734,-44.8108 151.7974,-56.6278 164.3448,-66.8525\"/>\n",
       "<polygon fill=\"#000000\" stroke=\"#000000\" points=\"162.1903,-69.6127 172.1225,-73.3008 166.6581,-64.2238 162.1903,-69.6127\"/>\n",
       "</g>\n",
       "<!-- {&#39;wolf&#39;, &#39;farmer&#39;, &#39;goat&#39;}&#45;&gt;{&#39;goat&#39;} -->\n",
       "<g id=\"edge18\" class=\"edge\">\n",
       "<title>{&#39;wolf&#39;, &#39;farmer&#39;, &#39;goat&#39;}&#45;&gt;{&#39;goat&#39;}</title>\n",
       "<path fill=\"none\" stroke=\"#000000\" d=\"M100.7106,-36.1854C103.8916,-63.5017 103.8916,-116.75 103.8916,-162 103.8916,-234 103.8916,-234 103.8916,-234 103.8916,-275.8911 112.0781,-287.0908 131.8916,-324 137.2109,-333.9091 144.4723,-343.7452 151.1311,-352.2535\"/>\n",
       "<polygon fill=\"#000000\" stroke=\"#000000\" points=\"148.5371,-354.6153 157.4949,-360.2729 154.0204,-350.2639 148.5371,-354.6153\"/>\n",
       "</g>\n",
       "<!-- {&#39;cabbage&#39;} -->\n",
       "<g id=\"node5\" class=\"node\">\n",
       "<title>{&#39;cabbage&#39;}</title>\n",
       "<ellipse fill=\"none\" stroke=\"#000000\" cx=\"239.8916\" cy=\"-234\" rx=\"52.7911\" ry=\"18\"/>\n",
       "<text text-anchor=\"middle\" x=\"239.8916\" y=\"-230.3\" font-family=\"Times,serif\" font-size=\"14.00\" fill=\"#000000\">{&#39;cabbage&#39;}</text>\n",
       "</g>\n",
       "<!-- {&#39;farmer&#39;, &#39;cabbage&#39;, &#39;goat&#39;} -->\n",
       "<g id=\"node6\" class=\"node\">\n",
       "<title>{&#39;farmer&#39;, &#39;cabbage&#39;, &#39;goat&#39;}</title>\n",
       "<ellipse fill=\"none\" stroke=\"#000000\" cx=\"239.8916\" cy=\"-306\" rx=\"107.781\" ry=\"18\"/>\n",
       "<text text-anchor=\"middle\" x=\"239.8916\" y=\"-302.3\" font-family=\"Times,serif\" font-size=\"14.00\" fill=\"#000000\">{&#39;farmer&#39;, &#39;cabbage&#39;, &#39;goat&#39;}</text>\n",
       "</g>\n",
       "<!-- {&#39;cabbage&#39;}&#45;&gt;{&#39;farmer&#39;, &#39;cabbage&#39;, &#39;goat&#39;} -->\n",
       "<g id=\"edge7\" class=\"edge\">\n",
       "<title>{&#39;cabbage&#39;}&#45;&gt;{&#39;farmer&#39;, &#39;cabbage&#39;, &#39;goat&#39;}</title>\n",
       "<path fill=\"none\" stroke=\"#000000\" d=\"M245.8189,-251.9134C246.5927,-259.6993 246.8207,-269.01 246.5026,-277.6941\"/>\n",
       "<polygon fill=\"#000000\" stroke=\"#000000\" points=\"242.9998,-277.6254 245.844,-287.8314 249.9851,-278.0794 242.9998,-277.6254\"/>\n",
       "</g>\n",
       "<!-- {&#39;cabbage&#39;}&#45;&gt;{&#39;wolf&#39;, &#39;cabbage&#39;, &#39;farmer&#39;} -->\n",
       "<g id=\"edge14\" class=\"edge\">\n",
       "<title>{&#39;cabbage&#39;}&#45;&gt;{&#39;wolf&#39;, &#39;cabbage&#39;, &#39;farmer&#39;}</title>\n",
       "<path fill=\"none\" stroke=\"#000000\" d=\"M234.1915,-215.8314C233.5481,-208.131 233.4543,-198.9743 233.8818,-190.4166\"/>\n",
       "<polygon fill=\"#000000\" stroke=\"#000000\" points=\"237.3738,-190.6546 234.6598,-180.4133 230.3949,-190.1117 237.3738,-190.6546\"/>\n",
       "</g>\n",
       "<!-- {&#39;farmer&#39;, &#39;cabbage&#39;, &#39;goat&#39;}&#45;&gt;{&#39;cabbage&#39;} -->\n",
       "<g id=\"edge19\" class=\"edge\">\n",
       "<title>{&#39;farmer&#39;, &#39;cabbage&#39;, &#39;goat&#39;}&#45;&gt;{&#39;cabbage&#39;}</title>\n",
       "<path fill=\"none\" stroke=\"#000000\" d=\"M233.9392,-287.8314C233.1772,-280.0125 232.9612,-270.6923 233.2911,-262.0221\"/>\n",
       "<polygon fill=\"#000000\" stroke=\"#000000\" points=\"236.792,-262.1239 233.9643,-251.9134 229.8075,-261.6587 236.792,-262.1239\"/>\n",
       "</g>\n",
       "<!-- {&#39;farmer&#39;, &#39;cabbage&#39;, &#39;goat&#39;}&#45;&gt;{&#39;goat&#39;} -->\n",
       "<g id=\"edge13\" class=\"edge\">\n",
       "<title>{&#39;farmer&#39;, &#39;cabbage&#39;, &#39;goat&#39;}&#45;&gt;{&#39;goat&#39;}</title>\n",
       "<path fill=\"none\" stroke=\"#000000\" d=\"M227.5347,-324.0467C218.6668,-333.7329 206.5947,-345.7498 195.4906,-355.9823\"/>\n",
       "<polygon fill=\"#000000\" stroke=\"#000000\" points=\"193.0903,-353.4338 188.009,-362.7307 197.7788,-358.6317 193.0903,-353.4338\"/>\n",
       "</g>\n",
       "<!-- set()&#45;&gt;{&#39;farmer&#39;, &#39;goat&#39;} -->\n",
       "<g id=\"edge16\" class=\"edge\">\n",
       "<title>set()&#45;&gt;{&#39;farmer&#39;, &#39;goat&#39;}</title>\n",
       "<path fill=\"none\" stroke=\"#000000\" d=\"M98.3673,-393.479C104.2439,-402.0063 110.7161,-412.84 115.9366,-422.7363\"/>\n",
       "<polygon fill=\"#000000\" stroke=\"#000000\" points=\"112.8863,-424.4616 120.4979,-431.8314 119.1435,-421.3235 112.8863,-424.4616\"/>\n",
       "</g>\n",
       "<!-- {&#39;wolf&#39;, &#39;cabbage&#39;, &#39;farmer&#39;}&#45;&gt;{&#39;wolf&#39;} -->\n",
       "<g id=\"edge20\" class=\"edge\">\n",
       "<title>{&#39;wolf&#39;, &#39;cabbage&#39;, &#39;farmer&#39;}&#45;&gt;{&#39;wolf&#39;}</title>\n",
       "<path fill=\"none\" stroke=\"#000000\" d=\"M221.8747,-144.2022C214.8537,-135.8079 207.1509,-125.6218 200.7625,-116.3558\"/>\n",
       "<polygon fill=\"#000000\" stroke=\"#000000\" points=\"203.5551,-114.2344 195.1055,-107.8425 197.7248,-118.1085 203.5551,-114.2344\"/>\n",
       "</g>\n",
       "<!-- {&#39;wolf&#39;, &#39;cabbage&#39;, &#39;farmer&#39;}&#45;&gt;{&#39;cabbage&#39;, &#39;wolf&#39;} -->\n",
       "<g id=\"edge11\" class=\"edge\">\n",
       "<title>{&#39;wolf&#39;, &#39;cabbage&#39;, &#39;farmer&#39;}&#45;&gt;{&#39;cabbage&#39;, &#39;wolf&#39;}</title>\n",
       "<path fill=\"none\" stroke=\"#000000\" d=\"M257.2231,-144.2022C268.0075,-134.8221 282.3842,-123.2047 295.6229,-113.134\"/>\n",
       "<polygon fill=\"#000000\" stroke=\"#000000\" points=\"297.7741,-115.8956 303.6765,-107.0972 293.5756,-110.2945 297.7741,-115.8956\"/>\n",
       "</g>\n",
       "<!-- {&#39;wolf&#39;, &#39;cabbage&#39;, &#39;farmer&#39;}&#45;&gt;{&#39;cabbage&#39;} -->\n",
       "<g id=\"edge10\" class=\"edge\">\n",
       "<title>{&#39;wolf&#39;, &#39;cabbage&#39;, &#39;farmer&#39;}&#45;&gt;{&#39;cabbage&#39;}</title>\n",
       "<path fill=\"none\" stroke=\"#000000\" d=\"M246.6118,-180.4133C247.2437,-188.1442 247.3261,-197.3097 246.8876,-205.8545\"/>\n",
       "<polygon fill=\"#000000\" stroke=\"#000000\" points=\"243.398,-205.5859 246.0963,-215.8314 250.3761,-206.1394 243.398,-205.5859\"/>\n",
       "</g>\n",
       "<!-- {&#39;wolf&#39;, &#39;farmer&#39;, &#39;cabbage&#39;, &#39;goat&#39;}&#45;&gt;{&#39;cabbage&#39;, &#39;wolf&#39;} -->\n",
       "<g id=\"edge6\" class=\"edge\">\n",
       "<title>{&#39;wolf&#39;, &#39;farmer&#39;, &#39;cabbage&#39;, &#39;goat&#39;}&#45;&gt;{&#39;cabbage&#39;, &#39;wolf&#39;}</title>\n",
       "<path fill=\"none\" stroke=\"#000000\" d=\"M343.5659,-36.4133C343.3388,-44.1442 342.4028,-53.3097 341.0149,-61.8545\"/>\n",
       "<polygon fill=\"#000000\" stroke=\"#000000\" points=\"337.5475,-61.3531 339.1151,-71.8314 344.424,-62.6626 337.5475,-61.3531\"/>\n",
       "</g>\n",
       "<!-- {&#39;goat&#39;}&#45;&gt;{&#39;farmer&#39;, &#39;goat&#39;} -->\n",
       "<g id=\"edge12\" class=\"edge\">\n",
       "<title>{&#39;goat&#39;}&#45;&gt;{&#39;farmer&#39;, &#39;goat&#39;}</title>\n",
       "<path fill=\"none\" stroke=\"#000000\" d=\"M162.2823,-396.0931C158.219,-404.4656 152.5169,-414.5718 146.7225,-423.7603\"/>\n",
       "<polygon fill=\"#000000\" stroke=\"#000000\" points=\"143.744,-421.92 141.1893,-432.2022 149.5985,-425.7573 143.744,-421.92\"/>\n",
       "</g>\n",
       "<!-- {&#39;goat&#39;}&#45;&gt;{&#39;wolf&#39;, &#39;farmer&#39;, &#39;goat&#39;} -->\n",
       "<g id=\"edge4\" class=\"edge\">\n",
       "<title>{&#39;goat&#39;}&#45;&gt;{&#39;wolf&#39;, &#39;farmer&#39;, &#39;goat&#39;}</title>\n",
       "<path fill=\"none\" stroke=\"#000000\" d=\"M144.4284,-363.0799C133.6022,-352.8253 121.6704,-338.4907 113.8916,-324 94.0781,-287.0908 85.8916,-275.8911 85.8916,-234 85.8916,-234 85.8916,-234 85.8916,-162 85.8916,-121.876 85.8916,-75.4631 88.1093,-46.4177\"/>\n",
       "<polygon fill=\"#000000\" stroke=\"#000000\" points=\"91.6199,-46.4694 89.0725,-36.1854 84.6507,-45.8133 91.6199,-46.4694\"/>\n",
       "</g>\n",
       "<!-- {&#39;goat&#39;}&#45;&gt;{&#39;farmer&#39;, &#39;cabbage&#39;, &#39;goat&#39;} -->\n",
       "<g id=\"edge15\" class=\"edge\">\n",
       "<title>{&#39;goat&#39;}&#45;&gt;{&#39;farmer&#39;, &#39;cabbage&#39;, &#39;goat&#39;}</title>\n",
       "<path fill=\"none\" stroke=\"#000000\" d=\"M178.6846,-360.5708C186.8586,-351.5955 197.9203,-340.4996 208.4442,-330.6617\"/>\n",
       "<polygon fill=\"#000000\" stroke=\"#000000\" points=\"210.9569,-333.1064 215.9631,-323.7689 206.2266,-327.9464 210.9569,-333.1064\"/>\n",
       "</g>\n",
       "</g>\n",
       "</svg>\n"
      ],
      "text/plain": [
       "<graphviz.dot.Digraph at 0x10e9c56d8>"
      ]
     },
     "execution_count": 16,
     "metadata": {},
     "output_type": "execute_result"
    }
   ],
   "source": [
    "dot = dot_graph(R)\n",
    "dot"
   ]
  },
  {
   "cell_type": "code",
   "execution_count": 17,
   "metadata": {},
   "outputs": [
    {
     "data": {
      "text/plain": [
       "'wolf-goat-cabbage.pdf'"
      ]
     },
     "execution_count": 17,
     "metadata": {},
     "output_type": "execute_result"
    }
   ],
   "source": [
    "dot.render('wolf-goat-cabbage')"
   ]
  },
  {
   "cell_type": "markdown",
   "metadata": {},
   "source": [
    "At the beginning everything is on the left shore and nothing is on the right shore.   The goal is to have everybody on the right shore.  In that case, the left shore will be empty."
   ]
  },
  {
   "cell_type": "code",
   "execution_count": 18,
   "metadata": {},
   "outputs": [
    {
     "data": {
      "text/plain": [
       "(frozenset({'cabbage', 'farmer', 'goat', 'wolf'}),\n",
       " frozenset({'cabbage', 'wolf'}),\n",
       " frozenset({'cabbage', 'farmer', 'wolf'}),\n",
       " frozenset({'cabbage'}),\n",
       " frozenset({'cabbage', 'farmer', 'goat'}),\n",
       " frozenset({'goat'}),\n",
       " frozenset({'farmer', 'goat'}),\n",
       " frozenset())"
      ]
     },
     "execution_count": 18,
     "metadata": {},
     "output_type": "execute_result"
    }
   ],
   "source": [
    "start = All\n",
    "goal  = frozenset()\n",
    "Path  = findPath(start, goal, R)\n",
    "Path"
   ]
  },
  {
   "cell_type": "markdown",
   "metadata": {},
   "source": [
    "## Auxiliary Code for Pretty Printing"
   ]
  },
  {
   "cell_type": "markdown",
   "metadata": {},
   "source": [
    "The following code is used for printing the path that has been found.  We won't discuss the details of these functions."
   ]
  },
  {
   "cell_type": "code",
   "execution_count": 19,
   "metadata": {},
   "outputs": [
    {
     "name": "stdout",
     "output_type": "stream",
     "text": [
      "{'wolf', 'cabbage', 'goat', 'farmer'}                                   {}\n",
      "                         >>>>  frozenset({'farmer', 'goat'})  >>>> \n",
      "{'cabbage', 'wolf'}                                     {'farmer', 'goat'}\n",
      "                         <<<<  frozenset({'farmer'})  <<<< \n",
      "{'wolf', 'cabbage', 'farmer'}                                     {'goat'}\n",
      "                         >>>>  frozenset({'farmer', 'wolf'})  >>>> \n",
      "{'cabbage'}                                     {'goat', 'farmer', 'wolf'}\n",
      "                         <<<<  frozenset({'farmer', 'goat'})  <<<< \n",
      "{'farmer', 'cabbage', 'goat'}                                     {'wolf'}\n",
      "                         >>>>  frozenset({'cabbage', 'farmer'})  >>>> \n",
      "{'goat'}                                     {'farmer', 'cabbage', 'wolf'}\n",
      "                         <<<<  frozenset({'farmer'})  <<<< \n",
      "{'farmer', 'goat'}                                     {'cabbage', 'wolf'}\n",
      "                         >>>>  frozenset({'goat', 'farmer'})  >>>> \n",
      "{}                                   {'wolf', 'cabbage', 'goat', 'farmer'}\n"
     ]
    }
   ],
   "source": [
    "def mkPair(S, All):\n",
    "    \"Given the left shore, compute both the left shore and the right shore.\"\n",
    "    return (S, All - S);\n",
    "\n",
    "def my_str(s):\n",
    "    \"Print frozen sets as sets.\"\n",
    "    if len(s) == 0:\n",
    "        return \"{}\"\n",
    "    else:\n",
    "        return str(set(s))\n",
    "    \n",
    "def printPath(Path, All):\n",
    "    \"print the path one transition at a time\"\n",
    "    for i in range(len(Path)):\n",
    "        (S1, S2) = mkPair(Path[i], All)\n",
    "        if (len(S1) == 0 or len(S2) == 0):\n",
    "            print(my_str(S1), 33 * \" \", my_str(S2))\n",
    "        else:\n",
    "            print(my_str(S1), 35 * \" \", my_str(S2))\n",
    "        if i + 1 == len(Path): \n",
    "            break\n",
    "        (T1, T2) = mkPair(Path[i+1], All)        \n",
    "        if \"farmer\" in S1:\n",
    "            B = S1 - T1  # the boat crossing from left to right\n",
    "            print(\"                         >>>> \", B, \" >>>> \")\n",
    "        else:\n",
    "            B = S2 - T2  # the boat crossing from right to left\n",
    "            print(\"                         <<<< \", B, \" <<<< \")\n",
    "printPath(Path, All)"
   ]
  }
 ],
 "metadata": {
  "kernelspec": {
   "display_name": "Python 3",
   "language": "python",
   "name": "python3"
  },
  "language_info": {
   "codemirror_mode": {
    "name": "ipython",
    "version": 3
   },
   "file_extension": ".py",
   "mimetype": "text/x-python",
   "name": "python",
   "nbconvert_exporter": "python",
   "pygments_lexer": "ipython3",
   "version": "3.6.5"
  }
 },
 "nbformat": 4,
 "nbformat_minor": 2
}
