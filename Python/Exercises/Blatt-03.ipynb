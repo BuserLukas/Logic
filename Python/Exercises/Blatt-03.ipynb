{
 "cells": [
  {
   "cell_type": "code",
   "execution_count": 1,
   "metadata": {},
   "outputs": [
    {
     "data": {
      "text/html": [
       "<style>\n",
       "        .container { width:100% !important }\n",
       "        </style>\n",
       "     "
      ],
      "text/plain": [
       "<IPython.core.display.HTML object>"
      ]
     },
     "execution_count": 1,
     "metadata": {},
     "output_type": "execute_result"
    }
   ],
   "source": [
    "from IPython.core.display import HTML\n",
    "HTML('''<style>\n",
    "        .container { width:100% !important }\n",
    "        </style>\n",
    "     ''')"
   ]
  },
  {
   "cell_type": "markdown",
   "metadata": {},
   "source": [
    "# Japanischer Intelligenz-Test"
   ]
  },
  {
   "cell_type": "markdown",
   "metadata": {},
   "source": [
    "Im Internet finden Sie unter der Adresse\n",
    "<a href=\"https://www.pedagonet.com/Fun/flashgame185.htm\">https://www.pedagonet.com/Fun/flashgame185.htm</a>\n",
    "eine Animation einer Denksport-Aufgabe, die Sie mit Hilfe eines Programmes lösen sollen.\n",
    "Es geht bei der Aufgabe wieder darum, dass Personen über einen Fluss übersetzen sollen\n",
    "und dafür nur ein Boot haben, in dem maximal zwei Personen Platz haben.\n",
    "Bei den Personen handelt es sich um eine Mutter mit zwei Töchtern, einen Vater mit zwei\n",
    "Söhnen, einen Polizisten und einen Verbrecher.\n",
    "Bei der Überfahrt sind die folgenden Nebenbedingungen zu beachten:\n",
    "<ol>\n",
    "<li> Der Vater darf nicht ohne die Mutter mit einer der Töchter an einem Ufer sein. </li>\n",
    "<li> Die Mutter darf nicht ohne den Vater mit einem der Söhne an einem Ufer sein.   </li>\n",
    "<li> Wenn der Verbrecher nicht allein ist, dann muss der Polizist auf ihn aufpassen.\n",
    "      Der Verbrecher darf aber alleine sein, denn seine Fußfesseln verhindern, \n",
    "      dass er weglaufen kann. </li>\n",
    "<li> Nur der Vater, die Mutter und der Polizist können das Boot steuern. </li>\n",
    "</ol>"
   ]
  },
  {
   "cell_type": "markdown",
   "metadata": {},
   "source": [
    "## Hilfsfunktionen"
   ]
  },
  {
   "cell_type": "markdown",
   "metadata": {},
   "source": [
    "Die Funktion <tt>dot_graph</tt> erzeugt stellt die binäre Relation <tt>R</tt> als Graph dar."
   ]
  },
  {
   "cell_type": "code",
   "execution_count": 2,
   "metadata": {},
   "outputs": [],
   "source": [
    "import graphviz as gv\n",
    "\n",
    "def dot_graph(R):\n",
    "    \"\"\"This function takes binary relation R as inputs and shows this relation as\n",
    "       a graph using the module graphviz.\n",
    "    \"\"\"\n",
    "    dot = gv.Digraph()\n",
    "    Nodes = { p[0] for p in R } | { p[1] for p in R }\n",
    "    for n in Nodes:\n",
    "        dot.node(str(set(n)))\n",
    "    for (x, y) in R:\n",
    "        dot.edge(str(set(x)), str(set(y)))\n",
    "    return dot"
   ]
  },
  {
   "cell_type": "markdown",
   "metadata": {},
   "source": [
    "Die Funktion $\\texttt{power}(M)$ berechnet die Potenz-Menge von $M$, es gilt:\n",
    "$$ \\texttt{power}(M) = 2^M = \\bigl\\{A \\mid A \\subseteq M \\} $$"
   ]
  },
  {
   "cell_type": "code",
   "execution_count": 3,
   "metadata": {},
   "outputs": [],
   "source": [
    "def power(M):\n",
    "    \"This function computes the power set of the set M.\"\n",
    "    if M == set():\n",
    "        return { frozenset() }\n",
    "    else:\n",
    "        C  = set(M)  # C is a copy of M as we don't want to change the set M\n",
    "        x  = C.pop() # pop removes the element x from the set C\n",
    "        P1 = power(C)\n",
    "        P2 = { A | {x} for A in P1 }\n",
    "        return P1 | P2"
   ]
  },
  {
   "cell_type": "markdown",
   "metadata": {},
   "source": [
    "Die Funktion <tt>pathProduct</tt> nimmt eine Menge von Pfaden <tt>P<tt> und eine binäre Relation <tt>R</tt> als Argumente.  Falls es einen Pfad $L \\in P$ der Form $L = (x_1, \\cdots, x_n)$ gibt und außerdem ein Paar $(x_n, x_{n+1}) \\in R$ existiert, dann ist der Pfad $(x_1, \\cdots, x_n, x_{n+1})$ ein Element der Menge von Pfaden, die von dieser Funktion berechnet wird."
   ]
  },
  {
   "cell_type": "code",
   "execution_count": 4,
   "metadata": {},
   "outputs": [],
   "source": [
    "def pathProduct(P, R):\n",
    "    return { T1 + (T2[1],) for T1 in P for T2 in R \n",
    "                           if T1[-1] == T2[0] and not T2[-1] in T1 \n",
    "           }"
   ]
  },
  {
   "cell_type": "markdown",
   "metadata": {},
   "source": [
    "Die Funktion <tt>findPath</tt> erwartet drei Argumente:\n",
    "<ol>\n",
    "    <li><tt>start</tt> ist ein Knoten im Graph <tt>R</tt>. </li>\n",
    "    <li><tt>goal</tt>  ist ebenfals ein Knoten im Graph <tt>R</tt>. </li>\n",
    "    <li><tt>R</tt> ist ein Graph, der als binäre Relation dargestellt wird. </li>\n",
    "</ol>\n",
    "Die Funktion $\\texttt{findPath}(\\texttt{start}, \\texttt{goal}, \\texttt{R})$ versucht, einen Pfad zu berechnen, der von <tt>start</tt> zu <tt>goal</tt> führt.  Falls kein Pfad gefunden wird, wird <tt>None</tt> als Ergebnis zurück gegeben."
   ]
  },
  {
   "cell_type": "code",
   "execution_count": 5,
   "metadata": {},
   "outputs": [],
   "source": [
    "def findPath(start, goal, R):\n",
    "    \"\"\"\n",
    "    start and goal are nodes in a graph, while R is a set of pairs of nodes.\n",
    "    R is interpreted as a relation.  The function findPath tries to find\n",
    "    a path from start to goal.\n",
    "    \"\"\"\n",
    "    Paths = { (start,)}                      # pathes beginning at start\n",
    "    while len(Paths) > 0:                         \n",
    "        Paths = pathProduct(Paths, R)\n",
    "        Found = { T for T in Paths if T[-1] == goal }\n",
    "        if Found != set():\n",
    "            return Found.pop()"
   ]
  },
  {
   "cell_type": "markdown",
   "metadata": {},
   "source": [
    "## Spezifikation des Rätsels"
   ]
  },
  {
   "cell_type": "code",
   "execution_count": null,
   "metadata": {},
   "outputs": [],
   "source": [
    "All = { \"Polizist\", \"Ganove\", \"Mutter\", \"Vater\", \n",
    "        \"Anton\", \"Bruno\", \"Cindy\", \"Doris\", \"Floß\" \n",
    "      }\n",
    "All = frozenset(All)"
   ]
  },
  {
   "cell_type": "markdown",
   "metadata": {},
   "source": [
    "In den folgenden Fällen gibt es ein Problem:\n",
    "<ol>\n",
    "<li> Der Vater ist mit einer der der Töchter an einem Ufer und die Mutter ist am anderen Ufer. </li>\n",
    "<li> Die Mutter ist mit einem der Söhne an einem Ufer und der Vater ist am anderen Ufer.       </li>\n",
    "<li> Der Verbrecher ist mit Vater, Mutter oder einem der Kinder an einem Ufer und der Polizist ist am anderen Ufer. </li>\n",
    "</ol>"
   ]
  },
  {
   "cell_type": "code",
   "execution_count": null,
   "metadata": {},
   "outputs": [],
   "source": [
    "def problem(S):\n",
    "    \"your code here\""
   ]
  },
  {
   "cell_type": "markdown",
   "metadata": {},
   "source": [
    "<tt>States</tt> is the set of all states that do not have a problem."
   ]
  },
  {
   "cell_type": "code",
   "execution_count": null,
   "metadata": {},
   "outputs": [],
   "source": [
    "States = \"your code here\""
   ]
  },
  {
   "cell_type": "markdown",
   "metadata": {},
   "source": [
    "There are 140 different states."
   ]
  },
  {
   "cell_type": "code",
   "execution_count": null,
   "metadata": {},
   "outputs": [],
   "source": [
    "len(States)"
   ]
  },
  {
   "cell_type": "markdown",
   "metadata": {},
   "source": [
    "<tt>R1</tt> decribes the transitions where the boat crosses the river from left to right."
   ]
  },
  {
   "cell_type": "code",
   "execution_count": null,
   "metadata": {},
   "outputs": [],
   "source": [
    "R1 = \"your code here\""
   ]
  },
  {
   "cell_type": "markdown",
   "metadata": {},
   "source": [
    "<tt>R1</tt> has 100 elements."
   ]
  },
  {
   "cell_type": "code",
   "execution_count": null,
   "metadata": {},
   "outputs": [],
   "source": [
    "len(R1)"
   ]
  },
  {
   "cell_type": "markdown",
   "metadata": {},
   "source": [
    "<tt>R2</tt> is the inverse of <tt>R1</tt>."
   ]
  },
  {
   "cell_type": "code",
   "execution_count": null,
   "metadata": {},
   "outputs": [],
   "source": [
    "R2 = \"your code here\""
   ]
  },
  {
   "cell_type": "code",
   "execution_count": null,
   "metadata": {},
   "outputs": [],
   "source": [
    "R = R1 | R2"
   ]
  },
  {
   "cell_type": "code",
   "execution_count": null,
   "metadata": {},
   "outputs": [],
   "source": [
    "dot = dot_graph(R)"
   ]
  },
  {
   "cell_type": "code",
   "execution_count": null,
   "metadata": {},
   "outputs": [],
   "source": [
    "dot.render('graph', view=True)  "
   ]
  },
  {
   "cell_type": "markdown",
   "metadata": {},
   "source": [
    "Am Anfang sind alle am linken Ufer, am Ende sollen alle auf dem rechten Ufer sein."
   ]
  },
  {
   "cell_type": "code",
   "execution_count": null,
   "metadata": {},
   "outputs": [],
   "source": [
    "start = \"your code here\"\n",
    "goal  = \"your code here\"\n",
    "Path  = findPath(start, goal, R)\n",
    "for x in Path:\n",
    "    print(set(x))"
   ]
  },
  {
   "cell_type": "markdown",
   "metadata": {},
   "source": [
    "Zur Lösung des Problems sind 17 Überfahrten notwendig.  Die Liste <tt>Path</tt> hat also die Länge 18. "
   ]
  },
  {
   "cell_type": "code",
   "execution_count": null,
   "metadata": {},
   "outputs": [],
   "source": [
    "len(Path)"
   ]
  },
  {
   "cell_type": "markdown",
   "metadata": {},
   "source": [
    "## Hilfsfunktionen zum Ausdrucken der Lösung"
   ]
  },
  {
   "cell_type": "markdown",
   "metadata": {},
   "source": [
    "Die folgenden Funktionen dienen dazu, den berechneten Pfad schöner ausdrucken zu können.  Hier brauchen Sie nichts verändern, es reicht aus, diese Funktionen auszuführen."
   ]
  },
  {
   "cell_type": "code",
   "execution_count": null,
   "metadata": {},
   "outputs": [],
   "source": [
    "def shorten(S):\n",
    "    \"\"\"\n",
    "    Shorten all strings in the set S to one character and turn S in to a \n",
    "    sorted list.\n",
    "    \"\"\"\n",
    "    return sorted([ w[0] for w in S ])"
   ]
  },
  {
   "cell_type": "code",
   "execution_count": null,
   "metadata": {},
   "outputs": [],
   "source": [
    "def mkPair(S, All):\n",
    "    \"Given the left shore, compute both the left shore and the right shore.\"\n",
    "    return (S, All - S);\n",
    "\n",
    "def my_str(s):\n",
    "    \"Print frozen sets as sets.\"\n",
    "    if len(s) == 0:\n",
    "        return \"[]\"\n",
    "    else:\n",
    "        return str(shorten(s))\n",
    "    \n",
    "def printPath(Path, All):\n",
    "    \"print the path one transition at a time\"\n",
    "    for i in range(len(Path)):\n",
    "        (S1, S2) = mkPair(Path[i], All)\n",
    "        if (len(S1) == 0 or len(S2) == 0):\n",
    "            print(my_str(S1), 33 * \" \", my_str(S2))\n",
    "        else:\n",
    "            print(my_str(S1), 35 * \" \", my_str(S2))\n",
    "        if i + 1 == len(Path): \n",
    "            break\n",
    "        (T1, T2) = mkPair(Path[i+1], All)        \n",
    "        if \"Floß\" in S1:\n",
    "            B = S1 - T1  # the boat crossing from left to right\n",
    "            print(\"                         >>>> \", my_str(B-{\"Floß\"}), \" >>>> \")\n",
    "        else:\n",
    "            B = S2 - T2  # the boat crossing from right to left\n",
    "            print(\"                         <<<< \", my_str(B-{\"Floß\"}), \" <<<< \")\n",
    "            "
   ]
  },
  {
   "cell_type": "code",
   "execution_count": null,
   "metadata": {},
   "outputs": [],
   "source": [
    "printPath(Path, All)"
   ]
  }
 ],
 "metadata": {
  "hide_input": false,
  "kernelspec": {
   "display_name": "Python 3",
   "language": "python",
   "name": "python3"
  },
  "language_info": {
   "codemirror_mode": {
    "name": "ipython",
    "version": 3
   },
   "file_extension": ".py",
   "mimetype": "text/x-python",
   "name": "python",
   "nbconvert_exporter": "python",
   "pygments_lexer": "ipython3",
   "version": "3.6.7"
  },
  "toc": {
   "base_numbering": 1,
   "nav_menu": {},
   "number_sections": true,
   "sideBar": true,
   "skip_h1_title": false,
   "title_cell": "Table of Contents",
   "title_sidebar": "Contents",
   "toc_cell": false,
   "toc_position": {},
   "toc_section_display": true,
   "toc_window_display": false
  },
  "varInspector": {
   "cols": {
    "lenName": 16,
    "lenType": 16,
    "lenVar": 40
   },
   "kernels_config": {
    "python": {
     "delete_cmd_postfix": "",
     "delete_cmd_prefix": "del ",
     "library": "var_list.py",
     "varRefreshCmd": "print(var_dic_list())"
    },
    "r": {
     "delete_cmd_postfix": ") ",
     "delete_cmd_prefix": "rm(",
     "library": "var_list.r",
     "varRefreshCmd": "cat(var_dic_list()) "
    }
   },
   "types_to_exclude": [
    "module",
    "function",
    "builtin_function_or_method",
    "instance",
    "_Feature"
   ],
   "window_display": false
  }
 },
 "nbformat": 4,
 "nbformat_minor": 2
}
