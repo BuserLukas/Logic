{
 "cells": [
  {
   "cell_type": "markdown",
   "metadata": {},
   "source": [
    "# Aufgaben-Blatt Nr. 1"
   ]
  },
  {
   "cell_type": "markdown",
   "metadata": {},
   "source": [
    "## Aufgabe 1:"
   ]
  },
  {
   "cell_type": "markdown",
   "metadata": {},
   "source": [
    "Eine Zahl $m\\in \\mathbb{N}$ ist ein *echter Teiler* einer Zahl\n",
    "$n \\in \\mathbb{N}$ genau dann, wenn $m$ ein Teiler von $n$ ist und wenn außerdem $m < n$ gilt.\n",
    "\n",
    "Eine Zahl $n \\in \\mathbb{N}$ heißt *perfekt*, wenn $n$ gleich der Summe aller echten Teiler von\n",
    "$n$ ist. Zum Beispiel ist die Zahl $6$ perfekt, denn  die Menge der echten Teiler\n",
    "von 6 ist $\\{1,2,3\\}$ und es gilt $1 + 2 + 3 = 6$.\n",
    "<ol>\n",
    "<li>  Implementieren Sie eine Prozedur $\\texttt{echteTeiler}$, so dass der Aufruf\n",
    "      $\\texttt{echteTeiler}(n)$ für eine natürliche Zahl $n$ die Menge aller echten Teiler von\n",
    "      $n$ berechnet.  Beispielsweise soll gelten:\n",
    "      $$ \\texttt{echteTeiler}(8) = \\{1, 2, 3\\} $$\n",
    "      </li>\n",
    "<li>  Berechnen Sie die Menge aller perfekten Zahlen, die kleiner als $10\\,000$ sind.\n",
    "      </li>\n",
    "</ol>"
   ]
  },
  {
   "cell_type": "code",
   "execution_count": 5,
   "metadata": {
    "collapsed": true
   },
   "outputs": [],
   "source": [
    "def echteTeiler(n):\n",
    "    \"Diese Funktion berechnet die Menge aller echten Teiler der Zahl n.\"\n",
    "    \"your code here\""
   ]
  },
  {
   "cell_type": "code",
   "execution_count": null,
   "metadata": {
    "collapsed": true
   },
   "outputs": [],
   "source": [
    "def perfectNumbers(n):\n",
    "    \"This function computes the set of all perfect numbers less than n.\"\n",
    "    \"your code here\""
   ]
  },
  {
   "cell_type": "markdown",
   "metadata": {},
   "source": [
    "## Aufgabe 2:"
   ]
  },
  {
   "cell_type": "markdown",
   "metadata": {},
   "source": [
    "Ein Tupel der Form $\\langle a, b, c \\rangle$ wird als \n",
    "*geordnetes <a href=\"http://de.wikipedia.org/wiki/Pythagoreisches_Tripel\">pythagoreisches Tripel</a>*\n",
    "bezeichnet, wenn sowohl\n",
    "$$ a^2 + b^2 = c^2 \\quad \\mbox{als auch} \\quad a < b $$\n",
    "gilt.  Beispielsweise ist $\\langle 3,4,5 \\rangle$ ein geordnetes pythagoreisches Tripel, denn einerseits ist \n",
    "$3^2 + 4^2 = 5^2$ und andererseits gilt $3 < 4$.\n",
    "<ol>\n",
    "<li>  Implementieren Sie eine Prozedur $\\texttt{pythagoras}$, so dass der Aufruf\n",
    "      $$\\texttt{pythagoras}(n)$$\n",
    "      für eine natürliche Zahl $n$ die Menge aller geordneten  pythagoreischen Tripel $\\langle a,b,c \\rangle$\n",
    "      berechnet, für die $c \\leq n$ ist.\n",
    "      </li>\n",
    "<li>  Ein pythagoreisches Tripel $\\langle a,b,c \\rangle$ ist ein *reduziertes* Tripel, wenn\n",
    "      die Zahlen $a$, $b$ und $c$ keinen *nicht-trivialen* gemeinsamen Teiler haben.  \n",
    "      Ein *nicht-trivaler* gemeinsamer Teiler ist eine Teiler, der größer als $1$ ist.\n",
    "      Implementieren Sie eine Funktion <tt>isReduced</tt>, die als Argumente drei natürliche Zahlen \n",
    "      $a$, $b$ und $c$ erhält und die genau dann $\\texttt{True}$ als Ergebnis zurück liefert,\n",
    "      wenn das Tripel $\\langle a, b, c\\rangle$ reduziert ist.\n",
    "      </li>     \n",
    "<li>  Implementieren Sie eine Prozedur $\\texttt{reducedPythagoras}$, so dass der Aufruf\n",
    "      $$\\texttt{reducedPythagoras}(n)$$\n",
    "      die Menge aller geordneten pythagoreischen Tripel $\\langle a,b,c \\rangle$ berechnet, die reduziert sind.\n",
    "      Berechnen Sie mit dieser Prozedur alle reduzierten geordneten pythagoreischen Tripel\n",
    "      $\\langle a,b,c \\rangle$, für die $c \\leq 50$ ist. \n",
    "      </li>\n",
    "</ol>\n"
   ]
  },
  {
   "cell_type": "code",
   "execution_count": 1,
   "metadata": {},
   "outputs": [],
   "source": [
    "def pythagoras(n):\n",
    "    \"your code here\""
   ]
  },
  {
   "cell_type": "code",
   "execution_count": 6,
   "metadata": {
    "collapsed": true
   },
   "outputs": [],
   "source": [
    "def isReduced(a, b, c):\n",
    "    \"your code here\""
   ]
  },
  {
   "cell_type": "code",
   "execution_count": 7,
   "metadata": {
    "collapsed": true
   },
   "outputs": [],
   "source": [
    "def reducedPythagoras(n):\n",
    "    \"your code here\""
   ]
  },
  {
   "cell_type": "markdown",
   "metadata": {},
   "source": [
    "## Aufgabe 3:"
   ]
  },
  {
   "cell_type": "markdown",
   "metadata": {},
   "source": [
    "Implementieren Sie  eine Prozedur $\\texttt{kgv}$, so dass der Aufruf\n",
    "$\\texttt{kgv}(m,n)$ für zwei natürliche  Zahlen $m$ und $n$ das \n",
    "<a href=\"https://de.wikipedia.org/wiki/Kleinstes_gemeinsames_Vielfaches\">kleinste gemeinsame Vielfache</a>\n",
    "der Zahlen $m$ und $n$ berechnet. \n",
    "\n",
    "**Hinweis**: Es gilt $\\texttt{kgv}(m,n) \\leq m \\cdot n$.\n"
   ]
  },
  {
   "cell_type": "code",
   "execution_count": 9,
   "metadata": {
    "collapsed": true
   },
   "outputs": [],
   "source": [
    "def kgv(m, n):\n",
    "    \"your code here\""
   ]
  },
  {
   "cell_type": "markdown",
   "metadata": {},
   "source": [
    "## Aufgabe 4:"
   ]
  },
  {
   "cell_type": "markdown",
   "metadata": {},
   "source": [
    "<ol>\n",
    "<li>  Implementieren Sie eine Funktion $\\texttt{subsets}$, so dass $\\texttt{subsets}(M, k)$ für eine\n",
    "      Menge $M$ und eine natürliche Zahl $k$ die Menge aller der Teilmengen von $M$ berechnet, die\n",
    "      genau $k$ Elemente haben.\n",
    "\n",
    "      **Hinweis**:  Versuchen Sie, die Funktion  $\\texttt{subsets}(M, k)$ rekursiv zu\n",
    "      implementieren.\n",
    "      </li>\n",
    "<li>  Geben Sie eine Implementierung der Funktion $\\texttt{power}$ an, bei der Sie die Funktion\n",
    "      \\texttt{subsets} aus dem ersten Teil dieser Aufgabe verwenden.  Für eine Menge $M$ soll die Funktion\n",
    "      $\\texttt{power}(M)$ die Potenz-Menge $2^M$ berechnen.\n",
    "      </li> \n",
    "</ol>\n"
   ]
  },
  {
   "cell_type": "code",
   "execution_count": 11,
   "metadata": {
    "collapsed": true
   },
   "outputs": [],
   "source": [
    "def subsets(M, k):\n",
    "    \"your code here\""
   ]
  },
  {
   "cell_type": "code",
   "execution_count": 12,
   "metadata": {
    "collapsed": true
   },
   "outputs": [],
   "source": [
    "def power(M):\n",
    "    \"your code here\""
   ]
  },
  {
   "cell_type": "markdown",
   "metadata": {},
   "source": [
    "## Aufgabe 5:"
   ]
  },
  {
   "cell_type": "markdown",
   "metadata": {},
   "source": [
    "Nehmen Sie an, ein Spieler hat im Poker (Texas Hold'em) die beiden\n",
    "Karten $\\langle 8, \\texttt{\"h\"}\\rangle$ und $\\langle 9, \\texttt{\"h\"}\\rangle$ erhalten.  Schreiben Sie ein\n",
    "Programm, dass die folgenden Fragen beantworten.\n",
    "<ol>\n",
    "<li>  Wie groß ist die Wahrscheinlichkeit, dass im Flop wenigsten zwei weitere Karten\n",
    "      der Farbe $\\texttt{\"h\"}$ liegen?\n",
    "      </li>\n",
    "<li>  Wie groß ist die Wahrscheinlichkeit, dass alle drei Karten im Flop\n",
    "      die Farbe $\\texttt{\"h\"}$ haben?\n",
    "      </li>\n",
    "</ol>\n"
   ]
  },
  {
   "cell_type": "code",
   "execution_count": null,
   "metadata": {
    "collapsed": true
   },
   "outputs": [],
   "source": []
  },
  {
   "cell_type": "code",
   "execution_count": null,
   "metadata": {
    "collapsed": true
   },
   "outputs": [],
   "source": []
  },
  {
   "cell_type": "markdown",
   "metadata": {},
   "source": [
    "## Aufgabe 6:"
   ]
  },
  {
   "cell_type": "markdown",
   "metadata": {},
   "source": [
    "Ein <a href=\"https://de.wikipedia.org/wiki/Anagramm\">Anagramm</a> eines gegebenen Wortes $v$ ist ein Wort $w$, dass\n",
    "aus dem Wort $v$ durch Umstellung von Buchstaben entsteht.  Beispielsweise ist das Wort \n",
    "$\\texttt{\"atlas\"}$ ein\n",
    "Anagramm des Wortes \"$\\texttt{salat}$\".  Implementieren Sie eine Funktion $\\texttt{anagram}(s)$, die für ein\n",
    "gegebenes Wort $s$ alle Wörter berechnet, die sich aus dem Wort $s$ durch Umstellung von Buchstaben\n",
    "ergeben.  Die Menge dieser Wörter soll dann als Ergebnis zurück gegeben werden.  Es ist nicht gefordert, dass\n",
    "die Anagramme sinnvolle Wörter der deutschen Sprache sind.  Beispielsweise ist auch das Wort \"$\\texttt{talas}$\"\n",
    "ein Anagramm des Wortes \"$\\texttt{salat}$\".\n"
   ]
  },
  {
   "cell_type": "code",
   "execution_count": 13,
   "metadata": {
    "collapsed": true
   },
   "outputs": [],
   "source": [
    "def anagram(s):\n",
    "    \"your code here\""
   ]
  },
  {
   "cell_type": "markdown",
   "metadata": {},
   "source": [
    "## Aufgabe 7:"
   ]
  },
  {
   "cell_type": "markdown",
   "metadata": {},
   "source": [
    "Nehmen Sie an, dass Sie $n$ Würfel haben, deren Seiten mit den Zahlen 1 bis 6 bedruckt sind.  Weiter ist eine\n",
    "feste Zahl $s$ vorgegeben.  Implementieren Sie eine Funktion $\\texttt{numberDiceRolls}$, so dass der Aufruf\n",
    "$$ \\texttt{numberDiceRolls}(n, s) $$ \n",
    "die Anzahl der Möglichkeiten berechnet, mit $n$ Würfeln in der Summe die Zahl $s$ zu würfeln.  Beispielsweise\n",
    "soll $\\texttt{numberDiceRolls}(3, 5)$ den Wert 6 liefern, denn es gibt 6 Möglichkeiten, um mit drei Würfeln in\n",
    "der Summe eine 5 zu würfeln:\n",
    "$$\\langle1, 1, 3\\rangle, \\langle1, 2, 2\\rangle, \\langle1, 3, 1\\rangle, \\langle2, 1, 2\\rangle, \\langle2, 2,\n",
    "1\\rangle, \\langle3, 1, 1\\rangle$$\n",
    "\n",
    "**Hinweis**:  Implementieren Sie die Funktion $\\texttt{numberDiceRolls}(n, s)$ rekursiv."
   ]
  },
  {
   "cell_type": "code",
   "execution_count": 15,
   "metadata": {
    "collapsed": true
   },
   "outputs": [],
   "source": [
    "def numberDiceRolls(n, s):\n",
    "    \"your code here\""
   ]
  },
  {
   "cell_type": "code",
   "execution_count": null,
   "metadata": {
    "collapsed": true
   },
   "outputs": [],
   "source": []
  }
 ],
 "metadata": {
  "kernelspec": {
   "display_name": "Python 3",
   "language": "python",
   "name": "python3"
  },
  "language_info": {
   "codemirror_mode": {
    "name": "ipython",
    "version": 3
   },
   "file_extension": ".py",
   "mimetype": "text/x-python",
   "name": "python",
   "nbconvert_exporter": "python",
   "pygments_lexer": "ipython3",
   "version": "3.6.3"
  }
 },
 "nbformat": 4,
 "nbformat_minor": 2
}
