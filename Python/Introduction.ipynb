{
 "cells": [
  {
   "cell_type": "code",
   "execution_count": 1,
   "metadata": {},
   "outputs": [
    {
     "data": {
      "text/html": [
       "<style>\n",
       ".container { width:100% }\n",
       "</style>\n"
      ],
      "text/plain": [
       "<IPython.core.display.HTML object>"
      ]
     },
     "metadata": {},
     "output_type": "display_data"
    }
   ],
   "source": [
    "%%HTML\n",
    "<style>\n",
    ".container { width:100% }\n",
    "</style>"
   ]
  },
  {
   "cell_type": "markdown",
   "metadata": {},
   "source": [
    "# An Introduction to *Python*"
   ]
  },
  {
   "cell_type": "markdown",
   "metadata": {},
   "source": [
    "This notebook gives a short introduction to *Python*.  We will start with the basics but as the **main goal** of this introduction is to show how *Python* supports *sets* we will quickly move to more advanced topics.\n",
    "In order to show off the features of *Python* we will give some examples that are not fully explained at the point \n",
    "where we introduce them.  However, rest assured that these features will be explained eventually."
   ]
  },
  {
   "cell_type": "markdown",
   "metadata": {},
   "source": [
    "## Evaluating expressions\n",
    "\n",
    "As Python is an interactive language, expressions can be evaluated directly.  In a *Jupyter* \n",
    "notebook we just have to type <tt>Ctrl-Enter</tt> in the cell containing the expression.  Instead\n",
    "of <tt>Ctrl-Enter</tt> we can also use <tt>Shift-Enter</tt>."
   ]
  },
  {
   "cell_type": "code",
   "execution_count": 2,
   "metadata": {},
   "outputs": [
    {
     "data": {
      "text/plain": [
       "3"
      ]
     },
     "execution_count": 2,
     "metadata": {},
     "output_type": "execute_result"
    }
   ],
   "source": [
    "1 + 2"
   ]
  },
  {
   "cell_type": "markdown",
   "metadata": {},
   "source": [
    "In *Python*, the precision of integers is not bounded.  Hence, the following expression does **not** cause\n",
    "an <a href=\"https://en.wikipedia.org/wiki/Integer_overflow\">integer overflow</a>."
   ]
  },
  {
   "cell_type": "code",
   "execution_count": 3,
   "metadata": {},
   "outputs": [
    {
     "data": {
      "text/plain": [
       "15511210043330985984000000"
      ]
     },
     "execution_count": 3,
     "metadata": {},
     "output_type": "execute_result"
    }
   ],
   "source": [
    "1 * 2 * 3 * 4 * 5 * 6 * 7 * 8 * 9 * 10 * 11 * 12 * 13 * 14 * 15 * 16 * 17 * 18 * 19 * 20 * 21 * 22 * 23 * 24 * 25"
   ]
  },
  {
   "cell_type": "markdown",
   "metadata": {},
   "source": [
    "The next *cell* in this notebook shows how to compute the *factorial* of 1000, i.e. it shows how to compute \n",
    "the product\n",
    "$$ 1000! = 1 \\cdot 2 \\cdot 3 \\cdot {\\dots} \\cdot 998 \\cdot 999 \\cdot 1000 $$\n",
    "It uses some advanced features from *functional programming* that will be discussed later."
   ]
  },
  {
   "cell_type": "code",
   "execution_count": 4,
   "metadata": {},
   "outputs": [
    {
     "data": {
      "text/plain": [
       "402387260077093773543702433923003985719374864210714632543799910429938512398629020592044208486969404800479988610197196058631666872994808558901323829669944590997424504087073759918823627727188732519779505950995276120874975462497043601418278094646496291056393887437886487337119181045825783647849977012476632889835955735432513185323958463075557409114262417474349347553428646576611667797396668820291207379143853719588249808126867838374559731746136085379534524221586593201928090878297308431392844403281231558611036976801357304216168747609675871348312025478589320767169132448426236131412508780208000261683151027341827977704784635868170164365024153691398281264810213092761244896359928705114964975419909342221566832572080821333186116811553615836546984046708975602900950537616475847728421889679646244945160765353408198901385442487984959953319101723355556602139450399736280750137837615307127761926849034352625200015888535147331611702103968175921510907788019393178114194545257223865541461062892187960223838971476088506276862967146674697562911234082439208160153780889893964518263243671616762179168909779911903754031274622289988005195444414282012187361745992642956581746628302955570299024324153181617210465832036786906117260158783520751516284225540265170483304226143974286933061690897968482590125458327168226458066526769958652682272807075781391858178889652208164348344825993266043367660176999612831860788386150279465955131156552036093988180612138558600301435694527224206344631797460594682573103790084024432438465657245014402821885252470935190620929023136493273497565513958720559654228749774011413346962715422845862377387538230483865688976461927383814900140767310446640259899490222221765904339901886018566526485061799702356193897017860040811889729918311021171229845901641921068884387121855646124960798722908519296819372388642614839657382291123125024186649353143970137428531926649875337218940694281434118520158014123344828015051399694290153483077644569099073152433278288269864602789864321139083506217095002597389863554277196742822248757586765752344220207573630569498825087968928162753848863396909959826280956121450994871701244516461260379029309120889086942028510640182154399457156805941872748998094254742173582401063677404595741785160829230135358081840096996372524230560855903700624271243416909004153690105933983835777939410970027753472000000000000000000000000000000000000000000000000000000000000000000000000000000000000000000000000000000000000000000000000000000000000000000000000000000000000000000000000000000000000000000000000000000000000000000000000000000000000000000000000000000000"
      ]
     },
     "execution_count": 4,
     "metadata": {},
     "output_type": "execute_result"
    }
   ],
   "source": [
    "import functools \n",
    "\n",
    "functools.reduce(lambda x, y: (x*y), range(1, 1000+1))"
   ]
  },
  {
   "cell_type": "markdown",
   "metadata": {},
   "source": [
    "The following command will stop the interpreter if executed.  It is not useful inside a *Jupyter* notebook.  \n",
    "Hence, the next line should not be evaluated.  \n",
    "\n",
    "However, if you evaluate the following line, nothing bad will happen as the interpreter is just restarted by *Jupyter*.  "
   ]
  },
  {
   "cell_type": "code",
   "execution_count": 5,
   "metadata": {},
   "outputs": [],
   "source": [
    "exit()"
   ]
  },
  {
   "cell_type": "markdown",
   "metadata": {},
   "source": [
    "In order to write something to the screen, we can use the function <tt>print</tt>.  This function can print objects of any type.  In the following example, this function prints a <tt>string</tt>.  In *Python* any character sequence \n",
    "enclosed in single quotes is <tt>string</tt>."
   ]
  },
  {
   "cell_type": "code",
   "execution_count": 1,
   "metadata": {},
   "outputs": [
    {
     "name": "stdout",
     "output_type": "stream",
     "text": [
      "Hello, World!\n"
     ]
    }
   ],
   "source": [
    "print('Hello, World!')"
   ]
  },
  {
   "cell_type": "markdown",
   "metadata": {},
   "source": [
    "The last expression in every notebook cell is automatically printed."
   ]
  },
  {
   "cell_type": "code",
   "execution_count": 2,
   "metadata": {},
   "outputs": [
    {
     "data": {
      "text/plain": [
       "'Hello, World!'"
      ]
     },
     "execution_count": 2,
     "metadata": {},
     "output_type": "execute_result"
    }
   ],
   "source": [
    "'Hello, World!'"
   ]
  },
  {
   "cell_type": "markdown",
   "metadata": {},
   "source": [
    "Instead of using single quotes we can also use double quotes as seen in the next example.  However, the convention is to use single quotes, unless the string itself contains a single quote."
   ]
  },
  {
   "cell_type": "code",
   "execution_count": 3,
   "metadata": {},
   "outputs": [
    {
     "data": {
      "text/plain": [
       "'Hello, World!'"
      ]
     },
     "execution_count": 3,
     "metadata": {},
     "output_type": "execute_result"
    }
   ],
   "source": [
    "\"Hello, World!\""
   ]
  },
  {
   "cell_type": "markdown",
   "metadata": {},
   "source": [
    "The function <tt>print</tt> accepts any number of arguments.  For example, to print the string \"36 * 37 / 2 = \" followed by the value of the expression $36 \\cdot 37 / 2$ we can use the following <tt>print</tt> statement:"
   ]
  },
  {
   "cell_type": "code",
   "execution_count": 4,
   "metadata": {},
   "outputs": [
    {
     "name": "stdout",
     "output_type": "stream",
     "text": [
      "36 * 37 / 2 = 666\n"
     ]
    }
   ],
   "source": [
    "print('36 * 37 / 2 =', 36 * 37 // 2)"
   ]
  },
  {
   "cell_type": "markdown",
   "metadata": {},
   "source": [
    "In the expression \"<tt>36 \\* 37 // 2</tt>\" we have used the operator \"<tt>//</tt>\" in order to enforce *integer division*.  If we had used the operator \"<tt>/</tt>\" instead, *Python* would have used *floating point division* and therefore it would have printed the floating point number <tt>666.0</tt> instead of the integer <tt>666<tt>. "
   ]
  },
  {
   "cell_type": "code",
   "execution_count": 5,
   "metadata": {},
   "outputs": [
    {
     "name": "stdout",
     "output_type": "stream",
     "text": [
      "36 * 37 / 2 = 666.0\n"
     ]
    }
   ],
   "source": [
    "print('36 * 37 / 2 =', 36 * 37 / 2)"
   ]
  },
  {
   "cell_type": "code",
   "execution_count": 6,
   "metadata": {},
   "outputs": [
    {
     "data": {
      "text/plain": [
       "range(1, 10)"
      ]
     },
     "execution_count": 6,
     "metadata": {},
     "output_type": "execute_result"
    }
   ],
   "source": [
    "range(1, 10)"
   ]
  },
  {
   "cell_type": "code",
   "execution_count": 7,
   "metadata": {},
   "outputs": [
    {
     "data": {
      "text/plain": [
       "{1, 2, 3, 4, 5, 6, 7, 8, 9}"
      ]
     },
     "execution_count": 7,
     "metadata": {},
     "output_type": "execute_result"
    }
   ],
   "source": [
    "set(range(1, 10))"
   ]
  },
  {
   "cell_type": "markdown",
   "metadata": {},
   "source": [
    "The following script reads a natural number $n$ and computes the sum $\\sum\\limits_{i=1}^n i$.\n",
    "<ol>\n",
    "    <li>The function <tt>input</tt> prompts the user to enter a string.\n",
    "    </li>\n",
    "    <li>This string is then converted into an integer using the function <tt>int</tt>.\n",
    "    </li>\n",
    "    <li>Next, the *set* <tt>s</tt> is created such that \n",
    "        $$\\texttt{s} = \\{1, \\cdots, n\\}. $$  \n",
    "        The set <tt>s</tt> is constructed using the function <tt>range</tt>.  A function call \n",
    "        of the form $\\texttt{range}(a, b + 1)$ returns a *generator* that produces the natural numbers starting\n",
    "        from $a$ upto and including $b$.  By using this generator as an argument to the function <tt>set</tt>, \n",
    "        a set is created that contains all the natural number starting from $a$ upto and including $b$.\n",
    "        The precise mechanics of *generators* will be explained later.\n",
    "    </li>\n",
    "    <li>The <tt>print</tt> statement uses the function <tt>sum</tt> to add up all the elements of the\n",
    "        set <tt>s</tt>.  The effect of the last argument <tt>sep=''</tt> is to prevent <tt>print</tt> from \n",
    "        separating the previous arguments by spaces.\n",
    "    </li>\n",
    "</ol>"
   ]
  },
  {
   "cell_type": "code",
   "execution_count": 8,
   "metadata": {},
   "outputs": [
    {
     "name": "stdout",
     "output_type": "stream",
     "text": [
      "Type a natural number and press return: 36\n",
      "The sum 1 + 2 + ... + 36 is equal to 666.\n"
     ]
    }
   ],
   "source": [
    "n = input('Type a natural number and press return: ')\n",
    "n = int(n)\n",
    "s = set(range(1, n+1))\n",
    "print('The sum 1 + 2 + ... + ', n, ' is equal to ', sum(s), '.', sep='')"
   ]
  },
  {
   "cell_type": "markdown",
   "metadata": {},
   "source": [
    "If we input $36 = 6^2$ above, we discover the following remarkable identity:\n",
    "$$ \\sum\\limits_{i=1}^{6^2} i = 666. $$"
   ]
  },
  {
   "cell_type": "markdown",
   "metadata": {},
   "source": [
    "The following example shows how *functions* can be defined in *Python*.  The function $\\texttt{sum}(n)$ is supposed \n",
    "to compute the sum of all the numbers in the set $\\{1, \\cdots, n\\}$.  Therefore, we have\n",
    "$$\\texttt{sum}(n) = \\sum\\limits_{i=1}^n i. $$  \n",
    "The function <tt>sum</tt> is defined *recursively*.  The recursive implementation of the function <tt>sum</tt> can best by understood if we observe that it satisfies the following two equations:\n",
    "<ol>\n",
    "    <li> $\\texttt{sum}(0) = 0$, </li>\n",
    "    <li> $\\texttt{sum}(n) = \\texttt{sum}(n-1) + n \\quad$  provided that $n > 0$.</li>\n",
    "</ol>"
   ]
  },
  {
   "cell_type": "code",
   "execution_count": 9,
   "metadata": {},
   "outputs": [],
   "source": [
    "def sum(n):\n",
    "    if n == 0:\n",
    "        return 0\n",
    "    return sum(n-1) + n"
   ]
  },
  {
   "cell_type": "code",
   "execution_count": 10,
   "metadata": {},
   "outputs": [
    {
     "data": {
      "text/plain": [
       "<function __main__.sum(n)>"
      ]
     },
     "execution_count": 10,
     "metadata": {},
     "output_type": "execute_result"
    }
   ],
   "source": [
    "sum"
   ]
  },
  {
   "cell_type": "code",
   "execution_count": 11,
   "metadata": {},
   "outputs": [
    {
     "data": {
      "text/plain": [
       "6"
      ]
     },
     "execution_count": 11,
     "metadata": {},
     "output_type": "execute_result"
    }
   ],
   "source": [
    "sum(3)"
   ]
  },
  {
   "cell_type": "code",
   "execution_count": 13,
   "metadata": {},
   "outputs": [],
   "source": [
    "def sum(n):\n",
    "    print(f'calling sum({n})')\n",
    "    if n == 0:\n",
    "        print('sum(0) = 0')\n",
    "        return 0\n",
    "    snm1 = sum(n-1) \n",
    "    print(f'sum({n}) = {snm1} + {n} = {snm1 + n}')\n",
    "    return snm1 + n"
   ]
  },
  {
   "cell_type": "code",
   "execution_count": 14,
   "metadata": {},
   "outputs": [
    {
     "name": "stdout",
     "output_type": "stream",
     "text": [
      "calling sum(3)\n",
      "calling sum(2)\n",
      "calling sum(1)\n",
      "calling sum(0)\n",
      "sum(0) = 0\n",
      "sum(1) = 0 + 1 = 1\n",
      "sum(2) = 1 + 2 = 3\n",
      "sum(3) = 3 + 3 = 6\n"
     ]
    },
    {
     "data": {
      "text/plain": [
       "6"
      ]
     },
     "execution_count": 14,
     "metadata": {},
     "output_type": "execute_result"
    }
   ],
   "source": [
    "sum(3)"
   ]
  },
  {
   "cell_type": "markdown",
   "metadata": {},
   "source": [
    "Let us discuss the implementation of the function <tt>sum</tt> line by line:\n",
    "<ol>\n",
    "    <li> The keyword <tt>def</tt> starts the definition of the function. It is followed by the name of the function that is defined.  The name is followed by the list of the parameters of the function.  This list is enclosed in parentheses. If there had been more than one parameter, the parameters would have been separated by commas.  Finally, there needs to be a colon at the end of the first line.\n",
    "    </li>\n",
    "    <li> The body of the function is indented.  <b>Contrary</b> to most other programming languages, \n",
    "        <u>Python is space sensitive</u>. \n",
    "         The first statement of the body is a conditional statement, which starts with the keyword\n",
    "         <tt>if</tt>.  The keyword is followed by a test.  In this case we test whether the variable $n$ \n",
    "         is equal to the number $0$.  Note that this test is followed by a colon.\n",
    "    </li>\n",
    "    <li> The next line contains a <tt>return</tt> statement.  Note that this statement is again indented.\n",
    "         All statements indented by the same amount that follow an <tt>if</tt>-statement are considered as\n",
    "         the body of the <tt>if</tt>-statement.  In this case the body contains only a single statement.\n",
    "    </li>\n",
    "    <li> The <tt>print</tt> statement in the penultimate line contains a so called \n",
    "        <a href=\"https://realpython.com/python-f-strings/\">f-string</a>.  Expressions enclosed in curly braces are evaluated,           the result is converted to a string and inserted back into the f-string.  This behaviour is known as \n",
    "        <em style=\"color:blue;\">string interpolation</em>.\n",
    "    </li>\n",
    "    <li> The last line of the function definition contains the recursive invocation of the function <tt>sum</tt>.\n",
    "    </li>\n",
    "</ol>\n",
    "\n",
    "Using the function <tt>sum</tt>, we can compute the sum $\\sum\\limits_{i=1}^n i$ as follows:"
   ]
  },
  {
   "cell_type": "code",
   "execution_count": null,
   "metadata": {},
   "outputs": [],
   "source": [
    "n     = int(input(\"Enter a natural number: \"))\n",
    "total = sum(n)\n",
    "if n > 2:\n",
    "    print(\"0 + 1 + 2 + ... + \", n, \" = \", total, sep='')\n",
    "else: \n",
    "    print(total)"
   ]
  },
  {
   "cell_type": "markdown",
   "metadata": {},
   "source": [
    "## Sets in *Python*"
   ]
  },
  {
   "cell_type": "markdown",
   "metadata": {},
   "source": [
    "*Python* supports sets as a **native** datatype. This is one of the reasons that have lead me to choose *Python* as the programming language for this course.  To get a first impression how sets are handled in *Python*, let us define two simple sets $A$ and $B$ and print them:"
   ]
  },
  {
   "cell_type": "code",
   "execution_count": 15,
   "metadata": {},
   "outputs": [
    {
     "name": "stdout",
     "output_type": "stream",
     "text": [
      "A = {1, 2, 3}, B = {2, 3, 4}\n"
     ]
    }
   ],
   "source": [
    "A = {1, 2, 3}\n",
    "B = {2, 3, 4}\n",
    "print(f'A = {A}, B = {B}')"
   ]
  },
  {
   "cell_type": "markdown",
   "metadata": {},
   "source": [
    "There is a caveat here, we cannot define the empty set using the expression <tt>{}</tt> since this expression \n",
    "creates the empty <em style=\"color:blue;\">dictionary</em> instead.  (We will discuss the data type of *dictionaries* later.) To define the empty set $\\emptyset$, we therefore have to use the following expression:"
   ]
  },
  {
   "cell_type": "code",
   "execution_count": 16,
   "metadata": {},
   "outputs": [
    {
     "data": {
      "text/plain": [
       "set()"
      ]
     },
     "execution_count": 16,
     "metadata": {},
     "output_type": "execute_result"
    }
   ],
   "source": [
    "set()"
   ]
  },
  {
   "cell_type": "markdown",
   "metadata": {},
   "source": [
    "Note that the empty set is also printed as <tt>set()</tt> in *Python* and not as <tt>{}</tt>."
   ]
  },
  {
   "cell_type": "markdown",
   "metadata": {},
   "source": [
    "Next, let us compute the <em style=\"color:blue;\">union</em> $A \\cup B$. This is done using the operator \"<tt>|</tt>\". "
   ]
  },
  {
   "cell_type": "code",
   "execution_count": 17,
   "metadata": {},
   "outputs": [
    {
     "data": {
      "text/plain": [
       "{1, 2, 3, 4}"
      ]
     },
     "execution_count": 17,
     "metadata": {},
     "output_type": "execute_result"
    }
   ],
   "source": [
    "A | B"
   ]
  },
  {
   "cell_type": "markdown",
   "metadata": {},
   "source": [
    "To compute the <em style=\"color:blue;\">intersection</em> $A \\cap B$, we use the operator \"<tt>&</tt>\":"
   ]
  },
  {
   "cell_type": "code",
   "execution_count": 18,
   "metadata": {},
   "outputs": [
    {
     "data": {
      "text/plain": [
       "{2, 3}"
      ]
     },
     "execution_count": 18,
     "metadata": {},
     "output_type": "execute_result"
    }
   ],
   "source": [
    "A & B"
   ]
  },
  {
   "cell_type": "markdown",
   "metadata": {},
   "source": [
    "The <em style=\"color:blue;\">set difference</em> $A \\backslash B$ is computed using the operator \"<tt>-</tt>\":"
   ]
  },
  {
   "cell_type": "code",
   "execution_count": 19,
   "metadata": {},
   "outputs": [
    {
     "data": {
      "text/plain": [
       "{1}"
      ]
     },
     "execution_count": 19,
     "metadata": {},
     "output_type": "execute_result"
    }
   ],
   "source": [
    "A - B"
   ]
  },
  {
   "cell_type": "markdown",
   "metadata": {},
   "source": [
    "It is easy to test whether $A$ is a <em style=\"color:blue;\">subset</em> of $B$, i.e. whether $A \\subseteq B$ holds:"
   ]
  },
  {
   "cell_type": "code",
   "execution_count": 20,
   "metadata": {},
   "outputs": [
    {
     "data": {
      "text/plain": [
       "False"
      ]
     },
     "execution_count": 20,
     "metadata": {},
     "output_type": "execute_result"
    }
   ],
   "source": [
    "A <= B"
   ]
  },
  {
   "cell_type": "markdown",
   "metadata": {},
   "source": [
    "Testing whether an object $x$ is an <em style=\"color:blue;\">element</em> of a set $M$, i.e. to test whether $x \\in M$ holds, is straightforward:"
   ]
  },
  {
   "cell_type": "code",
   "execution_count": 21,
   "metadata": {},
   "outputs": [
    {
     "data": {
      "text/plain": [
       "True"
      ]
     },
     "execution_count": 21,
     "metadata": {},
     "output_type": "execute_result"
    }
   ],
   "source": [
    "1 in A"
   ]
  },
  {
   "cell_type": "markdown",
   "metadata": {},
   "source": [
    "On the other hand, the number $1$ is not an element of the set $B$, i.e. we have $1 \\not\\in B$:"
   ]
  },
  {
   "cell_type": "code",
   "execution_count": 22,
   "metadata": {},
   "outputs": [
    {
     "data": {
      "text/plain": [
       "True"
      ]
     },
     "execution_count": 22,
     "metadata": {},
     "output_type": "execute_result"
    }
   ],
   "source": [
    "1 not in B"
   ]
  },
  {
   "cell_type": "markdown",
   "metadata": {},
   "source": [
    "It is important to know that sets are <b style=\"color:red; background-color:rgb(0,112,122)\">not ordered</b>.  The reason is that sets are implemented as <em style=\"color:blue;\">hash tables</em>."
   ]
  },
  {
   "cell_type": "code",
   "execution_count": 23,
   "metadata": {},
   "outputs": [
    {
     "name": "stdout",
     "output_type": "stream",
     "text": [
      "{2, 4, -3, -1}\n"
     ]
    }
   ],
   "source": [
    "print({-1,2,-3,4})"
   ]
  },
  {
   "cell_type": "markdown",
   "metadata": {},
   "source": [
    "However, if a set is displayed by a **Jupyter notebook** without a print statement, the elements are sorted."
   ]
  },
  {
   "cell_type": "code",
   "execution_count": 24,
   "metadata": {},
   "outputs": [
    {
     "data": {
      "text/plain": [
       "{-3, -1, 2, 4}"
      ]
     },
     "execution_count": 24,
     "metadata": {},
     "output_type": "execute_result"
    }
   ],
   "source": [
    "{-1,2,-3,4}"
   ]
  },
  {
   "cell_type": "markdown",
   "metadata": {},
   "source": [
    "## Defining Sets via Selection and Images"
   ]
  },
  {
   "cell_type": "markdown",
   "metadata": {},
   "source": [
    "Remember how we can define subsets of a given set $M$ via the axiom of selection.   If $p$ is a property such that for any object $x$ from the set $M$ the expression $p(x)$ is either <tt>True</tt> or <tt>False</tt>,  the subset of all those elements of $M$ such that $p(x)$ is <tt>True</tt> can be defined as\n",
    "$$ \\{ x \\in M \\mid p(x) \\}. $$\n",
    "For example, if $M$ is the set $\\{1, \\cdots, 100\\}$ and we want to compute the subset of this set that contains all numbers from $M$ that are divisible by $7$, then this set can be defined as\n",
    "$$ \\{ x \\in M \\mid x \\texttt{%} 7 = 0 \\}. $$\n",
    "In *Python*, the definition of this set can be given as follows: "
   ]
  },
  {
   "cell_type": "code",
   "execution_count": 25,
   "metadata": {},
   "outputs": [
    {
     "data": {
      "text/plain": [
       "{7, 14, 21, 28, 35, 42, 49, 56, 63, 70, 77, 84, 91, 98}"
      ]
     },
     "execution_count": 25,
     "metadata": {},
     "output_type": "execute_result"
    }
   ],
   "source": [
    "M = set(range(1, 100+1))\n",
    "{ x for x in M if x % 7 == 0 }"
   ]
  },
  {
   "cell_type": "markdown",
   "metadata": {},
   "source": [
    "In general, in *Python* the set\n",
    "$$ \\{ x \\in M \\mid p(x) \\} $$\n",
    "is computed by the expression\n",
    "$$ \\{\\; x\\; \\texttt{for}\\; x\\; \\texttt{in}\\; M\\; \\texttt{if}\\; p(x)\\; \\}. $$\n",
    "*Image* sets can be computed in a similar way.  If $f$ is a function defined for all elements of a set $M$, the image set \n",
    "$$ \\{ f(x) \\mid x \\in M \\} $$\n",
    "can be computed in *Python* as follows:\n",
    "$$ \\{\\; f(x)\\; \\texttt{for}\\; x\\; \\texttt{in}\\; M\\; \\}. $$\n",
    "For example, the following expression computes the set of all squares of  numbers from the set $\\{1,\\cdots,10\\}$:"
   ]
  },
  {
   "cell_type": "code",
   "execution_count": 26,
   "metadata": {},
   "outputs": [
    {
     "data": {
      "text/plain": [
       "{1, 4, 9, 16, 25, 36, 49, 64, 81, 100}"
      ]
     },
     "execution_count": 26,
     "metadata": {},
     "output_type": "execute_result"
    }
   ],
   "source": [
    "M = set(range(1,10+1))\n",
    "{ x*x for x in M }"
   ]
  },
  {
   "cell_type": "markdown",
   "metadata": {},
   "source": [
    "The computation of image sets and selections can be combined.  If $M$ is a set, $p$ is a property such that $p(x)$ is either <tt>True</tt> or <tt>False</tt> for elements of $M$, and $f$ is a function such that $f(x)$ is defined for all $x \\in M$ then we can compute set \n",
    "$$ \\{ f(x) \\mid  x \\in M \\wedge p(x) \\} $$\n",
    "of all images $f(x)$ from those $x\\in M$ that satisfy the property $p(x)$ via the expression\n",
    "$$ \\{\\; f(x)\\; \\texttt{for}\\; x\\; \\texttt{in}\\; M\\; \\texttt{if}\\; p(x)\\; \\}. $$\n",
    "For example, to compute the set of those squares of numbers from the set $\\{1,\\cdots,10\\}$ that are even we can write"
   ]
  },
  {
   "cell_type": "code",
   "execution_count": 27,
   "metadata": {},
   "outputs": [
    {
     "data": {
      "text/plain": [
       "{4, 16, 36, 64, 100}"
      ]
     },
     "execution_count": 27,
     "metadata": {},
     "output_type": "execute_result"
    }
   ],
   "source": [
    "{ x*x for x in M \n",
    "      if x % 2 == 0 \n",
    "}"
   ]
  },
  {
   "cell_type": "markdown",
   "metadata": {},
   "source": [
    "We can iterate over more than one set.  For example, let us define the set of all products $p \\cdot q$ of numbers $p$ and $q$ from the set $\\{2, \\cdots, 10\\}$, i.e. we intend to define the set\n",
    "$$ \\bigl\\{ p \\cdot q \\bigm| p \\in \\{2,\\cdots,10\\} \\wedge q \\in \\{2,\\cdots,10\\} \\bigr\\}. $$\n",
    "In *Python*, this set is defined as follows:  "
   ]
  },
  {
   "cell_type": "code",
   "execution_count": 28,
   "metadata": {},
   "outputs": [
    {
     "data": {
      "text/plain": [
       "{4, 6, 8, 9, 10, 12, 15, 16, 18, 20, 24, 25, 30, 36}"
      ]
     },
     "execution_count": 28,
     "metadata": {},
     "output_type": "execute_result"
    }
   ],
   "source": [
    "{ p * q for p in range(2,6+1) \n",
    "        for q in range(2,6+1) \n",
    "}"
   ]
  },
  {
   "cell_type": "markdown",
   "metadata": {},
   "source": [
    "We can use this set to compute the set of *prime numbers*.  After all, the set of prime numbers is the set of all those natural numbers bigger than $1$ that can not be written as a proper product, that is a number $x$ is *prime* if \n",
    "<ul>\n",
    "    <li> $x$ is bigger than $1$ and </li>\n",
    "    <li> there are no natural numbers $p$ and $q$ both bigger than $1$ such that \n",
    "         $x = p \\cdot q$ holds.</li>\n",
    "</ul>\n",
    "More formally, the set $\\mathbb{P}$ of prime numbers is defined as follows:\n",
    "$$ \\mathbb{P} = \\Bigl\\{ x \\in \\mathbb{N} \\;\\bigm|\\; x > 1 \\wedge \\neg \\exists p, q \\in \\mathbb{N}: \\bigl(x = p \\cdot q \\wedge p > 1 \\wedge q > 1\\bigr)\\Bigr\\}. $$\n",
    "Hence the following code computes the set of all primes less \n",
    "than 100: "
   ]
  },
  {
   "cell_type": "code",
   "execution_count": 31,
   "metadata": {},
   "outputs": [
    {
     "name": "stdout",
     "output_type": "stream",
     "text": [
      "{2, 3, 5, 7, 11, 13, 17, 19, 23, 29, 31, 37, 41, 43, 47, 53, 59, 61, 67, 71, 73, 79, 83, 89, 97}\n"
     ]
    }
   ],
   "source": [
    "S = set(range(2, 101))\n",
    "print(S - { p * q for p in S for q in S })"
   ]
  },
  {
   "cell_type": "markdown",
   "metadata": {},
   "source": [
    "An alternative way to compute primes works by noting that a number $p$ is prime iff there is no number $t$ other than $1$ and $p$ that divides the number $p$.  The function <tt>dividers</tt> given below computes the set of all numbers dividing a given number $p$ evenly:"
   ]
  },
  {
   "cell_type": "code",
   "execution_count": null,
   "metadata": {},
   "outputs": [],
   "source": [
    "def dividers(p):\n",
    "    \"\"\"\n",
    "    Compute the set of numbers that divide the number p.\n",
    "    \"\"\"\n",
    "    return { t for t in range(1, p+1) if p % t == 0 }\n",
    "\n",
    "dividers(20)"
   ]
  },
  {
   "cell_type": "code",
   "execution_count": null,
   "metadata": {},
   "outputs": [],
   "source": [
    "n      = 100\n",
    "primes = { p for p in range(2, n) if dividers(p) == {1, p} }\n",
    "print(primes)"
   ]
  },
  {
   "cell_type": "markdown",
   "metadata": {},
   "source": [
    "## Computing the Power Set"
   ]
  },
  {
   "cell_type": "markdown",
   "metadata": {},
   "source": [
    "Unfortunately, there is no operator to compute the power set $2^M$ of a given set $M$.  Since the power set is needed frequently, we have to implement a function <tt>power</tt> to compute this set ourselves.  The easiest way to compute the power set $2^M$ of a set $M$ is to implement the following recursive equations:\n",
    "<ol>\n",
    "    <li>The power set of the empty set contains only the empty set:\n",
    "        $$2^{\\{\\}} = \\bigl\\{\\{\\}\\bigr\\}$$</li>\n",
    "    <li>If a set $M$ can be written as $M = C \\cup \\{x\\}$, where the element $x$ does not occur in the set $C$, then \n",
    "        the power set $2^M$ consists of two sets:</li>\n",
    "        <ul>\n",
    "            <li>Firstly, all subsets of $C$ are also subsets of $M$.</li>\n",
    "            <li>Secondly, if A is a subset of $C$, then the set $A \\cup\\{x\\}$ is also a subset of $M$.</li>\n",
    "        </ul>\n",
    "        If we combine these parts we get the following equation:\n",
    "        $$2^{C \\cup \\{x\\}} = 2^C \\cup \\bigl\\{ A \\cup \\{x\\} \\bigm| A \\in 2^C \\bigr\\}$$   \n",
    "</ol> \n",
    "But there is another problem:  In *Python* we can't create a set that has elements that are sets themselves!  The expression <tt>{{1,2}, {2,3}}</tt> raises an exception when evaluated!  Instead, we have to use <tt>frozenset</tt>s as shown below:"
   ]
  },
  {
   "cell_type": "code",
   "execution_count": 32,
   "metadata": {},
   "outputs": [
    {
     "ename": "TypeError",
     "evalue": "unhashable type: 'set'",
     "output_type": "error",
     "traceback": [
      "\u001b[0;31m---------------------------------------------------------------------------\u001b[0m",
      "\u001b[0;31mTypeError\u001b[0m                                 Traceback (most recent call last)",
      "\u001b[0;32m<ipython-input-32-09d2af083ff3>\u001b[0m in \u001b[0;36m<module>\u001b[0;34m\u001b[0m\n\u001b[0;32m----> 1\u001b[0;31m \u001b[0;34m{\u001b[0m\u001b[0;34m{\u001b[0m\u001b[0;36m1\u001b[0m\u001b[0;34m,\u001b[0m\u001b[0;36m2\u001b[0m\u001b[0;34m}\u001b[0m\u001b[0;34m,\u001b[0m \u001b[0;34m{\u001b[0m\u001b[0;36m2\u001b[0m\u001b[0;34m,\u001b[0m\u001b[0;36m3\u001b[0m\u001b[0;34m}\u001b[0m\u001b[0;34m}\u001b[0m\u001b[0;34m\u001b[0m\u001b[0;34m\u001b[0m\u001b[0m\n\u001b[0m",
      "\u001b[0;31mTypeError\u001b[0m: unhashable type: 'set'"
     ]
    }
   ],
   "source": [
    "{{1,2}, {2,3}}"
   ]
  },
  {
   "cell_type": "code",
   "execution_count": 33,
   "metadata": {},
   "outputs": [
    {
     "data": {
      "text/plain": [
       "{frozenset({2, 3}), frozenset({1, 2})}"
      ]
     },
     "execution_count": 33,
     "metadata": {},
     "output_type": "execute_result"
    }
   ],
   "source": [
    "{frozenset({1,2}), frozenset({2,3})}"
   ]
  },
  {
   "cell_type": "code",
   "execution_count": 34,
   "metadata": {},
   "outputs": [
    {
     "data": {
      "text/plain": [
       "{1, 2, 3}"
      ]
     },
     "execution_count": 34,
     "metadata": {},
     "output_type": "execute_result"
    }
   ],
   "source": [
    "M = { 1, 2, 3 }\n",
    "M"
   ]
  },
  {
   "cell_type": "code",
   "execution_count": 35,
   "metadata": {},
   "outputs": [],
   "source": [
    "N = M"
   ]
  },
  {
   "cell_type": "code",
   "execution_count": 36,
   "metadata": {},
   "outputs": [],
   "source": [
    "N.add(4)"
   ]
  },
  {
   "cell_type": "code",
   "execution_count": 37,
   "metadata": {},
   "outputs": [
    {
     "data": {
      "text/plain": [
       "{1, 2, 3, 4}"
      ]
     },
     "execution_count": 37,
     "metadata": {},
     "output_type": "execute_result"
    }
   ],
   "source": [
    "N"
   ]
  },
  {
   "cell_type": "code",
   "execution_count": 38,
   "metadata": {},
   "outputs": [
    {
     "data": {
      "text/plain": [
       "{1, 2, 3, 4}"
      ]
     },
     "execution_count": 38,
     "metadata": {},
     "output_type": "execute_result"
    }
   ],
   "source": [
    "M"
   ]
  },
  {
   "cell_type": "markdown",
   "metadata": {},
   "source": [
    "The reason we got this error is that in *Python* sets are implemented via *hash tables* and therefore the elements of a set need \n",
    "to be *hashable*. (The notion of a *hash table* will be discussed in more detail in the lecture on *Algorithms*.) However, sets are *mutable* and *mutable* objects are not *hashable*.  Fortunately, there is a\n",
    "workaround: *Python* provides the data type of *frozen sets*.  These sets behave like sets but are are lacking certain function and hence are unmutable.  So if we use *frozen sets* as elements of the power set, we can compute the power set of a given set.  The function <tt>power</tt> given below shows how this works."
   ]
  },
  {
   "cell_type": "code",
   "execution_count": 39,
   "metadata": {},
   "outputs": [],
   "source": [
    "def power(M):\n",
    "    \"This function computes the power set of the set M.\"\n",
    "    if M == set():\n",
    "        return { frozenset() }\n",
    "    else:\n",
    "        C  = set(M)  # C is a copy of M as we don't want to change the set M\n",
    "        x  = C.pop() # pop removes some element x from the set C\n",
    "        P1 = power(C)\n",
    "        P2 = { A | {x} for A in P1 }\n",
    "        return P1 | P2"
   ]
  },
  {
   "cell_type": "code",
   "execution_count": 40,
   "metadata": {},
   "outputs": [
    {
     "data": {
      "text/plain": [
       "{frozenset(),\n",
       " frozenset({2}),\n",
       " frozenset({2, 3}),\n",
       " frozenset({1}),\n",
       " frozenset({1, 2}),\n",
       " frozenset({3}),\n",
       " frozenset({1, 3}),\n",
       " frozenset({1, 2, 3})}"
      ]
     },
     "execution_count": 40,
     "metadata": {},
     "output_type": "execute_result"
    }
   ],
   "source": [
    "power(A)"
   ]
  },
  {
   "cell_type": "markdown",
   "metadata": {},
   "source": [
    "Let us print this in a more readable way.  To this end we implement a function <tt>prettify</tt> that turns a set of frozensets into a string that looks like a set of sets."
   ]
  },
  {
   "cell_type": "code",
   "execution_count": 41,
   "metadata": {},
   "outputs": [],
   "source": [
    "def prettify(M):\n",
    "    \"\"\"Turn the set of frozen sets M into a string that looks like a set of sets.\n",
    "       M is assumed to be the power set of some set.\n",
    "    \"\"\"\n",
    "    result = \"{{}, \"   # The empty set is always an element of a power set.\n",
    "    for A in M:\n",
    "        if A == set(): # The empty set has already been taken care of.\n",
    "            continue\n",
    "        result += str(set(A)) + \", \" # A is converted from a frozen set to a set\n",
    "    result = result[:-2] # remove the trailing substring \", \"\n",
    "    result += \"}\"\n",
    "    return result"
   ]
  },
  {
   "cell_type": "code",
   "execution_count": 42,
   "metadata": {},
   "outputs": [
    {
     "data": {
      "text/plain": [
       "'{{}, {2}, {2, 3}, {1, 2, 3}, {1, 2}, {3}, {1}, {1, 3}}'"
      ]
     },
     "execution_count": 42,
     "metadata": {},
     "output_type": "execute_result"
    }
   ],
   "source": [
    "prettify(power(A))"
   ]
  },
  {
   "cell_type": "markdown",
   "metadata": {},
   "source": [
    "The function $S\\texttt{.add}(x)$ insert the element $x$ into the set $S$."
   ]
  },
  {
   "cell_type": "code",
   "execution_count": 43,
   "metadata": {},
   "outputs": [
    {
     "data": {
      "text/plain": [
       "{1, 2, 3, 4}"
      ]
     },
     "execution_count": 43,
     "metadata": {},
     "output_type": "execute_result"
    }
   ],
   "source": [
    "S = {1, 2, 3}\n",
    "S.add(4)\n",
    "S"
   ]
  },
  {
   "cell_type": "markdown",
   "metadata": {},
   "source": [
    "In *Python*, variables are <em style=\"color:blue;\">references</em> and assignments \n",
    "<b style=\"color:red; background-color:rgb(0,112,122)\">do not copy values</b>.  Instead, they just create new references to the old values!  This is the reason that below both <tt>A</tt> and <tt>B</tt> change their value, even so it seems that we only change <tt>A</tt>.  "
   ]
  },
  {
   "cell_type": "code",
   "execution_count": 44,
   "metadata": {},
   "outputs": [
    {
     "name": "stdout",
     "output_type": "stream",
     "text": [
      "A = {1, 2, 3, 4}\n",
      "B = {1, 2, 3, 4}\n"
     ]
    }
   ],
   "source": [
    "A = {1,2,3}\n",
    "B = A\n",
    "A.add(4)\n",
    "print(f'A = {A}')\n",
    "print(f'B = {B}')"
   ]
  },
  {
   "cell_type": "markdown",
   "metadata": {},
   "source": [
    "In order to prevent this behaviour, we have to make a <em style=\"color:blue;\">copy</em> of the set <tt>A</tt>.  This can be done by calling the function $\\texttt{set}(\\texttt{A})$."
   ]
  },
  {
   "cell_type": "code",
   "execution_count": 45,
   "metadata": {},
   "outputs": [
    {
     "name": "stdout",
     "output_type": "stream",
     "text": [
      "A = {1, 2, 3, 4}\n",
      "B = {1, 2, 3}\n"
     ]
    }
   ],
   "source": [
    "A = {1,2,3}\n",
    "B = set(A)\n",
    "A.add(4)\n",
    "print(f'A = {A}')\n",
    "print(f'B = {B}')"
   ]
  },
  {
   "cell_type": "markdown",
   "metadata": {},
   "source": [
    "## Pairs and Cartesian Products"
   ]
  },
  {
   "cell_type": "markdown",
   "metadata": {},
   "source": [
    "In *Python*, pairs can be created by enclosing the components of the pair in parentheses. For example, to compute the pair $\\langle 1, 2 \\rangle$ we can write:"
   ]
  },
  {
   "cell_type": "code",
   "execution_count": 46,
   "metadata": {},
   "outputs": [
    {
     "data": {
      "text/plain": [
       "(1, 2)"
      ]
     },
     "execution_count": 46,
     "metadata": {},
     "output_type": "execute_result"
    }
   ],
   "source": [
    "(1, 2)"
   ]
  },
  {
   "cell_type": "markdown",
   "metadata": {},
   "source": [
    "It is not even necessary to enclose the components of a pair in parentheses.  For example, to compute the pair $\\langle 1, 2 \\rangle$ we can also use the following expression:"
   ]
  },
  {
   "cell_type": "code",
   "execution_count": 47,
   "metadata": {},
   "outputs": [
    {
     "data": {
      "text/plain": [
       "(1, 2)"
      ]
     },
     "execution_count": 47,
     "metadata": {},
     "output_type": "execute_result"
    }
   ],
   "source": [
    "1, 2"
   ]
  },
  {
   "cell_type": "markdown",
   "metadata": {},
   "source": [
    "The Cartesian product $A \\times B$ of two sets $A$ and $B$ can now be computed via the following expression:\n",
    "$$ \\{\\; (x, y) \\;\\texttt{for}\\; x \\;\\texttt{in}\\; A\\; \\texttt{for}\\; y\\; \\texttt{in}\\; B\\; \\} $$ \n",
    "For example, as we have defined $A$ as $\\{1,2,3\\}$ and $B$ as $\\{2,3,4\\}$, the Cartesian product of $A$ and $B$ is computed as follows:"
   ]
  },
  {
   "cell_type": "code",
   "execution_count": 48,
   "metadata": {},
   "outputs": [
    {
     "data": {
      "text/plain": [
       "{(1, 4), (1, 5), (2, 4), (2, 5), (3, 4), (3, 5)}"
      ]
     },
     "execution_count": 48,
     "metadata": {},
     "output_type": "execute_result"
    }
   ],
   "source": [
    "A = {1, 2, 3}\n",
    "B = {4, 5}\n",
    "{ (x,y) for x in A \n",
    "        for y in B \n",
    "}"
   ]
  },
  {
   "cell_type": "markdown",
   "metadata": {},
   "source": [
    "## Tuples"
   ]
  },
  {
   "cell_type": "markdown",
   "metadata": {},
   "source": [
    "*Tuples* are a generalization of pairs.  For example, to compute the tuple $\\langle 1, 2, 3 \\rangle$ we can use the following expression:  "
   ]
  },
  {
   "cell_type": "code",
   "execution_count": 49,
   "metadata": {},
   "outputs": [
    {
     "data": {
      "text/plain": [
       "(1, 2, 3)"
      ]
     },
     "execution_count": 49,
     "metadata": {},
     "output_type": "execute_result"
    }
   ],
   "source": [
    "(1, 2, 3)"
   ]
  },
  {
   "cell_type": "markdown",
   "metadata": {},
   "source": [
    "Longer tuples can be build using the function <tt>range</tt> in combination with the function <tt>tuple</tt>:"
   ]
  },
  {
   "cell_type": "code",
   "execution_count": 50,
   "metadata": {},
   "outputs": [
    {
     "data": {
      "text/plain": [
       "(1, 2, 3, 4, 5, 6, 7, 8, 9, 10)"
      ]
     },
     "execution_count": 50,
     "metadata": {},
     "output_type": "execute_result"
    }
   ],
   "source": [
    "tuple(range(1, 11))"
   ]
  },
  {
   "cell_type": "markdown",
   "metadata": {},
   "source": [
    "Tuple can be *concatenated* using the operator <tt>+</tt>:"
   ]
  },
  {
   "cell_type": "code",
   "execution_count": 51,
   "metadata": {},
   "outputs": [
    {
     "data": {
      "text/plain": [
       "(1, 2, 3, 4, 5, 6)"
      ]
     },
     "execution_count": 51,
     "metadata": {},
     "output_type": "execute_result"
    }
   ],
   "source": [
    "T1 = (1, 2, 3)\n",
    "T2 = (4, 5, 6)\n",
    "T3 = T1 + T2\n",
    "T3"
   ]
  },
  {
   "cell_type": "markdown",
   "metadata": {},
   "source": [
    "The *length* of a tuple is computed using the function <tt>len</tt>:"
   ]
  },
  {
   "cell_type": "code",
   "execution_count": 52,
   "metadata": {},
   "outputs": [
    {
     "data": {
      "text/plain": [
       "6"
      ]
     },
     "execution_count": 52,
     "metadata": {},
     "output_type": "execute_result"
    }
   ],
   "source": [
    "len(T3)"
   ]
  },
  {
   "cell_type": "markdown",
   "metadata": {},
   "source": [
    "The components of a tuple can be extracted using square brackets.  <b style=\"color:blue;\">Note, that the first component of a tuple has the index $0$!</b>  This is similar to the behaviour of *arrays* in the programming language <tt>C</tt>."
   ]
  },
  {
   "cell_type": "code",
   "execution_count": 53,
   "metadata": {},
   "outputs": [
    {
     "name": "stdout",
     "output_type": "stream",
     "text": [
      "T3[0] = 1\n",
      "T3[1] = 2\n",
      "T3[2] = 3\n"
     ]
    }
   ],
   "source": [
    "print(\"T3[0] =\", T3[0])\n",
    "print(\"T3[1] =\", T3[1])\n",
    "print(\"T3[2] =\", T3[2])"
   ]
  },
  {
   "cell_type": "markdown",
   "metadata": {},
   "source": [
    "If we use negative indices, then we index from the back of the tuple, as shown in the following example:"
   ]
  },
  {
   "cell_type": "code",
   "execution_count": 54,
   "metadata": {},
   "outputs": [
    {
     "name": "stdout",
     "output_type": "stream",
     "text": [
      "T3[-1] = 6\n",
      "T3[-2] = 5\n",
      "T3[-3] = 4\n"
     ]
    }
   ],
   "source": [
    "print(f'T3[-1] = {T3[-1]}') # last element\n",
    "print(f'T3[-2] = {T3[-2]}') # penultimate element\n",
    "print(f'T3[-3] = {T3[-3]}') # third last element "
   ]
  },
  {
   "cell_type": "code",
   "execution_count": 55,
   "metadata": {},
   "outputs": [
    {
     "data": {
      "text/plain": [
       "(1, 2, 3, 4, 5, 6)"
      ]
     },
     "execution_count": 55,
     "metadata": {},
     "output_type": "execute_result"
    }
   ],
   "source": [
    "T3"
   ]
  },
  {
   "cell_type": "markdown",
   "metadata": {},
   "source": [
    "The <em style=\"color:blue;\">slicing operator</em> extracts a subtuple from a given tuple.  If $L$ is a tuple and $a$ and $b$ are natural numbers such that $a \\leq b$ and $a,b \\in \\{0, \\texttt{len}(L) \\}$, then the syntax of the slicing operator is as follows:\n",
    "$$ L[a:b] $$\n",
    "The expression $L[a:b]$ extracts the subtuple that starts with the element $L[a]$ up to and <b style=\"color:blue;\">excluding</b> the element $L[b]$.  The following shows an example:"
   ]
  },
  {
   "cell_type": "code",
   "execution_count": 56,
   "metadata": {},
   "outputs": [
    {
     "name": "stdout",
     "output_type": "stream",
     "text": [
      "L = (1, 2, 3, 4, 5, 6, 7, 8, 9, 10), L[2:6] = (3, 4, 5, 6)\n"
     ]
    }
   ],
   "source": [
    "L = tuple(range(1,11))\n",
    "print(f'L = {L}, L[2:6] = {L[2:6]}')"
   ]
  },
  {
   "cell_type": "markdown",
   "metadata": {},
   "source": [
    "Slicing works with negative indices, too: "
   ]
  },
  {
   "cell_type": "code",
   "execution_count": 57,
   "metadata": {},
   "outputs": [
    {
     "data": {
      "text/plain": [
       "(3, 4, 5, 6, 7, 8)"
      ]
     },
     "execution_count": 57,
     "metadata": {},
     "output_type": "execute_result"
    }
   ],
   "source": [
    "L[2:-2]"
   ]
  },
  {
   "cell_type": "markdown",
   "metadata": {},
   "source": [
    "Slicing also works for strings."
   ]
  },
  {
   "cell_type": "code",
   "execution_count": 58,
   "metadata": {},
   "outputs": [
    {
     "data": {
      "text/plain": [
       "'cd'"
      ]
     },
     "execution_count": 58,
     "metadata": {},
     "output_type": "execute_result"
    }
   ],
   "source": [
    "s = 'abcdef'\n",
    "s[2:-2]"
   ]
  },
  {
   "cell_type": "markdown",
   "metadata": {},
   "source": [
    "If we want to create a tuple of length $1$, we have to use the following syntax:"
   ]
  },
  {
   "cell_type": "code",
   "execution_count": 59,
   "metadata": {},
   "outputs": [
    {
     "data": {
      "text/plain": [
       "(1,)"
      ]
     },
     "execution_count": 59,
     "metadata": {},
     "output_type": "execute_result"
    }
   ],
   "source": [
    "L = (1,)\n",
    "L"
   ]
  },
  {
   "cell_type": "markdown",
   "metadata": {},
   "source": [
    "Note that above the comma is not optional as the expression $(1)$ would be interpreted as the number $1$."
   ]
  },
  {
   "cell_type": "markdown",
   "metadata": {},
   "source": [
    "## Lists"
   ]
  },
  {
   "cell_type": "markdown",
   "metadata": {},
   "source": [
    "Next, we discuss the data type of lists.  Lists are a lot like tuples, but in contrast to tuples, lists are \n",
    "<em style=\"color:blue;\">mutatable</em>, i.e. we can change lists.  To construct a list, we use square backets:"
   ]
  },
  {
   "cell_type": "code",
   "execution_count": 60,
   "metadata": {},
   "outputs": [
    {
     "data": {
      "text/plain": [
       "[1, 2, 3]"
      ]
     },
     "execution_count": 60,
     "metadata": {},
     "output_type": "execute_result"
    }
   ],
   "source": [
    "L = [1, 2, 3]\n",
    "L"
   ]
  },
  {
   "cell_type": "markdown",
   "metadata": {},
   "source": [
    "To change the first element of a list, we can use the index operator and use it on the left hand side of an assignment:"
   ]
  },
  {
   "cell_type": "code",
   "execution_count": 61,
   "metadata": {},
   "outputs": [
    {
     "data": {
      "text/plain": [
       "[7, 2, 3]"
      ]
     },
     "execution_count": 61,
     "metadata": {},
     "output_type": "execute_result"
    }
   ],
   "source": [
    "L[0] = 7\n",
    "L"
   ]
  },
  {
   "cell_type": "markdown",
   "metadata": {},
   "source": [
    "This last operation would not be possible if <tt>L</tt> had been a tuple instead of a list.\n",
    "Lists support concatenation in the same way as tuples: "
   ]
  },
  {
   "cell_type": "code",
   "execution_count": 62,
   "metadata": {},
   "outputs": [
    {
     "data": {
      "text/plain": [
       "[1, 2, 3, 4, 5, 6]"
      ]
     },
     "execution_count": 62,
     "metadata": {},
     "output_type": "execute_result"
    }
   ],
   "source": [
    "[1,2,3] + [4,5,6]"
   ]
  },
  {
   "cell_type": "markdown",
   "metadata": {},
   "source": [
    "The function <tt>len</tt> computes the length of a list:"
   ]
  },
  {
   "cell_type": "code",
   "execution_count": 63,
   "metadata": {},
   "outputs": [
    {
     "data": {
      "text/plain": [
       "3"
      ]
     },
     "execution_count": 63,
     "metadata": {},
     "output_type": "execute_result"
    }
   ],
   "source": [
    "len([4,5,6])"
   ]
  },
  {
   "cell_type": "markdown",
   "metadata": {},
   "source": [
    "Lists and tuples both support the functions <tt>max</tt> and <tt>min</tt>.  The expression $\\texttt{max}(L)$ computes the maximum of all the elements of the list (or tuple) $L$, while $\\texttt{min}(L)$ computes the smallest element of $L$.  These functions also operate on tuples or sets.  They even work on list of lists or set of frozensets, but this is not really useful."
   ]
  },
  {
   "cell_type": "code",
   "execution_count": 64,
   "metadata": {},
   "outputs": [
    {
     "data": {
      "text/plain": [
       "3"
      ]
     },
     "execution_count": 64,
     "metadata": {},
     "output_type": "execute_result"
    }
   ],
   "source": [
    "max([1,2,3])"
   ]
  },
  {
   "cell_type": "code",
   "execution_count": 65,
   "metadata": {},
   "outputs": [
    {
     "data": {
      "text/plain": [
       "1"
      ]
     },
     "execution_count": 65,
     "metadata": {},
     "output_type": "execute_result"
    }
   ],
   "source": [
    "min([1,2,3])"
   ]
  },
  {
   "cell_type": "code",
   "execution_count": 66,
   "metadata": {},
   "outputs": [
    {
     "data": {
      "text/plain": [
       "3"
      ]
     },
     "execution_count": 66,
     "metadata": {},
     "output_type": "execute_result"
    }
   ],
   "source": [
    "max({1,2,3})"
   ]
  },
  {
   "cell_type": "code",
   "execution_count": 67,
   "metadata": {},
   "outputs": [
    {
     "data": {
      "text/plain": [
       "[5]"
      ]
     },
     "execution_count": 67,
     "metadata": {},
     "output_type": "execute_result"
    }
   ],
   "source": [
    "max([[1,2], [2,3,4], [5]])"
   ]
  },
  {
   "cell_type": "code",
   "execution_count": 68,
   "metadata": {},
   "outputs": [
    {
     "data": {
      "text/plain": [
       "frozenset({5})"
      ]
     },
     "execution_count": 68,
     "metadata": {},
     "output_type": "execute_result"
    }
   ],
   "source": [
    "max({frozenset({1,2}), frozenset({2,3,4}), frozenset({5})})"
   ]
  },
  {
   "cell_type": "markdown",
   "metadata": {},
   "source": [
    "## Boolean Operators"
   ]
  },
  {
   "cell_type": "markdown",
   "metadata": {},
   "source": [
    "In *Python*, the truth values, also known as <em style=\"color:blue;\">Boolean</em> values, are written as <tt>True</tt> and <tt>False</tt>. "
   ]
  },
  {
   "cell_type": "code",
   "execution_count": 69,
   "metadata": {},
   "outputs": [
    {
     "data": {
      "text/plain": [
       "True"
      ]
     },
     "execution_count": 69,
     "metadata": {},
     "output_type": "execute_result"
    }
   ],
   "source": [
    "True"
   ]
  },
  {
   "cell_type": "code",
   "execution_count": 70,
   "metadata": {},
   "outputs": [
    {
     "data": {
      "text/plain": [
       "False"
      ]
     },
     "execution_count": 70,
     "metadata": {},
     "output_type": "execute_result"
    }
   ],
   "source": [
    "False"
   ]
  },
  {
   "cell_type": "markdown",
   "metadata": {},
   "source": [
    "The following function is needed for pretty-printing.  It assumes that the argument <tt>val</tt> is a truth value.  This truth value is then turned into a string that has a size of 5 characters."
   ]
  },
  {
   "cell_type": "code",
   "execution_count": 71,
   "metadata": {},
   "outputs": [],
   "source": [
    "def toStr(val):\n",
    "    if val:\n",
    "        return 'True '\n",
    "    return 'False'"
   ]
  },
  {
   "cell_type": "markdown",
   "metadata": {},
   "source": [
    "These values can be combined using the <em style=\"color:blue;\">Boolean operators</em> $\\wedge$, $\\vee$, and $\\neg$.  In *Python*, these operators are denoted as <tt>and</tt>, <tt>or</tt>, and <tt>not</tt>.  The following table shows how the operator <tt>and</tt> is defined:"
   ]
  },
  {
   "cell_type": "code",
   "execution_count": 72,
   "metadata": {},
   "outputs": [
    {
     "name": "stdout",
     "output_type": "stream",
     "text": [
      "True  and True  = True\n",
      "True  and False = False\n",
      "False and True  = False\n",
      "False and False = False\n"
     ]
    }
   ],
   "source": [
    "B = (True, False)\n",
    "for x in B:\n",
    "    for y in B:\n",
    "        print(toStr(x), 'and', toStr(y), '=', x and y)"
   ]
  },
  {
   "cell_type": "markdown",
   "metadata": {},
   "source": [
    "The <em style=\"color:blue;\">disjunction</em> of two Boolean values is only <tt>False</tt> if both values are <tt>False</tt>:"
   ]
  },
  {
   "cell_type": "code",
   "execution_count": 73,
   "metadata": {},
   "outputs": [
    {
     "name": "stdout",
     "output_type": "stream",
     "text": [
      "True  or True  = True\n",
      "True  or False = True\n",
      "False or True  = True\n",
      "False or False = False\n"
     ]
    }
   ],
   "source": [
    "for x in B:\n",
    "    for y in B:\n",
    "        print(toStr(x), 'or', toStr(y), '=', x or y)"
   ]
  },
  {
   "cell_type": "markdown",
   "metadata": {},
   "source": [
    "Finally, the <em style=\"color:blue;\">negation</em> operator works as expected:"
   ]
  },
  {
   "cell_type": "code",
   "execution_count": 74,
   "metadata": {},
   "outputs": [
    {
     "name": "stdout",
     "output_type": "stream",
     "text": [
      "not True  = False\n",
      "not False = True\n"
     ]
    }
   ],
   "source": [
    "for x in B:\n",
    "    print('not', toStr(x), '=', not x)"
   ]
  },
  {
   "cell_type": "markdown",
   "metadata": {},
   "source": [
    "Boolean values are created by comparing numbers using the follwing comparison operators:\n",
    "<ol>\n",
    "    <li>$a\\;\\texttt{==}\\;b$ is true iff $a$ is equal to $b$.</li>\n",
    "    <li>$a\\;\\texttt{!=}\\;b$ is true iff $a$ is different from $b$.</li>\n",
    "    <li>$a\\;\\texttt{<}\\;b$ is true iff $a$ is less than $b$.</li>\n",
    "    <li>$a\\;\\texttt{<=}\\;b$ is true iff $a$ is less than or equal to $b$.</li>\n",
    "    <li>$a\\;\\texttt{>=}\\;b$ is true iff $a$ is bigger than or equal to $b$.</li>\n",
    "    <li>$a\\;\\texttt{>}\\;b$ is true iff $a$ is bigger than $b$.</li>\n",
    "</ol>"
   ]
  },
  {
   "cell_type": "code",
   "execution_count": 75,
   "metadata": {},
   "outputs": [
    {
     "data": {
      "text/plain": [
       "False"
      ]
     },
     "execution_count": 75,
     "metadata": {},
     "output_type": "execute_result"
    }
   ],
   "source": [
    "1 == 2"
   ]
  },
  {
   "cell_type": "code",
   "execution_count": 76,
   "metadata": {},
   "outputs": [
    {
     "data": {
      "text/plain": [
       "True"
      ]
     },
     "execution_count": 76,
     "metadata": {},
     "output_type": "execute_result"
    }
   ],
   "source": [
    "1 < 2"
   ]
  },
  {
   "cell_type": "code",
   "execution_count": 77,
   "metadata": {},
   "outputs": [
    {
     "data": {
      "text/plain": [
       "True"
      ]
     },
     "execution_count": 77,
     "metadata": {},
     "output_type": "execute_result"
    }
   ],
   "source": [
    "1 <= 2"
   ]
  },
  {
   "cell_type": "code",
   "execution_count": 78,
   "metadata": {},
   "outputs": [
    {
     "data": {
      "text/plain": [
       "False"
      ]
     },
     "execution_count": 78,
     "metadata": {},
     "output_type": "execute_result"
    }
   ],
   "source": [
    "1 > 2"
   ]
  },
  {
   "cell_type": "code",
   "execution_count": 79,
   "metadata": {},
   "outputs": [
    {
     "data": {
      "text/plain": [
       "False"
      ]
     },
     "execution_count": 79,
     "metadata": {},
     "output_type": "execute_result"
    }
   ],
   "source": [
    "1 >= 2"
   ]
  },
  {
   "cell_type": "markdown",
   "metadata": {},
   "source": [
    "Comparison operators can be <em style=\"color:blue;\">chained</em> as shown in the following example:"
   ]
  },
  {
   "cell_type": "code",
   "execution_count": 80,
   "metadata": {},
   "outputs": [
    {
     "data": {
      "text/plain": [
       "True"
      ]
     },
     "execution_count": 80,
     "metadata": {},
     "output_type": "execute_result"
    }
   ],
   "source": [
    "1 < 2 > -1"
   ]
  },
  {
   "cell_type": "markdown",
   "metadata": {},
   "source": [
    "*Python* supports the <em style=\"color:blue;\">universal quantifier</em> $\\forall$.  If $L$ is a list of Boolean values, then we can check whether all elements of $L$ are <tt>True</tt> by writing\n",
    "$$ \\texttt{all}(L). $$\n",
    "For example, to check whether all elements of a list $L$ are even we can write the following:"
   ]
  },
  {
   "cell_type": "code",
   "execution_count": 81,
   "metadata": {},
   "outputs": [
    {
     "data": {
      "text/plain": [
       "False"
      ]
     },
     "execution_count": 81,
     "metadata": {},
     "output_type": "execute_result"
    }
   ],
   "source": [
    "L = [2, 4, 6, 7]\n",
    "all(x % 2 == 0 for x in L)"
   ]
  },
  {
   "cell_type": "markdown",
   "metadata": {},
   "source": [
    "*Python* also supports the <em style=\"color:blue;\">existential quantifier</em> $\\exists$.  If $L$ is a list of Boolean values, the expression\n",
    "$$ \\texttt{any}(L) $$\n",
    "is true iff there exists an element $x \\in L$ such that $x$ is true."
   ]
  },
  {
   "cell_type": "code",
   "execution_count": 82,
   "metadata": {},
   "outputs": [
    {
     "data": {
      "text/plain": [
       "True"
      ]
     },
     "execution_count": 82,
     "metadata": {},
     "output_type": "execute_result"
    }
   ],
   "source": [
    "any(x ** 2 > 2 ** x for x in range(1,5))"
   ]
  },
  {
   "cell_type": "markdown",
   "metadata": {},
   "source": [
    "## Control Structures"
   ]
  },
  {
   "cell_type": "markdown",
   "metadata": {},
   "source": [
    "First of all, *Python* supports branching statements.  The following example is taken from the *Python* tutorial at <a href=\"https://docs.python.org/3/tutorial/controlflow.html\">https://python.org</a>:"
   ]
  },
  {
   "cell_type": "code",
   "execution_count": null,
   "metadata": {},
   "outputs": [],
   "source": [
    "x = int(input(\"Please enter an integer: \"))\n",
    "if x < 0:\n",
    "   print('The number is negative!')\n",
    "elif x == 0:\n",
    "   print('The number is zero.')\n",
    "elif x == 1:\n",
    "   print(\"It's a one.\")\n",
    "else:\n",
    "   print(\"It's more than one.\")"
   ]
  },
  {
   "cell_type": "markdown",
   "metadata": {},
   "source": [
    "*Loops* can be used to iterate over sets, lists, tuples, or generators.  The following example prints the numbers from 1 to 10."
   ]
  },
  {
   "cell_type": "code",
   "execution_count": 83,
   "metadata": {},
   "outputs": [
    {
     "name": "stdout",
     "output_type": "stream",
     "text": [
      "1\n",
      "2\n",
      "3\n",
      "4\n",
      "5\n",
      "6\n",
      "7\n",
      "8\n",
      "9\n",
      "10\n"
     ]
    }
   ],
   "source": [
    "for x in range(1, 10+1):\n",
    "    print(x)"
   ]
  },
  {
   "cell_type": "markdown",
   "metadata": {},
   "source": [
    "The same can be achieved with a <tt>while</tt> loop:"
   ]
  },
  {
   "cell_type": "code",
   "execution_count": 84,
   "metadata": {},
   "outputs": [
    {
     "name": "stdout",
     "output_type": "stream",
     "text": [
      "12345678910"
     ]
    }
   ],
   "source": [
    "x = 1\n",
    "while x <= 10:\n",
    "    print(x, end='')\n",
    "    x += 1"
   ]
  },
  {
   "cell_type": "markdown",
   "metadata": {},
   "source": [
    "The following program computes the prime numbers according to an\n",
    "<a href=\"https://en.wikipedia.org/wiki/Sieve_of_Eratosthenes\">algorithm given by Eratosthenes</a>.\n",
    "<ol>\n",
    "    <li>We set $n$ equal to 100 as we want to compute the set all prime numbers less or equal that 100.</li>\n",
    "    <li><TT>primes</TT> is the list of numbers from 0 upto $n$, i.e. we have initially\n",
    "        $$ \\texttt{primes} = [0,1,2,\\cdots,n] $$\n",
    "        Therefore, we have\n",
    "        $$ \\texttt{primes}[i] = i \\quad \\mbox{for all $i \\in \\{0,1,\\cdots,n\\}$.} $$\n",
    "        The idea is to set <tt>primes[$i$]</tt> to zero iff $i$ is a proper product of two numbers.\n",
    "    </li>\n",
    "    <li>To this end we iterate over all $i$ and $j$ from the set $\\{2,\\cdots,n\\}$\n",
    "        and set the product $\\texttt{primes}[i\\cdot j]$ to zero.  This is achieved by the two <tt>for</tt> loops in line 3 and 4 below.</li>\n",
    "    <li>Note that we have to check that the product $i * j$ is not bigger than $n$ for otherwise we would get an *out of range error* when trying to assign <tt>primes[i*j]</tt>.     \n",
    "    </li>\n",
    "    <li>After the iteration, all non-prime elements greater than one of the list primes have been set to zero.</li>\n",
    "    <li>Finally, we compute the set of primes by collecting those elements that have not been set to $0$.</li>\n",
    "</ol>"
   ]
  },
  {
   "cell_type": "code",
   "execution_count": null,
   "metadata": {},
   "outputs": [],
   "source": [
    "n         = 100\n",
    "primes    = list(range(0, n+1))\n",
    "primes[1] = 0\n",
    "for i in range(2, n+1):\n",
    "    for j in range(2, n+1):\n",
    "        if i * j <= n:\n",
    "            primes[i * j] = 0\n",
    "print(primes)\n",
    "print({ i for i in range(2, n+1) if primes[i] != 0 })"
   ]
  },
  {
   "cell_type": "markdown",
   "metadata": {},
   "source": [
    "The algorithm given above can be improved by using the following observations:\n",
    "<ol>\n",
    "    <li>If a number $x$ can be written as a product $a \\cdot b$, then at least one of the numbers $a$ or $b$ has to be less than $\\sqrt{x}$.  Therefore, the <tt>for</tt> loop in line 5 below iterates as long as $i \\leq \\sqrt{x}$.  The function <tt>ceil</tt> is needed to cast the square root of $x$ to a natural number.  In order to use the functions <tt>sqrt</tt> and <tt>ceil</tt> we have to import them from the module <tt>math</tt>.  This is done in line 1 of the program shown below. \n",
    "    </li>\n",
    "    <li>When we iterate over $j$ in the inner loop, it is sufficient if we start with $j = i$ since all products of the form $i \\cdot j$ where $j < i$ have already been eliminated at the time, when the multiples of $i$ had been eliminated.</li>\n",
    "    <li>If <tt>primes[$i$] = 0</tt>, then $i$ is not a prime and hence it has to be a product of two numbers $a$ and $b$ both of which are smaller than $i$.  However, since all the multiples of $a$ and $b$ have already been eliminated, there is no point in eliminating the multiples of $i$ since these are also mulples of both $a$ and $b$ and hence they have already been eliminated.  Therefore, if <tt>primes[$i$] = 0</tt> we can immediately jump to the next value of $i$.  This is achieved by the <tt>continue</tt> statement in line 7 below. </li>\n",
    "</ol>\n",
    "The program shown below is easily capable of computing all prime numbers less than a million."
   ]
  },
  {
   "cell_type": "code",
   "execution_count": null,
   "metadata": {},
   "outputs": [],
   "source": [
    "%%time\n",
    "from math import sqrt, ceil\n",
    "\n",
    "n = 1000000\n",
    "primes = list(range(n+1))\n",
    "for i in range(2, ceil(sqrt(n))):\n",
    "    if primes[i] == 0:\n",
    "        continue\n",
    "    j = i\n",
    "    while i * j <= n:\n",
    "        primes[i * j] = 0\n",
    "        j += 1\n",
    "P = { i for i in range(2, n+1) if primes[i] != 0 }\n",
    "print(P)\n",
    "print(sorted(list(P)))"
   ]
  },
  {
   "cell_type": "markdown",
   "metadata": {},
   "source": [
    "## Numerical Functions"
   ]
  },
  {
   "cell_type": "markdown",
   "metadata": {},
   "source": [
    "*Python* provides all of the mathematical functions that you have come to learn at school.  A detailed listing of these functions can be found at <a href=\"https://docs.python.org/3.6/library/math.html\">https://docs.python.org/3.6/library/math.html</a>.  We just show the most important functions and constants.  In order to make the module <tt>math</tt> available, we use the following <tt>import</tt> statement: "
   ]
  },
  {
   "cell_type": "code",
   "execution_count": 85,
   "metadata": {},
   "outputs": [],
   "source": [
    "import math"
   ]
  },
  {
   "cell_type": "markdown",
   "metadata": {},
   "source": [
    "The mathematical constant <a href=\"https://en.wikipedia.org/wiki/Pi\">Pi</a> which is most often written as $\\pi$ is available as <tt>math.pi</tt>."
   ]
  },
  {
   "cell_type": "code",
   "execution_count": 86,
   "metadata": {},
   "outputs": [
    {
     "data": {
      "text/plain": [
       "3.141592653589793"
      ]
     },
     "execution_count": 86,
     "metadata": {},
     "output_type": "execute_result"
    }
   ],
   "source": [
    "math.pi"
   ]
  },
  {
   "cell_type": "markdown",
   "metadata": {},
   "source": [
    "The <a href=\"https://en.wikipedia.org/wiki/Sine\">sine</a> function is called as follows:"
   ]
  },
  {
   "cell_type": "code",
   "execution_count": 87,
   "metadata": {},
   "outputs": [
    {
     "data": {
      "text/plain": [
       "0.49999999999999994"
      ]
     },
     "execution_count": 87,
     "metadata": {},
     "output_type": "execute_result"
    }
   ],
   "source": [
    "math.sin(math.pi/6)"
   ]
  },
  {
   "cell_type": "markdown",
   "metadata": {},
   "source": [
    "The <a href=\"https://en.wikipedia.org/wiki/Trigonometric_functions#cosine\">cosine</a> function is called as follows:"
   ]
  },
  {
   "cell_type": "code",
   "execution_count": 88,
   "metadata": {},
   "outputs": [
    {
     "data": {
      "text/plain": [
       "1.0"
      ]
     },
     "execution_count": 88,
     "metadata": {},
     "output_type": "execute_result"
    }
   ],
   "source": [
    "math.cos(0.0)"
   ]
  },
  {
   "cell_type": "markdown",
   "metadata": {},
   "source": [
    "The tangent function is called as follows:"
   ]
  },
  {
   "cell_type": "code",
   "execution_count": 89,
   "metadata": {},
   "outputs": [
    {
     "data": {
      "text/plain": [
       "0.9999999999999999"
      ]
     },
     "execution_count": 89,
     "metadata": {},
     "output_type": "execute_result"
    }
   ],
   "source": [
    "math.tan(math.pi/4)"
   ]
  },
  {
   "cell_type": "markdown",
   "metadata": {},
   "source": [
    "The arc sine, arc cosine, and arc tangent are called by prefixing the character '<tt>a</tt>' to the name of the function as seen below:"
   ]
  },
  {
   "cell_type": "code",
   "execution_count": 90,
   "metadata": {},
   "outputs": [
    {
     "data": {
      "text/plain": [
       "1.5707963267948966"
      ]
     },
     "execution_count": 90,
     "metadata": {},
     "output_type": "execute_result"
    }
   ],
   "source": [
    "math.asin(1.0)"
   ]
  },
  {
   "cell_type": "code",
   "execution_count": 91,
   "metadata": {},
   "outputs": [
    {
     "data": {
      "text/plain": [
       "0.0"
      ]
     },
     "execution_count": 91,
     "metadata": {},
     "output_type": "execute_result"
    }
   ],
   "source": [
    "math.acos(1.0)"
   ]
  },
  {
   "cell_type": "code",
   "execution_count": 92,
   "metadata": {},
   "outputs": [
    {
     "data": {
      "text/plain": [
       "0.7853981633974483"
      ]
     },
     "execution_count": 92,
     "metadata": {},
     "output_type": "execute_result"
    }
   ],
   "source": [
    "math.atan(1.0)"
   ]
  },
  {
   "cell_type": "markdown",
   "metadata": {},
   "source": [
    "<a href=\"https://en.wikipedia.org/wiki/E_(mathematical_constant)\">Euler's number $e$</a> can be computed as follows:"
   ]
  },
  {
   "cell_type": "code",
   "execution_count": 93,
   "metadata": {},
   "outputs": [
    {
     "data": {
      "text/plain": [
       "2.718281828459045"
      ]
     },
     "execution_count": 93,
     "metadata": {},
     "output_type": "execute_result"
    }
   ],
   "source": [
    "math.e"
   ]
  },
  {
   "cell_type": "markdown",
   "metadata": {},
   "source": [
    "The exponential function $\\mathrm{exp}(x) := e^x$ is computed as follows:"
   ]
  },
  {
   "cell_type": "code",
   "execution_count": 94,
   "metadata": {},
   "outputs": [
    {
     "data": {
      "text/plain": [
       "2.718281828459045"
      ]
     },
     "execution_count": 94,
     "metadata": {},
     "output_type": "execute_result"
    }
   ],
   "source": [
    "math.exp(1)"
   ]
  },
  {
   "cell_type": "markdown",
   "metadata": {},
   "source": [
    "The natural logarithm $\\ln(x)$, which is defined as the inverse of the function $\\exp(x)$, is called <tt>log</tt> (instead of <tt>ln</tt>):"
   ]
  },
  {
   "cell_type": "code",
   "execution_count": 95,
   "metadata": {},
   "outputs": [
    {
     "data": {
      "text/plain": [
       "2.0"
      ]
     },
     "execution_count": 95,
     "metadata": {},
     "output_type": "execute_result"
    }
   ],
   "source": [
    "math.log(math.e * math.e)"
   ]
  },
  {
   "cell_type": "markdown",
   "metadata": {},
   "source": [
    "The square root $\\sqrt{x}$ of a number $x$ is computed using the function <tt>sqrt</tt>:"
   ]
  },
  {
   "cell_type": "code",
   "execution_count": 96,
   "metadata": {},
   "outputs": [
    {
     "data": {
      "text/plain": [
       "1.4142135623730951"
      ]
     },
     "execution_count": 96,
     "metadata": {},
     "output_type": "execute_result"
    }
   ],
   "source": [
    "math.sqrt(2)"
   ]
  },
  {
   "cell_type": "markdown",
   "metadata": {},
   "source": [
    "The <em style=\"color:blue;\">flooring function</em> $\\texttt{floor}(x)$ truncates a floating point number $x$ down to the biggest integer number less or equal to $x$:\n",
    "$$ \\texttt{floor}(x) = \\max(\\{ n \\in \\mathbb{Z} \\mid n \\leq x \\} $$"
   ]
  },
  {
   "cell_type": "code",
   "execution_count": 97,
   "metadata": {},
   "outputs": [
    {
     "data": {
      "text/plain": [
       "1"
      ]
     },
     "execution_count": 97,
     "metadata": {},
     "output_type": "execute_result"
    }
   ],
   "source": [
    "math.floor(1.999)"
   ]
  },
  {
   "cell_type": "markdown",
   "metadata": {},
   "source": [
    "The <em style=\"color:blue;\">ceiling function</em> $\\texttt{ceil}(x)$ rounds a floating point number $x$ up to the next  integer number bigger or equal to $x$:\n",
    "$$ \\texttt{ceil}(x) = \\min(\\{ n \\in \\mathbb{Z} \\mid x \\leq n \\} $$"
   ]
  },
  {
   "cell_type": "code",
   "execution_count": 98,
   "metadata": {},
   "outputs": [
    {
     "data": {
      "text/plain": [
       "2"
      ]
     },
     "execution_count": 98,
     "metadata": {},
     "output_type": "execute_result"
    }
   ],
   "source": [
    "math.ceil(1.001)"
   ]
  },
  {
   "cell_type": "markdown",
   "metadata": {
    "collapsed": true
   },
   "source": [
    "## The Help System"
   ]
  },
  {
   "cell_type": "markdown",
   "metadata": {},
   "source": [
    "Typing a single question mark <tt>'?'</tt> starts the help system."
   ]
  },
  {
   "cell_type": "code",
   "execution_count": 99,
   "metadata": {},
   "outputs": [],
   "source": [
    "?"
   ]
  },
  {
   "cell_type": "markdown",
   "metadata": {},
   "source": [
    "If the name of a module is followed by a question mark, a description of the module is printed."
   ]
  },
  {
   "cell_type": "code",
   "execution_count": null,
   "metadata": {},
   "outputs": [],
   "source": [
    "math?"
   ]
  },
  {
   "cell_type": "markdown",
   "metadata": {},
   "source": [
    "This also works for functions defined in a module."
   ]
  },
  {
   "cell_type": "code",
   "execution_count": 100,
   "metadata": {},
   "outputs": [],
   "source": [
    "math.sin?"
   ]
  },
  {
   "cell_type": "markdown",
   "metadata": {},
   "source": [
    "The question mark operator only works inside a <em style=\"color:blue;\">Jupyter notebook</em>.  If you are using an interpreted in the command line for executing *Python* commands, use the function <tt>help</tt> instead."
   ]
  },
  {
   "cell_type": "code",
   "execution_count": 101,
   "metadata": {
    "scrolled": true
   },
   "outputs": [
    {
     "name": "stdout",
     "output_type": "stream",
     "text": [
      "Help on module math:\n",
      "\n",
      "NAME\n",
      "    math\n",
      "\n",
      "MODULE REFERENCE\n",
      "    https://docs.python.org/3.6/library/math\n",
      "    \n",
      "    The following documentation is automatically generated from the Python\n",
      "    source files.  It may be incomplete, incorrect or include features that\n",
      "    are considered implementation detail and may vary between Python\n",
      "    implementations.  When in doubt, consult the module reference at the\n",
      "    location listed above.\n",
      "\n",
      "DESCRIPTION\n",
      "    This module is always available.  It provides access to the\n",
      "    mathematical functions defined by the C standard.\n",
      "\n",
      "FUNCTIONS\n",
      "    acos(...)\n",
      "        acos(x)\n",
      "        \n",
      "        Return the arc cosine (measured in radians) of x.\n",
      "    \n",
      "    acosh(...)\n",
      "        acosh(x)\n",
      "        \n",
      "        Return the inverse hyperbolic cosine of x.\n",
      "    \n",
      "    asin(...)\n",
      "        asin(x)\n",
      "        \n",
      "        Return the arc sine (measured in radians) of x.\n",
      "    \n",
      "    asinh(...)\n",
      "        asinh(x)\n",
      "        \n",
      "        Return the inverse hyperbolic sine of x.\n",
      "    \n",
      "    atan(...)\n",
      "        atan(x)\n",
      "        \n",
      "        Return the arc tangent (measured in radians) of x.\n",
      "    \n",
      "    atan2(...)\n",
      "        atan2(y, x)\n",
      "        \n",
      "        Return the arc tangent (measured in radians) of y/x.\n",
      "        Unlike atan(y/x), the signs of both x and y are considered.\n",
      "    \n",
      "    atanh(...)\n",
      "        atanh(x)\n",
      "        \n",
      "        Return the inverse hyperbolic tangent of x.\n",
      "    \n",
      "    ceil(...)\n",
      "        ceil(x)\n",
      "        \n",
      "        Return the ceiling of x as an Integral.\n",
      "        This is the smallest integer >= x.\n",
      "    \n",
      "    copysign(...)\n",
      "        copysign(x, y)\n",
      "        \n",
      "        Return a float with the magnitude (absolute value) of x but the sign \n",
      "        of y. On platforms that support signed zeros, copysign(1.0, -0.0) \n",
      "        returns -1.0.\n",
      "    \n",
      "    cos(...)\n",
      "        cos(x)\n",
      "        \n",
      "        Return the cosine of x (measured in radians).\n",
      "    \n",
      "    cosh(...)\n",
      "        cosh(x)\n",
      "        \n",
      "        Return the hyperbolic cosine of x.\n",
      "    \n",
      "    degrees(...)\n",
      "        degrees(x)\n",
      "        \n",
      "        Convert angle x from radians to degrees.\n",
      "    \n",
      "    erf(...)\n",
      "        erf(x)\n",
      "        \n",
      "        Error function at x.\n",
      "    \n",
      "    erfc(...)\n",
      "        erfc(x)\n",
      "        \n",
      "        Complementary error function at x.\n",
      "    \n",
      "    exp(...)\n",
      "        exp(x)\n",
      "        \n",
      "        Return e raised to the power of x.\n",
      "    \n",
      "    expm1(...)\n",
      "        expm1(x)\n",
      "        \n",
      "        Return exp(x)-1.\n",
      "        This function avoids the loss of precision involved in the direct evaluation of exp(x)-1 for small x.\n",
      "    \n",
      "    fabs(...)\n",
      "        fabs(x)\n",
      "        \n",
      "        Return the absolute value of the float x.\n",
      "    \n",
      "    factorial(...)\n",
      "        factorial(x) -> Integral\n",
      "        \n",
      "        Find x!. Raise a ValueError if x is negative or non-integral.\n",
      "    \n",
      "    floor(...)\n",
      "        floor(x)\n",
      "        \n",
      "        Return the floor of x as an Integral.\n",
      "        This is the largest integer <= x.\n",
      "    \n",
      "    fmod(...)\n",
      "        fmod(x, y)\n",
      "        \n",
      "        Return fmod(x, y), according to platform C.  x % y may differ.\n",
      "    \n",
      "    frexp(...)\n",
      "        frexp(x)\n",
      "        \n",
      "        Return the mantissa and exponent of x, as pair (m, e).\n",
      "        m is a float and e is an int, such that x = m * 2.**e.\n",
      "        If x is 0, m and e are both 0.  Else 0.5 <= abs(m) < 1.0.\n",
      "    \n",
      "    fsum(...)\n",
      "        fsum(iterable)\n",
      "        \n",
      "        Return an accurate floating point sum of values in the iterable.\n",
      "        Assumes IEEE-754 floating point arithmetic.\n",
      "    \n",
      "    gamma(...)\n",
      "        gamma(x)\n",
      "        \n",
      "        Gamma function at x.\n",
      "    \n",
      "    gcd(...)\n",
      "        gcd(x, y) -> int\n",
      "        greatest common divisor of x and y\n",
      "    \n",
      "    hypot(...)\n",
      "        hypot(x, y)\n",
      "        \n",
      "        Return the Euclidean distance, sqrt(x*x + y*y).\n",
      "    \n",
      "    isclose(...)\n",
      "        isclose(a, b, *, rel_tol=1e-09, abs_tol=0.0) -> bool\n",
      "        \n",
      "        Determine whether two floating point numbers are close in value.\n",
      "        \n",
      "           rel_tol\n",
      "               maximum difference for being considered \"close\", relative to the\n",
      "               magnitude of the input values\n",
      "            abs_tol\n",
      "               maximum difference for being considered \"close\", regardless of the\n",
      "               magnitude of the input values\n",
      "        \n",
      "        Return True if a is close in value to b, and False otherwise.\n",
      "        \n",
      "        For the values to be considered close, the difference between them\n",
      "        must be smaller than at least one of the tolerances.\n",
      "        \n",
      "        -inf, inf and NaN behave similarly to the IEEE 754 Standard.  That\n",
      "        is, NaN is not close to anything, even itself.  inf and -inf are\n",
      "        only close to themselves.\n",
      "    \n",
      "    isfinite(...)\n",
      "        isfinite(x) -> bool\n",
      "        \n",
      "        Return True if x is neither an infinity nor a NaN, and False otherwise.\n",
      "    \n",
      "    isinf(...)\n",
      "        isinf(x) -> bool\n",
      "        \n",
      "        Return True if x is a positive or negative infinity, and False otherwise.\n",
      "    \n",
      "    isnan(...)\n",
      "        isnan(x) -> bool\n",
      "        \n",
      "        Return True if x is a NaN (not a number), and False otherwise.\n",
      "    \n",
      "    ldexp(...)\n",
      "        ldexp(x, i)\n",
      "        \n",
      "        Return x * (2**i).\n",
      "    \n",
      "    lgamma(...)\n",
      "        lgamma(x)\n",
      "        \n",
      "        Natural logarithm of absolute value of Gamma function at x.\n",
      "    \n",
      "    log(...)\n",
      "        log(x[, base])\n",
      "        \n",
      "        Return the logarithm of x to the given base.\n",
      "        If the base not specified, returns the natural logarithm (base e) of x.\n",
      "    \n",
      "    log10(...)\n",
      "        log10(x)\n",
      "        \n",
      "        Return the base 10 logarithm of x.\n",
      "    \n",
      "    log1p(...)\n",
      "        log1p(x)\n",
      "        \n",
      "        Return the natural logarithm of 1+x (base e).\n",
      "        The result is computed in a way which is accurate for x near zero.\n",
      "    \n",
      "    log2(...)\n",
      "        log2(x)\n",
      "        \n",
      "        Return the base 2 logarithm of x.\n",
      "    \n",
      "    modf(...)\n",
      "        modf(x)\n",
      "        \n",
      "        Return the fractional and integer parts of x.  Both results carry the sign\n",
      "        of x and are floats.\n",
      "    \n",
      "    pow(...)\n",
      "        pow(x, y)\n",
      "        \n",
      "        Return x**y (x to the power of y).\n",
      "    \n",
      "    radians(...)\n",
      "        radians(x)\n",
      "        \n",
      "        Convert angle x from degrees to radians.\n",
      "    \n",
      "    sin(...)\n",
      "        sin(x)\n",
      "        \n",
      "        Return the sine of x (measured in radians).\n",
      "    \n",
      "    sinh(...)\n",
      "        sinh(x)\n",
      "        \n",
      "        Return the hyperbolic sine of x.\n",
      "    \n",
      "    sqrt(...)\n",
      "        sqrt(x)\n",
      "        \n",
      "        Return the square root of x.\n",
      "    \n",
      "    tan(...)\n",
      "        tan(x)\n",
      "        \n",
      "        Return the tangent of x (measured in radians).\n",
      "    \n",
      "    tanh(...)\n",
      "        tanh(x)\n",
      "        \n",
      "        Return the hyperbolic tangent of x.\n",
      "    \n",
      "    trunc(...)\n",
      "        trunc(x:Real) -> Integral\n",
      "        \n",
      "        Truncates x to the nearest Integral toward 0. Uses the __trunc__ magic method.\n",
      "\n",
      "DATA\n",
      "    e = 2.718281828459045\n",
      "    inf = inf\n",
      "    nan = nan\n",
      "    pi = 3.141592653589793\n",
      "    tau = 6.283185307179586\n",
      "\n",
      "FILE\n",
      "    /Users/karlstroetmann/anaconda3/envs/ds/lib/python3.6/lib-dynload/math.cpython-36m-darwin.so\n",
      "\n",
      "\n"
     ]
    }
   ],
   "source": [
    "help(math)"
   ]
  },
  {
   "cell_type": "code",
   "execution_count": 102,
   "metadata": {},
   "outputs": [
    {
     "name": "stdout",
     "output_type": "stream",
     "text": [
      "Help on built-in function sin in module math:\n",
      "\n",
      "sin(...)\n",
      "    sin(x)\n",
      "    \n",
      "    Return the sine of x (measured in radians).\n",
      "\n"
     ]
    }
   ],
   "source": [
    "help(math.sin)"
   ]
  },
  {
   "cell_type": "code",
   "execution_count": 103,
   "metadata": {},
   "outputs": [
    {
     "name": "stdout",
     "output_type": "stream",
     "text": [
      "Help on built-in function dir in module builtins:\n",
      "\n",
      "dir(...)\n",
      "    dir([object]) -> list of strings\n",
      "    \n",
      "    If called without an argument, return the names in the current scope.\n",
      "    Else, return an alphabetized list of names comprising (some of) the attributes\n",
      "    of the given object, and of attributes reachable from it.\n",
      "    If the object supplies a method named __dir__, it will be used; otherwise\n",
      "    the default dir() logic is used and returns:\n",
      "      for a module object: the module's attributes.\n",
      "      for a class object:  its attributes, and recursively the attributes\n",
      "        of its bases.\n",
      "      for any other object: its attributes, its class's attributes, and\n",
      "        recursively the attributes of its class's base classes.\n",
      "\n"
     ]
    }
   ],
   "source": [
    "help(dir)"
   ]
  },
  {
   "cell_type": "markdown",
   "metadata": {},
   "source": [
    "We can use the function <tt>dir()</tt> to print the names of the variables that have been defined."
   ]
  },
  {
   "cell_type": "code",
   "execution_count": 104,
   "metadata": {
    "scrolled": false
   },
   "outputs": [
    {
     "data": {
      "text/plain": [
       "['A',\n",
       " 'B',\n",
       " 'In',\n",
       " 'L',\n",
       " 'M',\n",
       " 'N',\n",
       " 'NamespaceMagics',\n",
       " 'Out',\n",
       " 'S',\n",
       " 'T1',\n",
       " 'T2',\n",
       " 'T3',\n",
       " '_',\n",
       " '_10',\n",
       " '_11',\n",
       " '_14',\n",
       " '_16',\n",
       " '_17',\n",
       " '_18',\n",
       " '_19',\n",
       " '_2',\n",
       " '_20',\n",
       " '_21',\n",
       " '_22',\n",
       " '_24',\n",
       " '_25',\n",
       " '_26',\n",
       " '_27',\n",
       " '_28',\n",
       " '_3',\n",
       " '_33',\n",
       " '_34',\n",
       " '_37',\n",
       " '_38',\n",
       " '_40',\n",
       " '_42',\n",
       " '_43',\n",
       " '_46',\n",
       " '_47',\n",
       " '_48',\n",
       " '_49',\n",
       " '_50',\n",
       " '_51',\n",
       " '_52',\n",
       " '_55',\n",
       " '_57',\n",
       " '_58',\n",
       " '_59',\n",
       " '_6',\n",
       " '_60',\n",
       " '_61',\n",
       " '_62',\n",
       " '_63',\n",
       " '_64',\n",
       " '_65',\n",
       " '_66',\n",
       " '_67',\n",
       " '_68',\n",
       " '_69',\n",
       " '_7',\n",
       " '_70',\n",
       " '_75',\n",
       " '_76',\n",
       " '_77',\n",
       " '_78',\n",
       " '_79',\n",
       " '_80',\n",
       " '_81',\n",
       " '_82',\n",
       " '_86',\n",
       " '_87',\n",
       " '_88',\n",
       " '_89',\n",
       " '_90',\n",
       " '_91',\n",
       " '_92',\n",
       " '_93',\n",
       " '_94',\n",
       " '_95',\n",
       " '_96',\n",
       " '_97',\n",
       " '_98',\n",
       " '_Jupyter',\n",
       " '__',\n",
       " '___',\n",
       " '__builtin__',\n",
       " '__builtins__',\n",
       " '__doc__',\n",
       " '__loader__',\n",
       " '__name__',\n",
       " '__package__',\n",
       " '__spec__',\n",
       " '_dh',\n",
       " '_getshapeof',\n",
       " '_getsizeof',\n",
       " '_i',\n",
       " '_i1',\n",
       " '_i10',\n",
       " '_i100',\n",
       " '_i101',\n",
       " '_i102',\n",
       " '_i103',\n",
       " '_i104',\n",
       " '_i11',\n",
       " '_i12',\n",
       " '_i13',\n",
       " '_i14',\n",
       " '_i15',\n",
       " '_i16',\n",
       " '_i17',\n",
       " '_i18',\n",
       " '_i19',\n",
       " '_i2',\n",
       " '_i20',\n",
       " '_i21',\n",
       " '_i22',\n",
       " '_i23',\n",
       " '_i24',\n",
       " '_i25',\n",
       " '_i26',\n",
       " '_i27',\n",
       " '_i28',\n",
       " '_i29',\n",
       " '_i3',\n",
       " '_i30',\n",
       " '_i31',\n",
       " '_i32',\n",
       " '_i33',\n",
       " '_i34',\n",
       " '_i35',\n",
       " '_i36',\n",
       " '_i37',\n",
       " '_i38',\n",
       " '_i39',\n",
       " '_i4',\n",
       " '_i40',\n",
       " '_i41',\n",
       " '_i42',\n",
       " '_i43',\n",
       " '_i44',\n",
       " '_i45',\n",
       " '_i46',\n",
       " '_i47',\n",
       " '_i48',\n",
       " '_i49',\n",
       " '_i5',\n",
       " '_i50',\n",
       " '_i51',\n",
       " '_i52',\n",
       " '_i53',\n",
       " '_i54',\n",
       " '_i55',\n",
       " '_i56',\n",
       " '_i57',\n",
       " '_i58',\n",
       " '_i59',\n",
       " '_i6',\n",
       " '_i60',\n",
       " '_i61',\n",
       " '_i62',\n",
       " '_i63',\n",
       " '_i64',\n",
       " '_i65',\n",
       " '_i66',\n",
       " '_i67',\n",
       " '_i68',\n",
       " '_i69',\n",
       " '_i7',\n",
       " '_i70',\n",
       " '_i71',\n",
       " '_i72',\n",
       " '_i73',\n",
       " '_i74',\n",
       " '_i75',\n",
       " '_i76',\n",
       " '_i77',\n",
       " '_i78',\n",
       " '_i79',\n",
       " '_i8',\n",
       " '_i80',\n",
       " '_i81',\n",
       " '_i82',\n",
       " '_i83',\n",
       " '_i84',\n",
       " '_i85',\n",
       " '_i86',\n",
       " '_i87',\n",
       " '_i88',\n",
       " '_i89',\n",
       " '_i9',\n",
       " '_i90',\n",
       " '_i91',\n",
       " '_i92',\n",
       " '_i93',\n",
       " '_i94',\n",
       " '_i95',\n",
       " '_i96',\n",
       " '_i97',\n",
       " '_i98',\n",
       " '_i99',\n",
       " '_ih',\n",
       " '_ii',\n",
       " '_iii',\n",
       " '_nms',\n",
       " '_oh',\n",
       " 'exit',\n",
       " 'get_ipython',\n",
       " 'getsizeof',\n",
       " 'json',\n",
       " 'math',\n",
       " 'n',\n",
       " 'np',\n",
       " 'power',\n",
       " 'prettify',\n",
       " 'quit',\n",
       " 's',\n",
       " 'sum',\n",
       " 'toStr',\n",
       " 'var_dic_list',\n",
       " 'x',\n",
       " 'y']"
      ]
     },
     "execution_count": 104,
     "metadata": {},
     "output_type": "execute_result"
    }
   ],
   "source": [
    "dir()"
   ]
  },
  {
   "cell_type": "markdown",
   "metadata": {},
   "source": [
    "The <em style=\"color:blue;\">magic</em> command <tt>%quickref</tt> prints an overview of the so called \n",
    "<em style=\"color:blue;\">magic commands</em> that are available in <em style=\"color:blue;\">Jupyter notebooks</em>."
   ]
  },
  {
   "cell_type": "code",
   "execution_count": 105,
   "metadata": {},
   "outputs": [],
   "source": [
    "%quickref"
   ]
  },
  {
   "cell_type": "markdown",
   "metadata": {},
   "source": [
    "We can use the command <tt>ls</tt> to list the files in the current directory."
   ]
  },
  {
   "cell_type": "code",
   "execution_count": 106,
   "metadata": {},
   "outputs": [
    {
     "name": "stdout",
     "output_type": "stream",
     "text": [
      "total 1984\r\n",
      "drwxr-xr-x@ 68 karlstroetmann  staff    2176 Jan 30 15:10 \u001b[34m.\u001b[m\u001b[m/\r\n",
      "drwxr-xr-x@ 15 karlstroetmann  staff     480 Jan 29 15:42 \u001b[34m..\u001b[m\u001b[m/\r\n",
      "drwxr-xr-x@ 23 karlstroetmann  staff     736 Jan 30 09:45 \u001b[34m.ipynb_checkpoints\u001b[m\u001b[m/\r\n",
      "-rw-r--r--@  1 karlstroetmann  staff   12807 Nov 21 18:46 CNF.ipynb\r\n",
      "-rw-r--r--@  1 karlstroetmann  staff   10556 Nov 18 18:27 Completeness.ipynb\r\n",
      "-rw-r--r--@  1 karlstroetmann  staff   10153 Nov 21 17:24 Davis-Putnam.ipynb\r\n",
      "-rw-r--r--@  1 karlstroetmann  staff    5951 Nov 21 10:05 Davis-Putnam.py~\r\n",
      "-rw-r--r--@  1 karlstroetmann  staff   12074 Jan 30 12:12 Dictionaries.ipynb\r\n",
      "-rw-r--r--@  1 karlstroetmann  staff    8391 Nov  5 16:05 Evaluate.ipynb\r\n",
      "drwxr-xr-x@ 28 karlstroetmann  staff     896 Jan 29 15:43 \u001b[34mExercises\u001b[m\u001b[m/\r\n",
      "-rw-r--r--@  1 karlstroetmann  staff   31178 Dec 11 15:36 FOL-CNF.ipynb\r\n",
      "-rw-r--r--@  1 karlstroetmann  staff   16414 Dec  5 18:21 FOL-Evaluation.ipynb\r\n",
      "-rw-r--r--@  1 karlstroetmann  staff    4023 Nov 28  2018 Find-Perfect.ipynb\r\n",
      "-rw-r--r--@  1 karlstroetmann  staff    7322 Oct  4 17:53 Fixed-Point-Iteration.ipynb\r\n",
      "-rw-r--r--@  1 karlstroetmann  staff    5434 Nov 28  2018 Graphviz-Demo.ipynb\r\n",
      "-rw-r--r--@  1 karlstroetmann  staff   92308 Jan 30 15:10 Introduction.ipynb\r\n",
      "-rw-r--r--@  1 karlstroetmann  staff    6994 Oct 23 12:40 Legendre-Conjecture.ipynb\r\n",
      "-rw-r--r--@  1 karlstroetmann  staff    7728 Nov 28  2018 Logical-Symbols.ipynb\r\n",
      "-rw-r--r--@  1 karlstroetmann  staff   17569 Feb  7  2019 Lucifer's-Puzzle.ipynb\r\n",
      "-rw-r--r--@  1 karlstroetmann  staff   13476 Nov 21 17:23 N-Queens.ipynb\r\n",
      "-rw-r--r--@  1 karlstroetmann  staff   13563 Oct 14 15:16 Path-Finding.ipynb\r\n",
      "-rw-r--r--@  1 karlstroetmann  staff    6544 Oct  9 17:31 Poker.ipynb\r\n",
      "-rw-r--r--@  1 karlstroetmann  staff   21589 Dec 13 18:23 Prover.ipynb\r\n",
      "-rw-r--r--@  1 karlstroetmann  staff   10164 Nov 28  2018 Reachable.ipynb\r\n",
      "-rw-r--r--@  1 karlstroetmann  staff   26193 Dec 14  2018 Resolution.ipynb\r\n",
      "-rw-r--r--@  1 karlstroetmann  staff    9101 Nov 16 23:36 Rich-Output.ipynb\r\n",
      "-rw-r--r--@  1 karlstroetmann  staff    2191 Nov 28  2018 Selection-Sort.ipynb\r\n",
      "drwxr-xr-x@ 59 karlstroetmann  staff    1888 Jan 29 15:43 \u001b[34mSolutions\u001b[m\u001b[m/\r\n",
      "-rw-r--r--@  1 karlstroetmann  staff    3575 Oct 15 11:08 Strings.ipynb\r\n",
      "-rw-r--r--@  1 karlstroetmann  staff   11473 Oct 23 12:40 Symbolic-Differentiation.ipynb\r\n",
      "-rw-r--r--@  1 karlstroetmann  staff    7987 Nov 14 23:06 Tautology.ipynb\r\n",
      "-rw-r--r--@  1 karlstroetmann  staff    5257 Dec 14 21:36 Transitive-Closure.ipynb\r\n",
      "-rw-r--r--@  1 karlstroetmann  staff    3759 Oct 21 16:35 Turing.ipynb\r\n",
      "-rw-r--r--@  1 karlstroetmann  staff   12564 Dec 13 18:23 Unification.ipynb\r\n",
      "-rw-r--r--@  1 karlstroetmann  staff    5362 Oct 15 11:15 Unlimited-Precision.ipynb\r\n",
      "-rw-r--r--@  1 karlstroetmann  staff   10537 Nov  7 09:17 Usual-Suspects.ipynb\r\n",
      "-rw-r--r--@  1 karlstroetmann  staff   11764 Oct 14 15:51 Wolf-Goat-Cabbage.ipynb\r\n",
      "drwxr-xr-x@ 10 karlstroetmann  staff     320 Dec 11 08:59 \u001b[34m__pycache__\u001b[m\u001b[m/\r\n",
      "-rw-r--r--@  1 karlstroetmann  staff    2860 Nov 12  2018 cnf.py\r\n",
      "-rw-r--r--@  1 karlstroetmann  staff    1668 Nov  9  2018 cspSolver.py\r\n",
      "-rw-r--r--@  1 karlstroetmann  staff    2063 Nov 15 19:30 davisPutnam.py\r\n",
      "-rw-r--r--@  1 karlstroetmann  staff    1234 Jun 29  2018 diff.py\r\n",
      "-rw-r--r--@  1 karlstroetmann  staff    5827 Jun 30  2018 exprParser.py\r\n",
      "-rw-r--r--@  1 karlstroetmann  staff    1462 Nov  8  2018 extractVariables.py\r\n",
      "-rw-r--r--@  1 karlstroetmann  staff     996 Aug 24  2018 find_path.py\r\n",
      "-rw-r--r--@  1 karlstroetmann  staff     422 Aug 23  2018 fixed-point.py\r\n",
      "-rw-r--r--@  1 karlstroetmann  staff    7240 Dec  7  2018 folCNF.py\r\n",
      "-rw-r--r--@  1 karlstroetmann  staff    5753 Dec  5 11:08 folParser.py\r\n",
      "-rw-r--r--@  1 karlstroetmann  staff    1411 May 15  2019 graph_2_dot.py\r\n",
      "-rw-r--r--@  1 karlstroetmann  staff   31557 Jan 29  2019 graphics.py\r\n",
      "-rw-r--r--@  1 karlstroetmann  staff     235 Oct 15 10:58 min_sort.py\r\n",
      "-rw-r--r--@  1 karlstroetmann  staff     552 Aug 24  2018 path-cyclic.py\r\n",
      "-rw-r--r--@  1 karlstroetmann  staff     415 Aug 24  2018 path.py\r\n",
      "-rw-r--r--@  1 karlstroetmann  staff     452 Aug 23  2018 poker.py\r\n",
      "-rw-r--r--@  1 karlstroetmann  staff     198 Oct 24  2018 power.py\r\n",
      "-rw-r--r--@  1 karlstroetmann  staff    4410 Nov 21 18:45 propLogParser.py\r\n",
      "-rw-r--r--@  1 karlstroetmann  staff    3817 Dec 13  2018 prover.py\r\n",
      "-rw-r--r--@  1 karlstroetmann  staff   90133 Nov 11  2018 queen-captures.png\r\n",
      "-rw-r--r--@  1 karlstroetmann  staff  266600 Nov 11  2018 queens-vars.png\r\n",
      "-rw-r--r--@  1 karlstroetmann  staff    6166 Apr 17  2017 send-more-money.pdf\r\n",
      "-rw-r--r--@  1 karlstroetmann  staff     171 Aug 23  2018 solve.py\r\n",
      "-rw-r--r--@  1 karlstroetmann  staff     225 May 21  2018 sum-recursive.py\r\n",
      "-rw-r--r--@  1 karlstroetmann  staff     249 May 21  2018 sum.py\r\n",
      "-rw-r--r--@  1 karlstroetmann  staff    2040 Oct 30  2018 tautology.py\r\n",
      "-rw-r--r--@  1 karlstroetmann  staff     502 Oct  9 10:58 transitive-closure.py\r\n",
      "-rw-r--r--@  1 karlstroetmann  staff    1857 Dec 10 16:59 unify.py\r\n",
      "-rw-r--r--@  1 karlstroetmann  staff     345 Jan 29  2019 updates.py\r\n",
      "-rw-r--r--@  1 karlstroetmann  staff    1701 Oct 22  2018 watson.py\r\n"
     ]
    }
   ],
   "source": [
    "ls -al"
   ]
  },
  {
   "cell_type": "code",
   "execution_count": null,
   "metadata": {},
   "outputs": [],
   "source": []
  }
 ],
 "metadata": {
  "hide_input": false,
  "kernelspec": {
   "display_name": "Python 3",
   "language": "python",
   "name": "python3"
  },
  "language_info": {
   "codemirror_mode": {
    "name": "ipython",
    "version": 3
   },
   "file_extension": ".py",
   "mimetype": "text/x-python",
   "name": "python",
   "nbconvert_exporter": "python",
   "pygments_lexer": "ipython3",
   "version": "3.6.7"
  },
  "toc": {
   "base_numbering": 1,
   "nav_menu": {},
   "number_sections": true,
   "sideBar": true,
   "skip_h1_title": false,
   "title_cell": "Table of Contents",
   "title_sidebar": "Contents",
   "toc_cell": false,
   "toc_position": {},
   "toc_section_display": true,
   "toc_window_display": false
  },
  "varInspector": {
   "cols": {
    "lenName": 16,
    "lenType": 16,
    "lenVar": 40
   },
   "kernels_config": {
    "python": {
     "delete_cmd_postfix": "",
     "delete_cmd_prefix": "del ",
     "library": "var_list.py",
     "varRefreshCmd": "print(var_dic_list())"
    },
    "r": {
     "delete_cmd_postfix": ") ",
     "delete_cmd_prefix": "rm(",
     "library": "var_list.r",
     "varRefreshCmd": "cat(var_dic_list()) "
    }
   },
   "types_to_exclude": [
    "module",
    "function",
    "builtin_function_or_method",
    "instance",
    "_Feature"
   ],
   "window_display": false
  }
 },
 "nbformat": 4,
 "nbformat_minor": 2
}
