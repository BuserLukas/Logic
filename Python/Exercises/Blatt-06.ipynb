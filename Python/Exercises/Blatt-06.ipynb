{
 "cells": [
  {
   "cell_type": "code",
   "execution_count": 1,
   "metadata": {},
   "outputs": [
    {
     "data": {
      "text/html": [
       "<style>\n",
       "        .container { width:100% !important; }\n",
       "        </style>\n",
       "     "
      ],
      "text/plain": [
       "<IPython.core.display.HTML object>"
      ]
     },
     "execution_count": 1,
     "metadata": {},
     "output_type": "execute_result"
    }
   ],
   "source": [
    "from IPython.core.display import HTML\n",
    "HTML('''<style>\n",
    "        .container { width:100% !important; }\n",
    "        </style>\n",
    "     ''')"
   ]
  },
  {
   "cell_type": "markdown",
   "metadata": {},
   "source": [
    "# The $3 \\times 3$ Sliding Puzzle"
   ]
  },
  {
   "cell_type": "markdown",
   "metadata": {},
   "source": [
    "<img src=\"8-puzzle.png\">"
   ]
  },
  {
   "cell_type": "markdown",
   "metadata": {},
   "source": [
    "The picture above shows an instance of the $3 \\times 3$ \n",
    "<a href=\"https://en.wikipedia.org/wiki/Sliding_puzzle\">sliding puzzle</a>:\n",
    "There is a board of size $3 \\times 3$ with 8 tiles on it. These tiles are numbered with digits from the set $\\{1,\\cdots, 8\\}$.  As the the $3 \\times 3$ board has an area of $9$ but there are only $8$ tiles, there is an empty square on the board.  Tiles adjacent to the empty square can be moved into the square, thereby emptying the space that was previously occupied by theses tiles.  The goal of the $3 \\times 3$ puzzle is to transform the state shown on the left of the picture above into the state shown on the right.\n",
    "\n",
    "In order to get an idea of the sliding puzzle, you can play it online at <a href=\"http://mypuzzle.org/sliding\">http://mypuzzle.org/sliding</a>."
   ]
  },
  {
   "cell_type": "markdown",
   "metadata": {},
   "source": [
    "## Computing a Path "
   ]
  },
  {
   "cell_type": "markdown",
   "metadata": {},
   "source": [
    "The functions given below are identical to the functions that we have used to solve the shunting-yard problem from the previous exercise."
   ]
  },
  {
   "cell_type": "code",
   "execution_count": null,
   "metadata": {},
   "outputs": [],
   "source": [
    "def pathProduct(P, R):\n",
    "    \"Attach all possible pairs from R at the end of the paths from P.\"\n",
    "    return { L + (b,) for L in P for (a, b) in R \n",
    "                      if L[-1] == a and not b in L \n",
    "           }"
   ]
  },
  {
   "cell_type": "code",
   "execution_count": 4,
   "metadata": {},
   "outputs": [],
   "source": [
    "def arb(S):\n",
    "    \"Return an arbitrary element from the set S but do not remove it.\"\n",
    "    for x in S:\n",
    "        return x"
   ]
  },
  {
   "cell_type": "markdown",
   "metadata": {},
   "source": [
    "The sliding puzzle has $9! = 362\\,880$ different states and the transition relation $R$ has a size of $846\\,720$ pairs.  Keeping the relation $R$ in memory is going to be slow.  Instead, we will implement a function $\\texttt{nextStates}(S)$ that takes a state $S$ as input and computes the set of all states that can be reached from $S$.  For any given state $S$ the set $\\texttt{nextStates}(S)$ has at most four elements.  Accordingly I had to change the definition of the function <tt>findPath</tt>.  This function is now called as $\\texttt{findpath}(\\texttt{start},\\texttt{goal}, \\texttt{nextStates})$ where <tt>start</tt> and <tt>goal</tt> are states and $\\texttt{nextStates}$ is a function.   It implements the *breadth first search* algorithm."
   ]
  },
  {
   "cell_type": "code",
   "execution_count": null,
   "metadata": {},
   "outputs": [],
   "source": [
    "def findPath(start, goal, nextStates):\n",
    "    count    = 0\n",
    "    Paths    = { (start,) }\n",
    "    States   = { start }   # states known to be reachable\n",
    "    Explored = {}          # states that have already been explored\n",
    "    while States != Explored:\n",
    "        Explored = States.copy()     # avoid aliasing bug\n",
    "        Paths    = { P + (s,) for P in Paths\n",
    "                              for s in nextStates(P[-1])\n",
    "                              if  s not in States\n",
    "                   }\n",
    "        States  |= { P[-1] for P in Paths }\n",
    "        count   += 1\n",
    "        print(\"%3s: Number of states = %6s\" % (count, len(States)))\n",
    "        if goal in States: \n",
    "            return arb({ P for P in Paths if P[-1] == goal })"
   ]
  },
  {
   "cell_type": "markdown",
   "metadata": {},
   "source": [
    "## Problem Specific Code"
   ]
  },
  {
   "cell_type": "markdown",
   "metadata": {},
   "source": [
    "We will represent states as tuples of tuples.  For example, the start state that is shown in the picture at the beginnning of this notebook is represented as follows:"
   ]
  },
  {
   "cell_type": "code",
   "execution_count": 1,
   "metadata": {},
   "outputs": [],
   "source": [
    "start = ((8, 0, 6),\n",
    "         (5, 4, 7),\n",
    "         (2, 3, 1)\n",
    "        )"
   ]
  },
  {
   "cell_type": "markdown",
   "metadata": {},
   "source": [
    "Note that the empty tile is represented by the digit $0$.  "
   ]
  },
  {
   "cell_type": "markdown",
   "metadata": {},
   "source": [
    "**Exercise 1**: Define the goal state below."
   ]
  },
  {
   "cell_type": "code",
   "execution_count": null,
   "metadata": {},
   "outputs": [],
   "source": [
    "goal = \"your code here\""
   ]
  },
  {
   "cell_type": "markdown",
   "metadata": {},
   "source": [
    "**Exercise 2:** \n",
    "The function $\\texttt{findZero}(S)$ takes a state $S$ and returns a pair $(r, c)$ that specifies the row and the column of the blank in the state $S$.  For example, we should have:\n",
    "$$ \\texttt{findZero}(\\texttt{start}) = (0, 1) \\quad\\mbox{and}\\quad \n",
    "   \\texttt{findZero}(\\texttt{goal}) = (0, 0) \n",
    "$$"
   ]
  },
  {
   "cell_type": "code",
   "execution_count": 2,
   "metadata": {},
   "outputs": [],
   "source": [
    "def findZero(S):\n",
    "    M = {0, 1, 2}\n",
    "    P = {(r, c) for r in M\n",
    "                for c in M \n",
    "                if S[r][c] == 0\n",
    "        }\n",
    "    return arb(P)"
   ]
  },
  {
   "cell_type": "code",
   "execution_count": 5,
   "metadata": {},
   "outputs": [
    {
     "data": {
      "text/plain": [
       "(0, 1)"
      ]
     },
     "execution_count": 5,
     "metadata": {},
     "output_type": "execute_result"
    }
   ],
   "source": [
    "findZero(start)"
   ]
  },
  {
   "cell_type": "code",
   "execution_count": null,
   "metadata": {},
   "outputs": [],
   "source": [
    "findZero(goal)"
   ]
  },
  {
   "cell_type": "markdown",
   "metadata": {},
   "source": [
    "We have to represent states as tuples of tuples in order to be able to insert them into sets.  However, as ss tuples are immutable, we need to be able to convert them to lists in order to change them.  The function $\\texttt{listOfLists}(S)$ takes a state $S$ and transforms it into a list of lists."
   ]
  },
  {
   "cell_type": "code",
   "execution_count": 6,
   "metadata": {},
   "outputs": [],
   "source": [
    "def listOfLists(S):\n",
    "    \"Transform a tuple of tuples into a list of lists.\"\n",
    "    return [ [x for x in row] for row in S ]"
   ]
  },
  {
   "cell_type": "code",
   "execution_count": 7,
   "metadata": {},
   "outputs": [
    {
     "data": {
      "text/plain": [
       "[[8, 0, 6], [5, 4, 7], [2, 3, 1]]"
      ]
     },
     "execution_count": 7,
     "metadata": {},
     "output_type": "execute_result"
    }
   ],
   "source": [
    "listOfLists(start)"
   ]
  },
  {
   "cell_type": "markdown",
   "metadata": {},
   "source": [
    "As lists can not be inserted into sets, we also need a function that takes a list of list and transforms it into a tuple of tuple."
   ]
  },
  {
   "cell_type": "code",
   "execution_count": 8,
   "metadata": {},
   "outputs": [],
   "source": [
    "def tupleOfTuples(S):\n",
    "    \"Transform a list of lists into a tuple of tuples.\"\n",
    "    return tuple(tuple(x for x in row) for row in S)"
   ]
  },
  {
   "cell_type": "code",
   "execution_count": 9,
   "metadata": {},
   "outputs": [
    {
     "data": {
      "text/plain": [
       "((8, 0, 6), (5, 4, 7), (2, 3, 1))"
      ]
     },
     "execution_count": 9,
     "metadata": {},
     "output_type": "execute_result"
    }
   ],
   "source": [
    "tupleOfTuples([[8, 0, 6], [5, 4, 7], [2, 3, 1]])"
   ]
  },
  {
   "cell_type": "markdown",
   "metadata": {},
   "source": [
    "**Exercise 3**: Implement a function $\\texttt{moveUp}(S, r, c)$ that computes the state that results from moving the tile below the blank space **up** in state $S$.  The variables $r$ and $c$ specify the location of the *row* and *column* of the blank tile.  Therefore we have $S[r][c] = 0$.\n",
    "\n",
    "In your implementation you may assume that there is indeed a tile below the blank space, i.e. we have $r < 2$.  "
   ]
  },
  {
   "cell_type": "code",
   "execution_count": null,
   "metadata": {},
   "outputs": [],
   "source": [
    "def moveUp(S, r, c):\n",
    "    \"Move the tile below the blank up.\"\n",
    "    T = listOfLists(S)\n",
    "    \"your code here\"\n",
    "    return tupleOfTuples(T)"
   ]
  },
  {
   "cell_type": "code",
   "execution_count": null,
   "metadata": {},
   "outputs": [],
   "source": [
    "moveUp(start, 0, 0)"
   ]
  },
  {
   "cell_type": "markdown",
   "metadata": {},
   "source": [
    "**Exercise 4**: Implement a function $\\texttt{moveDown}(S, r, c)$ that computes the state that results from moving the tile below the blank space **down** in state $S$.  The variables $r$ and $c$ specify the location of the *row* and *column* of the blank tile.  Therefore we have $S[r][c] = 0$.\n",
    "\n",
    "In your implementation you may assume that there is indeed a tile above the blank space, i.e. we have $r > 0$.  "
   ]
  },
  {
   "cell_type": "code",
   "execution_count": null,
   "metadata": {},
   "outputs": [],
   "source": [
    "def moveDown(S, r, c):\n",
    "    \"Move the tile above the blank down.\"\n",
    "    \"your code here\""
   ]
  },
  {
   "cell_type": "markdown",
   "metadata": {},
   "source": [
    "**Exercise 5:**\n",
    "Similarly to the previous exercise, implement functions $\\texttt{moveRight}(S, r, c)$ and $\\texttt{moveLeft}(S, r, c)$."
   ]
  },
  {
   "cell_type": "code",
   "execution_count": null,
   "metadata": {},
   "outputs": [],
   "source": [
    "def moveRight(S, r, c):\n",
    "    \"Move the tile left of the blank to the right.\"\n",
    "    \"your code here\""
   ]
  },
  {
   "cell_type": "code",
   "execution_count": null,
   "metadata": {},
   "outputs": [],
   "source": [
    "def moveLeft(S, r, c):\n",
    "    \" Move the tile right of the blank to the left.\"\n",
    "    \"your code here\""
   ]
  },
  {
   "cell_type": "markdown",
   "metadata": {},
   "source": [
    "**Exercise 6:**. Implement a function $\\texttt{nextStates}(S)$ that takes a state $S$ representet as a tuple of tuple and that computes the set of states that are reachable from $S$ in one step.  Remember to use the previously defined functions $\\texttt{findZero}$, $\\texttt{moveUp}$, $\\cdots$, $\\texttt{moveLeft}$.  However, when you do use the function $\\texttt{moveUp}$, then you should also check that it is possible to move a tile up."
   ]
  },
  {
   "cell_type": "code",
   "execution_count": null,
   "metadata": {},
   "outputs": [],
   "source": [
    "def nextStates(S):\n",
    "    \"Compute the set of states reachable in one step from the stae S.\"\n",
    "    \"your code here\""
   ]
  },
  {
   "cell_type": "code",
   "execution_count": null,
   "metadata": {},
   "outputs": [],
   "source": [
    "import time"
   ]
  },
  {
   "cell_type": "markdown",
   "metadata": {},
   "source": [
    "The following computation takes about 10 seconds on my desktop computer, which has an 3,4 GHz Quad-Core Intel Core i5 (7500) Prozessor.  The final number of states touched is $181\\,440$.  "
   ]
  },
  {
   "cell_type": "code",
   "execution_count": null,
   "metadata": {},
   "outputs": [],
   "source": [
    "timeStart  = time.time()\n",
    "Path       = findPath(start, goal, nextStates)\n",
    "timeFinish = time.time()\n",
    "print(f'The computation took {round((timeFinish-timeStart)*10)/10} seconds.')"
   ]
  },
  {
   "cell_type": "markdown",
   "metadata": {},
   "source": [
    "The tuple Path that is a solution to the sliding problem has a length of **32**.  If your path is shorter, then you have to inspect it carefully to identify the problem.  In order to do this, use the function <tt>printPath</tt> that is implemented at the bottom of this notebook."
   ]
  },
  {
   "cell_type": "code",
   "execution_count": null,
   "metadata": {},
   "outputs": [],
   "source": [
    "len(Path)"
   ]
  },
  {
   "cell_type": "markdown",
   "metadata": {},
   "source": [
    "## Code for Pretty Printing"
   ]
  },
  {
   "cell_type": "code",
   "execution_count": null,
   "metadata": {},
   "outputs": [],
   "source": [
    "def stateToStringList(S):\n",
    "    \"Take a state and transform it into a list of strings.\"\n",
    "    result = []\n",
    "    indent = \" \" * 4;\n",
    "    result = [ indent + \"+*+*+*+\" ]\n",
    "    for row in (0, 1, 2):\n",
    "        line = indent + \"|\"\n",
    "        for col in (0, 1, 2):\n",
    "            cell = S[row][col]\n",
    "            if cell > 0:\n",
    "                line += str(cell)\n",
    "            else:\n",
    "                line += \" \"\n",
    "            line += \"|\"\n",
    "        result += [ line, indent + \"+*+*+*+\" ]\n",
    "    result += [ \"\" ]\n",
    "    return result;"
   ]
  },
  {
   "cell_type": "code",
   "execution_count": null,
   "metadata": {},
   "outputs": [],
   "source": [
    "def printPath(Path):\n",
    "    \"Take a list of states and print it in a readable fashion.\"\n",
    "    for S in Path:\n",
    "        for line in stateToStringList(S):\n",
    "            print(line)"
   ]
  },
  {
   "cell_type": "code",
   "execution_count": null,
   "metadata": {},
   "outputs": [],
   "source": [
    "printPath(Path)"
   ]
  },
  {
   "cell_type": "code",
   "execution_count": null,
   "metadata": {},
   "outputs": [],
   "source": []
  }
 ],
 "metadata": {
  "hide_input": false,
  "kernelspec": {
   "display_name": "Python 3",
   "language": "python",
   "name": "python3"
  },
  "language_info": {
   "codemirror_mode": {
    "name": "ipython",
    "version": 3
   },
   "file_extension": ".py",
   "mimetype": "text/x-python",
   "name": "python",
   "nbconvert_exporter": "python",
   "pygments_lexer": "ipython3",
   "version": "3.6.7"
  },
  "toc": {
   "base_numbering": 1,
   "nav_menu": {},
   "number_sections": true,
   "sideBar": true,
   "skip_h1_title": false,
   "title_cell": "Table of Contents",
   "title_sidebar": "Contents",
   "toc_cell": false,
   "toc_position": {},
   "toc_section_display": true,
   "toc_window_display": false
  },
  "varInspector": {
   "cols": {
    "lenName": 16,
    "lenType": 16,
    "lenVar": 40
   },
   "kernels_config": {
    "python": {
     "delete_cmd_postfix": "",
     "delete_cmd_prefix": "del ",
     "library": "var_list.py",
     "varRefreshCmd": "print(var_dic_list())"
    },
    "r": {
     "delete_cmd_postfix": ") ",
     "delete_cmd_prefix": "rm(",
     "library": "var_list.r",
     "varRefreshCmd": "cat(var_dic_list()) "
    }
   },
   "types_to_exclude": [
    "module",
    "function",
    "builtin_function_or_method",
    "instance",
    "_Feature"
   ],
   "window_display": false
  }
 },
 "nbformat": 4,
 "nbformat_minor": 2
}
