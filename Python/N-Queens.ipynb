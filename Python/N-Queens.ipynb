{
 "cells": [
  {
   "cell_type": "code",
   "execution_count": null,
   "metadata": {},
   "outputs": [],
   "source": [
    "%autosave 0"
   ]
  },
  {
   "cell_type": "markdown",
   "metadata": {},
   "source": [
    "# The 8-Queens Problem"
   ]
  },
  {
   "cell_type": "markdown",
   "metadata": {},
   "source": [
    "The <a href=\"https://en.wikipedia.org/wiki/Eight_queens_puzzle\">eight queens puzzle</a> is the problem of placing eight chess queens on a chessboard so that no two queens can capture each other.  In <a href=\"https://en.wikipedia.org/wiki/Chess\">chess</a> a queen can capture another piece if this piece is either\n",
    "<ol>\n",
    "    <li>in the same row,</li>\n",
    "    <li>in the same column, or</li>\n",
    "    <li>in the same diagonal.</li>\n",
    "</ol>\n",
    "The image below shows a queen in row 3, column 4.  All the locations where a piece can be captured by this queen are marked with an arrow.\n",
    "\n",
    "<img src=\"queen-captures.png\">\n",
    "\n",
    "We will solve this puzzle by coding it as a formula of propositional logic.  This formula will be solvable iff the eight queens puzzle has a solution.  We will use the algorithm of Davis and Putnam to compute the solution of this formula."
   ]
  },
  {
   "cell_type": "code",
   "execution_count": null,
   "metadata": {},
   "outputs": [],
   "source": [
    "import davisPutnam as dp"
   ]
  },
  {
   "cell_type": "markdown",
   "metadata": {},
   "source": [
    "The function $\\texttt{var}(r, c)$ takes a row $r$ and a column $c$ and returns the string $\\texttt{'Q(}r\\texttt{,}c\\texttt{)'}$.  This string is interpreted as a propositional variable specifying that there is a queen in row $r$ and column $c$.  The image below shows how theses variables correspond to the postions on a chess board.\n",
    "\n",
    "<img src=\"queens-vars.png\">"
   ]
  },
  {
   "cell_type": "code",
   "execution_count": null,
   "metadata": {},
   "outputs": [],
   "source": [
    "def var(row, col):\n",
    "    return 'Q(' + str(row) + ',' + str(col) + ')'"
   ]
  },
  {
   "cell_type": "markdown",
   "metadata": {},
   "source": [
    "Given a set of propositional variables $S$, the function $\\texttt{atMostOne}(S)$ returns a set containing a single clause that expresses the fact that at most one of the variables in $S$ is true."
   ]
  },
  {
   "cell_type": "code",
   "execution_count": null,
   "metadata": {},
   "outputs": [],
   "source": [
    "def atMostOne(S): \n",
    "    return { frozenset({('¬',p), ('¬', q)}) for p in S\n",
    "                                            for q in S \n",
    "                                            if  p != q \n",
    "           }"
   ]
  },
  {
   "cell_type": "code",
   "execution_count": null,
   "metadata": {},
   "outputs": [],
   "source": [
    "atMostOne({'a', 'b', 'c'})"
   ]
  },
  {
   "cell_type": "markdown",
   "metadata": {},
   "source": [
    "Given a <tt>row</tt> and the size of the board $n$, the procedure $\\texttt{atMostOneInRow}(\\texttt{row}, n)$ computes a set of clauses that expresses that there is at most one queen in $\\texttt{row}$."
   ]
  },
  {
   "cell_type": "code",
   "execution_count": null,
   "metadata": {},
   "outputs": [],
   "source": [
    "def atMostOneInRow(row, n):\n",
    "    return atMostOne({ var(row, col) for col in range(1,n+1) })"
   ]
  },
  {
   "cell_type": "code",
   "execution_count": null,
   "metadata": {},
   "outputs": [],
   "source": [
    "atMostOneInRow(3, 4)"
   ]
  },
  {
   "cell_type": "markdown",
   "metadata": {},
   "source": [
    "Given a column <tt>col</tt> and the size of the board $n$, the procedure $\\texttt{oneInColumn}(\\texttt{col}, n)$ computes a set of clauses that expresses that there is at least one queen in the column $\\texttt{col}$."
   ]
  },
  {
   "cell_type": "code",
   "execution_count": null,
   "metadata": {},
   "outputs": [],
   "source": [
    "def oneInColumn(col, n):\n",
    "    return { frozenset({ var(row, col) for row in range(1,n+1) }) }"
   ]
  },
  {
   "cell_type": "code",
   "execution_count": null,
   "metadata": {},
   "outputs": [],
   "source": [
    "oneInColumn(2, 4)"
   ]
  },
  {
   "cell_type": "markdown",
   "metadata": {},
   "source": [
    "Given a number $k$ and the size of the board $n$, the procedure $\\texttt{atMostOneInFallingDiagonal}(k, n)$ computes a set of clauses that expresses that there is at most one queen in the rising diagonal specified by the equation\n",
    "$$ \\texttt{row} - \\texttt{col} = k. $$"
   ]
  },
  {
   "cell_type": "code",
   "execution_count": null,
   "metadata": {},
   "outputs": [],
   "source": [
    "def atMostOneInFallingDiagonal(k, n):\n",
    "    S = { var(row, col) for row in range(1, n+1)\n",
    "                        for col in range(1, n+1) \n",
    "                        if  row - col == k \n",
    "        }\n",
    "    return atMostOne(S)"
   ]
  },
  {
   "cell_type": "code",
   "execution_count": null,
   "metadata": {},
   "outputs": [],
   "source": [
    "atMostOneInFallingDiagonal(0, 4)"
   ]
  },
  {
   "cell_type": "markdown",
   "metadata": {},
   "source": [
    "Given a number $k$ and the size of the board $n$, the procedure $\\texttt{atMostOneInRisingDiagonal}(k, n)$ computes a set of clauses that expresses that there is at most one queen in the rising diagonal specified by the equation\n",
    "$$ \\texttt{row} + \\texttt{col} = k. $$"
   ]
  },
  {
   "cell_type": "code",
   "execution_count": null,
   "metadata": {},
   "outputs": [],
   "source": [
    "def atMostOneInRisingDiagonal(k, n):\n",
    "    S = { var(row, col) for row in range(1, n+1)\n",
    "                        for col in range(1, n+1) \n",
    "                        if  row + col == k \n",
    "        }\n",
    "    return atMostOne(S)"
   ]
  },
  {
   "cell_type": "code",
   "execution_count": null,
   "metadata": {},
   "outputs": [],
   "source": [
    "atMostOneInRisingDiagonal(0, 3)"
   ]
  },
  {
   "cell_type": "markdown",
   "metadata": {},
   "source": [
    "The function $\\texttt{allClauses}(n)$ takes the size of the board $n$ and computes a set of clauses that specify that\n",
    "<ol>\n",
    "    <li>there is at most one queen in every row,</li>\n",
    "    <li>there is at most one queen in every rising diagonal,</li>\n",
    "    <li>there is at most one queen in every falling diagonal, and</li>\n",
    "    <li>there is at least one queen in every column.</li>\n",
    "</ol>"
   ]
  },
  {
   "cell_type": "code",
   "execution_count": null,
   "metadata": {},
   "outputs": [],
   "source": [
    "def allClauses(n):\n",
    "    All = [ atMostOneInRow(row, n)           for row in range(1, n+1)        ] \\\n",
    "        + [ atMostOneInRisingDiagonal(k, n)  for k in range(3, (2*n-1)+1)    ] \\\n",
    "        + [ atMostOneInFallingDiagonal(k, n) for k in range(-(n-2), (n-2)+1) ] \\\n",
    "        + [ oneInColumn(col, n)              for col in range(1, n+1)        ]\n",
    "    return { clause for S in All for clause in S }"
   ]
  },
  {
   "cell_type": "code",
   "execution_count": null,
   "metadata": {},
   "outputs": [],
   "source": [
    "allClauses(8)"
   ]
  },
  {
   "cell_type": "markdown",
   "metadata": {},
   "source": [
    "The set of all clauses contains 512 clauses.  There are 64 variables.  "
   ]
  },
  {
   "cell_type": "code",
   "execution_count": null,
   "metadata": {},
   "outputs": [],
   "source": [
    "len(allClauses(8))"
   ]
  },
  {
   "cell_type": "markdown",
   "metadata": {},
   "source": [
    "The function $\\texttt{printBoard}(I, n)$ takes a set of unit clauses $I$ that represents a propositional valuation solving the $n$ queens problem and prints the solution represented by $I$."
   ]
  },
  {
   "cell_type": "code",
   "execution_count": null,
   "metadata": {},
   "outputs": [],
   "source": [
    "def printBoard(I, n):\n",
    "    if I == { frozenset() }:\n",
    "        return\n",
    "    print(\"-\" * (8*n+1))\n",
    "    for row in range(1, n+1):\n",
    "        printEmptyLine(n)\n",
    "        line = \"|\";\n",
    "        for col in range(1, n+1):\n",
    "            if frozenset({ var(row, col) }) in I:\n",
    "                line += \"   Q   |\"\n",
    "            else:\n",
    "                line += \"       |\"\n",
    "        print(line)\n",
    "        printEmptyLine(n)\n",
    "        print(\"-\" * (8*n+1))\n",
    "\n",
    "def printEmptyLine(n):\n",
    "    line = \"|\"\n",
    "    for col in range(1, n+1):\n",
    "        line += \"       |\"\n",
    "    print(line)"
   ]
  },
  {
   "cell_type": "markdown",
   "metadata": {},
   "source": [
    "The function $\\texttt{queens}(n)$ solves the n queens problem."
   ]
  },
  {
   "cell_type": "code",
   "execution_count": null,
   "metadata": {},
   "outputs": [],
   "source": [
    "def queens(n):\n",
    "    \"Solve the n queens problem.\"\n",
    "    Clauses  = allClauses(n)\n",
    "    Solution = dp.solve(Clauses, set())\n",
    "    if Solution != { frozenset() }:\n",
    "        printBoard(Solution, n)\n",
    "    else:\n",
    "        print(f'The problem is not solvable for {n} queens!')"
   ]
  },
  {
   "cell_type": "code",
   "execution_count": null,
   "metadata": {},
   "outputs": [],
   "source": [
    "import time"
   ]
  },
  {
   "cell_type": "code",
   "execution_count": null,
   "metadata": {},
   "outputs": [],
   "source": [
    "start = time.time()\n",
    "queens(8)\n",
    "stop  = time.time()\n",
    "print(f'Time to solve the problem for n = {8}: {round((stop - start)*1000)} milliseconds.\\n')"
   ]
  },
  {
   "cell_type": "markdown",
   "metadata": {},
   "source": [
    "The fact that it takes less than a second to solve the 8 queens puzzle demonstrates the efficiency of the Davis Putnam procedure."
   ]
  }
 ],
 "metadata": {
  "kernelspec": {
   "display_name": "Python 3",
   "language": "python",
   "name": "python3"
  },
  "language_info": {
   "codemirror_mode": {
    "name": "ipython",
    "version": 3
   },
   "file_extension": ".py",
   "mimetype": "text/x-python",
   "name": "python",
   "nbconvert_exporter": "python",
   "pygments_lexer": "ipython3",
   "version": "3.6.5"
  }
 },
 "nbformat": 4,
 "nbformat_minor": 2
}
