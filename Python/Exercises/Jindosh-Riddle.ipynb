{
 "cells": [
  {
   "cell_type": "markdown",
   "metadata": {},
   "source": [
    "The next cell ensures that we can use the full width of the screen in each cell of our notebook."
   ]
  },
  {
   "cell_type": "code",
   "execution_count": null,
   "metadata": {},
   "outputs": [],
   "source": [
    "from IPython.core.display import HTML\n",
    "HTML('''<style>\n",
    "        .container { width:100% !important }\n",
    "        </style>\n",
    "     ''')"
   ]
  },
  {
   "cell_type": "markdown",
   "metadata": {},
   "source": [
    "# <a href=\"https://i.imgur.com/GSmROeah.jpg\">The Jindosh Riddle</a>"
   ]
  },
  {
   "cell_type": "markdown",
   "metadata": {},
   "source": [
    "At the dinner party were <em style=\"color:blue\">Lady Winslow</em>, <em style=\"color:blue\">Doctor Marcolla</em>, <em style=\"color:blue\">Countess Contee</em>, <em style=\"color:blue\">Madam Natsiou</em>, and <em style=\"color:blue\">Baroness Finch</em>.\n",
    "\n",
    "The women sat in a row. They all wore different colors.\n",
    "  - <em style=\"color:blue\">Baroness Finch</em> wore a jaunty <em style=\"color:brown\">purple</em> hat. \n",
    "  - <em style=\"color:blue\">Countess Contee</em> was at the far left, next to the guest wearing a <em style=\"color:brown\">red</em> jacket. \n",
    "  - The lady in <em style=\"color:brown\">blue</em> sat left of someone in <em style=\"color:brown\">green</em>. \n",
    "  - I remember that <em style=\"color:brown\">blue</em> outfit because the woman spilled her <em style=\"color:yellow; background-color:black; background-color:black\">whiskey</em> all over it. \n",
    "  - The traveler from <em style=\"color:green\">Baleton</em> was dressed entierly in <em style=\"color:brown\">white</em>.\n",
    "  - When one of the dinner guests bragged about her <em style=\"color:gold; background-color:darkblue\">War Medal</em>, the woman next to her said they were finer in <em style=\"color:green\">Baleton</em>, where she lived.\n",
    "  - So <em style=\"color:blue\">Doctor Marcolla</em> showed off a prized <em style=\"color:gold; background-color:darkblue\">Bird Pendant</em> \n",
    "  - at which the lady from <em style=\"color:green\">Fraeport</em> scoffed, saying it was no match for her <em style=\"color:gold; background-color:darkblue\">Snuff Tin</em>.  \n",
    "  - Someone else carried a valuable <em style=\"color:gold; background-color:darkblue\">Ring</em> and when she saw it, the visitor from <em style=\"color:green\">Dabokva</em> next to her almost spilled her neighbor's <em style=\"color:yellow; background-color:black\">beer</em>.  \n",
    "  - <em style=\"color:blue\">Lady Winslow</em> raised her <em style=\"color:yellow; background-color:black\">rum</em> in toast. \n",
    "  - The lady from <em style=\"color:green\">Dunwall</em>, full of <em style=\"color:yellow; background-color:black\">wine</em>, jumped up onto the table, falling onto the guest in the center seat, spilling the poor woman's <em style=\"color:yellow; background-color:black\">absinthe</em>. \n",
    "  - Then <em style=\"color:blue\">Madam Natsiou</em> captivated them all with a story about her wild youth in <em style=\"color:green\">Karnaca</em>.\n",
    "\n",
    "In the morning, there were four heirlooms under the table: The <em style=\"color:gold; background-color:darkblue\">War Medal</em>, the <em style=\"color:gold; background-color:darkblue\">Diamond</em>, the <em style=\"color:gold; background-color:darkblue\">Snuff Tin</em>, and the <em style=\"color:gold; background-color:darkblue\">Ring</em>.\n",
    "\n",
    "But who owned each?"
   ]
  },
  {
   "cell_type": "markdown",
   "metadata": {},
   "source": [
    "## Choosing the Appropriate Variables\n",
    "\n",
    "In order to formulate this problem as a propositional formula, we need to determine the propositional variables.\n",
    "  - Persons: \n",
    "      - <em style=\"color:blue\">Lady Winslow</em>, \n",
    "      - <em style=\"color:blue\">Doctor Marcolla</em>, \n",
    "      - <em style=\"color:blue\">Countess Contee</em>, \n",
    "      - <em style=\"color:blue\">Madam Natsiou</em>, \n",
    "      - <em style=\"color:blue\">Baroness Finch</em>.\n",
    "  - Colors:\n",
    "      - <em style=\"color:brown\">green</em>,\n",
    "      - <em style=\"color:brown\">red</em>,\n",
    "      - <em style=\"color:brown\">blue</em>,\n",
    "      - <em style=\"color:brown\">white</em>,\n",
    "      - <em style=\"color:brown\">purple</em>.\n",
    "  - Drinks:\n",
    "      - <em style=\"color:yellow; background-color:black\">whiskey</em>,\n",
    "      - <em style=\"color:yellow; background-color:black\">beer</em>,\n",
    "      - <em style=\"color:yellow; background-color:black\">wine</em>,\n",
    "      - <em style=\"color:yellow; background-color:black\">absinthe</em>,\n",
    "      - <em style=\"color:yellow; background-color:black\">rum</em>.\n",
    "  - Cities:\n",
    "      - <em style=\"color:green\">Baleton</em>,\n",
    "      - <em style=\"color:green\">Fraeport</em>,\n",
    "      - <em style=\"color:green\">Dabokva</em>,\n",
    "      - <em style=\"color:green\">Dunwall</em>,\n",
    "      - <em style=\"color:green\">Karnaca</em>.\n",
    "  - Heirlooms:\n",
    "      - <em style=\"color:gold; background-color:darkblue\">War Medal</em>,\n",
    "      - <em style=\"color:gold; background-color:darkblue\">Bird Pendant</em>,\n",
    "      - <em style=\"color:gold; background-color:darkblue\">Snuff Tin</em>,\n",
    "      - <em style=\"color:gold; background-color:darkblue\">Ring</em>,\n",
    "      - <em style=\"color:gold; background-color:darkblue\">Diamond</em>."
   ]
  },
  {
   "cell_type": "markdown",
   "metadata": {},
   "source": [
    "Therefore, in order to solve this problem we use the following propositional variables:  \n",
    "<ol>\n",
    "<li> For $i \\in \\{1,\\cdots,5\\}$ the variable $\\texttt{Winslow}\\langle i \\rangle$ expresses the fact\n",
    "     that Lady Winslow sat on the chair number $i$.\n",
    "     The remaining persons are coded using the variables\n",
    "     $\\texttt{Marcolla}\\langle i \\rangle$, $\\texttt{Contee}\\langle i \\rangle$, \n",
    "     $\\texttt{Natsiou}\\langle i \\rangle$, and $\\texttt{Finch}\\langle i \\rangle$.\n",
    "     </li>\n",
    "<li> For $i \\in \\{1,\\cdots,5\\}$ the variable $\\mathtt{Red}\\langle i \\rangle$ expresses the fact that the person on the $i$th chair is wearing red clothes.\n",
    "     We use the variables $\\texttt{Green}\\langle i \\rangle$, $\\texttt{Blue}\\langle i \\rangle$, $\\texttt{White}\\langle i \\rangle$, and $\\texttt{Purple}\\langle i \\rangle$ to encode the remaining colors.\n",
    "     </li>\n",
    "<li> For $i \\in \\{1,\\cdots,5\\}$ the variable $\\texttt{Baleton}\\langle i \\rangle$ expresses that the person sitting on the $i$th chair is from Baleton.\n",
    "     We use the variables $\\texttt{Fraeport}\\langle i \\rangle$, $\\texttt{Dabokva}\\langle i \\rangle$, $\\texttt{Dunwall}\\langle i \\rangle$, and $\\texttt{Karnaca}\\langle i \\rangle$ to encode the remaining\n",
    "     cities.\n",
    "     </li>\n",
    "<li> For $i \\in \\{1,\\cdots,5\\}$ the variable $\\texttt{WarMedal}\\langle i \\rangle$ expresses the fact that the person\n",
    "     on the $i$th chair has the war medal. We use the variables\n",
    "     $\\texttt{BirdPendant}\\langle i \\rangle$, $\\texttt{SnuffTin}\\langle i \\rangle$, $\\texttt{Diamond}\\langle i \\rangle$, and\n",
    "     $\\texttt{Ring}\\langle i \\rangle$ to encode the remaining heirlooms.\n",
    "     </li>\n",
    "<li> For $i \\in \\{1,\\cdots,5\\}$ the variable $\\texttt{Whiskey}\\langle i \\rangle$ expresses the fact that the \n",
    "     person on the $i$th chair drinks whiskey.  We use the variables\n",
    "     $\\texttt{Beer}\\langle i \\rangle$, $\\texttt{Wine}\\langle i \\rangle$, $\\texttt{Rum}\\langle i \\rangle$, \n",
    "     and $\\texttt{Absinthe}\\langle i \\rangle$ to encode the remaining drinks.\n",
    "     </li>\n",
    "<ol>"
   ]
  },
  {
   "cell_type": "markdown",
   "metadata": {},
   "source": [
    "We are using the angular brackets \"$\\langle$\" and \"$\\rangle$\" because our parser for propositional logic accepts these symbols as part of variable names.  The parser would be confused if we would use the normal parenthesis."
   ]
  },
  {
   "cell_type": "markdown",
   "metadata": {},
   "source": [
    "## Importing the Necessary Modules"
   ]
  },
  {
   "cell_type": "markdown",
   "metadata": {},
   "source": [
    "Our goal is to solve this puzzle by first coding it as a solvability problem of propositional logic and then to solve the resulting set of clauses using the algorithm of Davis and Putnam."
   ]
  },
  {
   "cell_type": "code",
   "execution_count": null,
   "metadata": {},
   "outputs": [],
   "source": [
    "import davisPutnam as dp"
   ]
  },
  {
   "cell_type": "markdown",
   "metadata": {},
   "source": [
    "In order to be able to transform formulas from propositional logic into sets of clauses we import the module <tt>cnf</tt> which implements the function <tt>normalize</tt> that takes a formula and transforms it into a set of clauses."
   ]
  },
  {
   "cell_type": "code",
   "execution_count": null,
   "metadata": {},
   "outputs": [],
   "source": [
    "import cnf"
   ]
  },
  {
   "cell_type": "markdown",
   "metadata": {},
   "source": [
    "In order to write formulas conveniently, we use the parser for propositional logic."
   ]
  },
  {
   "cell_type": "code",
   "execution_count": null,
   "metadata": {},
   "outputs": [],
   "source": [
    "import propLogParser as plp"
   ]
  },
  {
   "cell_type": "markdown",
   "metadata": {},
   "source": [
    "Using the parser and the module <tt>cnf</tt> we can impement a function $\\texttt{parseKNF}(s)$ that takes a string $s$ representing a formula and transforms $s$ into an equivalent set of clauses."
   ]
  },
  {
   "cell_type": "code",
   "execution_count": null,
   "metadata": {},
   "outputs": [],
   "source": [
    "def parseCNF(s):\n",
    "    nestedTuple = plp.LogicParser(s).parse()\n",
    "    Clauses     = cnf.normalize(nestedTuple)\n",
    "    return Clauses"
   ]
  },
  {
   "cell_type": "code",
   "execution_count": null,
   "metadata": {},
   "outputs": [],
   "source": [
    "parseCNF('p ∨ r → q')"
   ]
  },
  {
   "cell_type": "markdown",
   "metadata": {},
   "source": [
    "## Auxiliary Functions"
   ]
  },
  {
   "cell_type": "markdown",
   "metadata": {},
   "source": [
    "In order to succinctly express the constraints that all the ladies have clothes of different colors, are from different cities etc., it is convenient to implement a function $\\texttt{atMostOne}(V)$ that takes a set of variables $V$ and returns a set of formulas that is true if and only if all the variables from $V$ have different values."
   ]
  },
  {
   "cell_type": "code",
   "execution_count": null,
   "metadata": {},
   "outputs": [],
   "source": [
    "def atMostOne(V):\n",
    "    return { frozenset({('¬',p), ('¬', q)}) for p in V\n",
    "                                            for q in V \n",
    "                                            if  p != q \n",
    "           }"
   ]
  },
  {
   "cell_type": "markdown",
   "metadata": {},
   "source": [
    "Given a name $n$ and an index $i \\in\\{1,2,3,4,5\\}$, the function $\\texttt{var}(n, i)$ creates the string \n",
    "$n\\langle i \\rangle$, e.g. the call <tt>var(\"Baleton\", 2)</tt> returns the following string:\n",
    "\n",
    "`Baleton<2>`."
   ]
  },
  {
   "cell_type": "code",
   "execution_count": null,
   "metadata": {},
   "outputs": [],
   "source": [
    "def var(n, i):\n",
    "    return f'{n}<{i}>'"
   ]
  },
  {
   "cell_type": "code",
   "execution_count": null,
   "metadata": {},
   "outputs": [],
   "source": [
    "var(\"Baleton\", 2)"
   ]
  },
  {
   "cell_type": "markdown",
   "metadata": {},
   "source": [
    "A call of the form $\\texttt{somewhere}(x)$ will return a clause that specifies that the person with property $x$ has to sit on one of the chairs from $1$ to $5$.  In order to be able to insert this clause into a set, make sure that you return a <tt>frozenset</tt>."
   ]
  },
  {
   "cell_type": "code",
   "execution_count": null,
   "metadata": {},
   "outputs": [],
   "source": [
    "def somewhere(x):\n",
    "    return frozenset({ var(x, i) for i in range(1, 5+1) })"
   ]
  },
  {
   "cell_type": "code",
   "execution_count": null,
   "metadata": {},
   "outputs": [],
   "source": [
    "somewhere('Baleton')"
   ]
  },
  {
   "cell_type": "markdown",
   "metadata": {},
   "source": [
    "Given an exclusive set of properties $S$ and a chair with number $i$, the function $\\texttt{atMostOneAt}(S, i)$ returns a set of clauses that specifies that the lady sitting on chair number $i$ has at most one of the properties from the set $S$.  For example, if \n",
    "$S = \\{\\texttt{\"Baleton\"}, \\texttt{\"Fraeport\"}, \\texttt{\"Dabokva\"}, \\texttt{\"Dunwall\"}, \\texttt{\"Karnaca\"}\\}$, \n",
    "then $\\texttt{atMostOneAt}(S, 3)$ specifies that the person sitting on chair number 3 is from at most one of the cities from the set $S$."
   ]
  },
  {
   "cell_type": "code",
   "execution_count": null,
   "metadata": {},
   "outputs": [],
   "source": [
    "def atMostOneAt(S, i):\n",
    "    return atMostOne({var(x, i) for x in S})"
   ]
  },
  {
   "cell_type": "code",
   "execution_count": null,
   "metadata": {},
   "outputs": [],
   "source": [
    "atMostOneAt({'Baleton', 'Fraeport', 'Dabokva', 'Dunwall', 'Karnaca'}, 3)"
   ]
  },
  {
   "cell_type": "markdown",
   "metadata": {},
   "source": [
    "Implement a function $\\texttt{onePerChair}(S)$ which could be called as follows:\n",
    "$$\\texttt{onePerChair}(\\{\\texttt{\"Baleton\"}, \\texttt{\"Fraeport\"}, \\texttt{\"Dabokva\"}, \\texttt{\"Dunwall\"}, \\texttt{\"Karnaca\"}\\})\n",
    "$$\n",
    "This function would create a set of clauses that expresses that there has to be a chair where the lady from Baleton sits, a chair where the lady from Fraeport sits, a chair where the lady from Dabovka sits, a chair where the lady from Dunwall sits, and a chair\n",
    "where the lady from Karnaca sits.  Furthermore, the set of clauses would create clauses that express that these five ladies sit on **different** chairs.\n",
    "\n",
    "When implementing this function, remember that you can use both the function $\\texttt{somewhere}$ and the function $\\texttt{atMostOneAt}$.  For example, the function call `onePerChair({\"A\",\"B\"})` will return the following result:\n",
    "```\n",
    "{frozenset({('¬', 'A<3>'), ('¬', 'B<3>')}),\n",
    " frozenset({'A<1>', 'A<2>', 'A<3>', 'A<4>', 'A<5>'}),\n",
    " frozenset({('¬', 'A<5>'), ('¬', 'B<5>')}),\n",
    " frozenset({('¬', 'A<2>'), ('¬', 'B<2>')}),\n",
    " frozenset({('¬', 'A<4>'), ('¬', 'B<4>')}),\n",
    " frozenset({('¬', 'A<1>'), ('¬', 'B<1>')}),\n",
    " frozenset({'B<1>', 'B<2>', 'B<3>', 'B<4>', 'B<5>'})}\n",
    " ```"
   ]
  },
  {
   "cell_type": "code",
   "execution_count": null,
   "metadata": {},
   "outputs": [],
   "source": [
    "def onePerChair(S):\n",
    "     'your code here'"
   ]
  },
  {
   "cell_type": "code",
   "execution_count": null,
   "metadata": {},
   "outputs": [],
   "source": [
    "onePerChair({\"A\",\"B\"})"
   ]
  },
  {
   "cell_type": "markdown",
   "metadata": {},
   "source": [
    "Given two properties $a$ and $b$ the function $\\texttt{sameChair}(a, b)$ computes a set of clauses that specifies that if the lady sitting on the chair number $i$ has the property $a$, then she also has the the property $b$ and vice versa.  For example, $\\texttt{sameChair}(\\texttt{\"Red\"}, \\texttt{\"Whiskey\"})$ specifies that the lady in red drinks Whiskey.  For example, the function call `sameChair(\"Red\", \"Whiskey\")` will return the following result:\n",
    "```\n",
    "{frozenset({('¬', 'Red<1>'), 'Whiskey<1>'}),\n",
    " frozenset({('¬', 'Whiskey<5>'), 'Red<5>'}),\n",
    " frozenset({('¬', 'Red<4>'), 'Whiskey<4>'}),\n",
    " frozenset({('¬', 'Whiskey<1>'), 'Red<1>'}),\n",
    " frozenset({('¬', 'Whiskey<3>'), 'Red<3>'}),\n",
    " frozenset({('¬', 'Red<3>'), 'Whiskey<3>'}),\n",
    " frozenset({('¬', 'Red<2>'), 'Whiskey<2>'}),\n",
    " frozenset({('¬', 'Whiskey<4>'), 'Red<4>'}),\n",
    " frozenset({('¬', 'Red<5>'), 'Whiskey<5>'}),\n",
    " frozenset({('¬', 'Whiskey<2>'), 'Red<2>'})}\n",
    "```"
   ]
  },
  {
   "cell_type": "code",
   "execution_count": null,
   "metadata": {},
   "outputs": [],
   "source": [
    "def sameChair(a, b):\n",
    "    'your code here'"
   ]
  },
  {
   "cell_type": "code",
   "execution_count": null,
   "metadata": {},
   "outputs": [],
   "source": [
    "sameChair(\"Red\", \"Whiskey\")"
   ]
  },
  {
   "cell_type": "markdown",
   "metadata": {},
   "source": [
    "Given two properties $a$ and $b$ the function $\\texttt{nextTo}(a, b)$ computes a set of clauses that specifies that the ladies with properties $a$ and $b$ are sitting next to each other.  For example, $\\texttt{nextTo}(\\texttt{'Red'}, \\texttt{'Rum'})$ specifies that the lady in red sits next to the lady who drinks rum.\n",
    "\n",
    "The result of `nextTo('A', 'B')` is the following:\n",
    "```\n",
    "{frozenset({('¬', 'A<2>'), 'B<1>', 'B<3>'}),\n",
    " frozenset({('¬', 'A<1>'), 'B<2>'}),\n",
    " frozenset({('¬', 'A<3>'), 'B<2>', 'B<4>'}),\n",
    " frozenset({('¬', 'B<5>'), 'A<4>'}),\n",
    " frozenset({('¬', 'A<5>'), 'B<4>'}),\n",
    " frozenset({('¬', 'B<1>'), 'A<2>'}),\n",
    " frozenset({('¬', 'B<2>'), 'A<1>', 'A<3>'}),\n",
    " frozenset({('¬', 'B<3>'), 'A<2>', 'A<4>'}),\n",
    " frozenset({('¬', 'B<4>'), 'A<3>', 'A<5>'}),\n",
    " frozenset({('¬', 'A<4>'), 'B<3>', 'B<5>'})}\n",
    "```"
   ]
  },
  {
   "cell_type": "code",
   "execution_count": null,
   "metadata": {},
   "outputs": [],
   "source": [
    "def nextTo(a, b):\n",
    "    'your code here'"
   ]
  },
  {
   "cell_type": "code",
   "execution_count": null,
   "metadata": {},
   "outputs": [],
   "source": [
    "nextTo('A', 'B')"
   ]
  },
  {
   "cell_type": "markdown",
   "metadata": {},
   "source": [
    "Given to properties $a$ and $b$ the function $\\texttt{leftTo}(a, b)$ computes a list of clauses that specifies that the lady with propert $a$ sits to the left of the lady who has property $b$.  For example, $\\texttt{leftTo}(\\texttt{'Red'}, \\texttt{'Green'})$ specifies that the lady in red sits left to the lady in green.\n",
    "For example, the function call `leftTo('A', 'B')` will return the following result:\n",
    "```\n",
    "{frozenset({('¬', 'A<3>'), 'B<4>'}),\n",
    " frozenset({('¬', 'A<2>'), 'B<3>'}),\n",
    " frozenset({('¬', 'A<5>')}),\n",
    " frozenset({('¬', 'B<4>'), 'A<3>'}),\n",
    " frozenset({('¬', 'B<2>'), 'A<1>'}),\n",
    " frozenset({('¬', 'A<1>'), 'B<2>'}),\n",
    " frozenset({('¬', 'B<5>'), 'A<4>'}),\n",
    " frozenset({('¬', 'A<4>'), 'B<5>'}),\n",
    " frozenset({('¬', 'B<3>'), 'A<2>'})}\n",
    " ```"
   ]
  },
  {
   "cell_type": "code",
   "execution_count": null,
   "metadata": {},
   "outputs": [],
   "source": [
    "def leftTo(a, b):\n",
    "    'your code here'"
   ]
  },
  {
   "cell_type": "code",
   "execution_count": null,
   "metadata": {},
   "outputs": [],
   "source": [
    "leftTo('A', 'B')"
   ]
  },
  {
   "cell_type": "markdown",
   "metadata": {},
   "source": [
    "We define the set of properties that occur in the problem."
   ]
  },
  {
   "cell_type": "code",
   "execution_count": null,
   "metadata": {},
   "outputs": [],
   "source": [
    "Ladies    = { 'Winslow', 'Marcolla', 'Contee', 'Natsiou', 'Finch' }\n",
    "Drinks    = { 'Whiskey', 'Beer', 'Wine', 'Absinthe', 'Rum' }\n",
    "Cities    = { 'Baleton', 'Fraeport', 'Dabokva', 'Dunwall', 'Karnaca' }\n",
    "Heirlooms = { 'WarMedal', 'BirdPendant', 'SnuffTin', 'Ring', 'Diamond' }\n",
    "Colors    = { 'Green', 'Red', 'Blue', 'White', 'Purple' }"
   ]
  },
  {
   "cell_type": "code",
   "execution_count": null,
   "metadata": {},
   "outputs": [],
   "source": [
    "def allClauses():\n",
    "    # There is one lady per chair.\n",
    "    'your code here'\n",
    "    # There is one drink per lady.\n",
    "    'your code here'\n",
    "    # There is one city per lady\n",
    "    'your code here'\n",
    "    # There is one heirloom per lady\n",
    "    'your code here'\n",
    "    # There is one color per lady\n",
    "    'your code here'\n",
    "    # Baroness Finch wore a jaunty purple hat.\n",
    "    'your code here'\n",
    "    # Countess Contee was at the far left, \n",
    "    'your code here'\n",
    "    # next to the guest wearing a red jacket.\n",
    "    'your code here'\n",
    "    # The lady in blue sat left of someone in green.\n",
    "    'your code here'\n",
    "    # I remember that blue outfit because the woman spilled her whiskey all over it.\n",
    "    'your code here'\n",
    "    # The traveler from Baleton was dressed entierly in white.\n",
    "    'your code here'\n",
    "    # When one of the dinner guests bragged about her War Medal, \n",
    "    # the woman next to her said they were finer in Baleton, where she lived.\n",
    "    'your code here'\n",
    "    # So Doctor Marcolla showed off a prized Bird Pendant\n",
    "    'your code here'\n",
    "    # at which the lady from Fraeport scoffed, saying it was no match for her Snuff Tin.\n",
    "    'your code here'\n",
    "    # Someone else carried a valuable Ring and when she saw it, \n",
    "    # the visitor from Dabokva next to her almost spilled her neighbor's beer.\n",
    "    'your code here'\n",
    "    # Lady Winslow raised her rum in toast.\n",
    "    'your code here'\n",
    "    # The lady from Dunwall, full of wine, \n",
    "    'your code here'\n",
    "    # jumped up onto the table, falling onto the guest in the center seat, \n",
    "    # spilling the poor woman's absinthe.\n",
    "    'your code here'\n",
    "    # Then Madam Natsiou captivated them all with a story about her wild youth in Karnaca.\n",
    "    'your code here'\n",
    "    return Clauses"
   ]
  },
  {
   "cell_type": "code",
   "execution_count": null,
   "metadata": {},
   "outputs": [],
   "source": [
    "Clauses = allClauses()\n",
    "Clauses"
   ]
  },
  {
   "cell_type": "markdown",
   "metadata": {},
   "source": [
    "In my formalization of the problem, there are 405 clauses."
   ]
  },
  {
   "cell_type": "code",
   "execution_count": null,
   "metadata": {},
   "outputs": [],
   "source": [
    "len(Clauses)"
   ]
  },
  {
   "cell_type": "code",
   "execution_count": null,
   "metadata": {},
   "outputs": [],
   "source": [
    "def solve():\n",
    "    Clauses = allClauses()\n",
    "    return dp.solve(Clauses, set())"
   ]
  },
  {
   "cell_type": "markdown",
   "metadata": {},
   "source": [
    "Solving the problem takes about 0.2 seconds on my computer."
   ]
  },
  {
   "cell_type": "code",
   "execution_count": null,
   "metadata": {},
   "outputs": [],
   "source": [
    "%%time\n",
    "Solution = solve()\n",
    "for Clause in Solution:\n",
    "    for L in Clause:\n",
    "        if isinstance(L, str):\n",
    "            print(L)"
   ]
  },
  {
   "cell_type": "markdown",
   "metadata": {},
   "source": [
    "## Functions to PrettyPrint the Solution"
   ]
  },
  {
   "cell_type": "code",
   "execution_count": null,
   "metadata": {},
   "outputs": [],
   "source": [
    "def arb(S):\n",
    "    for x in S:\n",
    "        return x"
   ]
  },
  {
   "cell_type": "code",
   "execution_count": null,
   "metadata": {},
   "outputs": [],
   "source": [
    "def pad(s, l):\n",
    "    n = l - len(s)\n",
    "    return s + \" \" * n"
   ]
  },
  {
   "cell_type": "code",
   "execution_count": null,
   "metadata": {},
   "outputs": [],
   "source": [
    "def join(L, sep):\n",
    "    result = ''\n",
    "    for s in L:\n",
    "        result += s + sep\n",
    "    if len(L) > 0:\n",
    "        result = result[:-len(sep)]\n",
    "    return result"
   ]
  },
  {
   "cell_type": "code",
   "execution_count": null,
   "metadata": {},
   "outputs": [],
   "source": [
    "def extractAssignment(Solution):\n",
    "    Assignment = {}\n",
    "    for Unit in Solution:\n",
    "        Literal = arb(Unit)\n",
    "        if isinstance(Literal, str):\n",
    "            number = int(Literal[-2])\n",
    "            name   = Literal[:-3]\n",
    "            Assignment[name] = number\n",
    "    return Assignment"
   ]
  },
  {
   "cell_type": "code",
   "execution_count": null,
   "metadata": {},
   "outputs": [],
   "source": [
    "extractAssignment(Solution)"
   ]
  },
  {
   "cell_type": "code",
   "execution_count": null,
   "metadata": {},
   "outputs": [],
   "source": [
    "def showHTML(Solution):\n",
    "    Assignment = extractAssignment(Solution)\n",
    "    result  = '<table style=\"border:2px solid blue\">\\n'\n",
    "    result += '<tr>'\n",
    "    for name in ['Chair', 'Lady', 'City', 'Drink', 'Colour', 'Heirloom']:\n",
    "        result += '<th style=\"color:gold; background-color:blue\">' + name + '</th>'\n",
    "    result += '</tr>\\n'\n",
    "    for chair in range(1, 5+1):\n",
    "        result += '<tr><td style=\"border:1px solid green\">' + str(chair) + '</td>'\n",
    "        for Class in [Ladies, Cities, Drinks, Colours, Heirlooms]:\n",
    "            for x in Class:\n",
    "                if Assignment[x] == chair:\n",
    "                    result += '<td  style=\"border:1px solid green\">' + x + '</td>'\n",
    "        result += '</tr>\\n'\n",
    "    result += '</table>'\n",
    "    display(HTML(result))"
   ]
  },
  {
   "cell_type": "code",
   "execution_count": null,
   "metadata": {},
   "outputs": [],
   "source": [
    "showHTML(Solution)"
   ]
  },
  {
   "cell_type": "markdown",
   "metadata": {},
   "source": [
    "## Checking the Uniqueness of the Solution"
   ]
  },
  {
   "cell_type": "markdown",
   "metadata": {},
   "source": [
    "Given a set of unit clauses $U$, the function $\\texttt{negateSolution}(U)$ returns a clause that is the logical negation of $U$."
   ]
  },
  {
   "cell_type": "code",
   "execution_count": null,
   "metadata": {},
   "outputs": [],
   "source": [
    "def negateSolution(UnitClauses):\n",
    "    return { dp.complement(arb(unit)) for unit in UnitClauses }"
   ]
  },
  {
   "cell_type": "code",
   "execution_count": null,
   "metadata": {},
   "outputs": [],
   "source": [
    "negateSolution({frozenset({'a'}), frozenset({('¬', 'b')})})"
   ]
  },
  {
   "cell_type": "code",
   "execution_count": null,
   "metadata": {},
   "outputs": [],
   "source": [
    "def checkUniqueness(Solution, Clauses):\n",
    "    negation = negateSolution(Solution)\n",
    "    Clauses.add(frozenset(negation))\n",
    "    alternative = dp.solve(Clauses, set())\n",
    "    if alternative == { frozenset() }:\n",
    "        print(\"Well done: The solution is unique!\")\n",
    "    else:\n",
    "        print(\"ERROR: The solution is not unique!\")\n",
    "        showHTML(alternative)"
   ]
  },
  {
   "cell_type": "code",
   "execution_count": null,
   "metadata": {},
   "outputs": [],
   "source": [
    "checkUniqueness(Solution, Clauses)"
   ]
  },
  {
   "cell_type": "code",
   "execution_count": null,
   "metadata": {},
   "outputs": [],
   "source": []
  }
 ],
 "metadata": {
  "kernelspec": {
   "display_name": "Python 3",
   "language": "python",
   "name": "python3"
  },
  "language_info": {
   "codemirror_mode": {
    "name": "ipython",
    "version": 3
   },
   "file_extension": ".py",
   "mimetype": "text/x-python",
   "name": "python",
   "nbconvert_exporter": "python",
   "pygments_lexer": "ipython3",
   "version": "3.7.3"
  },
  "toc": {
   "base_numbering": 1,
   "nav_menu": {},
   "number_sections": true,
   "sideBar": true,
   "skip_h1_title": false,
   "title_cell": "Table of Contents",
   "title_sidebar": "Contents",
   "toc_cell": false,
   "toc_position": {},
   "toc_section_display": true,
   "toc_window_display": false
  },
  "varInspector": {
   "cols": {
    "lenName": 16,
    "lenType": 16,
    "lenVar": 40
   },
   "kernels_config": {
    "python": {
     "delete_cmd_postfix": "",
     "delete_cmd_prefix": "del ",
     "library": "var_list.py",
     "varRefreshCmd": "print(var_dic_list())"
    },
    "r": {
     "delete_cmd_postfix": ") ",
     "delete_cmd_prefix": "rm(",
     "library": "var_list.r",
     "varRefreshCmd": "cat(var_dic_list()) "
    }
   },
   "types_to_exclude": [
    "module",
    "function",
    "builtin_function_or_method",
    "instance",
    "_Feature"
   ],
   "window_display": false
  }
 },
 "nbformat": 4,
 "nbformat_minor": 2
}
