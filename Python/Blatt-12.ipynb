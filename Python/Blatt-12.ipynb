{
 "cells": [
  {
   "cell_type": "code",
   "execution_count": 1,
   "metadata": {},
   "outputs": [
    {
     "data": {
      "application/javascript": [
       "IPython.notebook.set_autosave_interval(0)"
      ]
     },
     "metadata": {},
     "output_type": "display_data"
    },
    {
     "name": "stdout",
     "output_type": "stream",
     "text": [
      "Autosave disabled\n"
     ]
    }
   ],
   "source": [
    "%autosave 0"
   ]
  },
  {
   "cell_type": "markdown",
   "metadata": {},
   "source": [
    "# A Crypto-Arithmetic Puzzle"
   ]
  },
  {
   "cell_type": "markdown",
   "metadata": {},
   "source": [
    "In this exercise we will solve the crypto-arithmetic puzzle shown in the picture below:\n",
    "<img src=\"send-more-money.pdf\">\n",
    "The idea is that the letters \n",
    "\"$\\texttt{S}$\", \"$\\texttt{E}$\", \"$\\texttt{N}$\", \"$\\texttt{D}$\", \"$\\texttt{M}$\", \"$\\texttt{O}$\", \"$\\texttt{R}$\", \"$\\texttt{Y}$\" occurring in this puzzle\n",
    "are interpreted as variables ranging over the set of decimal digits, i.e. these variables can take values in\n",
    "the set $\\{0,1,2,3,4,5,6,7,8,9\\}$.  Then, the string \"$\\texttt{SEND}$\" is interpreted as a decimal number,\n",
    "i.e. it is interpreted as the number\n",
    "$$\\texttt{S} \\cdot 10^3 + \\texttt{E} \\cdot 10^2 + \\texttt{N} \\cdot 10^1 + \\texttt{D} \\cdot 10^0.$$\n",
    "The strings \"$\\texttt{MORE}$ and \"$\\texttt{MONEY}$\" are interpreted similarly. To make the problem\n",
    "interesting, the assumption is that different variables have different values.  Furthermore, the\n",
    "digits at the beginning of a number should be different from $0$.  Then, we have find values that the formula\n",
    "$$   (\\texttt{S} \\cdot 10^3 + \\texttt{E} \\cdot 10^2 + \\texttt{N} \\cdot 10 + \\texttt{D}) \n",
    "  + (\\texttt{M} \\cdot 10^3 + \\texttt{O} \\cdot 10^2 + \\texttt{R} \\cdot 10 + \\texttt{E})\n",
    "  = \\texttt{M} \\cdot 10^4 + \\texttt{O} \\cdot 10^3 + \\texttt{N} \\cdot 10^2 + \\texttt{E} \\cdot 10 + \\texttt{Y}.\n",
    "$$\n",
    "is true.  The problem with this constraint is that it involves far too many variables.  As this constraint can only be\n",
    "checked when all the variables have values assigned to them, the backtracking search would essentially\n",
    "boil down to a mere brute force search.  We would have 8 variables and hence we would have to test $8^{10}$\n",
    "possible assignments. In order to do better, we have to perform the addition in the figure shown above\n",
    "column by column, just as it is taught in elementary school.  To be able to do this, we have to introduce <em>carry digits</em> \"$\\texttt{C1}$\", \"$\\texttt{C2}$\", \"$\\texttt{C3}$\" where $\\texttt{C1}$ is the carry produced by adding \n",
    "$\\texttt{D}$ and $\\texttt{E}$, $\\texttt{C2}$ is the carry produced by adding \n",
    "$\\texttt{N}$, $\\texttt{R}$ and $\\texttt{C1}$, and $\\texttt{C3}$ is the carry produced by adding \n",
    "$\\texttt{E}$, $\\texttt{O}$ and $\\texttt{C2}$. "
   ]
  },
  {
   "cell_type": "code",
   "execution_count": 2,
   "metadata": {},
   "outputs": [],
   "source": [
    "import cspSolver"
   ]
  },
  {
   "cell_type": "markdown",
   "metadata": {},
   "source": [
    "For a set $V$ of variables, the function $\\texttt{allDifferent}(V)$ generates a set of formulas that express that all the variables of $V$ are different. "
   ]
  },
  {
   "cell_type": "code",
   "execution_count": 3,
   "metadata": {},
   "outputs": [],
   "source": [
    "def allDifferent(Variables):\n",
    "    return { f'{x} != {y}' for x in Variables\n",
    "                           for y in Variables \n",
    "                           if x != y \n",
    "           }"
   ]
  },
  {
   "cell_type": "code",
   "execution_count": 4,
   "metadata": {},
   "outputs": [],
   "source": [
    "def createCSP():\n",
    "    Variables = [\"D\", \"E\", \"Y\", \"C1\", \"N\", \"R\", \"C2\", \"O\", \"C3\", \"S\", \"M\"]\n",
    "    Values       = { 0, 1, 2, 3, 4, 5, 6, 7, 8, 9 }\n",
    "    Constraints  = allDifferent({ \"S\", \"E\", \"N\", \"D\", \"M\", \"O\", \"R\", \"Y\" })\n",
    "    Constraints |= { '(D + E) % 10 == Y',      '(D + E) // 10 == C1',\n",
    "                     '(N + R + C1) % 10 == E', '(N + R + C1) // 10 == C2',\n",
    "                     '(E + O + C2) % 10 == N', '(E + O + C2) // 10 == C3',\n",
    "                     '(S + M + C3) % 10 == O', '(S + M + C3) // 10 == M'\n",
    "                   }\n",
    "    Constraints |= { \"S != 0\", \"M != 0\" };\n",
    "    return [Variables, Values, Constraints];"
   ]
  },
  {
   "cell_type": "code",
   "execution_count": 16,
   "metadata": {},
   "outputs": [
    {
     "data": {
      "text/plain": [
       "[['D', 'E', 'Y', 'C1', 'N', 'R', 'C2', 'O', 'C3', 'S', 'M'],\n",
       " {0, 1, 2, 3, 4, 5, 6, 7, 8, 9},\n",
       " {'(D + E) % 10 == Y',\n",
       "  '(D + E) // 10 == C1',\n",
       "  '(E + O + C2) % 10 == N',\n",
       "  '(E + O + C2) // 10 == C3',\n",
       "  '(N + R + C1) % 10 == E',\n",
       "  '(N + R + C1) // 10 == C2',\n",
       "  '(S + M + C3) % 10 == O',\n",
       "  '(S + M + C3) // 10 == M',\n",
       "  'D != E',\n",
       "  'D != M',\n",
       "  'D != N',\n",
       "  'D != O',\n",
       "  'D != R',\n",
       "  'D != S',\n",
       "  'D != Y',\n",
       "  'E != D',\n",
       "  'E != M',\n",
       "  'E != N',\n",
       "  'E != O',\n",
       "  'E != R',\n",
       "  'E != S',\n",
       "  'E != Y',\n",
       "  'M != 0',\n",
       "  'M != D',\n",
       "  'M != E',\n",
       "  'M != N',\n",
       "  'M != O',\n",
       "  'M != R',\n",
       "  'M != S',\n",
       "  'M != Y',\n",
       "  'N != D',\n",
       "  'N != E',\n",
       "  'N != M',\n",
       "  'N != O',\n",
       "  'N != R',\n",
       "  'N != S',\n",
       "  'N != Y',\n",
       "  'O != D',\n",
       "  'O != E',\n",
       "  'O != M',\n",
       "  'O != N',\n",
       "  'O != R',\n",
       "  'O != S',\n",
       "  'O != Y',\n",
       "  'R != D',\n",
       "  'R != E',\n",
       "  'R != M',\n",
       "  'R != N',\n",
       "  'R != O',\n",
       "  'R != S',\n",
       "  'R != Y',\n",
       "  'S != 0',\n",
       "  'S != D',\n",
       "  'S != E',\n",
       "  'S != M',\n",
       "  'S != N',\n",
       "  'S != O',\n",
       "  'S != R',\n",
       "  'S != Y',\n",
       "  'Y != D',\n",
       "  'Y != E',\n",
       "  'Y != M',\n",
       "  'Y != N',\n",
       "  'Y != O',\n",
       "  'Y != R',\n",
       "  'Y != S'}]"
      ]
     },
     "execution_count": 16,
     "metadata": {},
     "output_type": "execute_result"
    }
   ],
   "source": [
    "puzzle = createCSP()\n",
    "puzzle"
   ]
  },
  {
   "cell_type": "code",
   "execution_count": 7,
   "metadata": {},
   "outputs": [],
   "source": [
    "import time"
   ]
  },
  {
   "cell_type": "code",
   "execution_count": 8,
   "metadata": {},
   "outputs": [
    {
     "name": "stdout",
     "output_type": "stream",
     "text": [
      "Time needed: 378 milliseconds.\n"
     ]
    }
   ],
   "source": [
    "start    = time.time()\n",
    "solution = cspSolver.solve(puzzle)\n",
    "stop     = time.time()\n",
    "print(f'Time needed: {round((stop-start) * 1000)} milliseconds.')"
   ]
  },
  {
   "cell_type": "code",
   "execution_count": 9,
   "metadata": {},
   "outputs": [
    {
     "data": {
      "text/plain": [
       "{'C1': 1,\n",
       " 'C2': 1,\n",
       " 'C3': 0,\n",
       " 'D': 7,\n",
       " 'E': 5,\n",
       " 'M': 1,\n",
       " 'N': 6,\n",
       " 'O': 0,\n",
       " 'R': 8,\n",
       " 'S': 9,\n",
       " 'Y': 2}"
      ]
     },
     "execution_count": 9,
     "metadata": {},
     "output_type": "execute_result"
    }
   ],
   "source": [
    "solution"
   ]
  },
  {
   "cell_type": "code",
   "execution_count": 14,
   "metadata": {},
   "outputs": [],
   "source": [
    "def printSolution(A):\n",
    "    if A == None:\n",
    "        print(\"no solution found\")\n",
    "        return\n",
    "    for v in { \"S\", \"E\", \"N\", \"D\", \"M\", \"O\", \"R\", \"Y\" }:\n",
    "        print(f\"{v} = {A[v]}\")\n",
    "    print(\"\\nThe solution of\\n\")\n",
    "    print(\"    S E N D\")\n",
    "    print(\"  + M O R E\")\n",
    "    print(\"  ---------\")\n",
    "    print(\"  M O N E Y\")\n",
    "    print(\"\\nis as follows\\n\")\n",
    "    print(f\"    {A['S']} {A['E']} {A['N']} {A['D']}\")\n",
    "    print(f\"  + {A['M']} {A['O']} {A['R']} {A['E']}\")\n",
    "    print(f\"  ==========\")\n",
    "    print(f\"  {A['M']} {A['O']} {A['N']} {A['E']} {A['Y']}\")\n"
   ]
  },
  {
   "cell_type": "code",
   "execution_count": 15,
   "metadata": {},
   "outputs": [
    {
     "name": "stdout",
     "output_type": "stream",
     "text": [
      "D = 7\n",
      "N = 6\n",
      "R = 8\n",
      "Y = 2\n",
      "O = 0\n",
      "S = 9\n",
      "M = 1\n",
      "E = 5\n",
      "\n",
      "The solution of\n",
      "\n",
      "    S E N D\n",
      "  + M O R E\n",
      "  ---------\n",
      "  M O N E Y\n",
      "\n",
      "is as follows\n",
      "\n",
      "    9 5 6 7\n",
      "  + 1 0 8 5\n",
      "  ==========\n",
      "  1 0 6 5 2\n"
     ]
    }
   ],
   "source": [
    "printSolution(solution)"
   ]
  },
  {
   "cell_type": "code",
   "execution_count": null,
   "metadata": {},
   "outputs": [],
   "source": []
  }
 ],
 "metadata": {
  "kernelspec": {
   "display_name": "Python 3",
   "language": "python",
   "name": "python3"
  },
  "language_info": {
   "codemirror_mode": {
    "name": "ipython",
    "version": 3
   },
   "file_extension": ".py",
   "mimetype": "text/x-python",
   "name": "python",
   "nbconvert_exporter": "python",
   "pygments_lexer": "ipython3",
   "version": "3.6.3"
  }
 },
 "nbformat": 4,
 "nbformat_minor": 2
}
