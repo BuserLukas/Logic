{
 "cells": [
  {
   "cell_type": "code",
   "execution_count": 1,
   "metadata": {},
   "outputs": [
    {
     "data": {
      "text/html": [
       "<link href='http://fonts.googleapis.com/css?family=Alegreya+Sans:100,300,400,500,700,800,900,100italic,300italic,400italic,500italic,700italic,800italic,900italic' rel='stylesheet' type='text/css'>\n",
       "<link href='http://fonts.googleapis.com/css?family=Arvo:400,700,400italic' rel='stylesheet' type='text/css'>\n",
       "<link href='http://fonts.googleapis.com/css?family=PT+Mono' rel='stylesheet' type='text/css'>\n",
       "<link href='http://fonts.googleapis.com/css?family=Shadows+Into+Light' rel='stylesheet' type='text/css'>\n",
       "<link href='http://fonts.googleapis.com/css?family=Philosopher:400,700,400italic,700italic' rel='stylesheet' type='text/css'>\n",
       "\n",
       "<style>\n",
       "\n",
       "@font-face {\n",
       "    font-family: \"Computer Modern\";\n",
       "    src: url('http://mirrors.ctan.org/fonts/cm-unicode/fonts/otf/cmunss.otf');\n",
       "}\n",
       "\n",
       ".container { width: 100% }\n",
       "\n",
       "/* Formatting for header cells */\n",
       ".text_cell_render h1 {\n",
       "    font-family: 'Philosopher', sans-serif;\n",
       "    font-weight: 400;\n",
       "    font-size: 2.2em;\n",
       "    line-height: 100%;\n",
       "    color: rgb(0, 80, 120);\n",
       "    margin-bottom: 0.1em;\n",
       "    margin-top: 0.1em;\n",
       "    display: block;\n",
       "}\t\n",
       ".text_cell_render h2 {\n",
       "    font-family: 'Philosopher', serif;\n",
       "    font-weight: 400;\n",
       "    font-size: 1.9em;\n",
       "    line-height: 100%;\n",
       "    color: rgb(200,100,0);\n",
       "    margin-bottom: 0.1em;\n",
       "    margin-top: 0.1em;\n",
       "    display: block;\n",
       "}\t\n",
       "\n",
       ".text_cell_render h3 {\n",
       "    font-family: 'Philosopher', serif;\n",
       "    margin-top:12px;\n",
       "    margin-bottom: 3px;\n",
       "    font-style: italic;\n",
       "    color: rgb(94,127,192);\n",
       "}\n",
       "\n",
       ".text_cell_render h4 {\n",
       "    font-family: 'Philosopher', serif;\n",
       "}\n",
       "\n",
       ".text_cell_render h5 {\n",
       "    font-family: 'Alegreya Sans', sans-serif;\n",
       "    font-weight: 300;\n",
       "    font-size: 16pt;\n",
       "    color: grey;\n",
       "    font-style: italic;\n",
       "    margin-bottom: .1em;\n",
       "    margin-top: 0.1em;\n",
       "    display: block;\n",
       "}\n",
       "\n",
       ".text_cell_render h6 {\n",
       "    font-family: 'PT Mono', sans-serif;\n",
       "    font-weight: 300;\n",
       "    font-size: 10pt;\n",
       "    color: grey;\n",
       "    margin-bottom: 1px;\n",
       "    margin-top: 1px;\n",
       "}\n",
       "\n",
       ".text_cell_render em {\n",
       "    font-family: 'Philosopher', sans-serif;\n",
       "    color:        blue;\n",
       "    background-color: rgb(255,220,180);\n",
       "    font-size:    110%;\n",
       "    margin-left:   2px;\n",
       "    margin-right:  2px;\n",
       "    font-weight:   100;\n",
       "}\n",
       "\n",
       ".text_cell_render b {\n",
       "    color:            rgb(255,195,195);\n",
       "    background-color: rgb(0,0,0);\n",
       "    font-size:    110%;\n",
       "    margin-left:   2px;\n",
       "    margin-right:  2px;\n",
       "    font-weight:   650;\n",
       "}\n",
       "\n",
       ".text_cell_render tt {\n",
       "    font-size:    120%;\n",
       "    margin-left:   2px;\n",
       "    margin-right:  2px;\n",
       "    font-weight:   150;\n",
       "}\n",
       "\n",
       ".Codemirror {\n",
       "    font-family: \"PT Mono\";\n",
       "    font-size: 100%;\n",
       "}\n",
       "\n",
       "</style>\n",
       "\n"
      ],
      "text/plain": [
       "<IPython.core.display.HTML object>"
      ]
     },
     "execution_count": 1,
     "metadata": {},
     "output_type": "execute_result"
    }
   ],
   "source": [
    "from IPython.core.display import HTML\n",
    "with open('style.css', 'r') as file:\n",
    "    css = file.read()\n",
    "HTML(css)"
   ]
  },
  {
   "cell_type": "markdown",
   "metadata": {},
   "source": [
    "# Solving the Wolf-Goat-Cabbage Problem"
   ]
  },
  {
   "cell_type": "markdown",
   "metadata": {},
   "source": [
    "An agricultural economist has to sell a *wolf*, a *goat*, and a *cabbage* on a market place.  In order to\n",
    "reach the market place, she has to cross a river.  The boat that she can use is so small that it can\n",
    "only accommodate either the goat, the wolf, or the cabbage in addition to the agricultural economist.\n",
    "Now if the agricultural economist leaves the wolf alone with the goat, the wolf will eat the goat.\n",
    "If, instead, the agricultural economist leaves the goat with the cabbage, the goat will eat the cabbage.\n",
    "Is it possible for the agricultural economist to develop a schedule that allows her to cross the river\n",
    "without either the goat or the cabbage being eaten?"
   ]
  },
  {
   "cell_type": "code",
   "execution_count": 1,
   "metadata": {},
   "outputs": [],
   "source": [
    "%run Breadth-First-Search.ipynb"
   ]
  },
  {
   "cell_type": "markdown",
   "metadata": {},
   "source": [
    "The function $\\texttt{power}(M)$ defined below computes the power set of the set $M$, i.e. we have:\n",
    "$$ \\texttt{power}(M) = 2^M = \\bigl\\{A \\mid A \\subseteq M \\} $$"
   ]
  },
  {
   "cell_type": "code",
   "execution_count": 2,
   "metadata": {},
   "outputs": [],
   "source": [
    "def power(M):\n",
    "    \"This function computes the power set of the set M.\"\n",
    "    if M == set():\n",
    "        return { frozenset() }\n",
    "    else:\n",
    "        C  = set(M)  # C is a copy of M as we don't want to change the set M\n",
    "        x  = C.pop() # pop removes the element x from the set C\n",
    "        P1 = power(C)\n",
    "        P2 = { A | {x} for A in P1 }\n",
    "        return P1 | P2"
   ]
  },
  {
   "cell_type": "markdown",
   "metadata": {},
   "source": [
    "## Problem Specific Code"
   ]
  },
  {
   "cell_type": "markdown",
   "metadata": {},
   "source": [
    "There is a problem if the wolf is alone with the goat or if the goat is alone with the cabbage."
   ]
  },
  {
   "cell_type": "code",
   "execution_count": 3,
   "metadata": {},
   "outputs": [],
   "source": [
    "def problem(S):\n",
    "    '''\n",
    "    S is a set of objects that are at one shore of the river.\n",
    "    This function returns True if there is a problem.\n",
    "    '''\n",
    "    return ('farmer' not in S) and             \\\n",
    "           (('goat' in S and 'cabbage' in S) or   # goat eats cabbage\n",
    "            ('wolf' in S and 'goat'    in S)   )  # wolf eats goat"
   ]
  },
  {
   "cell_type": "markdown",
   "metadata": {},
   "source": [
    "At the start, everything is on the left shore.  \n",
    "Note that we have to use `frozenset`s here as the states will be stored in tuples that are itself stored in sets."
   ]
  },
  {
   "cell_type": "code",
   "execution_count": 4,
   "metadata": {},
   "outputs": [],
   "source": [
    "All = frozenset({ 'farmer', 'wolf', 'goat', 'cabbage' })"
   ]
  },
  {
   "cell_type": "markdown",
   "metadata": {},
   "source": [
    "<tt>States</tt> is the set of all states that do not have a problem."
   ]
  },
  {
   "cell_type": "code",
   "execution_count": 5,
   "metadata": {},
   "outputs": [
    {
     "data": {
      "text/plain": [
       "{frozenset(),\n",
       " frozenset({'farmer', 'goat'}),\n",
       " frozenset({'cabbage', 'farmer', 'goat'}),\n",
       " frozenset({'wolf'}),\n",
       " frozenset({'cabbage'}),\n",
       " frozenset({'goat'}),\n",
       " frozenset({'farmer', 'goat', 'wolf'}),\n",
       " frozenset({'cabbage', 'wolf'}),\n",
       " frozenset({'cabbage', 'farmer', 'wolf'}),\n",
       " frozenset({'cabbage', 'farmer', 'goat', 'wolf'})}"
      ]
     },
     "execution_count": 5,
     "metadata": {},
     "output_type": "execute_result"
    }
   ],
   "source": [
    "States = { S for S in power(All) if not problem(S) and \n",
    "                                    not problem(All - S) \n",
    "         }\n",
    "States"
   ]
  },
  {
   "cell_type": "markdown",
   "metadata": {},
   "source": [
    "<tt>R1</tt> decribes the transitions where the boat crosses the river from left to right."
   ]
  },
  {
   "cell_type": "code",
   "execution_count": 6,
   "metadata": {},
   "outputs": [
    {
     "data": {
      "text/plain": [
       "{(frozenset({'cabbage', 'farmer', 'wolf'}), frozenset({'cabbage', 'wolf'})),\n",
       " (frozenset({'cabbage', 'farmer', 'goat'}), frozenset({'goat'})),\n",
       " (frozenset({'cabbage', 'farmer', 'goat'}), frozenset({'cabbage'})),\n",
       " (frozenset({'cabbage', 'farmer', 'wolf'}), frozenset({'cabbage'})),\n",
       " (frozenset({'cabbage', 'farmer', 'wolf'}), frozenset({'wolf'})),\n",
       " (frozenset({'farmer', 'goat'}), frozenset()),\n",
       " (frozenset({'farmer', 'goat'}), frozenset({'goat'})),\n",
       " (frozenset({'farmer', 'goat', 'wolf'}), frozenset({'goat'})),\n",
       " (frozenset({'farmer', 'goat', 'wolf'}), frozenset({'wolf'})),\n",
       " (frozenset({'cabbage', 'farmer', 'goat', 'wolf'}),\n",
       "  frozenset({'cabbage', 'wolf'}))}"
      ]
     },
     "execution_count": 6,
     "metadata": {},
     "output_type": "execute_result"
    }
   ],
   "source": [
    "R1 = { (S, S - B) for S in States \n",
    "                  for B in power(S)\n",
    "                  if S - B in States and 'farmer' in B and len(B) <= 2\n",
    "     }\n",
    "R1"
   ]
  },
  {
   "cell_type": "markdown",
   "metadata": {},
   "source": [
    "<tt>R2</tt> is the inverse of <tt>R1</tt>."
   ]
  },
  {
   "cell_type": "code",
   "execution_count": 7,
   "metadata": {},
   "outputs": [],
   "source": [
    "R2 = { (S2, S1) for (S1, S2) in R1 }"
   ]
  },
  {
   "cell_type": "code",
   "execution_count": 8,
   "metadata": {},
   "outputs": [],
   "source": [
    "R = R1 | R2"
   ]
  },
  {
   "cell_type": "code",
   "execution_count": 9,
   "metadata": {},
   "outputs": [
    {
     "data": {
      "image/svg+xml": [
       "<?xml version=\"1.0\" encoding=\"UTF-8\" standalone=\"no\"?>\n",
       "<!DOCTYPE svg PUBLIC \"-//W3C//DTD SVG 1.1//EN\"\n",
       " \"http://www.w3.org/Graphics/SVG/1.1/DTD/svg11.dtd\">\n",
       "<!-- Generated by graphviz version 2.40.1 (20161225.0304)\n",
       " -->\n",
       "<!-- Title: %3 Pages: 1 -->\n",
       "<svg width=\"1348pt\" height=\"144pt\"\n",
       " viewBox=\"0.00 0.00 1348.40 144.00\" xmlns=\"http://www.w3.org/2000/svg\" xmlns:xlink=\"http://www.w3.org/1999/xlink\">\n",
       "<g id=\"graph0\" class=\"graph\" transform=\"scale(1 1) rotate(0) translate(4 140)\">\n",
       "<title>%3</title>\n",
       "<polygon fill=\"#ffffff\" stroke=\"transparent\" points=\"-4,4 -4,-140 1344.4002,-140 1344.4002,4 -4,4\"/>\n",
       "<!-- {&#39;goat&#39;, &#39;farmer&#39;} -->\n",
       "<g id=\"node1\" class=\"node\">\n",
       "<title>{&#39;goat&#39;, &#39;farmer&#39;}</title>\n",
       "<ellipse fill=\"none\" stroke=\"#000000\" cx=\"70.1938\" cy=\"-73\" rx=\"70.3881\" ry=\"18\"/>\n",
       "<text text-anchor=\"middle\" x=\"70.1938\" y=\"-69.3\" font-family=\"Times,serif\" font-size=\"14.00\" fill=\"#000000\">{&#39;goat&#39;, &#39;farmer&#39;}</text>\n",
       "</g>\n",
       "<!-- {&#39;goat&#39;} -->\n",
       "<g id=\"node9\" class=\"node\">\n",
       "<title>{&#39;goat&#39;}</title>\n",
       "<ellipse fill=\"none\" stroke=\"#000000\" cx=\"214.7341\" cy=\"-100\" rx=\"38.1938\" ry=\"18\"/>\n",
       "<text text-anchor=\"middle\" x=\"214.7341\" y=\"-96.3\" font-family=\"Times,serif\" font-size=\"14.00\" fill=\"#000000\">{&#39;goat&#39;}</text>\n",
       "</g>\n",
       "<!-- {&#39;goat&#39;, &#39;farmer&#39;}&#45;&gt;{&#39;goat&#39;} -->\n",
       "<g id=\"edge18\" class=\"edge\">\n",
       "<title>{&#39;goat&#39;, &#39;farmer&#39;}&#45;&gt;{&#39;goat&#39;}</title>\n",
       "<path fill=\"none\" stroke=\"#000000\" d=\"M136.9637,-78.74C149.8933,-81.0732 163.059,-83.7401 174.7926,-86.4291\"/>\n",
       "<polygon fill=\"#000000\" stroke=\"#000000\" points=\"174.1543,-89.875 184.6934,-88.79 175.778,-83.0659 174.1543,-89.875\"/>\n",
       "</g>\n",
       "<!-- set() -->\n",
       "<g id=\"node10\" class=\"node\">\n",
       "<title>set()</title>\n",
       "<ellipse fill=\"none\" stroke=\"#000000\" cx=\"214.7341\" cy=\"-46\" rx=\"27\" ry=\"18\"/>\n",
       "<text text-anchor=\"middle\" x=\"214.7341\" y=\"-42.3\" font-family=\"Times,serif\" font-size=\"14.00\" fill=\"#000000\">set()</text>\n",
       "</g>\n",
       "<!-- {&#39;goat&#39;, &#39;farmer&#39;}&#45;&gt;set() -->\n",
       "<g id=\"edge19\" class=\"edge\">\n",
       "<title>{&#39;goat&#39;, &#39;farmer&#39;}&#45;&gt;set()</title>\n",
       "<path fill=\"none\" stroke=\"#000000\" d=\"M113.1693,-58.7414C133.6255,-54.1548 157.8509,-49.7104 177.5108,-46.965\"/>\n",
       "<polygon fill=\"#000000\" stroke=\"#000000\" points=\"178.1512,-50.4114 187.6201,-45.6585 177.2539,-43.4692 178.1512,-50.4114\"/>\n",
       "</g>\n",
       "<!-- {&#39;goat&#39;, &#39;cabbage&#39;, &#39;farmer&#39;} -->\n",
       "<g id=\"node2\" class=\"node\">\n",
       "<title>{&#39;goat&#39;, &#39;cabbage&#39;, &#39;farmer&#39;}</title>\n",
       "<ellipse fill=\"none\" stroke=\"#000000\" cx=\"1207.812\" cy=\"-99\" rx=\"107.781\" ry=\"18\"/>\n",
       "<text text-anchor=\"middle\" x=\"1207.812\" y=\"-95.3\" font-family=\"Times,serif\" font-size=\"14.00\" fill=\"#000000\">{&#39;goat&#39;, &#39;cabbage&#39;, &#39;farmer&#39;}</text>\n",
       "</g>\n",
       "<!-- {&#39;cabbage&#39;} -->\n",
       "<g id=\"node7\" class=\"node\">\n",
       "<title>{&#39;cabbage&#39;}</title>\n",
       "<ellipse fill=\"none\" stroke=\"#000000\" cx=\"961.8806\" cy=\"-72\" rx=\"52.7911\" ry=\"18\"/>\n",
       "<text text-anchor=\"middle\" x=\"961.8806\" y=\"-68.3\" font-family=\"Times,serif\" font-size=\"14.00\" fill=\"#000000\">{&#39;cabbage&#39;}</text>\n",
       "</g>\n",
       "<!-- {&#39;goat&#39;, &#39;cabbage&#39;, &#39;farmer&#39;}&#45;&gt;{&#39;cabbage&#39;} -->\n",
       "<g id=\"edge5\" class=\"edge\">\n",
       "<title>{&#39;goat&#39;, &#39;cabbage&#39;, &#39;farmer&#39;}&#45;&gt;{&#39;cabbage&#39;}</title>\n",
       "<path fill=\"none\" stroke=\"#000000\" d=\"M1103.4868,-94.2271C1073.1728,-91.1263 1041.3116,-87.2973 1015.5043,-83.5746\"/>\n",
       "<polygon fill=\"#000000\" stroke=\"#000000\" points=\"1015.9703,-80.1055 1005.5648,-82.0996 1014.9427,-87.0297 1015.9703,-80.1055\"/>\n",
       "</g>\n",
       "<!-- {&#39;goat&#39;, &#39;cabbage&#39;, &#39;farmer&#39;}&#45;&gt;{&#39;goat&#39;} -->\n",
       "<g id=\"edge15\" class=\"edge\">\n",
       "<title>{&#39;goat&#39;, &#39;cabbage&#39;, &#39;farmer&#39;}&#45;&gt;{&#39;goat&#39;}</title>\n",
       "<path fill=\"none\" stroke=\"#000000\" d=\"M1134.863,-112.3359C1042.7856,-123.3604 879.4856,-136 739.3472,-136 554.5104,-136 554.5104,-136 554.5104,-136 447.4466,-136 322.001,-122.5137 257.634,-111.4267\"/>\n",
       "<polygon fill=\"#000000\" stroke=\"#000000\" points=\"257.9269,-107.9234 247.4656,-109.6002 256.6893,-114.8131 257.9269,-107.9234\"/>\n",
       "</g>\n",
       "<!-- {&#39;goat&#39;, &#39;cabbage&#39;, &#39;farmer&#39;, &#39;wolf&#39;} -->\n",
       "<g id=\"node3\" class=\"node\">\n",
       "<title>{&#39;goat&#39;, &#39;cabbage&#39;, &#39;farmer&#39;, &#39;wolf&#39;}</title>\n",
       "<ellipse fill=\"none\" stroke=\"#000000\" cx=\"1207.812\" cy=\"-18\" rx=\"132.6765\" ry=\"18\"/>\n",
       "<text text-anchor=\"middle\" x=\"1207.812\" y=\"-14.3\" font-family=\"Times,serif\" font-size=\"14.00\" fill=\"#000000\">{&#39;goat&#39;, &#39;cabbage&#39;, &#39;farmer&#39;, &#39;wolf&#39;}</text>\n",
       "</g>\n",
       "<!-- {&#39;cabbage&#39;, &#39;wolf&#39;} -->\n",
       "<g id=\"node5\" class=\"node\">\n",
       "<title>{&#39;cabbage&#39;, &#39;wolf&#39;}</title>\n",
       "<ellipse fill=\"none\" stroke=\"#000000\" cx=\"961.8806\" cy=\"-18\" rx=\"77.1866\" ry=\"18\"/>\n",
       "<text text-anchor=\"middle\" x=\"961.8806\" y=\"-14.3\" font-family=\"Times,serif\" font-size=\"14.00\" fill=\"#000000\">{&#39;cabbage&#39;, &#39;wolf&#39;}</text>\n",
       "</g>\n",
       "<!-- {&#39;goat&#39;, &#39;cabbage&#39;, &#39;farmer&#39;, &#39;wolf&#39;}&#45;&gt;{&#39;cabbage&#39;, &#39;wolf&#39;} -->\n",
       "<g id=\"edge4\" class=\"edge\">\n",
       "<title>{&#39;goat&#39;, &#39;cabbage&#39;, &#39;farmer&#39;, &#39;wolf&#39;}&#45;&gt;{&#39;cabbage&#39;, &#39;wolf&#39;}</title>\n",
       "<path fill=\"none\" stroke=\"#000000\" d=\"M1084.4868,-24.75C1071.0316,-24.7481 1057.5822,-24.6384 1044.783,-24.4209\"/>\n",
       "<polygon fill=\"#000000\" stroke=\"#000000\" points=\"1044.7364,-20.9195 1034.6699,-24.2235 1044.5997,-27.9181 1044.7364,-20.9195\"/>\n",
       "</g>\n",
       "<!-- {&#39;wolf&#39;} -->\n",
       "<g id=\"node4\" class=\"node\">\n",
       "<title>{&#39;wolf&#39;}</title>\n",
       "<ellipse fill=\"none\" stroke=\"#000000\" cx=\"554.5104\" cy=\"-72\" rx=\"39.7935\" ry=\"18\"/>\n",
       "<text text-anchor=\"middle\" x=\"554.5104\" y=\"-68.3\" font-family=\"Times,serif\" font-size=\"14.00\" fill=\"#000000\">{&#39;wolf&#39;}</text>\n",
       "</g>\n",
       "<!-- {&#39;cabbage&#39;, &#39;farmer&#39;, &#39;wolf&#39;} -->\n",
       "<g id=\"node6\" class=\"node\">\n",
       "<title>{&#39;cabbage&#39;, &#39;farmer&#39;, &#39;wolf&#39;}</title>\n",
       "<ellipse fill=\"none\" stroke=\"#000000\" cx=\"739.3472\" cy=\"-72\" rx=\"109.381\" ry=\"18\"/>\n",
       "<text text-anchor=\"middle\" x=\"739.3472\" y=\"-68.3\" font-family=\"Times,serif\" font-size=\"14.00\" fill=\"#000000\">{&#39;cabbage&#39;, &#39;farmer&#39;, &#39;wolf&#39;}</text>\n",
       "</g>\n",
       "<!-- {&#39;wolf&#39;}&#45;&gt;{&#39;cabbage&#39;, &#39;farmer&#39;, &#39;wolf&#39;} -->\n",
       "<g id=\"edge2\" class=\"edge\">\n",
       "<title>{&#39;wolf&#39;}&#45;&gt;{&#39;cabbage&#39;, &#39;farmer&#39;, &#39;wolf&#39;}</title>\n",
       "<path fill=\"none\" stroke=\"#000000\" d=\"M592.3609,-66.4292C602.945,-65.9072 615.0167,-65.5585 627.5882,-65.3831\"/>\n",
       "<polygon fill=\"#000000\" stroke=\"#000000\" points=\"627.7949,-68.8813 637.7587,-65.2796 627.7235,-61.8817 627.7949,-68.8813\"/>\n",
       "</g>\n",
       "<!-- {&#39;goat&#39;, &#39;farmer&#39;, &#39;wolf&#39;} -->\n",
       "<g id=\"node8\" class=\"node\">\n",
       "<title>{&#39;goat&#39;, &#39;farmer&#39;, &#39;wolf&#39;}</title>\n",
       "<ellipse fill=\"none\" stroke=\"#000000\" cx=\"383.9723\" cy=\"-72\" rx=\"94.7833\" ry=\"18\"/>\n",
       "<text text-anchor=\"middle\" x=\"383.9723\" y=\"-68.3\" font-family=\"Times,serif\" font-size=\"14.00\" fill=\"#000000\">{&#39;goat&#39;, &#39;farmer&#39;, &#39;wolf&#39;}</text>\n",
       "</g>\n",
       "<!-- {&#39;wolf&#39;}&#45;&gt;{&#39;goat&#39;, &#39;farmer&#39;, &#39;wolf&#39;} -->\n",
       "<g id=\"edge7\" class=\"edge\">\n",
       "<title>{&#39;wolf&#39;}&#45;&gt;{&#39;goat&#39;, &#39;farmer&#39;, &#39;wolf&#39;}</title>\n",
       "<path fill=\"none\" stroke=\"#000000\" d=\"M516.5566,-77.7252C506.2107,-78.2268 494.505,-78.5443 482.4379,-78.6776\"/>\n",
       "<polygon fill=\"#000000\" stroke=\"#000000\" points=\"482.2147,-75.179 472.2385,-78.7463 482.2619,-82.1788 482.2147,-75.179\"/>\n",
       "</g>\n",
       "<!-- {&#39;cabbage&#39;, &#39;wolf&#39;}&#45;&gt;{&#39;goat&#39;, &#39;cabbage&#39;, &#39;farmer&#39;, &#39;wolf&#39;} -->\n",
       "<g id=\"edge12\" class=\"edge\">\n",
       "<title>{&#39;cabbage&#39;, &#39;wolf&#39;}&#45;&gt;{&#39;goat&#39;, &#39;cabbage&#39;, &#39;farmer&#39;, &#39;wolf&#39;}</title>\n",
       "<path fill=\"none\" stroke=\"#000000\" d=\"M1034.6699,-11.7765C1047.1984,-11.4988 1060.5656,-11.3309 1074.1078,-11.2729\"/>\n",
       "<polygon fill=\"#000000\" stroke=\"#000000\" points=\"1074.4945,-14.7722 1084.4868,-11.25 1074.479,-7.7722 1074.4945,-14.7722\"/>\n",
       "</g>\n",
       "<!-- {&#39;cabbage&#39;, &#39;wolf&#39;}&#45;&gt;{&#39;cabbage&#39;, &#39;farmer&#39;, &#39;wolf&#39;} -->\n",
       "<g id=\"edge1\" class=\"edge\">\n",
       "<title>{&#39;cabbage&#39;, &#39;wolf&#39;}&#45;&gt;{&#39;cabbage&#39;, &#39;farmer&#39;, &#39;wolf&#39;}</title>\n",
       "<path fill=\"none\" stroke=\"#000000\" d=\"M920.9046,-33.3147C894.7803,-40.854 859.9015,-49.7343 827.6993,-57.1816\"/>\n",
       "<polygon fill=\"#000000\" stroke=\"#000000\" points=\"826.7726,-53.8031 817.8041,-59.4437 828.3327,-60.627 826.7726,-53.8031\"/>\n",
       "</g>\n",
       "<!-- {&#39;cabbage&#39;, &#39;farmer&#39;, &#39;wolf&#39;}&#45;&gt;{&#39;wolf&#39;} -->\n",
       "<g id=\"edge16\" class=\"edge\">\n",
       "<title>{&#39;cabbage&#39;, &#39;farmer&#39;, &#39;wolf&#39;}&#45;&gt;{&#39;wolf&#39;}</title>\n",
       "<path fill=\"none\" stroke=\"#000000\" d=\"M637.7587,-78.7204C625.4961,-78.6409 613.4511,-78.4016 602.4985,-78.0025\"/>\n",
       "<polygon fill=\"#000000\" stroke=\"#000000\" points=\"602.5008,-74.4995 592.3609,-77.5708 602.2029,-81.4931 602.5008,-74.4995\"/>\n",
       "</g>\n",
       "<!-- {&#39;cabbage&#39;, &#39;farmer&#39;, &#39;wolf&#39;}&#45;&gt;{&#39;cabbage&#39;, &#39;wolf&#39;} -->\n",
       "<g id=\"edge13\" class=\"edge\">\n",
       "<title>{&#39;cabbage&#39;, &#39;farmer&#39;, &#39;wolf&#39;}&#45;&gt;{&#39;cabbage&#39;, &#39;wolf&#39;}</title>\n",
       "<path fill=\"none\" stroke=\"#000000\" d=\"M784.3801,-55.5236C813.6248,-47.2131 852.4673,-37.4937 886.3592,-29.8957\"/>\n",
       "<polygon fill=\"#000000\" stroke=\"#000000\" points=\"887.2289,-33.288 896.2371,-27.711 885.7172,-26.4531 887.2289,-33.288\"/>\n",
       "</g>\n",
       "<!-- {&#39;cabbage&#39;, &#39;farmer&#39;, &#39;wolf&#39;}&#45;&gt;{&#39;cabbage&#39;} -->\n",
       "<g id=\"edge6\" class=\"edge\">\n",
       "<title>{&#39;cabbage&#39;, &#39;farmer&#39;, &#39;wolf&#39;}&#45;&gt;{&#39;cabbage&#39;}</title>\n",
       "<path fill=\"none\" stroke=\"#000000\" d=\"M840.8458,-65.2732C861.6405,-65.1743 882.8938,-65.3919 901.6703,-65.9261\"/>\n",
       "<polygon fill=\"#000000\" stroke=\"#000000\" points=\"901.72,-69.4294 911.8282,-66.2554 901.9469,-62.4331 901.72,-69.4294\"/>\n",
       "</g>\n",
       "<!-- {&#39;cabbage&#39;}&#45;&gt;{&#39;goat&#39;, &#39;cabbage&#39;, &#39;farmer&#39;} -->\n",
       "<g id=\"edge11\" class=\"edge\">\n",
       "<title>{&#39;cabbage&#39;}&#45;&gt;{&#39;goat&#39;, &#39;cabbage&#39;, &#39;farmer&#39;}</title>\n",
       "<path fill=\"none\" stroke=\"#000000\" d=\"M1014.6391,-72.1349C1047.6654,-74.6003 1090.8531,-79.1056 1128.0156,-83.8736\"/>\n",
       "<polygon fill=\"#000000\" stroke=\"#000000\" points=\"1127.9541,-87.3954 1138.3241,-85.2239 1128.8634,-80.4547 1127.9541,-87.3954\"/>\n",
       "</g>\n",
       "<!-- {&#39;cabbage&#39;}&#45;&gt;{&#39;cabbage&#39;, &#39;farmer&#39;, &#39;wolf&#39;} -->\n",
       "<g id=\"edge9\" class=\"edge\">\n",
       "<title>{&#39;cabbage&#39;}&#45;&gt;{&#39;cabbage&#39;, &#39;farmer&#39;, &#39;wolf&#39;}</title>\n",
       "<path fill=\"none\" stroke=\"#000000\" d=\"M911.8282,-77.7446C893.6587,-78.4111 872.3273,-78.7462 850.978,-78.75\"/>\n",
       "<polygon fill=\"#000000\" stroke=\"#000000\" points=\"850.8538,-75.2498 840.8458,-78.7268 850.8377,-82.2498 850.8538,-75.2498\"/>\n",
       "</g>\n",
       "<!-- {&#39;goat&#39;, &#39;farmer&#39;, &#39;wolf&#39;}&#45;&gt;{&#39;wolf&#39;} -->\n",
       "<g id=\"edge20\" class=\"edge\">\n",
       "<title>{&#39;goat&#39;, &#39;farmer&#39;, &#39;wolf&#39;}&#45;&gt;{&#39;wolf&#39;}</title>\n",
       "<path fill=\"none\" stroke=\"#000000\" d=\"M472.2385,-65.2537C483.942,-65.2827 495.5701,-65.4814 506.2395,-65.8498\"/>\n",
       "<polygon fill=\"#000000\" stroke=\"#000000\" points=\"506.4209,-69.3602 516.5566,-66.2748 506.7091,-62.3661 506.4209,-69.3602\"/>\n",
       "</g>\n",
       "<!-- {&#39;goat&#39;, &#39;farmer&#39;, &#39;wolf&#39;}&#45;&gt;{&#39;goat&#39;} -->\n",
       "<g id=\"edge17\" class=\"edge\">\n",
       "<title>{&#39;goat&#39;, &#39;farmer&#39;, &#39;wolf&#39;}&#45;&gt;{&#39;goat&#39;}</title>\n",
       "<path fill=\"none\" stroke=\"#000000\" d=\"M331.2887,-87.0196C309.5557,-91.2521 284.5289,-95.3487 263.2506,-98.1444\"/>\n",
       "<polygon fill=\"#000000\" stroke=\"#000000\" points=\"262.6262,-94.6951 253.1369,-99.4072 263.4935,-101.6412 262.6262,-94.6951\"/>\n",
       "</g>\n",
       "<!-- {&#39;goat&#39;}&#45;&gt;{&#39;goat&#39;, &#39;farmer&#39;} -->\n",
       "<g id=\"edge8\" class=\"edge\">\n",
       "<title>{&#39;goat&#39;}&#45;&gt;{&#39;goat&#39;, &#39;farmer&#39;}</title>\n",
       "<path fill=\"none\" stroke=\"#000000\" d=\"M176.1068,-98.8371C159.8888,-96.5316 140.7612,-93.1188 123.2551,-89.4453\"/>\n",
       "<polygon fill=\"#000000\" stroke=\"#000000\" points=\"123.6839,-85.957 113.1693,-87.2586 122.2006,-92.798 123.6839,-85.957\"/>\n",
       "</g>\n",
       "<!-- {&#39;goat&#39;}&#45;&gt;{&#39;goat&#39;, &#39;cabbage&#39;, &#39;farmer&#39;} -->\n",
       "<g id=\"edge14\" class=\"edge\">\n",
       "<title>{&#39;goat&#39;}&#45;&gt;{&#39;goat&#39;, &#39;cabbage&#39;, &#39;farmer&#39;}</title>\n",
       "<path fill=\"none\" stroke=\"#000000\" d=\"M253.1266,-99.4572C315.9969,-103.8616 444.8889,-118 554.5104,-118 554.5104,-118 554.5104,-118 739.3472,-118 859.2296,-118 996.0619,-108.7502 1090.7566,-102.5923\"/>\n",
       "<polygon fill=\"#000000\" stroke=\"#000000\" points=\"1091.1847,-106.072 1100.9372,-101.9321 1090.7316,-99.0867 1091.1847,-106.072\"/>\n",
       "</g>\n",
       "<!-- {&#39;goat&#39;}&#45;&gt;{&#39;goat&#39;, &#39;farmer&#39;, &#39;wolf&#39;} -->\n",
       "<g id=\"edge3\" class=\"edge\">\n",
       "<title>{&#39;goat&#39;}&#45;&gt;{&#39;goat&#39;, &#39;farmer&#39;, &#39;wolf&#39;}</title>\n",
       "<path fill=\"none\" stroke=\"#000000\" d=\"M246.1699,-89.4112C258.2457,-86.6904 272.7516,-83.8553 287.7533,-81.2259\"/>\n",
       "<polygon fill=\"#000000\" stroke=\"#000000\" points=\"288.3958,-84.6669 297.6625,-79.5309 287.2155,-77.7671 288.3958,-84.6669\"/>\n",
       "</g>\n",
       "<!-- set()&#45;&gt;{&#39;goat&#39;, &#39;farmer&#39;} -->\n",
       "<g id=\"edge10\" class=\"edge\">\n",
       "<title>set()&#45;&gt;{&#39;goat&#39;, &#39;farmer&#39;}</title>\n",
       "<path fill=\"none\" stroke=\"#000000\" d=\"M191.4159,-55.4783C179.1118,-58.7682 163.2356,-62.2723 147.0513,-65.381\"/>\n",
       "<polygon fill=\"#000000\" stroke=\"#000000\" points=\"146.1537,-61.9879 136.9637,-67.26 147.4356,-68.8695 146.1537,-61.9879\"/>\n",
       "</g>\n",
       "</g>\n",
       "</svg>\n"
      ],
      "text/plain": [
       "<graphviz.dot.Digraph at 0x7fee186819a0>"
      ]
     },
     "execution_count": 9,
     "metadata": {},
     "output_type": "execute_result"
    }
   ],
   "source": [
    "dot = dot_graph(R)\n",
    "dot"
   ]
  },
  {
   "cell_type": "code",
   "execution_count": 10,
   "metadata": {},
   "outputs": [
    {
     "data": {
      "text/plain": [
       "'wolf-goat-cabbage.pdf'"
      ]
     },
     "execution_count": 10,
     "metadata": {},
     "output_type": "execute_result"
    }
   ],
   "source": [
    "dot.render('wolf-goat-cabbage')"
   ]
  },
  {
   "cell_type": "markdown",
   "metadata": {},
   "source": [
    "At the beginning everything is on the left shore and nothing is on the right shore.   The goal is to have everybody on the right shore.  In that case, the left shore will be empty."
   ]
  },
  {
   "cell_type": "code",
   "execution_count": 11,
   "metadata": {},
   "outputs": [
    {
     "data": {
      "text/plain": [
       "(frozenset({'cabbage', 'farmer', 'goat', 'wolf'}),\n",
       " frozenset({'cabbage', 'wolf'}),\n",
       " frozenset({'cabbage', 'farmer', 'wolf'}),\n",
       " frozenset({'cabbage'}),\n",
       " frozenset({'cabbage', 'farmer', 'goat'}),\n",
       " frozenset({'goat'}),\n",
       " frozenset({'farmer', 'goat'}),\n",
       " frozenset())"
      ]
     },
     "execution_count": 11,
     "metadata": {},
     "output_type": "execute_result"
    }
   ],
   "source": [
    "start = All\n",
    "goal  = frozenset()\n",
    "Path  = search(R, start, goal)\n",
    "Path"
   ]
  },
  {
   "cell_type": "markdown",
   "metadata": {},
   "source": [
    "## Auxiliary Code for Pretty Printing"
   ]
  },
  {
   "cell_type": "markdown",
   "metadata": {},
   "source": [
    "The following code is used for printing the path that has been found.  We won't discuss the details of these functions."
   ]
  },
  {
   "cell_type": "code",
   "execution_count": 12,
   "metadata": {},
   "outputs": [
    {
     "name": "stdout",
     "output_type": "stream",
     "text": [
      "{'goat', 'wolf', 'cabbage', 'farmer'}                                   {}\n",
      "                         >>>>  {'goat', 'farmer'}  >>>> \n",
      "{'cabbage', 'wolf'}                                     {'goat', 'farmer'}\n",
      "                         <<<<  {'farmer'}  <<<< \n",
      "{'cabbage', 'farmer', 'wolf'}                                     {'goat'}\n",
      "                         >>>>  {'wolf', 'farmer'}  >>>> \n",
      "{'cabbage'}                                     {'goat', 'farmer', 'wolf'}\n",
      "                         <<<<  {'goat', 'farmer'}  <<<< \n",
      "{'goat', 'cabbage', 'farmer'}                                     {'wolf'}\n",
      "                         >>>>  {'cabbage', 'farmer'}  >>>> \n",
      "{'goat'}                                     {'cabbage', 'wolf', 'farmer'}\n",
      "                         <<<<  {'farmer'}  <<<< \n",
      "{'goat', 'farmer'}                                     {'cabbage', 'wolf'}\n",
      "                         >>>>  {'goat', 'farmer'}  >>>> \n",
      "{}                                   {'goat', 'wolf', 'cabbage', 'farmer'}\n"
     ]
    }
   ],
   "source": [
    "def mkPair(S, All):\n",
    "    \"Given the left shore, compute both the left shore and the right shore.\"\n",
    "    return (S, All - S);\n",
    "\n",
    "def my_str(s):\n",
    "    \"Print frozen sets as sets.\"\n",
    "    if len(s) == 0:\n",
    "        return \"{}\"\n",
    "    else:\n",
    "        return str(set(s))\n",
    "    \n",
    "def printPath(Path, All):\n",
    "    \"print the path one transition at a time\"\n",
    "    for i in range(len(Path)):\n",
    "        (S1, S2) = mkPair(Path[i], All)\n",
    "        if (len(S1) == 0 or len(S2) == 0):\n",
    "            print(my_str(S1), 33 * \" \", my_str(S2))\n",
    "        else:\n",
    "            print(my_str(S1), 35 * \" \", my_str(S2))\n",
    "        if i + 1 == len(Path): \n",
    "            break\n",
    "        (T1, T2) = mkPair(Path[i+1], All)        \n",
    "        if \"farmer\" in S1:\n",
    "            B = S1 - T1  # the boat crossing from left to right\n",
    "            print(\"                         >>>> \", set(B), \" >>>> \")\n",
    "        else:\n",
    "            B = S2 - T2  # the boat crossing from right to left\n",
    "            print(\"                         <<<< \", set(B), \" <<<< \")\n",
    "printPath(Path, All)"
   ]
  },
  {
   "cell_type": "code",
   "execution_count": null,
   "metadata": {},
   "outputs": [],
   "source": []
  }
 ],
 "metadata": {
  "@webio": {
   "lastCommId": null,
   "lastKernelId": null
  },
  "hide_input": false,
  "kernelspec": {
   "display_name": "Python 3",
   "language": "python",
   "name": "python3"
  },
  "language_info": {
   "codemirror_mode": {
    "name": "ipython",
    "version": 3
   },
   "file_extension": ".py",
   "mimetype": "text/x-python",
   "name": "python",
   "nbconvert_exporter": "python",
   "pygments_lexer": "ipython3",
   "version": "3.8.5"
  },
  "toc": {
   "base_numbering": 1,
   "nav_menu": {},
   "number_sections": true,
   "sideBar": true,
   "skip_h1_title": false,
   "title_cell": "Table of Contents",
   "title_sidebar": "Contents",
   "toc_cell": false,
   "toc_position": {},
   "toc_section_display": true,
   "toc_window_display": false
  },
  "varInspector": {
   "cols": {
    "lenName": 16,
    "lenType": 16,
    "lenVar": 40
   },
   "kernels_config": {
    "python": {
     "delete_cmd_postfix": "",
     "delete_cmd_prefix": "del ",
     "library": "var_list.py",
     "varRefreshCmd": "print(var_dic_list())"
    },
    "r": {
     "delete_cmd_postfix": ") ",
     "delete_cmd_prefix": "rm(",
     "library": "var_list.r",
     "varRefreshCmd": "cat(var_dic_list()) "
    }
   },
   "types_to_exclude": [
    "module",
    "function",
    "builtin_function_or_method",
    "instance",
    "_Feature"
   ],
   "window_display": false
  }
 },
 "nbformat": 4,
 "nbformat_minor": 2
}
