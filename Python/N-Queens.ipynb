{
 "cells": [
  {
   "cell_type": "code",
   "execution_count": null,
   "metadata": {},
   "outputs": [],
   "source": [
    "import davisPutnam as dp"
   ]
  },
  {
   "cell_type": "code",
   "execution_count": null,
   "metadata": {},
   "outputs": [],
   "source": [
    "def var(row, col):\n",
    "    return 'Q' + str(row) + ',' + str(col)"
   ]
  },
  {
   "cell_type": "code",
   "execution_count": null,
   "metadata": {},
   "outputs": [],
   "source": [
    "def atMostOne(S): \n",
    "    return { frozenset({('¬',p), ('¬', q)}) for p in S\n",
    "                                            for q in S \n",
    "                                            if p != q \n",
    "           }"
   ]
  },
  {
   "cell_type": "code",
   "execution_count": null,
   "metadata": {},
   "outputs": [],
   "source": [
    "atMostOne({'a', 'b', 'c'})"
   ]
  },
  {
   "cell_type": "code",
   "execution_count": null,
   "metadata": {},
   "outputs": [],
   "source": [
    "def atMostOneInRow(row, n):\n",
    "    return atMostOne({ var(row, col) for col in range(1,n+1) })"
   ]
  },
  {
   "cell_type": "code",
   "execution_count": null,
   "metadata": {},
   "outputs": [],
   "source": [
    "atMostOneInRow(3, 4)"
   ]
  },
  {
   "cell_type": "code",
   "execution_count": null,
   "metadata": {},
   "outputs": [],
   "source": [
    "def oneInColumn(col, n):\n",
    "    return { frozenset({ var(row, col) for row in range(1,n+1) }) }"
   ]
  },
  {
   "cell_type": "code",
   "execution_count": null,
   "metadata": {},
   "outputs": [],
   "source": [
    "oneInColumn(2, 4)"
   ]
  },
  {
   "cell_type": "code",
   "execution_count": null,
   "metadata": {},
   "outputs": [],
   "source": [
    "def atMostOneInRisingDiagonal(k, n):\n",
    "    S = { var(row, col) for row in range(1, n+1)\n",
    "                        for col in range(1, n+1) \n",
    "                        if  row - col == k \n",
    "        }\n",
    "    return atMostOne(S)"
   ]
  },
  {
   "cell_type": "code",
   "execution_count": null,
   "metadata": {},
   "outputs": [],
   "source": [
    "atMostOneInRisingDiagonal(0, 4)"
   ]
  },
  {
   "cell_type": "code",
   "execution_count": null,
   "metadata": {},
   "outputs": [],
   "source": [
    "def atMostOneInFallingDiagonal(k, n):\n",
    "    S = { var(row, col) for row in range(1, n+1)\n",
    "                        for col in range(1, n+1) \n",
    "                        if  row + col == k \n",
    "        }\n",
    "    return atMostOne(S)"
   ]
  },
  {
   "cell_type": "code",
   "execution_count": null,
   "metadata": {},
   "outputs": [],
   "source": [
    "atMostOneInFallingDiagonal(0, 3)"
   ]
  },
  {
   "cell_type": "code",
   "execution_count": null,
   "metadata": {},
   "outputs": [],
   "source": [
    "def allClauses(n):\n",
    "    All = [atMostOneInRow(row, n)           for row in range(1, n+1)        ] \\\n",
    "        + [atMostOneInFallingDiagonal(k, n) for k in range(3, (2*n-1)+1)    ] \\\n",
    "        + [atMostOneInRisingDiagonal(k, n)  for k in range(-(n-2), (n-2)+1) ] \\\n",
    "        + [oneInColumn(col, n)              for col in range(1, n+1)        ]\n",
    "    return { clause for S in All for clause in S }"
   ]
  },
  {
   "cell_type": "code",
   "execution_count": null,
   "metadata": {},
   "outputs": [],
   "source": [
    "allClauses(8)"
   ]
  },
  {
   "cell_type": "code",
   "execution_count": null,
   "metadata": {},
   "outputs": [],
   "source": [
    "len(allClauses(8))"
   ]
  },
  {
   "cell_type": "code",
   "execution_count": null,
   "metadata": {},
   "outputs": [],
   "source": [
    "def printBoard(I, n):\n",
    "    if I == { frozenset() }:\n",
    "        return\n",
    "    print(\"-\" * (8*n+1))\n",
    "    for row in range(1, n+1):\n",
    "        printEmptyLine(n)\n",
    "        line = \"|\";\n",
    "        for col in range(1, n+1):\n",
    "            if frozenset({ var(row, col) }) in I:\n",
    "                line += \"   Q   |\"\n",
    "            else:\n",
    "                line += \"       |\"\n",
    "        print(line)\n",
    "        printEmptyLine(n)\n",
    "        print(\"-\" * (8*n+1))\n",
    "\n",
    "def printEmptyLine(n):\n",
    "    line = \"|\"\n",
    "    for col in range(1, n+1):\n",
    "        line += \"       |\"\n",
    "    print(line)"
   ]
  },
  {
   "cell_type": "code",
   "execution_count": null,
   "metadata": {},
   "outputs": [],
   "source": [
    "def queens(n):\n",
    "    \"Solve the n queens problem.\"\n",
    "    Clauses  = allClauses(n)\n",
    "    Solution = dp.solve(Clauses, set())\n",
    "    if Solution != { frozenset() }:\n",
    "        printBoard(Solution, n)\n",
    "    else:\n",
    "        print(f'The problem is not solvable for {n} queens!')"
   ]
  },
  {
   "cell_type": "code",
   "execution_count": null,
   "metadata": {},
   "outputs": [],
   "source": [
    "import time"
   ]
  },
  {
   "cell_type": "code",
   "execution_count": null,
   "metadata": {},
   "outputs": [],
   "source": [
    "start = time.time()\n",
    "queens(8)\n",
    "stop  = time.time()\n",
    "print(f'Time to solve the problem for n = {8}: {round((stop - start)*1000)} milliseconds.\\n')"
   ]
  }
 ],
 "metadata": {
  "kernelspec": {
   "display_name": "Python 3",
   "language": "python",
   "name": "python3"
  },
  "language_info": {
   "codemirror_mode": {
    "name": "ipython",
    "version": 3
   },
   "file_extension": ".py",
   "mimetype": "text/x-python",
   "name": "python",
   "nbconvert_exporter": "python",
   "pygments_lexer": "ipython3",
   "version": "3.6.5"
  }
 },
 "nbformat": 4,
 "nbformat_minor": 2
}
