{
 "cells": [
  {
   "cell_type": "code",
   "execution_count": 1,
   "metadata": {},
   "outputs": [
    {
     "data": {
      "application/javascript": [
       "IPython.notebook.set_autosave_interval(0)"
      ]
     },
     "metadata": {},
     "output_type": "display_data"
    },
    {
     "name": "stdout",
     "output_type": "stream",
     "text": [
      "Autosave disabled\n"
     ]
    },
    {
     "data": {
      "text/html": [
       "<style>.container { width:100% !important; }</style>"
      ],
      "text/plain": [
       "<IPython.core.display.HTML object>"
      ]
     },
     "metadata": {},
     "output_type": "display_data"
    }
   ],
   "source": [
    "%autosave 0\n",
    "from IPython.core.display import display, HTML\n",
    "display(HTML(\"<style>.container { width:100% !important; }</style>\"))"
   ]
  },
  {
   "cell_type": "markdown",
   "metadata": {},
   "source": [
    "# Case Study: Computation of Probabilities in Poker "
   ]
  },
  {
   "cell_type": "markdown",
   "metadata": {},
   "source": [
    "This notebook shows how to compute probabilities in <A href=\"https://en.wikipedia.org/wiki/Texas_hold_%27em\">Texas Hold'em Poker</A>.  Texas Hold'em is played with a deck of 52 cards.  The cards have 13 different *values* and four different *suits*.  The values are:"
   ]
  },
  {
   "cell_type": "code",
   "execution_count": 2,
   "metadata": {},
   "outputs": [],
   "source": [
    " Values = { \"2\", \"3\", \"4\", \"5\", \"6\", \"7\", \"8\", \"9\", \"T\", \n",
    "            \"J\", \"Q\", \"K\", \"A\" \n",
    "          }"
   ]
  },
  {
   "cell_type": "markdown",
   "metadata": {},
   "source": [
    "The four *suits* are *clubs*, *hearts*, *diamonds*, and *spades*.  We represent these suits by their first letter:"
   ]
  },
  {
   "cell_type": "code",
   "execution_count": 3,
   "metadata": {},
   "outputs": [],
   "source": [
    "Suits = { \"c\", \"h\", \"d\", \"s\" }"
   ]
  },
  {
   "cell_type": "markdown",
   "metadata": {},
   "source": [
    "Now the *deck* of cards is convieniently represented by the Cartesian product of the two sets <tt>Values</tt> and <tt>Suits</tt>."
   ]
  },
  {
   "cell_type": "code",
   "execution_count": 4,
   "metadata": {},
   "outputs": [
    {
     "name": "stdout",
     "output_type": "stream",
     "text": [
      "{('A', 'd'), ('9', 'c'), ('A', 'c'), ('Q', 'h'), ('7', 'h'), ('9', 'd'), ('9', 'h'), ('4', 's'), ('6', 'h'), ('K', 'd'), ('K', 'c'), ('J', 'h'), ('K', 'h'), ('T', 's'), ('5', 's'), ('4', 'h'), ('Q', 's'), ('3', 's'), ('2', 's'), ('8', 's'), ('T', 'd'), ('T', 'c'), ('5', 'c'), ('6', 'c'), ('Q', 'd'), ('3', 'h'), ('5', 'd'), ('3', 'd'), ('6', 'd'), ('A', 'h'), ('Q', 'c'), ('5', 'h'), ('8', 'd'), ('3', 'c'), ('7', 'c'), ('2', 'c'), ('7', 'd'), ('8', 'c'), ('2', 'd'), ('2', 'h'), ('8', 'h'), ('J', 'c'), ('6', 's'), ('J', 'd'), ('9', 's'), ('A', 's'), ('4', 'd'), ('7', 's'), ('4', 'c'), ('K', 's'), ('T', 'h'), ('J', 's')}\n"
     ]
    }
   ],
   "source": [
    "Deck = { (v, s) for v in Values for s in Suits }\n",
    "print(Deck)"
   ]
  },
  {
   "cell_type": "markdown",
   "metadata": {},
   "source": [
    "Let's assume you have been dealt the three of clubs and the three of spades.  In Texas Hold'em, the hand dealt to a player at the beginning is called the *hole*, so we have:"
   ]
  },
  {
   "cell_type": "code",
   "execution_count": 5,
   "metadata": {},
   "outputs": [],
   "source": [
    "Hole = { (\"3\", \"c\"), (\"3\", \"s\") }"
   ]
  },
  {
   "cell_type": "markdown",
   "metadata": {},
   "source": [
    "The remaining cards are all other cards, lets call them <tt>rest</tt>:"
   ]
  },
  {
   "cell_type": "code",
   "execution_count": 6,
   "metadata": {},
   "outputs": [],
   "source": [
    "Rest = Deck - Hole"
   ]
  },
  {
   "cell_type": "markdown",
   "metadata": {},
   "source": [
    "We are interested in the probability that on the *flop* you will improve your hand to *trips*.  The *flop* are three cards that are put openly on the table once the initial *bidding* phase has ended.  So the question is how likely it is that one of these three cards will have the value \"3\".  First, let us compute the set of all possible *flops*."
   ]
  },
  {
   "cell_type": "code",
   "execution_count": 7,
   "metadata": {},
   "outputs": [],
   "source": [
    "Flops = { (c1, c2, c3) for c1 in Rest \n",
    "                       for c2 in Rest \n",
    "                       for c3 in Rest \n",
    "                       if len({c1, c2, c3}) == 3 \n",
    "        }"
   ]
  },
  {
   "cell_type": "code",
   "execution_count": 8,
   "metadata": {},
   "outputs": [
    {
     "data": {
      "text/plain": [
       "117600"
      ]
     },
     "execution_count": 8,
     "metadata": {},
     "output_type": "execute_result"
    }
   ],
   "source": [
    "len(Flops)"
   ]
  },
  {
   "cell_type": "markdown",
   "metadata": {},
   "source": [
    "The condition <tt>len({c1, c2, c3}) == 3</tt> ensures that c1, c2 and c3 are all different from each other."
   ]
  },
  {
   "cell_type": "markdown",
   "metadata": {},
   "source": [
    "Next, let us compute those flops that actually have a card with a value of \"3\".  Since there are only two cards left that have a value of \"3\", this subset of the set <tt>flops</tt> is easy to compute:"
   ]
  },
  {
   "cell_type": "code",
   "execution_count": 9,
   "metadata": {},
   "outputs": [],
   "source": [
    "Trips = { f for f in Flops if (\"3\", \"d\") in f or (\"3\", \"h\") in f }"
   ]
  },
  {
   "cell_type": "code",
   "execution_count": 10,
   "metadata": {},
   "outputs": [
    {
     "data": {
      "text/plain": [
       "13824"
      ]
     },
     "execution_count": 10,
     "metadata": {},
     "output_type": "execute_result"
    }
   ],
   "source": [
    "len(Trips)"
   ]
  },
  {
   "cell_type": "markdown",
   "metadata": {},
   "source": [
    "Now the probability that you will improve your hand from pairs to trips on the flop is just the ratio of the number of those cases where you do make trips to the number of all possible cases:"
   ]
  },
  {
   "cell_type": "code",
   "execution_count": 11,
   "metadata": {},
   "outputs": [
    {
     "data": {
      "text/plain": [
       "0.11755102040816326"
      ]
     },
     "execution_count": 11,
     "metadata": {},
     "output_type": "execute_result"
    }
   ],
   "source": [
    "len(Trips)/len(Flops)"
   ]
  },
  {
   "cell_type": "markdown",
   "metadata": {},
   "source": [
    "Therefore, we can conclude that the probability to improve a pocket pair to trips on the flop is roughly 12%."
   ]
  }
 ],
 "metadata": {
  "kernelspec": {
   "display_name": "Python 3",
   "language": "python",
   "name": "python3"
  },
  "language_info": {
   "codemirror_mode": {
    "name": "ipython",
    "version": 3
   },
   "file_extension": ".py",
   "mimetype": "text/x-python",
   "name": "python",
   "nbconvert_exporter": "python",
   "pygments_lexer": "ipython3",
   "version": "3.6.5"
  }
 },
 "nbformat": 4,
 "nbformat_minor": 2
}
