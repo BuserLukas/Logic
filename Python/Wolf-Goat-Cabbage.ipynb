{
 "cells": [
  {
   "cell_type": "code",
   "execution_count": 1,
   "metadata": {},
   "outputs": [
    {
     "data": {
      "application/javascript": [
       "IPython.notebook.set_autosave_interval(0)"
      ]
     },
     "metadata": {},
     "output_type": "display_data"
    },
    {
     "name": "stdout",
     "output_type": "stream",
     "text": [
      "Autosave disabled\n"
     ]
    },
    {
     "data": {
      "text/html": [
       "<style>.container { width:100% !important; }</style>"
      ],
      "text/plain": [
       "<IPython.core.display.HTML object>"
      ]
     },
     "metadata": {},
     "output_type": "display_data"
    }
   ],
   "source": [
    "%autosave 0\n",
    "from IPython.core.display import display, HTML\n",
    "display(HTML(\"<style>.container { width:100% !important; }</style>\"))"
   ]
  },
  {
   "cell_type": "markdown",
   "metadata": {},
   "source": [
    "# Solving the Wolf-Goat-Cabbage Problem"
   ]
  },
  {
   "cell_type": "markdown",
   "metadata": {},
   "source": [
    "An agricultural economist has to sell a *wolf*, a *goat*, and a *cabbage* on a market place.  In order to\n",
    "reach the market place, she has to cross a river.  The boat that she can use is so small that it can\n",
    "only accommodate either the goat, the wolf, or the cabbage in addition to the agricultural economist.\n",
    "Now if the agricultural economist leaves the wolf alone with the goat, the wolf will eat the goat.\n",
    "If, instead, the agricultural economist leaves the goat with the cabbage, the goat will eat the cabbage.\n",
    "Is it possible for the agricultural economist to develop a schedule that allows her to cross the river\n",
    "without either the goat or the cabbage being eaten?"
   ]
  },
  {
   "cell_type": "markdown",
   "metadata": {},
   "source": [
    "## Auxilliary Procedures for Computing a Path in a Graph"
   ]
  },
  {
   "cell_type": "markdown",
   "metadata": {},
   "source": [
    "The function <tt>dot_graph</tt> below is used to create a visual representation of a graph.  The graph is assumed to be represented as a set of pairs."
   ]
  },
  {
   "cell_type": "code",
   "execution_count": 2,
   "metadata": {},
   "outputs": [],
   "source": [
    "import graphviz as gv\n",
    "\n",
    "def dot_graph(R):\n",
    "    \"\"\"This function takes binary relation R as inputs and shows this relation as\n",
    "       a graph using the module graphviz.\n",
    "    \"\"\"\n",
    "    dot = gv.Digraph()\n",
    "    Nodes = { p[0] for p in R } | { p[1] for p in R }\n",
    "    for n in Nodes:\n",
    "        dot.node(str(set(n)))\n",
    "    for (x, y) in R:\n",
    "        dot.edge(str(set(x)), str(set(y)))\n",
    "    return dot"
   ]
  },
  {
   "cell_type": "markdown",
   "metadata": {},
   "source": [
    "The function $\\texttt{power}(M)$ defined below computes the power set of the set $M$, i.e. we have:\n",
    "$$ \\texttt{power}(M) = 2^M = \\bigl\\{A \\mid A \\subseteq M \\} $$"
   ]
  },
  {
   "cell_type": "code",
   "execution_count": 3,
   "metadata": {},
   "outputs": [],
   "source": [
    "def power(M):\n",
    "    \"This function computes the power set of the set M.\"\n",
    "    if M == set():\n",
    "        return { frozenset() }\n",
    "    else:\n",
    "        C  = set(M)  # C is a copy of M as we don't want to change the set M\n",
    "        x  = C.pop() # pop removes the element x from the set C\n",
    "        P1 = power(C)\n",
    "        P2 = { A | {x} for A in P1 }\n",
    "        return P1 | P2"
   ]
  },
  {
   "cell_type": "markdown",
   "metadata": {},
   "source": [
    "The function <tt>pathProduct</tt> below takes a set of pathes <tt>P<tt> and a binary relation <tt>R</tt> as its arguments.  If there is a path $L \\in P$ that has the form $L = (x_1, \\cdots, x_n)$ and there is a pair $(x_n, x_{n+1}) \\in R$, then the path $(x_1, \\cdots, x_n, x_{n+1})$ is an element of the set of pathes computed by this function."
   ]
  },
  {
   "cell_type": "code",
   "execution_count": 4,
   "metadata": {},
   "outputs": [],
   "source": [
    "def pathProduct(P, R):\n",
    "    return { T1 + (T2[1],) for T1 in P for T2 in R \n",
    "                           if T1[-1] == T2[0] and not T2[-1] in T1 \n",
    "           }"
   ]
  },
  {
   "cell_type": "markdown",
   "metadata": {},
   "source": [
    "The function <tt>findPath</tt> takes three arguments:\n",
    "<ol>\n",
    "    <li><tt>start</tt> is a node in a graph.</li>\n",
    "    <li><tt>goal</tt> is a node in a graph.</li>\n",
    "    <li><tt>R</tt> is a graph represented as a set of pairs of nodes.</li>\n",
    "</ol>\n",
    "The function tries to find a path that leads from <tt>start</tt> to <tt>goal</tt>.  If no path is found, the function returns <tt>None</tt>."
   ]
  },
  {
   "cell_type": "code",
   "execution_count": 5,
   "metadata": {},
   "outputs": [],
   "source": [
    "def findPath(start, goal, R):\n",
    "    \"\"\"\n",
    "    start and goal are nodes in a graph, while R is a set of pairs of nodes.\n",
    "    R is interpreted as a relation.  The function findPath tries to find\n",
    "    a path from start to goal.\n",
    "    \"\"\"\n",
    "    P = { (start,)}                      # pathes beginning at start\n",
    "    while len(P) > 0:                         \n",
    "        P     = pathProduct(P, R)\n",
    "        Found = { T for T in P if T[-1] == goal }\n",
    "        if Found != set():\n",
    "            return Found.pop()"
   ]
  },
  {
   "cell_type": "markdown",
   "metadata": {},
   "source": [
    "## Problem Specific Code"
   ]
  },
  {
   "cell_type": "markdown",
   "metadata": {},
   "source": [
    "There is a problem if the wolf is alone with the goat or if the goat is alone with the cabbage."
   ]
  },
  {
   "cell_type": "code",
   "execution_count": 6,
   "metadata": {},
   "outputs": [],
   "source": [
    "def problem(S):\n",
    "    \"\"\"\n",
    "    S is a set of objects that are at one shore of the river.\n",
    "    This function returns <tt>True</tt> if there is a problem.\n",
    "    \"\"\"\n",
    "    return ('farmer' not in S) and             \\\n",
    "           (('goat' in S and 'cabbage' in S) or   # goat eats cabbage\n",
    "            ('wolf' in S and 'goat'    in S)   )  # wolf eats goat"
   ]
  },
  {
   "cell_type": "markdown",
   "metadata": {},
   "source": [
    "At the start, everything is on the left shore."
   ]
  },
  {
   "cell_type": "code",
   "execution_count": 7,
   "metadata": {},
   "outputs": [],
   "source": [
    "All = frozenset({'farmer', 'wolf', 'goat', 'cabbage'})"
   ]
  },
  {
   "cell_type": "markdown",
   "metadata": {},
   "source": [
    "<tt>States</tt> is the set of all states that do not have a problem."
   ]
  },
  {
   "cell_type": "code",
   "execution_count": 8,
   "metadata": {},
   "outputs": [
    {
     "data": {
      "text/plain": [
       "{frozenset(),\n",
       " frozenset({'farmer', 'goat', 'wolf'}),\n",
       " frozenset({'cabbage'}),\n",
       " frozenset({'goat'}),\n",
       " frozenset({'farmer', 'goat'}),\n",
       " frozenset({'cabbage', 'farmer', 'goat'}),\n",
       " frozenset({'wolf'}),\n",
       " frozenset({'cabbage', 'wolf'}),\n",
       " frozenset({'cabbage', 'farmer', 'wolf'}),\n",
       " frozenset({'cabbage', 'farmer', 'goat', 'wolf'})}"
      ]
     },
     "execution_count": 8,
     "metadata": {},
     "output_type": "execute_result"
    }
   ],
   "source": [
    "States = { S for S in power(All) if not problem(S) and \n",
    "                                    not problem(All - S) \n",
    "         }\n",
    "States"
   ]
  },
  {
   "cell_type": "markdown",
   "metadata": {},
   "source": [
    "<tt>R1</tt> decribes the transitions where the boat crosses the river from left to right."
   ]
  },
  {
   "cell_type": "code",
   "execution_count": 9,
   "metadata": {},
   "outputs": [
    {
     "data": {
      "text/plain": [
       "{(frozenset({'cabbage', 'farmer', 'goat'}), frozenset({'goat'})),\n",
       " (frozenset({'farmer', 'goat', 'wolf'}), frozenset({'goat'})),\n",
       " (frozenset({'cabbage', 'farmer', 'goat'}), frozenset({'cabbage'})),\n",
       " (frozenset({'cabbage', 'farmer', 'wolf'}), frozenset({'wolf'})),\n",
       " (frozenset({'cabbage', 'farmer', 'wolf'}), frozenset({'cabbage'})),\n",
       " (frozenset({'cabbage', 'farmer', 'wolf'}), frozenset({'cabbage', 'wolf'})),\n",
       " (frozenset({'farmer', 'goat'}), frozenset()),\n",
       " (frozenset({'farmer', 'goat'}), frozenset({'goat'})),\n",
       " (frozenset({'farmer', 'goat', 'wolf'}), frozenset({'wolf'})),\n",
       " (frozenset({'cabbage', 'farmer', 'goat', 'wolf'}),\n",
       "  frozenset({'cabbage', 'wolf'}))}"
      ]
     },
     "execution_count": 9,
     "metadata": {},
     "output_type": "execute_result"
    }
   ],
   "source": [
    "R1 = { (S, S - B) for S in States for B in power(S)\n",
    "                  if S - B in States and 'farmer' in B and len(B) <= 2\n",
    "     }\n",
    "R1"
   ]
  },
  {
   "cell_type": "markdown",
   "metadata": {},
   "source": [
    "<tt>R2</tt> is the inverse of <tt>R1</tt>."
   ]
  },
  {
   "cell_type": "code",
   "execution_count": 10,
   "metadata": {},
   "outputs": [],
   "source": [
    "R2 = { (S2, S1) for (S1, S2) in R1 }"
   ]
  },
  {
   "cell_type": "code",
   "execution_count": 11,
   "metadata": {},
   "outputs": [],
   "source": [
    "R = R1 | R2"
   ]
  },
  {
   "cell_type": "code",
   "execution_count": 12,
   "metadata": {},
   "outputs": [
    {
     "data": {
      "image/svg+xml": [
       "<?xml version=\"1.0\" encoding=\"UTF-8\" standalone=\"no\"?>\n",
       "<!DOCTYPE svg PUBLIC \"-//W3C//DTD SVG 1.1//EN\"\n",
       " \"http://www.w3.org/Graphics/SVG/1.1/DTD/svg11.dtd\">\n",
       "<!-- Generated by graphviz version 2.40.1 (20161225.0304)\n",
       " -->\n",
       "<!-- Title: %3 Pages: 1 -->\n",
       "<svg width=\"554pt\" height=\"548pt\"\n",
       " viewBox=\"0.00 0.00 553.78 548.00\" xmlns=\"http://www.w3.org/2000/svg\" xmlns:xlink=\"http://www.w3.org/1999/xlink\">\n",
       "<g id=\"graph0\" class=\"graph\" transform=\"scale(1 1) rotate(0) translate(4 544)\">\n",
       "<title>%3</title>\n",
       "<polygon fill=\"#ffffff\" stroke=\"transparent\" points=\"-4,4 -4,-544 549.782,-544 549.782,4 -4,4\"/>\n",
       "<!-- {&#39;goat&#39;, &#39;wolf&#39;, &#39;farmer&#39;} -->\n",
       "<g id=\"node1\" class=\"node\">\n",
       "<title>{&#39;goat&#39;, &#39;wolf&#39;, &#39;farmer&#39;}</title>\n",
       "<ellipse fill=\"none\" stroke=\"#000000\" cx=\"450.8904\" cy=\"-522\" rx=\"94.7833\" ry=\"18\"/>\n",
       "<text text-anchor=\"middle\" x=\"450.8904\" y=\"-518.3\" font-family=\"Times,serif\" font-size=\"14.00\" fill=\"#000000\">{&#39;goat&#39;, &#39;wolf&#39;, &#39;farmer&#39;}</text>\n",
       "</g>\n",
       "<!-- {&#39;wolf&#39;} -->\n",
       "<g id=\"node5\" class=\"node\">\n",
       "<title>{&#39;wolf&#39;}</title>\n",
       "<ellipse fill=\"none\" stroke=\"#000000\" cx=\"412.8904\" cy=\"-450\" rx=\"39.7935\" ry=\"18\"/>\n",
       "<text text-anchor=\"middle\" x=\"412.8904\" y=\"-446.3\" font-family=\"Times,serif\" font-size=\"14.00\" fill=\"#000000\">{&#39;wolf&#39;}</text>\n",
       "</g>\n",
       "<!-- {&#39;goat&#39;, &#39;wolf&#39;, &#39;farmer&#39;}&#45;&gt;{&#39;wolf&#39;} -->\n",
       "<g id=\"edge11\" class=\"edge\">\n",
       "<title>{&#39;goat&#39;, &#39;wolf&#39;, &#39;farmer&#39;}&#45;&gt;{&#39;wolf&#39;}</title>\n",
       "<path fill=\"none\" stroke=\"#000000\" d=\"M435.5814,-504.2022C430.5107,-496.1287 425.1546,-486.3976 420.7864,-477.422\"/>\n",
       "<polygon fill=\"#000000\" stroke=\"#000000\" points=\"423.8538,-475.715 416.4946,-468.0931 417.4945,-478.6407 423.8538,-475.715\"/>\n",
       "</g>\n",
       "<!-- {&#39;goat&#39;} -->\n",
       "<g id=\"node6\" class=\"node\">\n",
       "<title>{&#39;goat&#39;}</title>\n",
       "<ellipse fill=\"none\" stroke=\"#000000\" cx=\"321.8904\" cy=\"-162\" rx=\"38.1938\" ry=\"18\"/>\n",
       "<text text-anchor=\"middle\" x=\"321.8904\" y=\"-158.3\" font-family=\"Times,serif\" font-size=\"14.00\" fill=\"#000000\">{&#39;goat&#39;}</text>\n",
       "</g>\n",
       "<!-- {&#39;goat&#39;, &#39;wolf&#39;, &#39;farmer&#39;}&#45;&gt;{&#39;goat&#39;} -->\n",
       "<g id=\"edge3\" class=\"edge\">\n",
       "<title>{&#39;goat&#39;, &#39;wolf&#39;, &#39;farmer&#39;}&#45;&gt;{&#39;goat&#39;}</title>\n",
       "<path fill=\"none\" stroke=\"#000000\" d=\"M464.1529,-504.0041C486.2568,-478.5516 526.8904,-429.3839 526.8904,-378 526.8904,-378 526.8904,-378 526.8904,-306 526.8904,-264.1089 528.7929,-245.3378 498.8904,-216 479.8674,-197.3362 413.0911,-181.082 367.1277,-171.4089\"/>\n",
       "<polygon fill=\"#000000\" stroke=\"#000000\" points=\"367.5879,-167.93 357.0858,-169.329 366.168,-174.7846 367.5879,-167.93\"/>\n",
       "</g>\n",
       "<!-- {&#39;goat&#39;, &#39;cabbage&#39;, &#39;farmer&#39;} -->\n",
       "<g id=\"node2\" class=\"node\">\n",
       "<title>{&#39;goat&#39;, &#39;cabbage&#39;, &#39;farmer&#39;}</title>\n",
       "<ellipse fill=\"none\" stroke=\"#000000\" cx=\"107.8904\" cy=\"-234\" rx=\"107.781\" ry=\"18\"/>\n",
       "<text text-anchor=\"middle\" x=\"107.8904\" y=\"-230.3\" font-family=\"Times,serif\" font-size=\"14.00\" fill=\"#000000\">{&#39;goat&#39;, &#39;cabbage&#39;, &#39;farmer&#39;}</text>\n",
       "</g>\n",
       "<!-- {&#39;cabbage&#39;} -->\n",
       "<g id=\"node3\" class=\"node\">\n",
       "<title>{&#39;cabbage&#39;}</title>\n",
       "<ellipse fill=\"none\" stroke=\"#000000\" cx=\"162.8904\" cy=\"-306\" rx=\"52.7911\" ry=\"18\"/>\n",
       "<text text-anchor=\"middle\" x=\"162.8904\" y=\"-302.3\" font-family=\"Times,serif\" font-size=\"14.00\" fill=\"#000000\">{&#39;cabbage&#39;}</text>\n",
       "</g>\n",
       "<!-- {&#39;goat&#39;, &#39;cabbage&#39;, &#39;farmer&#39;}&#45;&gt;{&#39;cabbage&#39;} -->\n",
       "<g id=\"edge4\" class=\"edge\">\n",
       "<title>{&#39;goat&#39;, &#39;cabbage&#39;, &#39;farmer&#39;}&#45;&gt;{&#39;cabbage&#39;}</title>\n",
       "<path fill=\"none\" stroke=\"#000000\" d=\"M127.5016,-251.9134C134.6661,-260.2126 142.5339,-270.2444 149.1143,-279.403\"/>\n",
       "<polygon fill=\"#000000\" stroke=\"#000000\" points=\"146.3869,-281.6117 154.964,-287.8314 152.1375,-277.6205 146.3869,-281.6117\"/>\n",
       "</g>\n",
       "<!-- {&#39;goat&#39;, &#39;cabbage&#39;, &#39;farmer&#39;}&#45;&gt;{&#39;goat&#39;} -->\n",
       "<g id=\"edge1\" class=\"edge\">\n",
       "<title>{&#39;goat&#39;, &#39;cabbage&#39;, &#39;farmer&#39;}&#45;&gt;{&#39;goat&#39;}</title>\n",
       "<path fill=\"none\" stroke=\"#000000\" d=\"M151.2054,-217.4817C188.6133,-204.4095 242.2157,-186.4329 279.3905,-174.5277\"/>\n",
       "<polygon fill=\"#000000\" stroke=\"#000000\" points=\"280.4716,-177.8567 288.9397,-171.4894 278.3492,-171.1862 280.4716,-177.8567\"/>\n",
       "</g>\n",
       "<!-- {&#39;cabbage&#39;}&#45;&gt;{&#39;goat&#39;, &#39;cabbage&#39;, &#39;farmer&#39;} -->\n",
       "<g id=\"edge13\" class=\"edge\">\n",
       "<title>{&#39;cabbage&#39;}&#45;&gt;{&#39;goat&#39;, &#39;cabbage&#39;, &#39;farmer&#39;}</title>\n",
       "<path fill=\"none\" stroke=\"#000000\" d=\"M144.0163,-288.937C136.6483,-280.468 128.4527,-270.0444 121.6407,-260.561\"/>\n",
       "<polygon fill=\"#000000\" stroke=\"#000000\" points=\"124.4143,-258.4188 115.8372,-252.1992 118.6636,-262.41 124.4143,-258.4188\"/>\n",
       "</g>\n",
       "<!-- {&#39;cabbage&#39;, &#39;farmer&#39;, &#39;wolf&#39;} -->\n",
       "<g id=\"node4\" class=\"node\">\n",
       "<title>{&#39;cabbage&#39;, &#39;farmer&#39;, &#39;wolf&#39;}</title>\n",
       "<ellipse fill=\"none\" stroke=\"#000000\" cx=\"365.8904\" cy=\"-378\" rx=\"109.381\" ry=\"18\"/>\n",
       "<text text-anchor=\"middle\" x=\"365.8904\" y=\"-374.3\" font-family=\"Times,serif\" font-size=\"14.00\" fill=\"#000000\">{&#39;cabbage&#39;, &#39;farmer&#39;, &#39;wolf&#39;}</text>\n",
       "</g>\n",
       "<!-- {&#39;cabbage&#39;}&#45;&gt;{&#39;cabbage&#39;, &#39;farmer&#39;, &#39;wolf&#39;} -->\n",
       "<g id=\"edge15\" class=\"edge\">\n",
       "<title>{&#39;cabbage&#39;}&#45;&gt;{&#39;cabbage&#39;, &#39;farmer&#39;, &#39;wolf&#39;}</title>\n",
       "<path fill=\"none\" stroke=\"#000000\" d=\"M202.241,-318.1121C234.45,-328.9392 280.1011,-345.0202 315.054,-357.793\"/>\n",
       "<polygon fill=\"#000000\" stroke=\"#000000\" points=\"314.0151,-361.14 324.6087,-361.3008 316.4275,-354.5688 314.0151,-361.14\"/>\n",
       "</g>\n",
       "<!-- {&#39;cabbage&#39;, &#39;farmer&#39;, &#39;wolf&#39;}&#45;&gt;{&#39;cabbage&#39;} -->\n",
       "<g id=\"edge18\" class=\"edge\">\n",
       "<title>{&#39;cabbage&#39;, &#39;farmer&#39;, &#39;wolf&#39;}&#45;&gt;{&#39;cabbage&#39;}</title>\n",
       "<path fill=\"none\" stroke=\"#000000\" d=\"M315.1181,-362.0209C281.5121,-350.5696 238.0012,-335.1554 206.0587,-323.3945\"/>\n",
       "<polygon fill=\"#000000\" stroke=\"#000000\" points=\"207.1338,-320.0604 196.5407,-319.8703 204.7032,-326.6249 207.1338,-320.0604\"/>\n",
       "</g>\n",
       "<!-- {&#39;cabbage&#39;, &#39;farmer&#39;, &#39;wolf&#39;}&#45;&gt;{&#39;wolf&#39;} -->\n",
       "<g id=\"edge16\" class=\"edge\">\n",
       "<title>{&#39;cabbage&#39;, &#39;farmer&#39;, &#39;wolf&#39;}&#45;&gt;{&#39;wolf&#39;}</title>\n",
       "<path fill=\"none\" stroke=\"#000000\" d=\"M383.5112,-395.9134C389.6893,-404.1271 396.3675,-414.0377 401.8971,-423.1195\"/>\n",
       "<polygon fill=\"#000000\" stroke=\"#000000\" points=\"398.9186,-424.9597 406.9827,-431.8314 404.9639,-421.4306 398.9186,-424.9597\"/>\n",
       "</g>\n",
       "<!-- {&#39;cabbage&#39;, &#39;wolf&#39;} -->\n",
       "<g id=\"node8\" class=\"node\">\n",
       "<title>{&#39;cabbage&#39;, &#39;wolf&#39;}</title>\n",
       "<ellipse fill=\"none\" stroke=\"#000000\" cx=\"365.8904\" cy=\"-306\" rx=\"77.1866\" ry=\"18\"/>\n",
       "<text text-anchor=\"middle\" x=\"365.8904\" y=\"-302.3\" font-family=\"Times,serif\" font-size=\"14.00\" fill=\"#000000\">{&#39;cabbage&#39;, &#39;wolf&#39;}</text>\n",
       "</g>\n",
       "<!-- {&#39;cabbage&#39;, &#39;farmer&#39;, &#39;wolf&#39;}&#45;&gt;{&#39;cabbage&#39;, &#39;wolf&#39;} -->\n",
       "<g id=\"edge6\" class=\"edge\">\n",
       "<title>{&#39;cabbage&#39;, &#39;farmer&#39;, &#39;wolf&#39;}&#45;&gt;{&#39;cabbage&#39;, &#39;wolf&#39;}</title>\n",
       "<path fill=\"none\" stroke=\"#000000\" d=\"M359.938,-359.8314C359.1876,-352.131 358.9667,-342.9743 359.2753,-334.4166\"/>\n",
       "<polygon fill=\"#000000\" stroke=\"#000000\" points=\"362.7696,-334.6161 359.9144,-324.4133 355.7839,-334.1697 362.7696,-334.6161\"/>\n",
       "</g>\n",
       "<!-- {&#39;wolf&#39;}&#45;&gt;{&#39;goat&#39;, &#39;wolf&#39;, &#39;farmer&#39;} -->\n",
       "<g id=\"edge2\" class=\"edge\">\n",
       "<title>{&#39;wolf&#39;}&#45;&gt;{&#39;goat&#39;, &#39;wolf&#39;, &#39;farmer&#39;}</title>\n",
       "<path fill=\"none\" stroke=\"#000000\" d=\"M427.6491,-466.9263C432.8753,-475.1567 438.457,-485.2572 442.9812,-494.5508\"/>\n",
       "<polygon fill=\"#000000\" stroke=\"#000000\" points=\"439.8926,-496.2115 447.2538,-503.8314 446.2511,-493.2841 439.8926,-496.2115\"/>\n",
       "</g>\n",
       "<!-- {&#39;wolf&#39;}&#45;&gt;{&#39;cabbage&#39;, &#39;farmer&#39;, &#39;wolf&#39;} -->\n",
       "<g id=\"edge8\" class=\"edge\">\n",
       "<title>{&#39;wolf&#39;}&#45;&gt;{&#39;cabbage&#39;, &#39;farmer&#39;, &#39;wolf&#39;}</title>\n",
       "<path fill=\"none\" stroke=\"#000000\" d=\"M396.1888,-433.3008C389.7609,-424.8638 382.6917,-414.4189 376.8874,-404.8865\"/>\n",
       "<polygon fill=\"#000000\" stroke=\"#000000\" points=\"379.8358,-402.9947 371.7723,-396.1222 373.7901,-406.5231 379.8358,-402.9947\"/>\n",
       "</g>\n",
       "<!-- {&#39;goat&#39;}&#45;&gt;{&#39;goat&#39;, &#39;wolf&#39;, &#39;farmer&#39;} -->\n",
       "<g id=\"edge5\" class=\"edge\">\n",
       "<title>{&#39;goat&#39;}&#45;&gt;{&#39;goat&#39;, &#39;wolf&#39;, &#39;farmer&#39;}</title>\n",
       "<path fill=\"none\" stroke=\"#000000\" d=\"M358.5813,-167.3413C408.8507,-176.0172 494.8686,-194.394 516.8904,-216 546.7929,-245.3378 544.8904,-264.1089 544.8904,-306 544.8904,-378 544.8904,-378 544.8904,-378 544.8904,-425.2335 510.5559,-470.5943 483.2196,-497.3836\"/>\n",
       "<polygon fill=\"#000000\" stroke=\"#000000\" points=\"480.6126,-495.0308 475.7293,-504.4332 485.4101,-500.1283 480.6126,-495.0308\"/>\n",
       "</g>\n",
       "<!-- {&#39;goat&#39;}&#45;&gt;{&#39;goat&#39;, &#39;cabbage&#39;, &#39;farmer&#39;} -->\n",
       "<g id=\"edge19\" class=\"edge\">\n",
       "<title>{&#39;goat&#39;}&#45;&gt;{&#39;goat&#39;, &#39;cabbage&#39;, &#39;farmer&#39;}</title>\n",
       "<path fill=\"none\" stroke=\"#000000\" d=\"M292.4477,-173.6302C261.0358,-184.8062 210.5639,-201.8887 170.2905,-215.0336\"/>\n",
       "<polygon fill=\"#000000\" stroke=\"#000000\" points=\"168.9809,-211.779 160.553,-218.1993 171.1452,-218.436 168.9809,-211.779\"/>\n",
       "</g>\n",
       "<!-- {&#39;goat&#39;, &#39;farmer&#39;} -->\n",
       "<g id=\"node10\" class=\"node\">\n",
       "<title>{&#39;goat&#39;, &#39;farmer&#39;}</title>\n",
       "<ellipse fill=\"none\" stroke=\"#000000\" cx=\"321.8904\" cy=\"-90\" rx=\"70.3881\" ry=\"18\"/>\n",
       "<text text-anchor=\"middle\" x=\"321.8904\" y=\"-86.3\" font-family=\"Times,serif\" font-size=\"14.00\" fill=\"#000000\">{&#39;goat&#39;, &#39;farmer&#39;}</text>\n",
       "</g>\n",
       "<!-- {&#39;goat&#39;}&#45;&gt;{&#39;goat&#39;, &#39;farmer&#39;} -->\n",
       "<g id=\"edge9\" class=\"edge\">\n",
       "<title>{&#39;goat&#39;}&#45;&gt;{&#39;goat&#39;, &#39;farmer&#39;}</title>\n",
       "<path fill=\"none\" stroke=\"#000000\" d=\"M315.9747,-144.2022C315.1909,-136.3864 314.9594,-127.0171 315.2802,-118.2836\"/>\n",
       "<polygon fill=\"#000000\" stroke=\"#000000\" points=\"318.7865,-118.2999 315.9454,-108.0931 311.8013,-117.8439 318.7865,-118.2999\"/>\n",
       "</g>\n",
       "<!-- set() -->\n",
       "<g id=\"node7\" class=\"node\">\n",
       "<title>set()</title>\n",
       "<ellipse fill=\"none\" stroke=\"#000000\" cx=\"321.8904\" cy=\"-18\" rx=\"27\" ry=\"18\"/>\n",
       "<text text-anchor=\"middle\" x=\"321.8904\" y=\"-14.3\" font-family=\"Times,serif\" font-size=\"14.00\" fill=\"#000000\">set()</text>\n",
       "</g>\n",
       "<!-- set()&#45;&gt;{&#39;goat&#39;, &#39;farmer&#39;} -->\n",
       "<g id=\"edge7\" class=\"edge\">\n",
       "<title>set()&#45;&gt;{&#39;goat&#39;, &#39;farmer&#39;}</title>\n",
       "<path fill=\"none\" stroke=\"#000000\" d=\"M327.8177,-35.9134C328.5916,-43.6993 328.8195,-53.01 328.5015,-61.6941\"/>\n",
       "<polygon fill=\"#000000\" stroke=\"#000000\" points=\"324.9987,-61.6254 327.8428,-71.8314 331.9839,-62.0794 324.9987,-61.6254\"/>\n",
       "</g>\n",
       "<!-- {&#39;cabbage&#39;, &#39;wolf&#39;}&#45;&gt;{&#39;cabbage&#39;, &#39;farmer&#39;, &#39;wolf&#39;} -->\n",
       "<g id=\"edge17\" class=\"edge\">\n",
       "<title>{&#39;cabbage&#39;, &#39;wolf&#39;}&#45;&gt;{&#39;cabbage&#39;, &#39;farmer&#39;, &#39;wolf&#39;}</title>\n",
       "<path fill=\"none\" stroke=\"#000000\" d=\"M371.8664,-324.4133C372.5975,-332.0593 372.8107,-341.1084 372.5059,-349.5726\"/>\n",
       "<polygon fill=\"#000000\" stroke=\"#000000\" points=\"368.9952,-349.6264 371.8428,-359.8314 375.9806,-350.078 368.9952,-349.6264\"/>\n",
       "</g>\n",
       "<!-- {&#39;goat&#39;, &#39;cabbage&#39;, &#39;farmer&#39;, &#39;wolf&#39;} -->\n",
       "<g id=\"node9\" class=\"node\">\n",
       "<title>{&#39;goat&#39;, &#39;cabbage&#39;, &#39;farmer&#39;, &#39;wolf&#39;}</title>\n",
       "<ellipse fill=\"none\" stroke=\"#000000\" cx=\"365.8904\" cy=\"-234\" rx=\"132.6765\" ry=\"18\"/>\n",
       "<text text-anchor=\"middle\" x=\"365.8904\" y=\"-230.3\" font-family=\"Times,serif\" font-size=\"14.00\" fill=\"#000000\">{&#39;goat&#39;, &#39;cabbage&#39;, &#39;farmer&#39;, &#39;wolf&#39;}</text>\n",
       "</g>\n",
       "<!-- {&#39;cabbage&#39;, &#39;wolf&#39;}&#45;&gt;{&#39;goat&#39;, &#39;cabbage&#39;, &#39;farmer&#39;, &#39;wolf&#39;} -->\n",
       "<g id=\"edge14\" class=\"edge\">\n",
       "<title>{&#39;cabbage&#39;, &#39;wolf&#39;}&#45;&gt;{&#39;goat&#39;, &#39;cabbage&#39;, &#39;farmer&#39;, &#39;wolf&#39;}</title>\n",
       "<path fill=\"none\" stroke=\"#000000\" d=\"M359.938,-287.8314C359.1876,-280.131 358.9667,-270.9743 359.2753,-262.4166\"/>\n",
       "<polygon fill=\"#000000\" stroke=\"#000000\" points=\"362.7696,-262.6161 359.9144,-252.4133 355.7839,-262.1697 362.7696,-262.6161\"/>\n",
       "</g>\n",
       "<!-- {&#39;goat&#39;, &#39;cabbage&#39;, &#39;farmer&#39;, &#39;wolf&#39;}&#45;&gt;{&#39;cabbage&#39;, &#39;wolf&#39;} -->\n",
       "<g id=\"edge10\" class=\"edge\">\n",
       "<title>{&#39;goat&#39;, &#39;cabbage&#39;, &#39;farmer&#39;, &#39;wolf&#39;}&#45;&gt;{&#39;cabbage&#39;, &#39;wolf&#39;}</title>\n",
       "<path fill=\"none\" stroke=\"#000000\" d=\"M371.8664,-252.4133C372.5975,-260.0593 372.8107,-269.1084 372.5059,-277.5726\"/>\n",
       "<polygon fill=\"#000000\" stroke=\"#000000\" points=\"368.9952,-277.6264 371.8428,-287.8314 375.9806,-278.078 368.9952,-277.6264\"/>\n",
       "</g>\n",
       "<!-- {&#39;goat&#39;, &#39;farmer&#39;}&#45;&gt;{&#39;goat&#39;} -->\n",
       "<g id=\"edge12\" class=\"edge\">\n",
       "<title>{&#39;goat&#39;, &#39;farmer&#39;}&#45;&gt;{&#39;goat&#39;}</title>\n",
       "<path fill=\"none\" stroke=\"#000000\" d=\"M327.8354,-108.0931C328.6054,-115.9477 328.823,-125.3282 328.4883,-134.0453\"/>\n",
       "<polygon fill=\"#000000\" stroke=\"#000000\" points=\"324.9842,-133.9901 327.8062,-144.2022 331.9685,-134.4593 324.9842,-133.9901\"/>\n",
       "</g>\n",
       "<!-- {&#39;goat&#39;, &#39;farmer&#39;}&#45;&gt;set() -->\n",
       "<g id=\"edge20\" class=\"edge\">\n",
       "<title>{&#39;goat&#39;, &#39;farmer&#39;}&#45;&gt;set()</title>\n",
       "<path fill=\"none\" stroke=\"#000000\" d=\"M315.938,-71.8314C315.1761,-64.0125 314.96,-54.6923 315.29,-46.0221\"/>\n",
       "<polygon fill=\"#000000\" stroke=\"#000000\" points=\"318.7908,-46.1239 315.9632,-35.9134 311.8063,-45.6587 318.7908,-46.1239\"/>\n",
       "</g>\n",
       "</g>\n",
       "</svg>\n"
      ],
      "text/plain": [
       "<graphviz.dot.Digraph at 0x10e946780>"
      ]
     },
     "execution_count": 12,
     "metadata": {},
     "output_type": "execute_result"
    }
   ],
   "source": [
    "dot = dot_graph(R)\n",
    "dot"
   ]
  },
  {
   "cell_type": "code",
   "execution_count": 13,
   "metadata": {},
   "outputs": [
    {
     "data": {
      "text/plain": [
       "'wolf-goat-cabbage.pdf'"
      ]
     },
     "execution_count": 13,
     "metadata": {},
     "output_type": "execute_result"
    }
   ],
   "source": [
    "dot.render('wolf-goat-cabbage')"
   ]
  },
  {
   "cell_type": "markdown",
   "metadata": {},
   "source": [
    "At the beginning everything is on the left shore and nothing is on the right shore.   The goal is to have everybody on the right shore.  In that case, the left shore will be empty."
   ]
  },
  {
   "cell_type": "code",
   "execution_count": 14,
   "metadata": {},
   "outputs": [
    {
     "data": {
      "text/plain": [
       "(frozenset({'cabbage', 'farmer', 'goat', 'wolf'}),\n",
       " frozenset({'cabbage', 'wolf'}),\n",
       " frozenset({'cabbage', 'farmer', 'wolf'}),\n",
       " frozenset({'cabbage'}),\n",
       " frozenset({'cabbage', 'farmer', 'goat'}),\n",
       " frozenset({'goat'}),\n",
       " frozenset({'farmer', 'goat'}),\n",
       " frozenset())"
      ]
     },
     "execution_count": 14,
     "metadata": {},
     "output_type": "execute_result"
    }
   ],
   "source": [
    "start = All\n",
    "goal  = frozenset()\n",
    "Path  = findPath(start, goal, R)\n",
    "Path"
   ]
  },
  {
   "cell_type": "markdown",
   "metadata": {},
   "source": [
    "## Auxiliary Code for Pretty Printing"
   ]
  },
  {
   "cell_type": "markdown",
   "metadata": {},
   "source": [
    "The following code is used for printing the path that has been found.  We won't discuss the details of these functions."
   ]
  },
  {
   "cell_type": "code",
   "execution_count": 15,
   "metadata": {},
   "outputs": [
    {
     "name": "stdout",
     "output_type": "stream",
     "text": [
      "{'goat', 'wolf', 'farmer', 'cabbage'}                                   {}\n",
      "                         >>>>  {'goat', 'farmer'}  >>>> \n",
      "{'cabbage', 'wolf'}                                     {'goat', 'farmer'}\n",
      "                         <<<<  {'farmer'}  <<<< \n",
      "{'cabbage', 'farmer', 'wolf'}                                     {'goat'}\n",
      "                         >>>>  {'wolf', 'farmer'}  >>>> \n",
      "{'cabbage'}                                     {'goat', 'wolf', 'farmer'}\n",
      "                         <<<<  {'goat', 'farmer'}  <<<< \n",
      "{'goat', 'cabbage', 'farmer'}                                     {'wolf'}\n",
      "                         >>>>  {'cabbage', 'farmer'}  >>>> \n",
      "{'goat'}                                     {'wolf', 'farmer', 'cabbage'}\n",
      "                         <<<<  {'farmer'}  <<<< \n",
      "{'goat', 'farmer'}                                     {'wolf', 'cabbage'}\n",
      "                         >>>>  {'goat', 'farmer'}  >>>> \n",
      "{}                                   {'goat', 'wolf', 'farmer', 'cabbage'}\n"
     ]
    }
   ],
   "source": [
    "def mkPair(S, All):\n",
    "    \"Given the left shore, compute both the left shore and the right shore.\"\n",
    "    return (S, All - S);\n",
    "\n",
    "def my_str(s):\n",
    "    \"Print frozen sets as sets.\"\n",
    "    if len(s) == 0:\n",
    "        return \"{}\"\n",
    "    else:\n",
    "        return str(set(s))\n",
    "    \n",
    "def printPath(Path, All):\n",
    "    \"print the path one transition at a time\"\n",
    "    for i in range(len(Path)):\n",
    "        (S1, S2) = mkPair(Path[i], All)\n",
    "        if (len(S1) == 0 or len(S2) == 0):\n",
    "            print(my_str(S1), 33 * \" \", my_str(S2))\n",
    "        else:\n",
    "            print(my_str(S1), 35 * \" \", my_str(S2))\n",
    "        if i + 1 == len(Path): \n",
    "            break\n",
    "        (T1, T2) = mkPair(Path[i+1], All)        \n",
    "        if \"farmer\" in S1:\n",
    "            B = S1 - T1  # the boat crossing from left to right\n",
    "            print(\"                         >>>> \", set(B), \" >>>> \")\n",
    "        else:\n",
    "            B = S2 - T2  # the boat crossing from right to left\n",
    "            print(\"                         <<<< \", set(B), \" <<<< \")\n",
    "printPath(Path, All)"
   ]
  },
  {
   "cell_type": "code",
   "execution_count": null,
   "metadata": {},
   "outputs": [],
   "source": []
  }
 ],
 "metadata": {
  "kernelspec": {
   "display_name": "Python 3",
   "language": "python",
   "name": "python3"
  },
  "language_info": {
   "codemirror_mode": {
    "name": "ipython",
    "version": 3
   },
   "file_extension": ".py",
   "mimetype": "text/x-python",
   "name": "python",
   "nbconvert_exporter": "python",
   "pygments_lexer": "ipython3",
   "version": "3.6.8"
  }
 },
 "nbformat": 4,
 "nbformat_minor": 2
}
