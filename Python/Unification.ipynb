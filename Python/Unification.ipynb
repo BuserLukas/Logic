{
 "cells": [
  {
   "cell_type": "code",
   "execution_count": 1,
   "metadata": {},
   "outputs": [
    {
     "data": {
      "application/javascript": [
       "IPython.notebook.set_autosave_interval(0)"
      ]
     },
     "metadata": {},
     "output_type": "display_data"
    },
    {
     "name": "stdout",
     "output_type": "stream",
     "text": [
      "Autosave disabled\n"
     ]
    },
    {
     "data": {
      "text/html": [
       "<style>.container { width:100% !important; }</style>"
      ],
      "text/plain": [
       "<IPython.core.display.HTML object>"
      ]
     },
     "metadata": {},
     "output_type": "display_data"
    }
   ],
   "source": [
    "%autosave 0\n",
    "from IPython.core.display import display, HTML\n",
    "display(HTML(\"<style>.container { width:100% !important; }</style>\"))"
   ]
  },
  {
   "cell_type": "markdown",
   "metadata": {},
   "source": [
    "# <a href=\"https://en.wikipedia.org/wiki/Unification_(computer_science)\">Unification</a>"
   ]
  },
  {
   "cell_type": "markdown",
   "metadata": {},
   "source": [
    "This notebook implements the algorithm of Martelli and Montanari for the unification of terms."
   ]
  },
  {
   "cell_type": "markdown",
   "metadata": {},
   "source": [
    "## Utility Functions"
   ]
  },
  {
   "cell_type": "code",
   "execution_count": 2,
   "metadata": {},
   "outputs": [],
   "source": [
    "import folParser as fp"
   ]
  },
  {
   "cell_type": "code",
   "execution_count": 3,
   "metadata": {},
   "outputs": [],
   "source": [
    "def parseTerm(s):\n",
    "    parser = fp.LogicParser(s)\n",
    "    return parser.parse()"
   ]
  },
  {
   "cell_type": "markdown",
   "metadata": {},
   "source": [
    "The method $\\texttt{apply}(t, \\sigma)$ takes an object $t$ and a substitution $\\sigma$ and computes the $t\\sigma$, i.e. it <em style=\"color:blue;\">applies</em> the substitution $\\sigma$ to $t$.  The object $t$ is either a term or a set of terms.  The substitution $\\sigma$ is represented as a dictionary.  Assume that $\\sigma = \\bigl[ x_1 \\mapsto t_1, \\cdots, x_n \\mapsto t_n \\bigr]$.  Then $t\\sigma$ is defined by induction on $t$:\n",
    "<ol>\n",
    "<li>If $t$ is a variable, there are two cases when defining $t\\sigma$:</li>\n",
    "  <ol>\n",
    "  <li>$t = x_i$ for an $i\\in\\{1,\\cdots,n\\}$.  Then we define  \n",
    "      $$ x_i\\sigma := t_i. $$\n",
    "      </li>\n",
    "  <li>$t = y$ where $y\\in\\mathcal{V}$, but $y \\not\\in \\{x_1,\\cdots,x_n\\}$. Then we define   \n",
    "      $$ y\\sigma := y.$$</li>\n",
    "  </ol>\n",
    "<li>Otherwise we must have $t = f(s_1,\\cdots,s_m)$. Then we define: \n",
    "      $$f(s_1, \\cdots, s_m)\\sigma := f(s_1\\sigma, \\cdots, s_m\\sigma). $$\n",
    "      </li>\n",
    "</ol>"
   ]
  },
  {
   "cell_type": "code",
   "execution_count": 4,
   "metadata": {},
   "outputs": [],
   "source": [
    "def apply(t, σ):\n",
    "    \"Apply the substitution σ to the term t.\"\n",
    "    if isinstance(t, frozenset):                     # t is a clause\n",
    "        return frozenset({ apply(c, σ) for c in t })\n",
    "    if isinstance(t, set):                           # t is a set of equations\n",
    "        return { apply(c, σ) for c in t }\n",
    "    if isinstance(t, str):                           # t is a variable\n",
    "        if t in σ:\n",
    "            return σ[t]\n",
    "        else:\n",
    "            return t\n",
    "    else: # t must be a term, literal, or equation\n",
    "        f  = t[0]\n",
    "        ts = t[1:]\n",
    "        return (f,) + tuple(apply(s, σ) for s in ts)"
   ]
  },
  {
   "cell_type": "code",
   "execution_count": 5,
   "metadata": {},
   "outputs": [
    {
     "data": {
      "text/plain": [
       "{'x': ('G', 'z'), 'y': ('H', 'u', 'v')}"
      ]
     },
     "execution_count": 5,
     "metadata": {},
     "output_type": "execute_result"
    }
   ],
   "source": [
    "s1 = parseTerm('G(z)')\n",
    "s2 = parseTerm('H(u, v)')\n",
    "σ = { 'x': s1, 'y': s2 }\n",
    "σ"
   ]
  },
  {
   "cell_type": "code",
   "execution_count": 6,
   "metadata": {},
   "outputs": [
    {
     "data": {
      "text/plain": [
       "('F', 'x', ('H', 'y', 'x'), ('G', 'z'))"
      ]
     },
     "execution_count": 6,
     "metadata": {},
     "output_type": "execute_result"
    }
   ],
   "source": [
    "t = parseTerm('F(x,H(y,x),G(z))')\n",
    "t"
   ]
  },
  {
   "cell_type": "code",
   "execution_count": 7,
   "metadata": {},
   "outputs": [
    {
     "data": {
      "text/plain": [
       "('F', ('G', 'z'), ('H', ('H', 'u', 'v'), ('G', 'z')), ('G', 'z'))"
      ]
     },
     "execution_count": 7,
     "metadata": {},
     "output_type": "execute_result"
    }
   ],
   "source": [
    "apply(t, σ)"
   ]
  },
  {
   "cell_type": "markdown",
   "metadata": {},
   "source": [
    "If  $\\sigma = \\big[ x_1 \\mapsto s_1, \\cdots, x_m \\mapsto s_m \\big]$ and\n",
    "$\\tau = \\big[ y_1 \\mapsto t_1, \\cdots, y_n \\mapsto t_n \\big]$ \n",
    "are two substitutions that are <em style=\"color:blue;\">non-overlapping</em>, i.e. such that $\\texttt{dom}(\\sigma) \\cap \\texttt{dom}(\\tau) = \\{\\}$ holds,\n",
    "then we define the <em style=\"color:blue;\">composition</em> $\\sigma\\tau$ of $\\sigma$ and $\\tau$ as follows:\n",
    "$$\\sigma\\tau := \\big[ x_1 \\mapsto s_1\\tau, \\cdots, x_m \\mapsto s_m\\tau,\\; y_1 \\mapsto t_1, \\cdots, y_n \\mapsto t_n \\big]$$\n",
    "The function $\\texttt{compose}(\\sigma, \\tau)$ takes two non-overlapping substitutions and computes the composition $\\sigma\\tau$."
   ]
  },
  {
   "cell_type": "code",
   "execution_count": 8,
   "metadata": {},
   "outputs": [],
   "source": [
    "def compose(σ, τ):\n",
    "    Result = { x: apply(s, τ) for (x, s) in σ.items() }\n",
    "    Result.update(τ)\n",
    "    return Result"
   ]
  },
  {
   "cell_type": "code",
   "execution_count": 9,
   "metadata": {},
   "outputs": [],
   "source": [
    "τ = { 'z': s1, 'u': s2 }"
   ]
  },
  {
   "cell_type": "code",
   "execution_count": 10,
   "metadata": {},
   "outputs": [
    {
     "data": {
      "text/plain": [
       "{'u': ('H', 'u', 'v'),\n",
       " 'x': ('G', ('G', 'z')),\n",
       " 'y': ('H', ('H', 'u', 'v'), 'v'),\n",
       " 'z': ('G', 'z')}"
      ]
     },
     "execution_count": 10,
     "metadata": {},
     "output_type": "execute_result"
    }
   ],
   "source": [
    "compose(σ, τ)"
   ]
  },
  {
   "cell_type": "markdown",
   "metadata": {},
   "source": [
    "The function $\\texttt{occurs}(x, t)$ checks whether the variable $x$ occurs in the term $t$."
   ]
  },
  {
   "cell_type": "code",
   "execution_count": 11,
   "metadata": {},
   "outputs": [],
   "source": [
    "def occurs(x, t):\n",
    "    if x == t:\n",
    "        return True\n",
    "    if isinstance(t, str): # t must be a variable different from x\n",
    "        return False\n",
    "    return any(occurs(x, arg) for arg in t[1:])"
   ]
  },
  {
   "cell_type": "code",
   "execution_count": 12,
   "metadata": {},
   "outputs": [
    {
     "data": {
      "text/plain": [
       "('F', 'x', ('H', 'y', 'x'), ('G', 'z'))"
      ]
     },
     "execution_count": 12,
     "metadata": {},
     "output_type": "execute_result"
    }
   ],
   "source": [
    "t"
   ]
  },
  {
   "cell_type": "code",
   "execution_count": 13,
   "metadata": {},
   "outputs": [
    {
     "data": {
      "text/plain": [
       "False"
      ]
     },
     "execution_count": 13,
     "metadata": {},
     "output_type": "execute_result"
    }
   ],
   "source": [
    "occurs('u', t)"
   ]
  },
  {
   "cell_type": "code",
   "execution_count": 14,
   "metadata": {},
   "outputs": [
    {
     "data": {
      "text/plain": [
       "True"
      ]
     },
     "execution_count": 14,
     "metadata": {},
     "output_type": "execute_result"
    }
   ],
   "source": [
    "occurs('x', t)"
   ]
  },
  {
   "cell_type": "markdown",
   "metadata": {},
   "source": [
    "## The Algorithm of Martelli and Montanari"
   ]
  },
  {
   "cell_type": "markdown",
   "metadata": {},
   "source": [
    "The rules of Martelli and Montanari that can be used to solve a system of syntactical equations are as follows:\n",
    "<ol>\n",
    "<li> If $y\\in\\mathcal{V}$ is a variable that does <b style=\"color:red;\">not</b> occur in the term $t$,\n",
    "     then we perform the following reduction: \n",
    "     $$ \\Big\\langle E \\cup \\big\\{ y \\doteq t \\big\\}, \\sigma \\Big\\rangle \\quad\\leadsto \\quad \n",
    "         \\Big\\langle E[y \\mapsto t], \\sigma\\big[ y \\mapsto t \\big] \\Big\\rangle \n",
    "     $$\n",
    "</li>      \n",
    "<li> If the variable $y$ occurs in the term $t$, then the system of syntactical equations\n",
    "     $E \\cup \\big\\{ y \\doteq t \\big\\}$ is not solvable:\n",
    "\n",
    "     $$ \\Big\\langle E \\cup \\big\\{ y \\doteq t \\big\\}, \\sigma \\Big\\rangle\\;\\leadsto\\; \\texttt{None} \\quad\n",
    "        \\mbox{if $x \\in \\textrm{Var}(t)$ and $y \\not=t$.}$$\n",
    "</li>\n",
    "<li> If $y\\in\\mathcal{V}$ is a variable and $t$ is no variable, then we use the following rule:\n",
    "     $$ \\Big\\langle E \\cup \\big\\{ t \\doteq y \\big\\}, \\sigma \\Big\\rangle \\quad\\leadsto \\quad \n",
    "         \\Big\\langle E \\cup \\big\\{ y \\doteq t \\big\\}, \\sigma \\Big\\rangle.\n",
    "     $$   \n",
    "</li>\n",
    "<li> Trivial syntactical equations of variables can be dropped:\n",
    "     $$ \\Big\\langle E \\cup \\big\\{ x \\doteq x \\big\\}, \\sigma \\Big\\rangle \\quad\\leadsto \\quad\n",
    "         \\Big\\langle E, \\sigma \\Big\\rangle.\n",
    "     $$   \n",
    "</li>\n",
    "<li> If $f$ is an $n$-ary function symbol, then we have: \n",
    "     $$ \\Big\\langle E \\cup \\big\\{ f(s_1,\\cdots,s_n) \\doteq f(t_1,\\cdots,t_n) \\big\\}, \\sigma \\Big\\rangle \n",
    "         \\;\\leadsto\\; \n",
    "         \\Big\\langle E \\cup \\big\\{ s_1 \\doteq t_1, \\cdots, s_n \\doteq t_n\\}, \\sigma \\Big\\rangle.\n",
    "     $$   \n",
    "</li>\n",
    "<li> The system of syntactical equations $E \\cup \\big\\{ f(s_1,\\cdots,s_m) \\doteq g(t_1,\\cdots,t_n) \\big\\}$\n",
    "     has <b style=\"color:red;\">no</b> solution if the function symbols $f$ and $g$ are different:\n",
    "     $$ \\Big\\langle E \\cup \\big\\{ f(s_1,\\cdots,s_m) \\doteq g(t_1,\\cdots,t_n) \\big\\},\n",
    "      \\sigma \\Big\\rangle \\;\\leadsto\\; \\texttt{None} \\qquad \\mbox{if $f \\not= g$}.\n",
    "     $$\n",
    "</ol>\n"
   ]
  },
  {
   "cell_type": "markdown",
   "metadata": {},
   "source": [
    "Given two terms $s$ and $t$, the function $\\texttt{unify}(s, t)$ computes the <em style=\"color:blue;\">most general unifier</em> of $s$ and $t$."
   ]
  },
  {
   "cell_type": "code",
   "execution_count": 18,
   "metadata": {},
   "outputs": [],
   "source": [
    "def unify(s, t):\n",
    "    return solve({('≐', s, t)}, {})"
   ]
  },
  {
   "cell_type": "markdown",
   "metadata": {},
   "source": [
    "Given a set of <em style=\"color:blue;\">syntactical equations</em> $E$ and a substitution $\\sigma$, the function $\\texttt{solve}(E, \\sigma)$ uses the rules of Martelli and Montanari to solve $E$."
   ]
  },
  {
   "cell_type": "code",
   "execution_count": 19,
   "metadata": {},
   "outputs": [],
   "source": [
    "def solve(E, σ):\n",
    "    while E != set():\n",
    "        print(E, σ)\n",
    "        _, s, t = E.pop()\n",
    "        if s == t:\n",
    "            continue\n",
    "        if isinstance(s, str): # s is a variable\n",
    "            if occurs(s, t):\n",
    "                return None\n",
    "            else:\n",
    "                apply(E, { s: t })\n",
    "                σ = compose(σ, { s: t })\n",
    "        elif isinstance(t, str): # t is a variable, but s is not\n",
    "            E.add(('≐', t, s))\n",
    "        else:\n",
    "            f    , g     = s[0]      , t[0]\n",
    "            sArgs, tArgs = s[1:]     , t[1:]\n",
    "            m    , n     = len(sArgs), len(tArgs)\n",
    "            if f != g or m != n:\n",
    "                return None\n",
    "            else:\n",
    "                E |= { ('≐', sArgs[i], tArgs[i]) for i in range(m) }\n",
    "    return σ"
   ]
  },
  {
   "cell_type": "code",
   "execution_count": 20,
   "metadata": {},
   "outputs": [
    {
     "name": "stdout",
     "output_type": "stream",
     "text": [
      "{('≐', ('P', 'x1', ('F', 'x4')), ('P', 'x2', 'x3'))} {}\n",
      "{('≐', ('F', 'x4'), 'x3'), ('≐', 'x1', 'x2')} {}\n",
      "{('≐', ('F', 'x4'), 'x3')} {'x1': 'x2'}\n",
      "{('≐', 'x3', ('F', 'x4'))} {'x1': 'x2'}\n"
     ]
    },
    {
     "data": {
      "text/plain": [
       "{'x1': 'x2', 'x3': ('F', 'x4')}"
      ]
     },
     "execution_count": 20,
     "metadata": {},
     "output_type": "execute_result"
    }
   ],
   "source": [
    "t1 = parseTerm('P(x1,F(x4))')\n",
    "t2 = parseTerm('P(x2,x3)')\n",
    "μ = unify(t1, t2)\n",
    "μ"
   ]
  },
  {
   "cell_type": "code",
   "execution_count": null,
   "metadata": {},
   "outputs": [],
   "source": []
  }
 ],
 "metadata": {
  "kernelspec": {
   "display_name": "Python 3",
   "language": "python",
   "name": "python3"
  },
  "language_info": {
   "codemirror_mode": {
    "name": "ipython",
    "version": 3
   },
   "file_extension": ".py",
   "mimetype": "text/x-python",
   "name": "python",
   "nbconvert_exporter": "python",
   "pygments_lexer": "ipython3",
   "version": "3.6.3"
  }
 },
 "nbformat": 4,
 "nbformat_minor": 2
}
