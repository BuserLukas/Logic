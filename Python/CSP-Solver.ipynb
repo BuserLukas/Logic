{
 "cells": [
  {
   "cell_type": "code",
   "execution_count": 1,
   "metadata": {},
   "outputs": [
    {
     "data": {
      "text/html": [
       "<style>\n",
       "        .container { width:100% !important; }\n",
       "        </style>\n",
       "     "
      ],
      "text/plain": [
       "<IPython.core.display.HTML object>"
      ]
     },
     "execution_count": 1,
     "metadata": {},
     "output_type": "execute_result"
    }
   ],
   "source": [
    "from IPython.core.display import HTML\n",
    "HTML('''<style>\n",
    "        .container { width:100% !important; }\n",
    "        </style>\n",
    "     ''')"
   ]
  },
  {
   "cell_type": "markdown",
   "metadata": {},
   "source": [
    "# A Backtracking CSP-Solver"
   ]
  },
  {
   "cell_type": "markdown",
   "metadata": {},
   "source": [
    "The module `extractVariables` implements the function $\\texttt{extractVars}(e)$ that takes a *Python* expression $e$ as its argument and that returns the set of all variables occurring in $e$."
   ]
  },
  {
   "cell_type": "code",
   "execution_count": 2,
   "metadata": {},
   "outputs": [],
   "source": [
    "import extractVariables as ev"
   ]
  },
  {
   "cell_type": "code",
   "execution_count": 3,
   "metadata": {},
   "outputs": [
    {
     "data": {
      "text/plain": [
       "{'x', 'y', 'z'}"
      ]
     },
     "execution_count": 3,
     "metadata": {},
     "output_type": "execute_result"
    }
   ],
   "source": [
    "ev.extractVars('1.0 * x + y*z**2')"
   ]
  },
  {
   "cell_type": "code",
   "execution_count": 4,
   "metadata": {},
   "outputs": [],
   "source": [
    "def arb(M):\n",
    "    \"Return some element from the set M.\"\n",
    "    for x in M:\n",
    "        return x"
   ]
  },
  {
   "cell_type": "markdown",
   "metadata": {},
   "source": [
    "Backtracking is simulated by raising the `Backtrack` exception.  We define this new class of exceptions so that we can distinguish `Backtrack` exceptions from ordinary exceptions.  This is done by creating a new, empty class that is derived from the class `Exception`.  The details of defining new classes are deferred to the lecture on *algorithms* in the second semester."
   ]
  },
  {
   "cell_type": "code",
   "execution_count": 5,
   "metadata": {},
   "outputs": [],
   "source": [
    "class Backtrack(Exception):\n",
    "    pass"
   ]
  },
  {
   "cell_type": "markdown",
   "metadata": {},
   "source": [
    "The function $\\texttt{solve}(\\texttt{CSP})$ tries to compute a solution for the *constraint satisfaction problem* $\\texttt{CSP}$.  A *constraint satisfaction problem* is defined as a triple of the form\n",
    "$$ \\langle\\texttt{Variables}, \\texttt{Values}, \\texttt{Constraints}\\rangle $$\n",
    "where\n",
    "<ol>\n",
    "    <li>$\\texttt{Variables}$ is a list of the variables occurring in the CSP,</li>\n",
    "    <li>$\\texttt{Values}$ is the set of values that can be substitued for the variables, and</li>\n",
    "    <li>$\\texttt{Constraints}$ is the set of formulas that need to be satisfied.</li>\n",
    "</ol>"
   ]
  },
  {
   "cell_type": "code",
   "execution_count": 6,
   "metadata": {},
   "outputs": [],
   "source": [
    "def solve(CSP):\n",
    "    \"Compute a solution for the given constraint satisfaction problem.\"\n",
    "    Variables, Values, Constraints = CSP\n",
    "    CSP = (Variables, Values, [(f, ev.extractVars(f) & set(Variables)) for f in Constraints])\n",
    "    try:\n",
    "        return backtrack_search({}, CSP)\n",
    "    except Backtrack:\n",
    "        return  # no solution found"
   ]
  },
  {
   "cell_type": "code",
   "execution_count": null,
   "metadata": {},
   "outputs": [],
   "source": [
    "def backtrack_search(Assignment, CSP):\n",
    "    \"\"\"\n",
    "    Given a partial variable assignment, this function tries to complete this assignment\n",
    "    towards a solution of the CSP.\n",
    "    \"\"\"\n",
    "    print(Assignment)\n",
    "    (Variables, Values, Constraints) = CSP\n",
    "    if len(Assignment) == len(Variables):\n",
    "        return Assignment\n",
    "    var = [x for x in Variables if x not in Assignment][0] # pick a variable\n",
    "    for value in Values:\n",
    "        try:\n",
    "            if isConsistent(var, value, Assignment, Constraints):\n",
    "                NewAssign      = Assignment.copy()\n",
    "                NewAssign[var] = value\n",
    "                return backtrack_search(NewAssign, CSP)\n",
    "        except Backtrack:\n",
    "            continue\n",
    "    # all values have been tried without success, no solution has been found\n",
    "    raise Backtrack()"
   ]
  },
  {
   "cell_type": "markdown",
   "metadata": {},
   "source": [
    "The function $\\texttt{isConsistent}(\\texttt{var}, \\texttt{value}, \\texttt{Assignment}, \\texttt{CSP})$ takes for arguments:\n",
    "<ol>\n",
    "    <li>$\\texttt{var}$ is a variable that does not occur in $\\texttt{Assignment}$,</li>\n",
    "    <li>$\\texttt{value}$ is a value that can be substituted for this variable,</li>\n",
    "    <li>$\\texttt{Assignment}$ is a partial variable assignment, and </li>\n",
    "    <li>$\\texttt{CSP}$ is a constraint satisfaction problem.</li>\n",
    "</ol>\n",
    "This function returns <tt>True</tt> iff the partial variable assignment \n",
    "$$\\texttt{Assignment} \\cup \\{\\langle\\texttt{var} \\mapsto\\texttt{value}\\rangle\\}$$\n",
    "is consistent with all the constraints occurring in $\\texttt{CSP}$."
   ]
  },
  {
   "cell_type": "code",
   "execution_count": null,
   "metadata": {},
   "outputs": [],
   "source": [
    "def isConsistent(var, value, Assignment, Constraints):\n",
    "    NewAssign      = Assignment.copy()\n",
    "    NewAssign[var] = value\n",
    "    return all(eval(f, NewAssign) for (f, Vs) in Constraints\n",
    "                                  if var in Vs and Vs <= NewAssign.keys()\n",
    "              )"
   ]
  },
  {
   "cell_type": "markdown",
   "metadata": {},
   "source": [
    "The function $\\texttt{queensCSP}$ returns a CSP that codes the 8-Queens-Problem."
   ]
  },
  {
   "cell_type": "markdown",
   "metadata": {},
   "source": [
    "## The 8-Queens-Problem"
   ]
  },
  {
   "cell_type": "markdown",
   "metadata": {},
   "source": [
    "The function $\\texttt{queensCSP}$ returns a CSP that codes the 8-Queens-Problem.  For $i\\in\\{1,\\cdots,8\\}$, the variable $\\texttt{Q}i$ specifies the column of the queen that is placed in row $i$."
   ]
  },
  {
   "cell_type": "code",
   "execution_count": null,
   "metadata": {},
   "outputs": [],
   "source": [
    "def queensCSP():\n",
    "    \"Returns a CSP coding the 8 queens problem.\"\n",
    "    S            = range(1, 8+1)          # used as indices\n",
    "    Variables    = [ f'Q{i}' for i in S ]\n",
    "    Values       = { 1, 2, 3, 4, 5, 6, 7, 8 }\n",
    "    SameColumn   = { f'Q{i} != Q{j}' for i in S for j in S if i < j }\n",
    "    SameDiagonal = { f'abs(Q{i}-Q{j})!={j-i}' for i in S for j in S if i < j }\n",
    "    return (Variables, Values, SameColumn | SameDiagonal | {'Q1 != 1'})"
   ]
  },
  {
   "cell_type": "code",
   "execution_count": null,
   "metadata": {},
   "outputs": [],
   "source": [
    "queensProblem = queensCSP()"
   ]
  },
  {
   "cell_type": "code",
   "execution_count": null,
   "metadata": {},
   "outputs": [],
   "source": [
    "queensProblem"
   ]
  },
  {
   "cell_type": "code",
   "execution_count": null,
   "metadata": {},
   "outputs": [],
   "source": [
    "%time Solution = solve(queensProblem)"
   ]
  },
  {
   "cell_type": "code",
   "execution_count": null,
   "metadata": {},
   "outputs": [],
   "source": [
    "print(Solution)"
   ]
  },
  {
   "cell_type": "code",
   "execution_count": null,
   "metadata": {},
   "outputs": [],
   "source": [
    "def printSolution(Assignment):\n",
    "    if Assignment == None:\n",
    "        print('no solution found')\n",
    "        return\n",
    "    n      = len(Assignment)\n",
    "    Queens = [0] * (n+1)\n",
    "    for row in range(1, n+1):\n",
    "        Queens[row] = Assignment[f'Q{row}']\n",
    "    print((4 * n + 1) * \"-\")\n",
    "    for row in range(1, n+1):\n",
    "        line = \"|\"\n",
    "        for col in range(1, n+1):\n",
    "            if Queens[row] == col:\n",
    "                line += \" Q |\"\n",
    "            else:\n",
    "                line += \"   |\"\n",
    "        print(line)\n",
    "        print((4*n+1) * \"-\")"
   ]
  },
  {
   "cell_type": "code",
   "execution_count": null,
   "metadata": {},
   "outputs": [],
   "source": [
    "printSolution(Solution)"
   ]
  },
  {
   "cell_type": "code",
   "execution_count": null,
   "metadata": {},
   "outputs": [],
   "source": []
  }
 ],
 "metadata": {
  "hide_input": false,
  "kernelspec": {
   "display_name": "Python 3",
   "language": "python",
   "name": "python3"
  },
  "language_info": {
   "codemirror_mode": {
    "name": "ipython",
    "version": 3
   },
   "file_extension": ".py",
   "mimetype": "text/x-python",
   "name": "python",
   "nbconvert_exporter": "python",
   "pygments_lexer": "ipython3",
   "version": "3.6.7"
  },
  "toc": {
   "base_numbering": 1,
   "nav_menu": {},
   "number_sections": true,
   "sideBar": true,
   "skip_h1_title": false,
   "title_cell": "Table of Contents",
   "title_sidebar": "Contents",
   "toc_cell": false,
   "toc_position": {},
   "toc_section_display": true,
   "toc_window_display": false
  },
  "varInspector": {
   "cols": {
    "lenName": 16,
    "lenType": 16,
    "lenVar": 40
   },
   "kernels_config": {
    "python": {
     "delete_cmd_postfix": "",
     "delete_cmd_prefix": "del ",
     "library": "var_list.py",
     "varRefreshCmd": "print(var_dic_list())"
    },
    "r": {
     "delete_cmd_postfix": ") ",
     "delete_cmd_prefix": "rm(",
     "library": "var_list.r",
     "varRefreshCmd": "cat(var_dic_list()) "
    }
   },
   "types_to_exclude": [
    "module",
    "function",
    "builtin_function_or_method",
    "instance",
    "_Feature"
   ],
   "window_display": false
  }
 },
 "nbformat": 4,
 "nbformat_minor": 2
}
