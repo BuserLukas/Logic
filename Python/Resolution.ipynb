{
 "cells": [
  {
   "cell_type": "code",
   "execution_count": 1,
   "metadata": {},
   "outputs": [
    {
     "data": {
      "application/javascript": [
       "IPython.notebook.set_autosave_interval(60000)"
      ]
     },
     "metadata": {},
     "output_type": "display_data"
    },
    {
     "name": "stdout",
     "output_type": "stream",
     "text": [
      "Autosaving every 60 seconds\n"
     ]
    },
    {
     "data": {
      "text/html": [
       "<style>.container { width:100% !important; }</style>"
      ],
      "text/plain": [
       "<IPython.core.display.HTML object>"
      ]
     },
     "metadata": {},
     "output_type": "display_data"
    }
   ],
   "source": [
    "%autosave 60\n",
    "from IPython.core.display import display, HTML\n",
    "display(HTML(\"<style>.container { width:100% !important; }</style>\"))"
   ]
  },
  {
   "cell_type": "markdown",
   "metadata": {},
   "source": [
    "## Auxiliary Functions"
   ]
  },
  {
   "cell_type": "markdown",
   "metadata": {},
   "source": [
    "We need the parser for first order formulas, hence we import it."
   ]
  },
  {
   "cell_type": "code",
   "execution_count": 2,
   "metadata": {},
   "outputs": [],
   "source": [
    "import folParser as fp\n",
    "\n",
    "def parse(s):\n",
    "    return fp.LogicParser(s).parse()"
   ]
  },
  {
   "cell_type": "markdown",
   "metadata": {},
   "source": [
    "The resolution calculus works with clauses.  The module <tt>folCNF</tt> implements the function $\\texttt{normalize}(f)$ that turns a formula $f$ into a set of clauses."
   ]
  },
  {
   "cell_type": "code",
   "execution_count": 3,
   "metadata": {},
   "outputs": [],
   "source": [
    "import folCNF as cnf"
   ]
  },
  {
   "cell_type": "markdown",
   "metadata": {},
   "source": [
    "The module <tt>unify</tt> implements unification."
   ]
  },
  {
   "cell_type": "code",
   "execution_count": 4,
   "metadata": {},
   "outputs": [],
   "source": [
    "import unify"
   ]
  },
  {
   "cell_type": "code",
   "execution_count": 5,
   "metadata": {},
   "outputs": [],
   "source": [
    "def arb(S):\n",
    "    for x in S:\n",
    "        return x"
   ]
  },
  {
   "cell_type": "markdown",
   "metadata": {},
   "source": [
    "Given a literal $l$ the function $\\texttt{complement}(l)$ computes the complement $\\overline{\\,l\\,}$ of the literal $l$."
   ]
  },
  {
   "cell_type": "code",
   "execution_count": 6,
   "metadata": {},
   "outputs": [],
   "source": [
    "def complement(l):\n",
    "    \"Compute the complement of the literal l.\"\n",
    "    if l[0] == '¬':\n",
    "        return l[1]\n",
    "    else:\n",
    "        return ('¬', l)"
   ]
  },
  {
   "cell_type": "code",
   "execution_count": 7,
   "metadata": {},
   "outputs": [
    {
     "data": {
      "text/plain": [
       "('¬', ('p', 'x'))"
      ]
     },
     "execution_count": 7,
     "metadata": {},
     "output_type": "execute_result"
    }
   ],
   "source": [
    "complement(('p', 'x'))"
   ]
  },
  {
   "cell_type": "code",
   "execution_count": 8,
   "metadata": {},
   "outputs": [
    {
     "data": {
      "text/plain": [
       "('p', 'x')"
      ]
     },
     "execution_count": 8,
     "metadata": {},
     "output_type": "execute_result"
    }
   ],
   "source": [
    "complement(('¬', ('p', 'x')))"
   ]
  },
  {
   "cell_type": "markdown",
   "metadata": {},
   "source": [
    "Given a clause $C$, the function $\\texttt{collectVariables}(C)$ computes the set of all variables occurring in $C$.  The function $\\texttt{collectVariables}$ can also collect the variables in a literal or a term."
   ]
  },
  {
   "cell_type": "code",
   "execution_count": 9,
   "metadata": {},
   "outputs": [],
   "source": [
    "def collectVariables(C):\n",
    "    if isinstance(C, frozenset):\n",
    "        return { x for literal in C \n",
    "                   for x in collectVariables(literal) \n",
    "               }\n",
    "    if isinstance(C, str): # C is a variable\n",
    "        return { C }\n",
    "    if C[0] == '¬':\n",
    "        return collectVariables(C[1])\n",
    "    # C must be a term or atomic formula\n",
    "    args = C[1:]\n",
    "    return { x for t in args for x in collectVariables(t) }"
   ]
  },
  {
   "cell_type": "code",
   "execution_count": 10,
   "metadata": {},
   "outputs": [
    {
     "data": {
      "text/plain": [
       "('∀',\n",
       " 'g',\n",
       " ('∀',\n",
       "  'c',\n",
       "  ('↔',\n",
       "   ('Grandparent', 'g', 'c'),\n",
       "   ('∃', 'p', ('∧', ('Parent', 'g', 'p'), ('Parent', 'p', 'c'))))))"
      ]
     },
     "execution_count": 10,
     "metadata": {},
     "output_type": "execute_result"
    }
   ],
   "source": [
    "s = '∀g:∀c:(Grandparent(g, c) ↔ ∃p: (Parent(g, p) ∧ Parent(p, c)))'\n",
    "f = parse(s)\n",
    "f"
   ]
  },
  {
   "cell_type": "code",
   "execution_count": 11,
   "metadata": {},
   "outputs": [
    {
     "data": {
      "text/plain": [
       "{frozenset({('Parent', 'g', ('sk1', 'g', 'c')),\n",
       "            ('¬', ('Grandparent', 'g', 'c'))}),\n",
       " frozenset({('Grandparent', 'g', 'c'),\n",
       "            ('¬', ('Parent', 'a', 'c')),\n",
       "            ('¬', ('Parent', 'g', 'a'))}),\n",
       " frozenset({('Parent', ('sk1', 'g', 'c'), 'c'),\n",
       "            ('¬', ('Grandparent', 'g', 'c'))})}"
      ]
     },
     "execution_count": 11,
     "metadata": {},
     "output_type": "execute_result"
    }
   ],
   "source": [
    "Clauses = cnf.normalize(f)\n",
    "Clauses"
   ]
  },
  {
   "cell_type": "code",
   "execution_count": 12,
   "metadata": {},
   "outputs": [
    {
     "name": "stdout",
     "output_type": "stream",
     "text": [
      "collectVariables(frozenset({('Parent', 'g', ('sk1', 'g', 'c')), ('¬', ('Grandparent', 'g', 'c'))})) = \n",
      "\t{'c', 'g'}\n",
      "collectVariables(frozenset({('Grandparent', 'g', 'c'), ('¬', ('Parent', 'a', 'c')), ('¬', ('Parent', 'g', 'a'))})) = \n",
      "\t{'c', 'a', 'g'}\n",
      "collectVariables(frozenset({('Parent', ('sk1', 'g', 'c'), 'c'), ('¬', ('Grandparent', 'g', 'c'))})) = \n",
      "\t{'c', 'g'}\n"
     ]
    }
   ],
   "source": [
    "for C in Clauses:\n",
    "    print(f'collectVariables({C}) = \\n\\t{collectVariables(C)}')"
   ]
  },
  {
   "cell_type": "code",
   "execution_count": 13,
   "metadata": {},
   "outputs": [],
   "source": [
    "import string"
   ]
  },
  {
   "cell_type": "markdown",
   "metadata": {},
   "source": [
    "The function $\\texttt{renameVariables}(f)$ renames the variables in $f$ so that they are different from $g$."
   ]
  },
  {
   "cell_type": "code",
   "execution_count": 14,
   "metadata": {},
   "outputs": [],
   "source": [
    "def renameVariables(f, g=frozenset()):\n",
    "    Variables = collectVariables(f)\n",
    "    NewVars   = set(string.ascii_lowercase) - Variables - collectVariables(g)\n",
    "    NewVars   = sorted(list(NewVars))\n",
    "    sigma     = { x: NewVars[i] for (i, x) in enumerate(Variables) }\n",
    "    return unify.apply(f, sigma)"
   ]
  },
  {
   "cell_type": "markdown",
   "metadata": {},
   "source": [
    "# A Calculus for First Order Logic"
   ]
  },
  {
   "cell_type": "markdown",
   "metadata": {},
   "source": [
    "Given a two clauses <tt>C1</tt> and <tt>C2</tt>, the function $\\texttt{resolve}(\\texttt{C1}, \\texttt{C2})$ computes a set of all clauses that can be inferred from <tt>C1</tt> and <tt>C2</tt> by applying the resolution rule."
   ]
  },
  {
   "cell_type": "code",
   "execution_count": 15,
   "metadata": {},
   "outputs": [],
   "source": [
    "def resolve(C1, C2):\n",
    "    C2 = renameVariables(C2, C1)\n",
    "    Result = set()\n",
    "    for L1 in C1:\n",
    "        for L2 in C2:\n",
    "            mu = unify.unify(L1, complement(L2))\n",
    "            if mu != None:\n",
    "                C1C2 = unify.apply((C1 - { L1 }) | (C2 - { L2 }), mu)\n",
    "                Result.add(C1C2)\n",
    "    return Result"
   ]
  },
  {
   "cell_type": "markdown",
   "metadata": {},
   "source": [
    "## Some Formulas for Testing"
   ]
  },
  {
   "cell_type": "code",
   "execution_count": 16,
   "metadata": {},
   "outputs": [
    {
     "data": {
      "text/plain": [
       "{frozenset({('Happy', 'x'), ('¬', ('CanFly', ('sk2', 'x')))}),\n",
       " frozenset({('¬', ('Happy', ('sk3',)))}),\n",
       " frozenset({('Red', 'y'), ('¬', ('Child', 'y', 'x')), ('¬', ('Red', 'x'))}),\n",
       " frozenset({('Red', ('sk3',))}),\n",
       " frozenset({('Child', ('sk2', 'x'), 'x'), ('Happy', 'x')}),\n",
       " frozenset({('CanFly', 'x'), ('¬', ('Red', 'x'))})}"
      ]
     },
     "execution_count": 16,
     "metadata": {},
     "output_type": "execute_result"
    }
   ],
   "source": [
    "s1 = '∀x:(∀y:(Child(y, x) → CanFly(y)) → Happy(x))'\n",
    "s2 = '∀x:(Red(x) → CanFly(x))'\n",
    "s3 = '∀x:(Red(x) → ∀y:(Child(y, x) → Red(y)))'\n",
    "s4 = '¬∀x:(Red(x) → Happy(x))'\n",
    "f1 = parse(s1)\n",
    "f2 = parse(s2)\n",
    "f3 = parse(s3)\n",
    "f4 = parse(s4)\n",
    "Clauses = cnf.normalize(f1) | cnf.normalize(f2) | cnf.normalize(f3) | cnf.normalize(f4)\n",
    "Clauses"
   ]
  },
  {
   "cell_type": "code",
   "execution_count": 17,
   "metadata": {},
   "outputs": [],
   "source": [
    "C1 = frozenset({('Red', ('sk3',))})"
   ]
  },
  {
   "cell_type": "code",
   "execution_count": 18,
   "metadata": {},
   "outputs": [],
   "source": [
    "C2 = frozenset({('¬', ('Happy', ('sk3',)))})"
   ]
  },
  {
   "cell_type": "code",
   "execution_count": 19,
   "metadata": {},
   "outputs": [],
   "source": [
    "C3 = frozenset({('CanFly', 'x'), ('¬', ('Red', 'x'))})"
   ]
  },
  {
   "cell_type": "code",
   "execution_count": 20,
   "metadata": {},
   "outputs": [],
   "source": [
    "C4 = frozenset({('Child', ('sk2', 'x'), 'x'), ('Happy', 'x')})"
   ]
  },
  {
   "cell_type": "code",
   "execution_count": 21,
   "metadata": {},
   "outputs": [],
   "source": [
    "C5 = frozenset({('Happy', 'x'), ('¬', ('CanFly', ('sk2', 'x')))})"
   ]
  },
  {
   "cell_type": "code",
   "execution_count": 22,
   "metadata": {},
   "outputs": [],
   "source": [
    "C6 = frozenset({('Red', 'y'), ('¬', ('Child', 'y', 'x')), ('¬', ('Red', 'x'))})"
   ]
  },
  {
   "cell_type": "code",
   "execution_count": 23,
   "metadata": {},
   "outputs": [
    {
     "data": {
      "text/plain": [
       "frozenset({('Red', 'b'), ('¬', ('Child', 'b', ('sk3',)))})"
      ]
     },
     "execution_count": 23,
     "metadata": {},
     "output_type": "execute_result"
    }
   ],
   "source": [
    "C7 = arb(resolve(C1, C6))\n",
    "C7"
   ]
  },
  {
   "cell_type": "code",
   "execution_count": 24,
   "metadata": {},
   "outputs": [
    {
     "data": {
      "text/plain": [
       "frozenset({('Happy', ('sk3',)), ('Red', ('sk2', ('sk3',)))})"
      ]
     },
     "execution_count": 24,
     "metadata": {},
     "output_type": "execute_result"
    }
   ],
   "source": [
    "C8 = arb(resolve(C7, C4))\n",
    "C8"
   ]
  },
  {
   "cell_type": "code",
   "execution_count": 25,
   "metadata": {},
   "outputs": [
    {
     "data": {
      "text/plain": [
       "frozenset({('Red', ('sk2', ('sk3',)))})"
      ]
     },
     "execution_count": 25,
     "metadata": {},
     "output_type": "execute_result"
    }
   ],
   "source": [
    "C9 = arb(resolve(C8, C2))\n",
    "C9"
   ]
  },
  {
   "cell_type": "code",
   "execution_count": 26,
   "metadata": {},
   "outputs": [
    {
     "data": {
      "text/plain": [
       "frozenset({('CanFly', ('sk2', ('sk3',)))})"
      ]
     },
     "execution_count": 26,
     "metadata": {},
     "output_type": "execute_result"
    }
   ],
   "source": [
    "C10 = arb(resolve(C9, C3))\n",
    "C10"
   ]
  },
  {
   "cell_type": "code",
   "execution_count": 27,
   "metadata": {},
   "outputs": [
    {
     "data": {
      "text/plain": [
       "frozenset({('Happy', ('sk3',))})"
      ]
     },
     "execution_count": 27,
     "metadata": {},
     "output_type": "execute_result"
    }
   ],
   "source": [
    "C11 = arb(resolve(C10, C5))\n",
    "C11"
   ]
  },
  {
   "cell_type": "code",
   "execution_count": 28,
   "metadata": {},
   "outputs": [
    {
     "data": {
      "text/plain": [
       "frozenset()"
      ]
     },
     "execution_count": 28,
     "metadata": {},
     "output_type": "execute_result"
    }
   ],
   "source": [
    "arb(resolve(C11, C2))"
   ]
  },
  {
   "cell_type": "code",
   "execution_count": 29,
   "metadata": {},
   "outputs": [],
   "source": [
    "def factorize(C):\n",
    "    Result = set()\n",
    "    for L1 in C:\n",
    "        for L2 in C:\n",
    "            if L1 != L2:\n",
    "                mu  = unify.unify(L1, L2)\n",
    "                if mu != None:\n",
    "                    Cmu = unify.apply(C, mu)\n",
    "                    Result.add(Cmu)\n",
    "    return Result"
   ]
  },
  {
   "cell_type": "code",
   "execution_count": 30,
   "metadata": {},
   "outputs": [
    {
     "data": {
      "text/plain": [
       "frozenset({('P', 'u', ('G', 'v')), ('P', ('F', 'x'), 'y')})"
      ]
     },
     "execution_count": 30,
     "metadata": {},
     "output_type": "execute_result"
    }
   ],
   "source": [
    "C7 = arb(cnf.normalize(parse('∀x:∀y:P(F(x),y) ∨ ∀u:∀v:P(u,G(v))')))\n",
    "C7"
   ]
  },
  {
   "cell_type": "code",
   "execution_count": 31,
   "metadata": {},
   "outputs": [
    {
     "data": {
      "text/plain": [
       "{frozenset({('P', ('F', 'x'), ('G', 'v'))})}"
      ]
     },
     "execution_count": 31,
     "metadata": {},
     "output_type": "execute_result"
    }
   ],
   "source": [
    "factorize(C7)"
   ]
  },
  {
   "cell_type": "code",
   "execution_count": 32,
   "metadata": {},
   "outputs": [
    {
     "data": {
      "text/plain": [
       "frozenset({('¬', ('P', ('F', 'x'), 'y')), ('¬', ('P', 'u', ('G', 'v')))})"
      ]
     },
     "execution_count": 32,
     "metadata": {},
     "output_type": "execute_result"
    }
   ],
   "source": [
    "C8 = arb(cnf.normalize(parse('∀x:∀y:(¬P(F(x),y)) ∨ ∀u:∀v:(¬P(u,G(v)))')))\n",
    "C8"
   ]
  },
  {
   "cell_type": "code",
   "execution_count": 33,
   "metadata": {},
   "outputs": [
    {
     "data": {
      "text/plain": [
       "{frozenset({('¬', ('P', ('F', 'x'), ('G', 'v')))})}"
      ]
     },
     "execution_count": 33,
     "metadata": {},
     "output_type": "execute_result"
    }
   ],
   "source": [
    "factorize(C8)"
   ]
  },
  {
   "cell_type": "markdown",
   "metadata": {},
   "source": [
    "Given two sets of clauses <tt>Cs1</tt> and <tt>Cs2</tt>, the function $\\texttt{infere}(\\texttt{Cs1}, \\texttt{Cs2})$ returns all possible clauses that result from:\n",
    "<ol>\n",
    "    <li>the resolution of a clause $C_1 \\in \\texttt{Cs1}$ with a clause $C_2 \\in \\texttt{Cs2}$,</li>\n",
    "    <li>the resolution of two clauses $C_1, C_2 \\in \\texttt{Cs1}$,</li>\n",
    "    <li>the factorization of a clause $C \\in \\texttt{Cs1}$.</li>\n",
    "</ol>"
   ]
  },
  {
   "cell_type": "code",
   "execution_count": 34,
   "metadata": {},
   "outputs": [],
   "source": [
    "def infere(Clauses):\n",
    "    Result =  { C for C1 in Clauses\n",
    "                  for C2 in Clauses\n",
    "                  for C  in resolve(C1, C2)\n",
    "              }\n",
    "    Result |= { C for C1 in Clauses for C in factorize(C1) }\n",
    "    return Result "
   ]
  },
  {
   "cell_type": "code",
   "execution_count": 35,
   "metadata": {},
   "outputs": [],
   "source": [
    "def prettyPrint(Clauses):\n",
    "    for C in Clauses:\n",
    "        print(set(C))"
   ]
  },
  {
   "cell_type": "code",
   "execution_count": 36,
   "metadata": {},
   "outputs": [
    {
     "name": "stdout",
     "output_type": "stream",
     "text": [
      "{('Happy', 'x'), ('¬', ('CanFly', ('sk2', 'x')))}\n",
      "{('¬', ('Happy', ('sk3',)))}\n",
      "{('¬', ('Child', 'y', 'x')), ('¬', ('Red', 'x')), ('Red', 'y')}\n",
      "{('Red', ('sk3',))}\n",
      "{('Happy', 'x'), ('Child', ('sk2', 'x'), 'x')}\n",
      "{('¬', ('Red', 'x')), ('CanFly', 'x')}\n"
     ]
    }
   ],
   "source": [
    "prettyPrint(Clauses)"
   ]
  },
  {
   "cell_type": "code",
   "execution_count": 37,
   "metadata": {},
   "outputs": [],
   "source": [
    "def saturate(Clauses):\n",
    "    OldClauses = set()\n",
    "    cnt        = 1\n",
    "    while frozenset() not in Clauses:\n",
    "        Clauses |= infere(Clauses)\n",
    "        print(f'cnt = {cnt}, number of clauses: {len(Clauses)}')\n",
    "        cnt += 1\n",
    "    return True"
   ]
  },
  {
   "cell_type": "code",
   "execution_count": 38,
   "metadata": {},
   "outputs": [
    {
     "name": "stdout",
     "output_type": "stream",
     "text": [
      "cnt = 1, number of clauses: 19\n",
      "cnt = 2, number of clauses: 171\n",
      "cnt = 3, number of clauses: 19084\n"
     ]
    },
    {
     "data": {
      "text/plain": [
       "True"
      ]
     },
     "execution_count": 38,
     "metadata": {},
     "output_type": "execute_result"
    }
   ],
   "source": [
    "saturate(Clauses)"
   ]
  },
  {
   "cell_type": "code",
   "execution_count": null,
   "metadata": {},
   "outputs": [],
   "source": []
  }
 ],
 "metadata": {
  "kernelspec": {
   "display_name": "Python 3",
   "language": "python",
   "name": "python3"
  },
  "language_info": {
   "codemirror_mode": {
    "name": "ipython",
    "version": 3
   },
   "file_extension": ".py",
   "mimetype": "text/x-python",
   "name": "python",
   "nbconvert_exporter": "python",
   "pygments_lexer": "ipython3",
   "version": "3.6.3"
  }
 },
 "nbformat": 4,
 "nbformat_minor": 2
}
