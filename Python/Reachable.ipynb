{
 "cells": [
  {
   "cell_type": "code",
   "execution_count": null,
   "metadata": {},
   "outputs": [],
   "source": [
    "%autosave 0"
   ]
  },
  {
   "cell_type": "markdown",
   "metadata": {},
   "source": [
    "# Finding all Reachable Vertices"
   ]
  },
  {
   "cell_type": "markdown",
   "metadata": {},
   "source": [
    "Assume we have a directed graph given as a binary relation $R$.  Forthermore, we have two \n",
    "nodes <tt>start</tt> and <tt>goal</tt>.  Our task is to find a path $P$ in the graph given by\n",
    "$R$ that starts in the node <tt>start</tt> and ends in the  <tt>goal</tt>.  The function <tt>reachable</tt> below computes the shortest path $P$ that connects <tt>start</tt> and <tt>goal</tt>."
   ]
  },
  {
   "cell_type": "code",
   "execution_count": null,
   "metadata": {},
   "outputs": [],
   "source": [
    "def reachable(start, goal, R):\n",
    "    P = { (start,) }\n",
    "    while True:\n",
    "        oldP  = P\n",
    "        P     = P.union(path_product(P, R))\n",
    "        Found = { T for T in P if T[-1] == goal }\n",
    "        if Found != set({}):\n",
    "            return Found.pop()\n",
    "        if P == oldP:\n",
    "            return"
   ]
  },
  {
   "cell_type": "markdown",
   "metadata": {},
   "source": [
    "The function $\\texttt{path_product}(P, Q)$ takes two sets of paths $P$ and $Q$ and tries to build new paths by joining paths from $P$ and $Q$."
   ]
  },
  {
   "cell_type": "code",
   "execution_count": null,
   "metadata": {},
   "outputs": [],
   "source": [
    "def path_product(P, R):\n",
    "    return set(T1 + (T2[-1],) for T1 in P for T2 in R \n",
    "                              if T1[-1] == T2[0] and not T2[-1] in T1)"
   ]
  },
  {
   "cell_type": "code",
   "execution_count": null,
   "metadata": {},
   "outputs": [],
   "source": [
    "R = { (1,2), (2,3), (1,3), (2,4), (4,5), (3,6), (6,1) }"
   ]
  },
  {
   "cell_type": "code",
   "execution_count": null,
   "metadata": {},
   "outputs": [],
   "source": [
    "import graphviz as gv\n",
    "\n",
    "def dot_graph(R):\n",
    "    \"\"\"This function takes binary relation R as inputs and shows this relation as\n",
    "       a graph using the module graphviz.\n",
    "    \"\"\"\n",
    "    dot = gv.Digraph()\n",
    "    Nodes = { p[0] for p in R }.union({ p[1] for p in R })\n",
    "    for n in Nodes:\n",
    "        dot.node(str(n))\n",
    "    for (x, y) in R:\n",
    "        dot.edge(str(x), str(y))\n",
    "    return dot"
   ]
  },
  {
   "cell_type": "code",
   "execution_count": null,
   "metadata": {},
   "outputs": [],
   "source": [
    "dot_graph(R)"
   ]
  },
  {
   "cell_type": "code",
   "execution_count": null,
   "metadata": {},
   "outputs": [],
   "source": [
    "reachable(2, 1, R)"
   ]
  },
  {
   "cell_type": "code",
   "execution_count": null,
   "metadata": {},
   "outputs": [],
   "source": []
  }
 ],
 "metadata": {
  "kernelspec": {
   "display_name": "Python 3",
   "language": "python",
   "name": "python3"
  },
  "language_info": {
   "codemirror_mode": {
    "name": "ipython",
    "version": 3
   },
   "file_extension": ".py",
   "mimetype": "text/x-python",
   "name": "python",
   "nbconvert_exporter": "python",
   "pygments_lexer": "ipython3",
   "version": "3.6.6"
  }
 },
 "nbformat": 4,
 "nbformat_minor": 2
}
