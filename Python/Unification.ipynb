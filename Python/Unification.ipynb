{
 "cells": [
  {
   "cell_type": "code",
   "execution_count": null,
   "metadata": {},
   "outputs": [],
   "source": [
    "autosave 0"
   ]
  },
  {
   "cell_type": "markdown",
   "metadata": {},
   "source": [
    "# Unification"
   ]
  },
  {
   "cell_type": "markdown",
   "metadata": {},
   "source": [
    "This notebook implements the algorithm of Martelli and Montanari for the unification of terms."
   ]
  },
  {
   "cell_type": "markdown",
   "metadata": {},
   "source": [
    "## Utility Functions"
   ]
  },
  {
   "cell_type": "code",
   "execution_count": null,
   "metadata": {
    "collapsed": true
   },
   "outputs": [],
   "source": [
    "import folParser as fp"
   ]
  },
  {
   "cell_type": "code",
   "execution_count": null,
   "metadata": {
    "collapsed": true
   },
   "outputs": [],
   "source": [
    "def parseTerm(s):\n",
    "    parser = fp.LogicParser(s)\n",
    "    return parser.parse()"
   ]
  },
  {
   "cell_type": "markdown",
   "metadata": {},
   "source": [
    "The method $\\texttt{apply}(t, \\sigma)$ takes a term $t$ and a substitution $\\sigma$ and computes the term $t\\sigma$, i.e. it applies the substitution $\\sigma$ to the term $t$.  The substitution $\\sigma$ is represented as a dictionary.  Assume that $\\sigma = \\bigl[ x_1 \\mapsto t_1, \\cdots, x_n \\mapsto t_n \\bigr]$.  Then $t\\sigma$ is defined by induction on $t$:\n",
    "<ol>\n",
    "<li>If $t$ is a variable, there are two cases when defining $t\\sigma$:</li>\n",
    "  <ol>\n",
    "  <li>$t = x_i$ for an $i\\in\\{1,\\cdots,n\\}$.  Then we define  \n",
    "      $$ x_i\\sigma := t_i. $$\n",
    "      </li>\n",
    "  <li>$t = y$ where $y\\in\\mathcal{V}$, but $y \\not\\in \\{x_1,\\cdots,x_n\\}$. Then we define   \n",
    "      $$ y\\sigma := y.$$</li>\n",
    "  </ol>\n",
    "<li>Otherwise we must have $t = f(s_1,\\cdots,s_m)$. Then we define: \n",
    "      $$f(s_1, \\cdots, s_m)\\sigma := f(s_1\\sigma, \\cdots, s_m\\sigma). $$\n",
    "      </li>\n",
    "</ol>"
   ]
  },
  {
   "cell_type": "code",
   "execution_count": null,
   "metadata": {
    "collapsed": true
   },
   "outputs": [],
   "source": [
    "def apply(t, σ):\n",
    "    \"Apply the substitution σ to the term t.\"\n",
    "    if isinstance(t, str): # t is a variable\n",
    "        if t in σ:\n",
    "            return σ[t]\n",
    "        else:\n",
    "            return t\n",
    "    else: \n",
    "        f  = t[0]\n",
    "        ts = t[1:]\n",
    "        return (f,) + tuple(apply(s, σ) for s in ts)"
   ]
  },
  {
   "cell_type": "code",
   "execution_count": null,
   "metadata": {},
   "outputs": [],
   "source": [
    "t = parseTerm('F(x,H(y,x),G(z))')\n",
    "t"
   ]
  },
  {
   "cell_type": "code",
   "execution_count": null,
   "metadata": {},
   "outputs": [],
   "source": [
    "s1 = parseTerm('G(z)')\n",
    "s2 = parseTerm('H(u, v)')\n",
    "σ = { 'x': s1, 'y': s2 }\n",
    "σ"
   ]
  },
  {
   "cell_type": "code",
   "execution_count": null,
   "metadata": {},
   "outputs": [],
   "source": [
    "apply(t, σ)"
   ]
  },
  {
   "cell_type": "markdown",
   "metadata": {},
   "source": [
    "If  $\\sigma = \\big[ x_1 \\mapsto s_1, \\cdots, x_m \\mapsto s_m \\big]$ and\n",
    "$\\tau = \\big[ y_1 \\mapsto t_1, \\cdots, y_n \\mapsto t_n \\big]$ \n",
    "are two substitutions that are <em>non-overlapping</em>, i.e. such that $\\texttt{dom}(\\sigma) \\cap \\texttt{dom}(\\tau) = \\{\\}$ holds,\n",
    "then we define the <em>composition</em> $\\sigma\\tau$ of $\\sigma$ and $\\tau$ as follows:\n",
    "$$\\sigma\\tau := \\big[ x_1 \\mapsto s_1\\tau, \\cdots, x_m \\mapsto s_m\\tau,\\; y_1 \\mapsto t_1, \\cdots, y_n \\mapsto t_n \\big]$$\n",
    "The function $\\texttt{compose}(\\sigma, \\tau)$ takes two non-overlapping substitutions and computes the composition $\\sigma\\tau$."
   ]
  },
  {
   "cell_type": "code",
   "execution_count": null,
   "metadata": {
    "collapsed": true
   },
   "outputs": [],
   "source": [
    "def applySet(S, σ):\n",
    "    return { (apply(t1, σ), apply(t2, σ)) for (t1, t2) in S }"
   ]
  },
  {
   "cell_type": "code",
   "execution_count": null,
   "metadata": {
    "collapsed": true
   },
   "outputs": [],
   "source": [
    "def compose(σ, τ):\n",
    "    Result = { x: apply(s, τ) for (x, s) in σ.items() }\n",
    "    Result.update(τ)\n",
    "    return Result"
   ]
  },
  {
   "cell_type": "code",
   "execution_count": null,
   "metadata": {
    "collapsed": true
   },
   "outputs": [],
   "source": [
    "τ = { 'z': s1, 'u': s2 }"
   ]
  },
  {
   "cell_type": "code",
   "execution_count": null,
   "metadata": {},
   "outputs": [],
   "source": [
    "compose(σ, τ)"
   ]
  },
  {
   "cell_type": "markdown",
   "metadata": {},
   "source": [
    "The function $\\texttt{occurs}(x, t)$ checks whether the variable $x$ occurs in the term $t$."
   ]
  },
  {
   "cell_type": "code",
   "execution_count": null,
   "metadata": {
    "collapsed": true
   },
   "outputs": [],
   "source": [
    "def occurs(x, t):\n",
    "    if x == t:\n",
    "        return True\n",
    "    if isinstance(t, str):\n",
    "        return False\n",
    "    return any(occurs(x, arg) for arg in t[1:])"
   ]
  },
  {
   "cell_type": "code",
   "execution_count": null,
   "metadata": {},
   "outputs": [],
   "source": [
    "t"
   ]
  },
  {
   "cell_type": "code",
   "execution_count": null,
   "metadata": {},
   "outputs": [],
   "source": [
    "occurs('u', t)"
   ]
  },
  {
   "cell_type": "code",
   "execution_count": null,
   "metadata": {},
   "outputs": [],
   "source": [
    "occurs('x', t)"
   ]
  },
  {
   "cell_type": "markdown",
   "metadata": {},
   "source": [
    "## The Algorithm of Martelli and Montanari"
   ]
  },
  {
   "cell_type": "markdown",
   "metadata": {},
   "source": [
    "Given two terms $s$ and $t$, the function $\\texttt{unify}(s, t)$ computes the *most general unifier* of $s$ and $t$."
   ]
  },
  {
   "cell_type": "code",
   "execution_count": null,
   "metadata": {
    "collapsed": true
   },
   "outputs": [],
   "source": [
    "def unify(s, t):\n",
    "    return solve({(s, t)}, {})"
   ]
  },
  {
   "cell_type": "markdown",
   "metadata": {},
   "source": [
    "Given a set of *syntactical equations* $E$ and a substitution $\\sigma$, the function $\\texttt{solve}(E, \\sigma)$ applies the rules of Martelli and Montanari to solve $E$."
   ]
  },
  {
   "cell_type": "code",
   "execution_count": null,
   "metadata": {
    "collapsed": true
   },
   "outputs": [],
   "source": [
    "def solve(E, σ):\n",
    "    while E != set():\n",
    "        print(E, σ)\n",
    "        (s, t) = E.pop()\n",
    "        if s == t:\n",
    "            continue\n",
    "        if isinstance(s, str):\n",
    "            if occurs(s, t):\n",
    "                return None\n",
    "            else:\n",
    "                applySet(E, { s: t })\n",
    "                σ = compose(σ, { s: t })\n",
    "        elif isinstance(t, str):\n",
    "            E.add((t, s))\n",
    "        else:\n",
    "            f    , g     = s[0]      , t[0]\n",
    "            sArgs, tArgs = s[1:]     , t[1:]\n",
    "            m    , n     = len(sArgs), len(tArgs)\n",
    "            if f != g or m != n:\n",
    "                return None\n",
    "            else:\n",
    "                E |= { (sArgs[i], tArgs[i]) for i in range(m) }\n",
    "    return σ"
   ]
  },
  {
   "cell_type": "code",
   "execution_count": null,
   "metadata": {},
   "outputs": [],
   "source": [
    "t1 = parseTerm('P(x1,F(x4))')\n",
    "t2 = parseTerm('P(x2,x3)')\n",
    "μ = unify(t1, t2)\n",
    "μ"
   ]
  }
 ],
 "metadata": {
  "kernelspec": {
   "display_name": "Python 3",
   "language": "python",
   "name": "python3"
  },
  "language_info": {
   "codemirror_mode": {
    "name": "ipython",
    "version": 3
   },
   "file_extension": ".py",
   "mimetype": "text/x-python",
   "name": "python",
   "nbconvert_exporter": "python",
   "pygments_lexer": "ipython3",
   "version": "3.6.3"
  }
 },
 "nbformat": 4,
 "nbformat_minor": 2
}
