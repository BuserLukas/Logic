{
 "cells": [
  {
   "cell_type": "code",
   "execution_count": 1,
   "metadata": {},
   "outputs": [
    {
     "data": {
      "application/javascript": [
       "IPython.notebook.set_autosave_interval(60000)"
      ]
     },
     "metadata": {},
     "output_type": "display_data"
    },
    {
     "name": "stdout",
     "output_type": "stream",
     "text": [
      "Autosaving every 60 seconds\n"
     ]
    },
    {
     "data": {
      "text/html": [
       "<style>.container { width:100% !important; }</style>"
      ],
      "text/plain": [
       "<IPython.core.display.HTML object>"
      ]
     },
     "metadata": {},
     "output_type": "display_data"
    }
   ],
   "source": [
    "%autosave 60\n",
    "from IPython.core.display import display, HTML\n",
    "display(HTML(\"<style>.container { width:100% !important; }</style>\"))"
   ]
  },
  {
   "cell_type": "markdown",
   "metadata": {},
   "source": [
    "## Auxiliary Functions"
   ]
  },
  {
   "cell_type": "markdown",
   "metadata": {},
   "source": [
    "We need the parser for first order formulas, hence we import it."
   ]
  },
  {
   "cell_type": "code",
   "execution_count": 2,
   "metadata": {},
   "outputs": [],
   "source": [
    "import folParser as fp\n",
    "\n",
    "def parse(s):\n",
    "    return fp.LogicParser(s).parse()"
   ]
  },
  {
   "cell_type": "markdown",
   "metadata": {},
   "source": [
    "The resolution calculus works with clauses.  The module <tt>folCNF</tt> implements the function $\\texttt{normalize}(f)$ that turns a formula $f$ into a set of clauses."
   ]
  },
  {
   "cell_type": "code",
   "execution_count": 3,
   "metadata": {},
   "outputs": [],
   "source": [
    "import folCNF as cnf"
   ]
  },
  {
   "cell_type": "markdown",
   "metadata": {},
   "source": [
    "The module <tt>unify</tt> implements unification."
   ]
  },
  {
   "cell_type": "code",
   "execution_count": 4,
   "metadata": {},
   "outputs": [],
   "source": [
    "import unify"
   ]
  },
  {
   "cell_type": "code",
   "execution_count": 30,
   "metadata": {},
   "outputs": [],
   "source": [
    "def arb(S):\n",
    "    for x in S:\n",
    "        return x"
   ]
  },
  {
   "cell_type": "markdown",
   "metadata": {},
   "source": [
    "Given a literal $l$ the function $\\texttt{complement}(l)$ computes the complement $\\overline{\\,l\\,}$ of the literal $l$."
   ]
  },
  {
   "cell_type": "code",
   "execution_count": 5,
   "metadata": {},
   "outputs": [],
   "source": [
    "def complement(l):\n",
    "    \"Compute the complement of the literal l.\"\n",
    "    if l[0] == '¬':\n",
    "        return l[1]\n",
    "    else:\n",
    "        return ('¬', l)"
   ]
  },
  {
   "cell_type": "code",
   "execution_count": 6,
   "metadata": {},
   "outputs": [
    {
     "data": {
      "text/plain": [
       "('¬', ('p', 'x'))"
      ]
     },
     "execution_count": 6,
     "metadata": {},
     "output_type": "execute_result"
    }
   ],
   "source": [
    "complement(('p', 'x'))"
   ]
  },
  {
   "cell_type": "code",
   "execution_count": 7,
   "metadata": {},
   "outputs": [
    {
     "data": {
      "text/plain": [
       "('p', 'x')"
      ]
     },
     "execution_count": 7,
     "metadata": {},
     "output_type": "execute_result"
    }
   ],
   "source": [
    "complement(('¬', ('p', 'x')))"
   ]
  },
  {
   "cell_type": "markdown",
   "metadata": {},
   "source": [
    "Given a clause $C$, the function $\\texttt{collectVariables}(C)$ computes the set of all variables occurring in $C$.  The function $\\texttt{collectVariables}$ can also collect the variables in a literal or a term."
   ]
  },
  {
   "cell_type": "code",
   "execution_count": 8,
   "metadata": {},
   "outputs": [],
   "source": [
    "def collectVariables(C):\n",
    "    if isinstance(C, frozenset):\n",
    "        return { x for literal in C \n",
    "                   for x in collectVariables(literal) \n",
    "               }\n",
    "    if isinstance(C, str): # C is a variable\n",
    "        return { C }\n",
    "    if C[0] == '¬':\n",
    "        return collectVariables(C[1])\n",
    "    # C must be a term or atomic formula\n",
    "    args = C[1:]\n",
    "    return { x for t in args for x in collectVariables(t) }"
   ]
  },
  {
   "cell_type": "code",
   "execution_count": 9,
   "metadata": {},
   "outputs": [
    {
     "data": {
      "text/plain": [
       "('∀',\n",
       " 'g',\n",
       " ('∀',\n",
       "  'c',\n",
       "  ('↔',\n",
       "   ('Grandparent', 'g', 'c'),\n",
       "   ('∃', 'p', ('∧', ('Parent', 'g', 'p'), ('Parent', 'p', 'c'))))))"
      ]
     },
     "execution_count": 9,
     "metadata": {},
     "output_type": "execute_result"
    }
   ],
   "source": [
    "s = '∀g:∀c:(Grandparent(g, c) ↔ ∃p: (Parent(g, p) ∧ Parent(p, c)))'\n",
    "f = parse(s)\n",
    "f"
   ]
  },
  {
   "cell_type": "code",
   "execution_count": 10,
   "metadata": {},
   "outputs": [
    {
     "data": {
      "text/plain": [
       "{frozenset({('Parent', ('sk1', 'g', 'c'), 'c'),\n",
       "            ('¬', ('Grandparent', 'g', 'c'))}),\n",
       " frozenset({('Parent', 'g', ('sk1', 'g', 'c')),\n",
       "            ('¬', ('Grandparent', 'g', 'c'))}),\n",
       " frozenset({('Grandparent', 'g', 'c'),\n",
       "            ('¬', ('Parent', 'g', 'z')),\n",
       "            ('¬', ('Parent', 'z', 'c'))})}"
      ]
     },
     "execution_count": 10,
     "metadata": {},
     "output_type": "execute_result"
    }
   ],
   "source": [
    "Clauses = cnf.normalize(f)\n",
    "Clauses"
   ]
  },
  {
   "cell_type": "code",
   "execution_count": 11,
   "metadata": {},
   "outputs": [
    {
     "name": "stdout",
     "output_type": "stream",
     "text": [
      "collectVariables(frozenset({('Parent', ('sk1', 'g', 'c'), 'c'), ('¬', ('Grandparent', 'g', 'c'))})) = \n",
      "\t{'g', 'c'}\n",
      "collectVariables(frozenset({('¬', ('Grandparent', 'g', 'c')), ('Parent', 'g', ('sk1', 'g', 'c'))})) = \n",
      "\t{'g', 'c'}\n",
      "collectVariables(frozenset({('¬', ('Parent', 'g', 'z')), ('Grandparent', 'g', 'c'), ('¬', ('Parent', 'z', 'c'))})) = \n",
      "\t{'g', 'c', 'z'}\n"
     ]
    }
   ],
   "source": [
    "for C in Clauses:\n",
    "    print(f'collectVariables({C}) = \\n\\t{collectVariables(C)}')"
   ]
  },
  {
   "cell_type": "code",
   "execution_count": 12,
   "metadata": {},
   "outputs": [],
   "source": [
    "import string\n",
    "\n",
    "def renameVariables(f):\n",
    "    Variables = collectVariables(f)\n",
    "    NewVars   = set(string.ascii_lowercase) - Variables\n",
    "    NewVars   = list(NewVars)\n",
    "    sigma     = { x: NewVars[i] for (i, x) in enumerate(Variables) }\n",
    "    return unify.apply(f, sigma)"
   ]
  },
  {
   "cell_type": "code",
   "execution_count": 13,
   "metadata": {},
   "outputs": [
    {
     "name": "stdout",
     "output_type": "stream",
     "text": [
      "renameVariables(frozenset({('Parent', ('sk1', 'g', 'c'), 'c'), ('¬', ('Grandparent', 'g', 'c'))})) = \n",
      "\tfrozenset({('¬', ('Grandparent', 'z', 'b')), ('Parent', ('sk1', 'z', 'b'), 'b')})\n",
      "renameVariables(frozenset({('¬', ('Grandparent', 'g', 'c')), ('Parent', 'g', ('sk1', 'g', 'c'))})) = \n",
      "\tfrozenset({('Parent', 'z', ('sk1', 'z', 'b')), ('¬', ('Grandparent', 'z', 'b'))})\n",
      "renameVariables(frozenset({('¬', ('Parent', 'g', 'z')), ('Grandparent', 'g', 'c'), ('¬', ('Parent', 'z', 'c'))})) = \n",
      "\tfrozenset({('Grandparent', 'b', 'y'), ('¬', ('Parent', 'q', 'y')), ('¬', ('Parent', 'b', 'q'))})\n"
     ]
    }
   ],
   "source": [
    "for C in Clauses:\n",
    "    print(f'renameVariables({C}) = \\n\\t{renameVariables(C)}')"
   ]
  },
  {
   "cell_type": "markdown",
   "metadata": {},
   "source": [
    "## Some Formulas for Testing"
   ]
  },
  {
   "cell_type": "code",
   "execution_count": 14,
   "metadata": {},
   "outputs": [],
   "source": [
    "s1 = '∀x:(∀y:(Child(y, x) → CanFly(y)) → Happy(x))'\n",
    "s2 = '∀x:(Red(x) → CanFly(x))'\n",
    "s3 = '∀x:(Red(x) → ∀y:(Child(y, x) → Red(y)))'\n",
    "s4 = '¬∀x:(Red(x) → Happy(x))'\n",
    "f1 = parse(s1)\n",
    "f2 = parse(s2)\n",
    "f3 = parse(s3)\n",
    "f4 = parse(s4)\n",
    "Clauses = cnf.normalize(f1) | cnf.normalize(f2) | cnf.normalize(f3) | cnf.normalize(f4)\n",
    "C1, C2, C3, C4, C5, C6 = tuple(Clauses)"
   ]
  },
  {
   "cell_type": "code",
   "execution_count": 15,
   "metadata": {},
   "outputs": [
    {
     "data": {
      "text/plain": [
       "frozenset({('Red', ('sk3',))})"
      ]
     },
     "execution_count": 15,
     "metadata": {},
     "output_type": "execute_result"
    }
   ],
   "source": [
    "C1"
   ]
  },
  {
   "cell_type": "code",
   "execution_count": 16,
   "metadata": {},
   "outputs": [
    {
     "data": {
      "text/plain": [
       "frozenset({('Red', 'y'), ('¬', ('Child', 'y', 'x')), ('¬', ('Red', 'x'))})"
      ]
     },
     "execution_count": 16,
     "metadata": {},
     "output_type": "execute_result"
    }
   ],
   "source": [
    "C2"
   ]
  },
  {
   "cell_type": "code",
   "execution_count": 17,
   "metadata": {},
   "outputs": [
    {
     "data": {
      "text/plain": [
       "frozenset({('Child', ('sk2', 'x'), 'x'), ('Happy', 'x')})"
      ]
     },
     "execution_count": 17,
     "metadata": {},
     "output_type": "execute_result"
    }
   ],
   "source": [
    "C3"
   ]
  },
  {
   "cell_type": "code",
   "execution_count": 18,
   "metadata": {},
   "outputs": [
    {
     "data": {
      "text/plain": [
       "frozenset({('¬', ('Happy', ('sk3',)))})"
      ]
     },
     "execution_count": 18,
     "metadata": {},
     "output_type": "execute_result"
    }
   ],
   "source": [
    "C4"
   ]
  },
  {
   "cell_type": "code",
   "execution_count": 19,
   "metadata": {},
   "outputs": [
    {
     "data": {
      "text/plain": [
       "frozenset({('Happy', 'x'), ('¬', ('CanFly', ('sk2', 'x')))})"
      ]
     },
     "execution_count": 19,
     "metadata": {},
     "output_type": "execute_result"
    }
   ],
   "source": [
    "C5"
   ]
  },
  {
   "cell_type": "code",
   "execution_count": 20,
   "metadata": {},
   "outputs": [
    {
     "data": {
      "text/plain": [
       "frozenset({('CanFly', 'x'), ('¬', ('Red', 'x'))})"
      ]
     },
     "execution_count": 20,
     "metadata": {},
     "output_type": "execute_result"
    }
   ],
   "source": [
    "C6"
   ]
  },
  {
   "cell_type": "markdown",
   "metadata": {},
   "source": [
    "# A Calculus for First Order Logic"
   ]
  },
  {
   "cell_type": "markdown",
   "metadata": {},
   "source": [
    "Given a two clauses <tt>C1</tt> and <tt>C2</tt>, the function $\\texttt{resolve}(\\texttt{C1}, \\texttt{C2})$ computes a set of all clauses that can be inferred from <tt>C1</tt> and <tt>C2</tt> by applying the resolution rule."
   ]
  },
  {
   "cell_type": "code",
   "execution_count": 25,
   "metadata": {},
   "outputs": [],
   "source": [
    "def resolve(C1, C2):\n",
    "    C2 = renameVariables(C2)\n",
    "    Result = set()\n",
    "    for L1 in C1:\n",
    "        for L2 in C2:\n",
    "            mu = unify.unify(L1, complement(L2))\n",
    "            if mu != None:\n",
    "                C1C2 = unify.apply((C1 - { L1 }) | (C2 - { L2 }), mu)\n",
    "                Result.add(C1C2)\n",
    "    return Result"
   ]
  },
  {
   "cell_type": "code",
   "execution_count": 26,
   "metadata": {},
   "outputs": [
    {
     "data": {
      "text/plain": [
       "{frozenset({('Red', 'b'), ('¬', ('Child', 'b', ('sk3',)))})}"
      ]
     },
     "execution_count": 26,
     "metadata": {},
     "output_type": "execute_result"
    }
   ],
   "source": [
    "resolve(C1, C2)"
   ]
  },
  {
   "cell_type": "code",
   "execution_count": 42,
   "metadata": {},
   "outputs": [],
   "source": [
    "def factorize(C):\n",
    "    Result = set()\n",
    "    for L1 in C:\n",
    "        for L2 in C:\n",
    "            if L1 != L2:\n",
    "                mu  = unify.unify(L1, L2)\n",
    "                if mu != None:\n",
    "                    Cmu = unify.apply(C, mu)\n",
    "                    Result.add(Cmu)\n",
    "    return Result"
   ]
  },
  {
   "cell_type": "code",
   "execution_count": 43,
   "metadata": {},
   "outputs": [
    {
     "data": {
      "text/plain": [
       "frozenset({('P', ('F', 'x'), 'y'), ('P', 'u', ('G', 'v'))})"
      ]
     },
     "execution_count": 43,
     "metadata": {},
     "output_type": "execute_result"
    }
   ],
   "source": [
    "C7 = arb(cnf.normalize(parse('∀x:∀y:P(F(x),y) ∨ ∀u:∀v:P(u,G(v))')))\n",
    "C7"
   ]
  },
  {
   "cell_type": "code",
   "execution_count": 44,
   "metadata": {},
   "outputs": [
    {
     "data": {
      "text/plain": [
       "{frozenset({('P', ('F', 'x'), ('G', 'v'))})}"
      ]
     },
     "execution_count": 44,
     "metadata": {},
     "output_type": "execute_result"
    }
   ],
   "source": [
    "factorize(C7)"
   ]
  },
  {
   "cell_type": "code",
   "execution_count": 48,
   "metadata": {},
   "outputs": [
    {
     "data": {
      "text/plain": [
       "frozenset({('¬', ('P', 'u', ('G', 'v'))), ('¬', ('P', ('F', 'x'), 'y'))})"
      ]
     },
     "execution_count": 48,
     "metadata": {},
     "output_type": "execute_result"
    }
   ],
   "source": [
    "C8 = arb(cnf.normalize(parse('∀x:∀y:(¬P(F(x),y)) ∨ ∀u:∀v:(¬P(u,G(v)))')))\n",
    "C8"
   ]
  },
  {
   "cell_type": "code",
   "execution_count": 49,
   "metadata": {},
   "outputs": [
    {
     "data": {
      "text/plain": [
       "{frozenset({('¬', ('P', ('F', 'x'), ('G', 'v')))})}"
      ]
     },
     "execution_count": 49,
     "metadata": {},
     "output_type": "execute_result"
    }
   ],
   "source": [
    "factorize(C8)"
   ]
  },
  {
   "cell_type": "code",
   "execution_count": null,
   "metadata": {},
   "outputs": [],
   "source": []
  }
 ],
 "metadata": {
  "kernelspec": {
   "display_name": "Python 3",
   "language": "python",
   "name": "python3"
  },
  "language_info": {
   "codemirror_mode": {
    "name": "ipython",
    "version": 3
   },
   "file_extension": ".py",
   "mimetype": "text/x-python",
   "name": "python",
   "nbconvert_exporter": "python",
   "pygments_lexer": "ipython3",
   "version": "3.6.3"
  }
 },
 "nbformat": 4,
 "nbformat_minor": 2
}
