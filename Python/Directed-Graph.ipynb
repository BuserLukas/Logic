{
 "cells": [
  {
   "cell_type": "code",
   "execution_count": null,
   "id": "32921681",
   "metadata": {},
   "outputs": [],
   "source": [
    "from IPython.core.display import HTML\n",
    "with open('style.css', 'r') as file:\n",
    "    css = file.read()\n",
    "HTML(css)"
   ]
  },
  {
   "cell_type": "markdown",
   "id": "c96cadc3",
   "metadata": {},
   "source": [
    "# Displaying a Directed Graph using GraphViz"
   ]
  },
  {
   "cell_type": "markdown",
   "id": "27652663",
   "metadata": {},
   "source": [
    "A *directed graph* is a *binary relation*, i.e. it is a set of pairs.\n",
    "Below, `R` is a diected graph."
   ]
  },
  {
   "cell_type": "code",
   "execution_count": null,
   "id": "b87aa850",
   "metadata": {},
   "outputs": [],
   "source": [
    "R = { (1, 2), (2, 3), (1, 3), (2, 4), (4, 5), (3, 5), (5, 6), (4, 6) }"
   ]
  },
  {
   "cell_type": "markdown",
   "id": "fab7efd5",
   "metadata": {},
   "source": [
    "The notebook `GraphViz.ipynb` implements the function `dot_graph`.   This function takes a binary relation `R` as its \n",
    "sole argument and displays it using [graphviz](https://graphviz.org)."
   ]
  },
  {
   "cell_type": "code",
   "execution_count": null,
   "id": "d0ab423d",
   "metadata": {},
   "outputs": [],
   "source": [
    "%run Graphviz.ipynb"
   ]
  },
  {
   "cell_type": "code",
   "execution_count": null,
   "id": "586ed630",
   "metadata": {},
   "outputs": [],
   "source": [
    "dot_graph(R)"
   ]
  },
  {
   "cell_type": "code",
   "execution_count": null,
   "id": "01aa0047",
   "metadata": {},
   "outputs": [],
   "source": []
  }
 ],
 "metadata": {
  "kernelspec": {
   "display_name": "Python 3",
   "language": "python",
   "name": "python3"
  },
  "language_info": {
   "codemirror_mode": {
    "name": "ipython",
    "version": 3
   },
   "file_extension": ".py",
   "mimetype": "text/x-python",
   "name": "python",
   "nbconvert_exporter": "python",
   "pygments_lexer": "ipython3",
   "version": "3.9.4"
  }
 },
 "nbformat": 4,
 "nbformat_minor": 5
}
