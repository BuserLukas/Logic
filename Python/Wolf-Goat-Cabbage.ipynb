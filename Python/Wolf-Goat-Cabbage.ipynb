{
 "cells": [
  {
   "cell_type": "code",
   "execution_count": null,
   "metadata": {},
   "outputs": [],
   "source": [
    "%autosave 0"
   ]
  },
  {
   "cell_type": "markdown",
   "metadata": {},
   "source": [
    "# Solving the Wolf-Goat-Cabbage Problem"
   ]
  },
  {
   "cell_type": "markdown",
   "metadata": {},
   "source": [
    "An agricultural economist has to sell a *wolf*, a *goat*, and a *cabbage* on a market place.  In order to\n",
    "reach the market place, she has to cross a river.  The boat that she can use is so small that it can\n",
    "only accommodate either the goat, the wolf, or the cabbage in addition to the agricultural economist.\n",
    "Now if the agricultural economist leaves the wolf alone with the goat, the wolf will eat the goat.\n",
    "If, instead, the agricultural economist leaves the goat with the cabbage, the goat will eat the cabbage.\n",
    "Is it possible for the agricultural economist to develop a schedule that allows her to cross the river\n",
    "without either the goat or the cabbage being eaten?"
   ]
  },
  {
   "cell_type": "markdown",
   "metadata": {},
   "source": [
    "## Auxilliary Procedures for Computing a Path in a Graph"
   ]
  },
  {
   "cell_type": "markdown",
   "metadata": {},
   "source": [
    "The function <tt>dot_graph</tt> below is used to create a visual representation of a graph.  The graph is assumed to be represented as a set of pairs."
   ]
  },
  {
   "cell_type": "code",
   "execution_count": 1,
   "metadata": {},
   "outputs": [],
   "source": [
    "import graphviz as gv\n",
    "\n",
    "def dot_graph(R):\n",
    "    \"\"\"This function takes binary relation R as inputs and shows this relation as\n",
    "       a graph using the module graphviz.\n",
    "    \"\"\"\n",
    "    dot = gv.Digraph()\n",
    "    Nodes = { p[0] for p in R } | { p[1] for p in R }\n",
    "    for n in Nodes:\n",
    "        dot.node(str(set(n)))\n",
    "    for (x, y) in R:\n",
    "        dot.edge(str(set(x)), str(set(y)))\n",
    "    return dot"
   ]
  },
  {
   "cell_type": "markdown",
   "metadata": {},
   "source": [
    "The function $\\texttt{power}(M)$ defined below computes the power set of the set $M$, i.e. we have:\n",
    "$$ \\texttt{power}(M) = 2^M = \\bigl\\{A \\mid A \\subseteq M \\} $$"
   ]
  },
  {
   "cell_type": "code",
   "execution_count": 2,
   "metadata": {},
   "outputs": [],
   "source": [
    "def power(M):\n",
    "    \"This function computes the power set of the set M.\"\n",
    "    if M == set():\n",
    "        return { frozenset() }\n",
    "    else:\n",
    "        C  = set(M)  # C is a copy of M as we don't want to change the set M\n",
    "        x  = C.pop() # pop removes the element x from the set C\n",
    "        P1 = power(C)\n",
    "        P2 = { A | {x} for A in P1 }\n",
    "        return P1 | P2"
   ]
  },
  {
   "cell_type": "markdown",
   "metadata": {},
   "source": [
    "The function <tt>pathProduct</tt> below takes a set of pathes <tt>P<tt> and a binary relation <tt>R</tt> as its arguments.  If there is a path $L \\in P$ that has the form $L = (x_1, \\cdots, x_n)$ and there is a pair $(x_n, x_{n+1}) \\in R$, then the path $(x_1, \\cdots, x_n, x_{n+1})$ is an element of the set of pathes computed by this function."
   ]
  },
  {
   "cell_type": "code",
   "execution_count": null,
   "metadata": {},
   "outputs": [],
   "source": [
    "def pathProduct(P, R):\n",
    "    return { T1 + (T2[1],) for T1 in P for T2 in R \n",
    "                           if T1[-1] == T2[0] and not T2[-1] in T1 \n",
    "           }"
   ]
  },
  {
   "cell_type": "markdown",
   "metadata": {},
   "source": [
    "The function <tt>findPath</tt> takes three arguments:\n",
    "<ol>\n",
    "    <li><tt>start</tt> is a node in a graph.</li>\n",
    "    <li><tt>goal</tt> is a node in a graph.</li>\n",
    "    <li><tt>R</tt> is a graph represented as a set of pairs of nodes.</li>\n",
    "</ol>\n",
    "The function tries to find a path that leads from <tt>start</tt> to <tt>goal</tt>.  If no path is found, the function returns <tt>None</tt>."
   ]
  },
  {
   "cell_type": "code",
   "execution_count": null,
   "metadata": {},
   "outputs": [],
   "source": [
    "def findPath(start, goal, R):\n",
    "    \"\"\"\n",
    "    start and goal are nodes in a graph, while R is a set of pairs of nodes.\n",
    "    R is interpreted as a relation.  The function findPath tries to find\n",
    "    a path from start to goal.\n",
    "    \"\"\"\n",
    "    P = { (start,)}                      # pathes beginning at start\n",
    "    while len(P) > 0:                         \n",
    "        P     = pathProduct(P, R)\n",
    "        Found = { T for T in P if T[-1] == goal }\n",
    "        if Found != set():\n",
    "            return Found.pop()"
   ]
  },
  {
   "cell_type": "markdown",
   "metadata": {},
   "source": [
    "## Problem Specific Code"
   ]
  },
  {
   "cell_type": "markdown",
   "metadata": {},
   "source": [
    "There is a problem if the wolf is alone with the goat or if the goat is alone with the cabbage."
   ]
  },
  {
   "cell_type": "code",
   "execution_count": null,
   "metadata": {},
   "outputs": [],
   "source": [
    "def problem(S):\n",
    "    \"\"\"\n",
    "    S is a set of objects that are at one shore of the river.\n",
    "    This function returns <tt>True</tt> if there is a problem.\n",
    "    \"\"\"\n",
    "    return ('farmer' not in S) and             \\\n",
    "           (('goat' in S and 'cabbage' in S) or   # goat eats cabbage\n",
    "            ('wolf' in S and 'goat'    in S)   )  # wolf eats goat"
   ]
  },
  {
   "cell_type": "markdown",
   "metadata": {},
   "source": [
    "At the start, everything is on the left shore."
   ]
  },
  {
   "cell_type": "code",
   "execution_count": null,
   "metadata": {},
   "outputs": [],
   "source": [
    "All = frozenset({'farmer', 'wolf', 'goat', 'cabbage'})"
   ]
  },
  {
   "cell_type": "markdown",
   "metadata": {},
   "source": [
    "<tt>States</tt> is the set of all states that do not have a problem."
   ]
  },
  {
   "cell_type": "code",
   "execution_count": null,
   "metadata": {},
   "outputs": [],
   "source": [
    "States = { S for S in power(All) if not problem(S) and \n",
    "                                    not problem(All - S) \n",
    "         }\n",
    "States"
   ]
  },
  {
   "cell_type": "markdown",
   "metadata": {},
   "source": [
    "<tt>R1</tt> decribes the transitions where the boat crosses the river from left to right."
   ]
  },
  {
   "cell_type": "code",
   "execution_count": null,
   "metadata": {},
   "outputs": [],
   "source": [
    "R1 = { (S, S - B) for S in States for B in power(S)\n",
    "                  if S - B in States and 'farmer' in B and len(B) <= 2\n",
    "     }\n",
    "R1"
   ]
  },
  {
   "cell_type": "markdown",
   "metadata": {},
   "source": [
    "<tt>R2</tt> is the inverse of <tt>R1</tt>."
   ]
  },
  {
   "cell_type": "code",
   "execution_count": null,
   "metadata": {},
   "outputs": [],
   "source": [
    "R2 = { (S2, S1) for (S1, S2) in R1 }"
   ]
  },
  {
   "cell_type": "code",
   "execution_count": null,
   "metadata": {},
   "outputs": [],
   "source": [
    "R = R1 | R2"
   ]
  },
  {
   "cell_type": "code",
   "execution_count": null,
   "metadata": {},
   "outputs": [],
   "source": [
    "dot = dot_graph(R)\n",
    "dot"
   ]
  },
  {
   "cell_type": "code",
   "execution_count": null,
   "metadata": {},
   "outputs": [],
   "source": [
    "dot.render('wolf-goat-cabbage')"
   ]
  },
  {
   "cell_type": "markdown",
   "metadata": {},
   "source": [
    "At the beginning everything is on the left shore and nothing is on the right shore.   The goal is to have everybody on the right shore.  In that case, the left shore will be empty."
   ]
  },
  {
   "cell_type": "code",
   "execution_count": null,
   "metadata": {},
   "outputs": [],
   "source": [
    "start = All\n",
    "goal  = frozenset()\n",
    "Path  = findPath(start, goal, R)\n",
    "Path"
   ]
  },
  {
   "cell_type": "markdown",
   "metadata": {},
   "source": [
    "## Auxiliary Code for Pretty Printing"
   ]
  },
  {
   "cell_type": "markdown",
   "metadata": {},
   "source": [
    "The following code is used for printing the path that has been found.  We won't discuss the details of these functions."
   ]
  },
  {
   "cell_type": "code",
   "execution_count": null,
   "metadata": {},
   "outputs": [],
   "source": [
    "def mkPair(S, All):\n",
    "    \"Given the left shore, compute both the left shore and the right shore.\"\n",
    "    return (S, All - S);\n",
    "\n",
    "def my_str(s):\n",
    "    \"Print frozen sets as sets.\"\n",
    "    if len(s) == 0:\n",
    "        return \"{}\"\n",
    "    else:\n",
    "        return str(set(s))\n",
    "    \n",
    "def printPath(Path, All):\n",
    "    \"print the path one transition at a time\"\n",
    "    for i in range(len(Path)):\n",
    "        (S1, S2) = mkPair(Path[i], All)\n",
    "        if (len(S1) == 0 or len(S2) == 0):\n",
    "            print(my_str(S1), 33 * \" \", my_str(S2))\n",
    "        else:\n",
    "            print(my_str(S1), 35 * \" \", my_str(S2))\n",
    "        if i + 1 == len(Path): \n",
    "            break\n",
    "        (T1, T2) = mkPair(Path[i+1], All)        \n",
    "        if \"farmer\" in S1:\n",
    "            B = S1 - T1  # the boat crossing from left to right\n",
    "            print(\"                         >>>> \", set(B), \" >>>> \")\n",
    "        else:\n",
    "            B = S2 - T2  # the boat crossing from right to left\n",
    "            print(\"                         <<<< \", set(B), \" <<<< \")\n",
    "printPath(Path, All)"
   ]
  },
  {
   "cell_type": "code",
   "execution_count": null,
   "metadata": {},
   "outputs": [],
   "source": []
  }
 ],
 "metadata": {
  "kernelspec": {
   "display_name": "Python 3",
   "language": "python",
   "name": "python3"
  },
  "language_info": {
   "codemirror_mode": {
    "name": "ipython",
    "version": 3
   },
   "file_extension": ".py",
   "mimetype": "text/x-python",
   "name": "python",
   "nbconvert_exporter": "python",
   "pygments_lexer": "ipython3",
   "version": "3.6.6"
  }
 },
 "nbformat": 4,
 "nbformat_minor": 2
}
